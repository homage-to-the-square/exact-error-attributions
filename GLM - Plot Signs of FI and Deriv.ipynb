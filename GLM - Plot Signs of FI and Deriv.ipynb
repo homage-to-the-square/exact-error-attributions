{
 "cells": [
  {
   "cell_type": "markdown",
   "id": "18f9421a-240b-4f44-87ac-3ca97e4a8b19",
   "metadata": {},
   "source": [
    "Here, for the probit and cloglog link functions, I plot the derivatives of the FI."
   ]
  },
  {
   "cell_type": "markdown",
   "id": "c5c011f0",
   "metadata": {},
   "source": [
    "# Imports:"
   ]
  },
  {
   "cell_type": "code",
   "execution_count": 2,
   "id": "e0bad1c1",
   "metadata": {
    "execution": {
     "iopub.execute_input": "2025-09-17T20:05:02.721590Z",
     "iopub.status.busy": "2025-09-17T20:05:02.721590Z",
     "iopub.status.idle": "2025-09-17T20:05:02.725191Z",
     "shell.execute_reply": "2025-09-17T20:05:02.725191Z",
     "shell.execute_reply.started": "2025-09-17T20:05:02.721590Z"
    }
   },
   "outputs": [],
   "source": [
    "import numpy as np\n",
    "import pandas as pd\n",
    "import matplotlib.pyplot as plt\n",
    "import seaborn as sns\n",
    "from tqdm import tqdm\n",
    "from binary_links import Probit_Link, CLogLog_Link"
   ]
  },
  {
   "cell_type": "markdown",
   "id": "de7f4383",
   "metadata": {},
   "source": [
    "# Helper Functions:"
   ]
  },
  {
   "cell_type": "code",
   "execution_count": 16,
   "id": "1baccdef",
   "metadata": {
    "execution": {
     "iopub.execute_input": "2025-08-29T16:55:58.696987Z",
     "iopub.status.busy": "2025-08-29T16:55:58.695988Z",
     "iopub.status.idle": "2025-08-29T16:55:58.702594Z",
     "shell.execute_reply": "2025-08-29T16:55:58.702594Z",
     "shell.execute_reply.started": "2025-08-29T16:55:58.696987Z"
    }
   },
   "outputs": [],
   "source": [
    "def clean_values(df):\n",
    "    temp_df = pd.DataFrame(df)\n",
    "\n",
    "    temp_df.columns = [\"x\", \"beta\", \"deriv_fi\"]\n",
    "    temp_df[\"beta\"] = np.round(temp_df[\"beta\"], 3)\n",
    "    temp_df[\"x\"] = np.round(temp_df[\"x\"], 3)\n",
    "    temp_df = temp_df.pivot(columns=\"x\", values=\"deriv_fi\", index=\"beta\")\n",
    "\n",
    "    return temp_df"
   ]
  },
  {
   "cell_type": "markdown",
   "id": "d2f39a75-00ad-41c3-82f7-9dc2c1e16fd9",
   "metadata": {},
   "source": [
    "# Hyperparmaters:"
   ]
  },
  {
   "cell_type": "code",
   "execution_count": 9,
   "id": "d5540a6d-b1f0-4d31-832a-6675dc35ab2d",
   "metadata": {
    "execution": {
     "iopub.execute_input": "2025-08-29T15:10:41.044472Z",
     "iopub.status.busy": "2025-08-29T15:10:41.044472Z",
     "iopub.status.idle": "2025-08-29T15:10:41.048610Z",
     "shell.execute_reply": "2025-08-29T15:10:41.048610Z",
     "shell.execute_reply.started": "2025-08-29T15:10:41.044472Z"
    }
   },
   "outputs": [],
   "source": [
    "max_mult = 1_000"
   ]
  },
  {
   "cell_type": "markdown",
   "id": "709d45ac",
   "metadata": {},
   "source": [
    "# Compute Probit derivatives:"
   ]
  },
  {
   "cell_type": "code",
   "execution_count": 10,
   "id": "3b27e4df",
   "metadata": {
    "execution": {
     "iopub.execute_input": "2025-08-29T15:10:41.663381Z",
     "iopub.status.busy": "2025-08-29T15:10:41.663381Z",
     "iopub.status.idle": "2025-08-29T15:10:41.668124Z",
     "shell.execute_reply": "2025-08-29T15:10:41.667621Z",
     "shell.execute_reply.started": "2025-08-29T15:10:41.663381Z"
    }
   },
   "outputs": [],
   "source": [
    "x_abs_max = 2\n",
    "beta_abs_max = 2\n",
    "\n",
    "x_range = np.linspace(-x_abs_max, x_abs_max, num=1 + x_abs_max * max_mult)\n",
    "beta_range = np.linspace(-beta_abs_max, beta_abs_max, num=1 + beta_abs_max * max_mult)"
   ]
  },
  {
   "cell_type": "code",
   "execution_count": 11,
   "id": "72899052-da7f-4f25-8bdb-333394a8781a",
   "metadata": {
    "execution": {
     "iopub.execute_input": "2025-08-29T15:10:42.543346Z",
     "iopub.status.busy": "2025-08-29T15:10:42.543346Z",
     "iopub.status.idle": "2025-08-29T15:23:02.269173Z",
     "shell.execute_reply": "2025-08-29T15:23:02.269173Z",
     "shell.execute_reply.started": "2025-08-29T15:10:42.543346Z"
    }
   },
   "outputs": [
    {
     "name": "stderr",
     "output_type": "stream",
     "text": [
      "100%|██████████████████████████████████████████████████████████████████████████████| 2001/2001 [12:19<00:00,  2.71it/s]\n"
     ]
    }
   ],
   "source": [
    "probit_link = Probit_Link()\n",
    "\n",
    "pos_y_vals = []\n",
    "zero_y_vals = []\n",
    "for temp_x in tqdm(x_range):\n",
    "    for temp_beta in beta_range:\n",
    "        pos_y_vals.append([temp_x, temp_beta, probit_link.fi_deriv(temp_x, temp_beta, 1)])\n",
    "        zero_y_vals.append([temp_x, temp_beta, probit_link.fi_deriv(temp_x, temp_beta, 0)])\n",
    "        "
   ]
  },
  {
   "cell_type": "code",
   "execution_count": 17,
   "id": "28fc11ff",
   "metadata": {
    "execution": {
     "iopub.execute_input": "2025-08-29T16:56:01.150436Z",
     "iopub.status.busy": "2025-08-29T16:56:01.150436Z",
     "iopub.status.idle": "2025-08-29T16:56:14.047270Z",
     "shell.execute_reply": "2025-08-29T16:56:14.044265Z",
     "shell.execute_reply.started": "2025-08-29T16:56:01.150436Z"
    }
   },
   "outputs": [],
   "source": [
    "probit_pos_y_vals = clean_values(pos_y_vals)\n",
    "probit_zero_y_vals = clean_values(zero_y_vals)"
   ]
  },
  {
   "cell_type": "markdown",
   "id": "aa7afbbd",
   "metadata": {},
   "source": [
    "# Compute CLogLog derivatives:"
   ]
  },
  {
   "cell_type": "code",
   "execution_count": 18,
   "id": "b1cc65bc",
   "metadata": {
    "execution": {
     "iopub.execute_input": "2025-08-29T16:56:15.761525Z",
     "iopub.status.busy": "2025-08-29T16:56:15.761525Z",
     "iopub.status.idle": "2025-08-29T16:56:15.772984Z",
     "shell.execute_reply": "2025-08-29T16:56:15.772984Z",
     "shell.execute_reply.started": "2025-08-29T16:56:15.761525Z"
    }
   },
   "outputs": [],
   "source": [
    "x_abs_max = 1.5\n",
    "beta_abs_max = 1.5\n",
    "\n",
    "x_range = np.linspace(-x_abs_max, x_abs_max, num=1 + int(x_abs_max * max_mult))\n",
    "beta_range = np.linspace(\n",
    "    -beta_abs_max, beta_abs_max, num=1 + int(beta_abs_max * max_mult)\n",
    ")"
   ]
  },
  {
   "cell_type": "code",
   "execution_count": 19,
   "id": "babae645",
   "metadata": {
    "execution": {
     "iopub.execute_input": "2025-08-29T16:56:16.469963Z",
     "iopub.status.busy": "2025-08-29T16:56:16.468953Z",
     "iopub.status.idle": "2025-08-29T16:57:19.439015Z",
     "shell.execute_reply": "2025-08-29T16:57:19.439015Z",
     "shell.execute_reply.started": "2025-08-29T16:56:16.469963Z"
    }
   },
   "outputs": [
    {
     "name": "stderr",
     "output_type": "stream",
     "text": [
      "100%|██████████████████████████████████████████████████████████████████████████████| 1501/1501 [01:02<00:00, 23.91it/s]\n"
     ]
    }
   ],
   "source": [
    "clog_log = CLogLog_Link()\n",
    "\n",
    "pos_y_vals = []\n",
    "zero_y_vals = []\n",
    "for temp_x in tqdm(x_range):\n",
    "    for temp_beta in beta_range:\n",
    "        pos_y_vals.append([temp_x, temp_beta, clog_log.fi_deriv(temp_x, temp_beta, 1)])\n",
    "        zero_y_vals.append([temp_x, temp_beta, clog_log.fi_deriv(temp_x, temp_beta, 0)])\n",
    "        "
   ]
  },
  {
   "cell_type": "code",
   "execution_count": 20,
   "id": "f16b81da",
   "metadata": {
    "execution": {
     "iopub.execute_input": "2025-08-29T16:58:56.399982Z",
     "iopub.status.busy": "2025-08-29T16:58:56.399982Z",
     "iopub.status.idle": "2025-08-29T16:58:58.843613Z",
     "shell.execute_reply": "2025-08-29T16:58:58.843613Z",
     "shell.execute_reply.started": "2025-08-29T16:58:56.399982Z"
    }
   },
   "outputs": [],
   "source": [
    "cloglog_pos_y_vals = clean_values(pos_y_vals)\n",
    "cloglog_zero_y_vals = clean_values(zero_y_vals)"
   ]
  },
  {
   "cell_type": "markdown",
   "id": "a4c1cf10-e040-48b0-9b31-24fe46c58e91",
   "metadata": {},
   "source": [
    "# plot deriv of FI for cloglog + probit concurrently:"
   ]
  },
  {
   "cell_type": "code",
   "execution_count": 25,
   "id": "7c5437fa-254a-436b-8ab3-5c9d5cbf60c4",
   "metadata": {
    "execution": {
     "iopub.execute_input": "2025-08-29T17:00:24.021449Z",
     "iopub.status.busy": "2025-08-29T17:00:24.020813Z",
     "iopub.status.idle": "2025-08-29T17:00:24.024639Z",
     "shell.execute_reply": "2025-08-29T17:00:24.024639Z",
     "shell.execute_reply.started": "2025-08-29T17:00:24.021449Z"
    }
   },
   "outputs": [],
   "source": [
    "x_tick_freq = 200\n",
    "y_tick_freq = 200"
   ]
  },
  {
   "cell_type": "code",
   "execution_count": 34,
   "id": "5dbdfad3-d32c-4cef-a421-723d656f96ba",
   "metadata": {
    "execution": {
     "iopub.execute_input": "2025-08-29T17:04:10.355869Z",
     "iopub.status.busy": "2025-08-29T17:04:10.354862Z",
     "iopub.status.idle": "2025-08-29T17:04:10.358861Z",
     "shell.execute_reply": "2025-08-29T17:04:10.358861Z",
     "shell.execute_reply.started": "2025-08-29T17:04:10.355869Z"
    }
   },
   "outputs": [],
   "source": [
    "make_greyscale = True"
   ]
  },
  {
   "cell_type": "code",
   "execution_count": 40,
   "id": "7650d8bf-4dcf-431c-ad34-c82c75daed45",
   "metadata": {
    "execution": {
     "iopub.execute_input": "2025-08-29T17:08:56.550234Z",
     "iopub.status.busy": "2025-08-29T17:08:56.549232Z",
     "iopub.status.idle": "2025-08-29T17:08:56.553277Z",
     "shell.execute_reply": "2025-08-29T17:08:56.553277Z",
     "shell.execute_reply.started": "2025-08-29T17:08:56.550234Z"
    }
   },
   "outputs": [],
   "source": [
    "if make_greyscale:\n",
    "    high_contrast_greys = ['#000000', '#808080', '#C0C0C0']\n",
    "    sns.set_palette(high_contrast_greys)\n",
    "    savefile_suffix = '_greyscale'\n",
    "    cmap=high_contrast_greys\n",
    "else:\n",
    "    sns.set_palette('deep')\n",
    "    cmap='rocket'\n",
    "    savefile_suffix = ''"
   ]
  },
  {
   "cell_type": "code",
   "execution_count": null,
   "id": "1d7fdd27-1084-4fc0-8715-1426696c92e4",
   "metadata": {},
   "outputs": [],
   "source": []
  },
  {
   "cell_type": "code",
   "execution_count": 41,
   "id": "e9addcb0-b027-4d0d-8664-e70f44c9135b",
   "metadata": {
    "execution": {
     "iopub.execute_input": "2025-08-29T17:08:57.344906Z",
     "iopub.status.busy": "2025-08-29T17:08:57.344906Z",
     "iopub.status.idle": "2025-08-29T17:09:09.995650Z",
     "shell.execute_reply": "2025-08-29T17:09:09.995650Z",
     "shell.execute_reply.started": "2025-08-29T17:08:57.344906Z"
    }
   },
   "outputs": [
    {
     "data": {
      "image/png": "[encoded data removed]",
      "text/plain": [
       "<Figure size 1200x1000 with 4 Axes>"
      ]
     },
     "metadata": {},
     "output_type": "display_data"
    }
   ],
   "source": [
    "fig, axes = plt.subplots(2, 2, constrained_layout=True, figsize=(12, 10))\n",
    "sns.heatmap(\n",
    "    np.sign(probit_zero_y_vals),\n",
    "    ax=axes[0][0],\n",
    "    cbar=False,\n",
    "    xticklabels=x_tick_freq,\n",
    "    yticklabels=y_tick_freq,\n",
    "    cmap=cmap,\n",
    ")\n",
    "sns.heatmap(\n",
    "    np.sign(probit_pos_y_vals),\n",
    "    ax=axes[0][1],\n",
    "    cbar=False,\n",
    "    xticklabels=x_tick_freq,\n",
    "    yticklabels=y_tick_freq,\n",
    "    cmap=cmap,\n",
    ")\n",
    "\n",
    "sns.heatmap(\n",
    "    np.sign(cloglog_zero_y_vals),\n",
    "    ax=axes[1][0],\n",
    "    cbar=False,\n",
    "    xticklabels=x_tick_freq,\n",
    "    yticklabels=y_tick_freq,\n",
    "    cmap=cmap,\n",
    ")\n",
    "sns.heatmap(\n",
    "    np.sign(cloglog_pos_y_vals),\n",
    "    ax=axes[1][1],\n",
    "    cbar=False,\n",
    "    xticklabels=x_tick_freq,\n",
    "    yticklabels=y_tick_freq,\n",
    "    cmap=cmap,\n",
    ")\n",
    "for i in range(2):\n",
    "    for j in range(2):\n",
    "        ax = axes[i][j]\n",
    "        if i == 1:\n",
    "            ax.set_xlabel(f\"Target = {j}\")\n",
    "        else:\n",
    "            ax.set_xlabel(\"\")\n",
    "        if j == 0:\n",
    "            if i == 0:\n",
    "                ax.set_ylabel(\"Probit\")\n",
    "            else:\n",
    "                ax.set_ylabel(\"Cloglog\")\n",
    "        else:\n",
    "            ax.set_ylabel(\"\")\n",
    "fig.suptitle(\n",
    "    \"Sign of the Derivative of the Fisher Information across \"\n",
    "    + \"Betas, Features, Targets, and Link Functions\"\n",
    ")\n",
    "fig.supxlabel(\"Feature Values (Across Target Values)\")\n",
    "fig.supylabel(\"Beta Values (Across Link Functions)\")\n",
    "plt.savefig(f\"fi_deriv_signs{savefile_suffix}\")"
   ]
  },
  {
   "cell_type": "code",
   "execution_count": null,
   "id": "477c6a1c-9501-4ff6-b6f1-67f911a62ea4",
   "metadata": {},
   "outputs": [],
   "source": []
  },
  {
   "cell_type": "code",
   "execution_count": null,
   "id": "622d4cde-a323-42d4-81c0-14a064882f06",
   "metadata": {},
   "outputs": [],
   "source": []
  },
  {
   "cell_type": "code",
   "execution_count": null,
   "id": "7df7dd9d",
   "metadata": {},
   "outputs": [],
   "source": []
  }
 ],
 "metadata": {
  "kernelspec": {
   "display_name": "Python 3 (ipykernel)",
   "language": "python",
   "name": "python3"
  },
  "language_info": {
   "codemirror_mode": {
    "name": "ipython",
    "version": 3
   },
   "file_extension": ".py",
   "mimetype": "text/x-python",
   "name": "python",
   "nbconvert_exporter": "python",
   "pygments_lexer": "ipython3",
   "version": "3.12.8"
  }
 },
 "nbformat": 4,
 "nbformat_minor": 5
}
