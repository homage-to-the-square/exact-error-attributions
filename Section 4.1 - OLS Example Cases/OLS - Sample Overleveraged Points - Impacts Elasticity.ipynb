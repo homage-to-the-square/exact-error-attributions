{
 "cells": [
  {
   "cell_type": "markdown",
   "id": "e7ea3b29-27f7-4bc5-892d-f6f9e5d6208c",
   "metadata": {},
   "source": [
    "biased sampling scheme of:\n",
    "- logit(sample_probability_centering) + \\\n",
    "                               0.1 * (data['x'].abs() - 25.5))\n",
    "\n",
    "creates file:\n",
    "- sample_by_x_bias.pkl"
   ]
  },
  {
   "cell_type": "markdown",
   "id": "c5c011f0",
   "metadata": {},
   "source": [
    "# Imports:"
   ]
  },
  {
   "cell_type": "code",
   "execution_count": 1,
   "id": "70bebfbb-6fbb-4299-9ec5-0162c124a755",
   "metadata": {
    "execution": {
     "iopub.execute_input": "2025-09-17T02:24:25.161996Z",
     "iopub.status.busy": "2025-09-17T02:24:25.161996Z",
     "iopub.status.idle": "2025-09-17T02:24:25.802089Z",
     "shell.execute_reply": "2025-09-17T02:24:25.802089Z",
     "shell.execute_reply.started": "2025-09-17T02:24:25.161996Z"
    }
   },
   "outputs": [],
   "source": [
    "import numpy as np\n",
    "import pandas as pd\n",
    "from tqdm import tqdm\n",
    "import random\n",
    "import statsmodels.api as sm\n",
    "from scipy.special import expit, logit"
   ]
  },
  {
   "cell_type": "markdown",
   "id": "0813c942-ec6e-45e7-84dc-08ca0cae9dcb",
   "metadata": {},
   "source": [
    "# Hyperparameters:"
   ]
  },
  {
   "cell_type": "code",
   "execution_count": 2,
   "id": "27d3ee42-91c1-42fe-a412-6b3ab36bd83f",
   "metadata": {
    "execution": {
     "iopub.execute_input": "2025-09-17T02:24:25.802089Z",
     "iopub.status.busy": "2025-09-17T02:24:25.802089Z",
     "iopub.status.idle": "2025-09-17T02:24:25.805194Z",
     "shell.execute_reply": "2025-09-17T02:24:25.805194Z",
     "shell.execute_reply.started": "2025-09-17T02:24:25.802089Z"
    }
   },
   "outputs": [],
   "source": [
    "pop_size = 100 * 1_000\n",
    "sample_size = 100_0\n",
    "agg_iters = 100_000\n",
    "\n",
    "beta = 1\n",
    "\n",
    "## for biased sampling mechanism:\n",
    "sample_probability_centering = 0.8\n",
    "sample_probability_bias_factor = 1"
   ]
  },
  {
   "cell_type": "code",
   "execution_count": 3,
   "id": "0ad06d0e-546b-4c4c-bef0-661b8fbc67dc",
   "metadata": {
    "execution": {
     "iopub.execute_input": "2025-09-17T02:24:25.805194Z",
     "iopub.status.busy": "2025-09-17T02:24:25.805194Z",
     "iopub.status.idle": "2025-09-17T02:24:25.807662Z",
     "shell.execute_reply": "2025-09-17T02:24:25.807662Z",
     "shell.execute_reply.started": "2025-09-17T02:24:25.805194Z"
    }
   },
   "outputs": [],
   "source": [
    "## for rng generator:\n",
    "pop_number = 1"
   ]
  },
  {
   "cell_type": "code",
   "execution_count": 4,
   "id": "3a04e151-e891-4c84-967a-c669946da631",
   "metadata": {
    "execution": {
     "iopub.execute_input": "2025-09-17T02:24:25.808668Z",
     "iopub.status.busy": "2025-09-17T02:24:25.808668Z",
     "iopub.status.idle": "2025-09-17T02:24:25.810677Z",
     "shell.execute_reply": "2025-09-17T02:24:25.810677Z",
     "shell.execute_reply.started": "2025-09-17T02:24:25.808668Z"
    }
   },
   "outputs": [],
   "source": [
    "# set seeds:\n",
    "rand_generator = np.random.default_rng(seed=333 * pop_number)\n",
    "random.seed(333 * pop_number)"
   ]
  },
  {
   "cell_type": "code",
   "execution_count": 5,
   "id": "eb21e815",
   "metadata": {
    "execution": {
     "iopub.execute_input": "2025-09-17T02:24:25.811321Z",
     "iopub.status.busy": "2025-09-17T02:24:25.811321Z",
     "iopub.status.idle": "2025-09-17T02:24:25.822612Z",
     "shell.execute_reply": "2025-09-17T02:24:25.822612Z",
     "shell.execute_reply.started": "2025-09-17T02:24:25.811321Z"
    }
   },
   "outputs": [],
   "source": [
    "assert pop_size % 100 == 0\n",
    "base_x = [i for i in range(-50, 0)] + [i for i in range(1, 51)]\n",
    "x = pd.Series(base_x * (pop_size // 100))\n",
    "normal_stdev = 30"
   ]
  },
  {
   "cell_type": "markdown",
   "id": "771066a4-26b3-4f06-81e4-38824b8fc69b",
   "metadata": {},
   "source": [
    "# Run:"
   ]
  },
  {
   "cell_type": "code",
   "execution_count": 6,
   "id": "e0f59368-c446-4995-800a-17fb98c40dbc",
   "metadata": {
    "execution": {
     "iopub.execute_input": "2025-09-17T02:24:25.823615Z",
     "iopub.status.busy": "2025-09-17T02:24:25.822612Z",
     "iopub.status.idle": "2025-09-17T02:24:25.825554Z",
     "shell.execute_reply": "2025-09-17T02:24:25.825554Z",
     "shell.execute_reply.started": "2025-09-17T02:24:25.823615Z"
    }
   },
   "outputs": [],
   "source": [
    "fitted_betas = []\n",
    "fitted_Jn = []\n",
    "fitted_correlations = []\n",
    "realized_sample_sizes = []"
   ]
  },
  {
   "cell_type": "markdown",
   "id": "d321cc3c-4fee-4362-9157-84030c964c92",
   "metadata": {},
   "source": [
    "Create the simulated data (x, y):"
   ]
  },
  {
   "cell_type": "code",
   "execution_count": 7,
   "id": "ea477f46",
   "metadata": {
    "execution": {
     "iopub.execute_input": "2025-09-17T02:24:25.826558Z",
     "iopub.status.busy": "2025-09-17T02:24:25.825554Z",
     "iopub.status.idle": "2025-09-17T02:24:25.835135Z",
     "shell.execute_reply": "2025-09-17T02:24:25.835135Z",
     "shell.execute_reply.started": "2025-09-17T02:24:25.826558Z"
    }
   },
   "outputs": [],
   "source": [
    "y = x * beta + rand_generator.normal(size=pop_size) * normal_stdev\n",
    "\n",
    "data = pd.concat([y, x], axis=1)\n",
    "data.columns = ['y', 'x']\n",
    "fitted_beta = sm.OLS(data['y'], data['x']).fit().params.iloc[0]\n",
    "data['g_star'] = data['x'] * (data['y'] - data['x'] * fitted_beta)"
   ]
  },
  {
   "cell_type": "code",
   "execution_count": 8,
   "id": "8d13b2a9",
   "metadata": {
    "execution": {
     "iopub.execute_input": "2025-09-17T02:24:25.835135Z",
     "iopub.status.busy": "2025-09-17T02:24:25.835135Z",
     "iopub.status.idle": "2025-09-17T02:24:25.841243Z",
     "shell.execute_reply": "2025-09-17T02:24:25.841243Z",
     "shell.execute_reply.started": "2025-09-17T02:24:25.835135Z"
    }
   },
   "outputs": [],
   "source": [
    "data[\"marginal_probs\"] = expit(\n",
    "    logit(sample_probability_centering)\n",
    "    + sample_probability_bias_factor * (data[\"x\"].abs() - 25.5)\n",
    ")"
   ]
  },
  {
   "cell_type": "code",
   "execution_count": 9,
   "id": "fe2e62d5-e8f3-4854-86ea-9e8ef502faee",
   "metadata": {
    "execution": {
     "iopub.execute_input": "2025-09-17T02:24:25.841243Z",
     "iopub.status.busy": "2025-09-17T02:24:25.841243Z",
     "iopub.status.idle": "2025-09-17T02:24:25.845900Z",
     "shell.execute_reply": "2025-09-17T02:24:25.845900Z",
     "shell.execute_reply.started": "2025-09-17T02:24:25.841243Z"
    }
   },
   "outputs": [
    {
     "data": {
      "text/plain": [
       "np.float64(0.5277258867808664)"
      ]
     },
     "execution_count": 9,
     "metadata": {},
     "output_type": "execute_result"
    }
   ],
   "source": [
    "data['marginal_probs'].mean()"
   ]
  },
  {
   "cell_type": "markdown",
   "id": "ab1a9ad9-3bac-4587-ba51-eae030f3f1f3",
   "metadata": {},
   "source": [
    "simulate per iter:"
   ]
  },
  {
   "cell_type": "code",
   "execution_count": 10,
   "id": "9da1071a",
   "metadata": {
    "execution": {
     "iopub.execute_input": "2025-09-17T02:24:25.845900Z",
     "iopub.status.busy": "2025-09-17T02:24:25.845900Z",
     "iopub.status.idle": "2025-09-17T02:33:37.243091Z",
     "shell.execute_reply": "2025-09-17T02:33:37.243091Z",
     "shell.execute_reply.started": "2025-09-17T02:24:25.845900Z"
    }
   },
   "outputs": [
    {
     "name": "stderr",
     "output_type": "stream",
     "text": [
      "100%|█████████████████████████████████████████████████████████████████████████| 100000/100000 [09:11<00:00, 181.36it/s]\n"
     ]
    }
   ],
   "source": [
    "for _ in tqdm(range(agg_iters)):\n",
    "    srs_sample_indices = pd.Series(random.sample(range(pop_size), sample_size))\n",
    "\n",
    "    # reset the sample\n",
    "    data[\"r1\"] = 0\n",
    "    data[\"r\"] = 0\n",
    "\n",
    "    # sample both the intended and biased sample:\n",
    "    data.loc[srs_sample_indices, \"r1\"] = 1\n",
    "    full_sampled_data = data[data[\"r1\"] == 1]\n",
    "\n",
    "    biased_sample_indices = full_sampled_data.index[\n",
    "        rand_generator.binomial(n=1, p=full_sampled_data[\"marginal_probs\"]) == 1\n",
    "    ]\n",
    "    data.loc[biased_sample_indices, \"r\"] = 1\n",
    "\n",
    "    # compute results:\n",
    "    biased_sample_indices_size = len(biased_sample_indices)\n",
    "    realized_sample_sizes.append(biased_sample_indices_size)\n",
    "\n",
    "    srs_sample = data[data[\"r1\"] == 1]\n",
    "    biased_sample = data[data[\"r\"] == 1]\n",
    "    srs_fitted_beta = sm.OLS(srs_sample[\"y\"], srs_sample[\"x\"]).fit().params.iloc[0]\n",
    "    biased_fitted_beta = (\n",
    "        sm.OLS(biased_sample[\"y\"], biased_sample[\"x\"]).fit().params.iloc[0]\n",
    "    )\n",
    "\n",
    "    fitted_betas.append(pd.Series([fitted_beta, srs_fitted_beta, biased_fitted_beta]))\n",
    "    fitted_Jn.append(\n",
    "        pd.Series([np.mean(srs_sample[\"x\"] ** 2), np.mean(biased_sample[\"x\"] ** 2)])\n",
    "    )\n",
    "    fitted_correlations.append(data[[\"g_star\", \"r1\", \"r\"]].corr().iloc[0, 1:])"
   ]
  },
  {
   "cell_type": "markdown",
   "id": "db8b1e01-b45f-4bf7-a173-bc260d128855",
   "metadata": {},
   "source": [
    "## Clean up the data:"
   ]
  },
  {
   "cell_type": "code",
   "execution_count": 11,
   "id": "079f384b",
   "metadata": {
    "execution": {
     "iopub.execute_input": "2025-09-17T02:33:37.244095Z",
     "iopub.status.busy": "2025-09-17T02:33:37.244095Z",
     "iopub.status.idle": "2025-09-17T02:33:42.545783Z",
     "shell.execute_reply": "2025-09-17T02:33:42.545268Z",
     "shell.execute_reply.started": "2025-09-17T02:33:37.244095Z"
    }
   },
   "outputs": [],
   "source": [
    "fitted_betas = pd.concat(fitted_betas, axis=1).T\n",
    "fitted_Jn = pd.concat(fitted_Jn, axis=1).T\n",
    "fitted_correlations = pd.concat(fitted_correlations, axis=1).T.reset_index(drop=True)"
   ]
  },
  {
   "cell_type": "code",
   "execution_count": 12,
   "id": "22704cef",
   "metadata": {
    "execution": {
     "iopub.execute_input": "2025-09-17T02:33:42.545783Z",
     "iopub.status.busy": "2025-09-17T02:33:42.545783Z",
     "iopub.status.idle": "2025-09-17T02:33:42.550210Z",
     "shell.execute_reply": "2025-09-17T02:33:42.549641Z",
     "shell.execute_reply.started": "2025-09-17T02:33:42.545783Z"
    },
    "scrolled": true
   },
   "outputs": [],
   "source": [
    "fitted_Jn.columns = ['srs', 'biased']\n",
    "fitted_betas.columns = ['population', 'srs', 'biased']\n",
    "fitted_correlations.columns = ['srs', 'biased']"
   ]
  },
  {
   "cell_type": "code",
   "execution_count": 13,
   "id": "13d625c8",
   "metadata": {
    "execution": {
     "iopub.execute_input": "2025-09-17T02:33:42.551214Z",
     "iopub.status.busy": "2025-09-17T02:33:42.551214Z",
     "iopub.status.idle": "2025-09-17T02:33:42.591050Z",
     "shell.execute_reply": "2025-09-17T02:33:42.591050Z",
     "shell.execute_reply.started": "2025-09-17T02:33:42.551214Z"
    }
   },
   "outputs": [],
   "source": [
    "realized_sample_sizes = pd.Series(realized_sample_sizes)"
   ]
  },
  {
   "cell_type": "code",
   "execution_count": 14,
   "id": "756b0455",
   "metadata": {
    "execution": {
     "iopub.execute_input": "2025-09-17T02:33:42.592053Z",
     "iopub.status.busy": "2025-09-17T02:33:42.591050Z",
     "iopub.status.idle": "2025-09-17T02:33:42.602677Z",
     "shell.execute_reply": "2025-09-17T02:33:42.602677Z",
     "shell.execute_reply.started": "2025-09-17T02:33:42.592053Z"
    }
   },
   "outputs": [
    {
     "data": {
      "text/html": [
       "<div>\n",
       "<style scoped>\n",
       "    .dataframe tbody tr th:only-of-type {\n",
       "        vertical-align: middle;\n",
       "    }\n",
       "\n",
       "    .dataframe tbody tr th {\n",
       "        vertical-align: top;\n",
       "    }\n",
       "\n",
       "    .dataframe thead th {\n",
       "        text-align: right;\n",
       "    }\n",
       "</style>\n",
       "<table border=\"1\" class=\"dataframe\">\n",
       "  <thead>\n",
       "    <tr style=\"text-align: right;\">\n",
       "      <th></th>\n",
       "      <th>srs_fi</th>\n",
       "      <th>biased_fi</th>\n",
       "      <th>srs_corr</th>\n",
       "      <th>biased_corr</th>\n",
       "    </tr>\n",
       "  </thead>\n",
       "  <tbody>\n",
       "    <tr>\n",
       "      <th>0</th>\n",
       "      <td>820.383</td>\n",
       "      <td>1437.434870</td>\n",
       "      <td>-0.000672</td>\n",
       "      <td>0.000277</td>\n",
       "    </tr>\n",
       "    <tr>\n",
       "      <th>1</th>\n",
       "      <td>867.127</td>\n",
       "      <td>1451.103383</td>\n",
       "      <td>-0.001645</td>\n",
       "      <td>-0.003564</td>\n",
       "    </tr>\n",
       "    <tr>\n",
       "      <th>2</th>\n",
       "      <td>856.042</td>\n",
       "      <td>1457.330784</td>\n",
       "      <td>0.000319</td>\n",
       "      <td>0.001169</td>\n",
       "    </tr>\n",
       "    <tr>\n",
       "      <th>3</th>\n",
       "      <td>870.083</td>\n",
       "      <td>1471.434866</td>\n",
       "      <td>0.003066</td>\n",
       "      <td>0.003978</td>\n",
       "    </tr>\n",
       "    <tr>\n",
       "      <th>4</th>\n",
       "      <td>859.271</td>\n",
       "      <td>1474.044402</td>\n",
       "      <td>0.003522</td>\n",
       "      <td>0.004132</td>\n",
       "    </tr>\n",
       "  </tbody>\n",
       "</table>\n",
       "</div>"
      ],
      "text/plain": [
       "    srs_fi    biased_fi  srs_corr  biased_corr\n",
       "0  820.383  1437.434870 -0.000672     0.000277\n",
       "1  867.127  1451.103383 -0.001645    -0.003564\n",
       "2  856.042  1457.330784  0.000319     0.001169\n",
       "3  870.083  1471.434866  0.003066     0.003978\n",
       "4  859.271  1474.044402  0.003522     0.004132"
      ]
     },
     "execution_count": 14,
     "metadata": {},
     "output_type": "execute_result"
    }
   ],
   "source": [
    "fitted_Jn_and_corr = fitted_Jn.join(fitted_correlations, lsuffix = '_fi', rsuffix = '_corr')\n",
    "fitted_Jn_and_corr.head()"
   ]
  },
  {
   "cell_type": "markdown",
   "id": "b0f9f7d1-8d22-4acd-978f-98f30e7963a6",
   "metadata": {},
   "source": [
    "# Save:"
   ]
  },
  {
   "cell_type": "code",
   "execution_count": 15,
   "id": "3bffc085-9ea9-4205-8996-868463b035ab",
   "metadata": {
    "execution": {
     "iopub.execute_input": "2025-09-17T02:33:42.603681Z",
     "iopub.status.busy": "2025-09-17T02:33:42.602677Z",
     "iopub.status.idle": "2025-09-17T02:33:42.626041Z",
     "shell.execute_reply": "2025-09-17T02:33:42.626041Z",
     "shell.execute_reply.started": "2025-09-17T02:33:42.603681Z"
    }
   },
   "outputs": [
    {
     "data": {
      "text/html": [
       "<div>\n",
       "<style scoped>\n",
       "    .dataframe tbody tr th:only-of-type {\n",
       "        vertical-align: middle;\n",
       "    }\n",
       "\n",
       "    .dataframe tbody tr th {\n",
       "        vertical-align: top;\n",
       "    }\n",
       "\n",
       "    .dataframe thead th {\n",
       "        text-align: right;\n",
       "    }\n",
       "</style>\n",
       "<table border=\"1\" class=\"dataframe\">\n",
       "  <thead>\n",
       "    <tr style=\"text-align: right;\">\n",
       "      <th></th>\n",
       "      <th>srs_fi</th>\n",
       "      <th>biased_fi</th>\n",
       "      <th>srs_corr</th>\n",
       "      <th>biased_corr</th>\n",
       "    </tr>\n",
       "  </thead>\n",
       "  <tbody>\n",
       "    <tr>\n",
       "      <th>count</th>\n",
       "      <td>100000.000000</td>\n",
       "      <td>100000.000000</td>\n",
       "      <td>100000.000000</td>\n",
       "      <td>100000.000000</td>\n",
       "    </tr>\n",
       "    <tr>\n",
       "      <th>mean</th>\n",
       "      <td>858.641428</td>\n",
       "      <td>1446.768983</td>\n",
       "      <td>-0.000003</td>\n",
       "      <td>-0.000102</td>\n",
       "    </tr>\n",
       "    <tr>\n",
       "      <th>std</th>\n",
       "      <td>23.947606</td>\n",
       "      <td>24.904229</td>\n",
       "      <td>0.003165</td>\n",
       "      <td>0.004106</td>\n",
       "    </tr>\n",
       "    <tr>\n",
       "      <th>min</th>\n",
       "      <td>750.120000</td>\n",
       "      <td>1342.132692</td>\n",
       "      <td>-0.014226</td>\n",
       "      <td>-0.017120</td>\n",
       "    </tr>\n",
       "    <tr>\n",
       "      <th>25%</th>\n",
       "      <td>842.452750</td>\n",
       "      <td>1429.969134</td>\n",
       "      <td>-0.002143</td>\n",
       "      <td>-0.002863</td>\n",
       "    </tr>\n",
       "    <tr>\n",
       "      <th>50%</th>\n",
       "      <td>858.602500</td>\n",
       "      <td>1446.743278</td>\n",
       "      <td>0.000002</td>\n",
       "      <td>-0.000093</td>\n",
       "    </tr>\n",
       "    <tr>\n",
       "      <th>75%</th>\n",
       "      <td>874.838000</td>\n",
       "      <td>1463.503612</td>\n",
       "      <td>0.002141</td>\n",
       "      <td>0.002667</td>\n",
       "    </tr>\n",
       "    <tr>\n",
       "      <th>max</th>\n",
       "      <td>982.528000</td>\n",
       "      <td>1552.019194</td>\n",
       "      <td>0.014403</td>\n",
       "      <td>0.017901</td>\n",
       "    </tr>\n",
       "  </tbody>\n",
       "</table>\n",
       "</div>"
      ],
      "text/plain": [
       "              srs_fi      biased_fi       srs_corr    biased_corr\n",
       "count  100000.000000  100000.000000  100000.000000  100000.000000\n",
       "mean      858.641428    1446.768983      -0.000003      -0.000102\n",
       "std        23.947606      24.904229       0.003165       0.004106\n",
       "min       750.120000    1342.132692      -0.014226      -0.017120\n",
       "25%       842.452750    1429.969134      -0.002143      -0.002863\n",
       "50%       858.602500    1446.743278       0.000002      -0.000093\n",
       "75%       874.838000    1463.503612       0.002141       0.002667\n",
       "max       982.528000    1552.019194       0.014403       0.017901"
      ]
     },
     "execution_count": 15,
     "metadata": {},
     "output_type": "execute_result"
    }
   ],
   "source": [
    "fitted_Jn_and_corr.describe()"
   ]
  },
  {
   "cell_type": "code",
   "execution_count": 16,
   "id": "fdf942f2-2e3d-48ec-be9a-3c071ab5f619",
   "metadata": {
    "execution": {
     "iopub.execute_input": "2025-09-17T02:33:42.627123Z",
     "iopub.status.busy": "2025-09-17T02:33:42.627123Z",
     "iopub.status.idle": "2025-09-17T02:33:42.633105Z",
     "shell.execute_reply": "2025-09-17T02:33:42.633105Z",
     "shell.execute_reply.started": "2025-09-17T02:33:42.627123Z"
    }
   },
   "outputs": [],
   "source": [
    "fitted_Jn_and_corr.to_pickle('sample_by_x_bias.pkl')"
   ]
  },
  {
   "cell_type": "code",
   "execution_count": null,
   "id": "8ed0823b",
   "metadata": {},
   "outputs": [],
   "source": []
  }
 ],
 "metadata": {
  "kernelspec": {
   "display_name": "Python 3 (ipykernel)",
   "language": "python",
   "name": "python3"
  },
  "language_info": {
   "codemirror_mode": {
    "name": "ipython",
    "version": 3
   },
   "file_extension": ".py",
   "mimetype": "text/x-python",
   "name": "python",
   "nbconvert_exporter": "python",
   "pygments_lexer": "ipython3",
   "version": "3.12.8"
  }
 },
 "nbformat": 4,
 "nbformat_minor": 5
}
