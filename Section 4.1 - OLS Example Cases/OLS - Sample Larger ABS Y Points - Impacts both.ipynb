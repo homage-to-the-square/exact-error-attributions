{
 "cells": [
  {
   "cell_type": "markdown",
   "id": "0d701f34-2f75-4c76-ba52-a45cad64aa94",
   "metadata": {},
   "source": [
    "biased sampling scheme of:\n",
    "- logit(0.8) + (np.abs(y) - np.mean(abs(y)))/ std(abs(y))\n",
    "\n",
    "creates file:\n",
    "- sample_by_abs_y_bias.pkl\n",
    "        "
   ]
  },
  {
   "cell_type": "markdown",
   "id": "c5c011f0",
   "metadata": {},
   "source": [
    "# Imports:"
   ]
  },
  {
   "cell_type": "code",
   "execution_count": 28,
   "id": "d75790bb-5992-40f0-90f8-68743a4fc2b7",
   "metadata": {
    "execution": {
     "iopub.execute_input": "2025-09-17T02:59:55.669755Z",
     "iopub.status.busy": "2025-09-17T02:59:55.668242Z",
     "iopub.status.idle": "2025-09-17T02:59:55.674266Z",
     "shell.execute_reply": "2025-09-17T02:59:55.673761Z",
     "shell.execute_reply.started": "2025-09-17T02:59:55.669755Z"
    }
   },
   "outputs": [],
   "source": [
    "import numpy as np\n",
    "import pandas as pd\n",
    "from tqdm import tqdm\n",
    "import random\n",
    "import statsmodels.api as sm\n",
    "from scipy.special import expit, logit"
   ]
  },
  {
   "cell_type": "markdown",
   "id": "0813c942-ec6e-45e7-84dc-08ca0cae9dcb",
   "metadata": {},
   "source": [
    "# Hyperparameters:"
   ]
  },
  {
   "cell_type": "code",
   "execution_count": 29,
   "id": "27d3ee42-91c1-42fe-a412-6b3ab36bd83f",
   "metadata": {
    "execution": {
     "iopub.execute_input": "2025-09-17T02:59:56.225085Z",
     "iopub.status.busy": "2025-09-17T02:59:56.224085Z",
     "iopub.status.idle": "2025-09-17T02:59:56.229617Z",
     "shell.execute_reply": "2025-09-17T02:59:56.228613Z",
     "shell.execute_reply.started": "2025-09-17T02:59:56.225085Z"
    }
   },
   "outputs": [],
   "source": [
    "pop_size = 100 * 1_000\n",
    "sample_size = 1_000\n",
    "agg_iters = 100_000\n",
    "\n",
    "beta = 1\n",
    "\n",
    "## for biased sampling mechanism:\n",
    "sample_probability_centering = 0.8\n",
    "sample_probability_bias_factor = 10"
   ]
  },
  {
   "cell_type": "code",
   "execution_count": 30,
   "id": "0ad06d0e-546b-4c4c-bef0-661b8fbc67dc",
   "metadata": {
    "execution": {
     "iopub.execute_input": "2025-09-17T02:59:56.263223Z",
     "iopub.status.busy": "2025-09-17T02:59:56.262222Z",
     "iopub.status.idle": "2025-09-17T02:59:56.266728Z",
     "shell.execute_reply": "2025-09-17T02:59:56.266224Z",
     "shell.execute_reply.started": "2025-09-17T02:59:56.263223Z"
    }
   },
   "outputs": [],
   "source": [
    "## for rng generator:\n",
    "pop_number = 1"
   ]
  },
  {
   "cell_type": "code",
   "execution_count": 31,
   "id": "a9cf0934-1429-4e7e-a926-b3adeec50416",
   "metadata": {
    "execution": {
     "iopub.execute_input": "2025-09-17T02:59:56.294322Z",
     "iopub.status.busy": "2025-09-17T02:59:56.293323Z",
     "iopub.status.idle": "2025-09-17T02:59:56.297837Z",
     "shell.execute_reply": "2025-09-17T02:59:56.297332Z",
     "shell.execute_reply.started": "2025-09-17T02:59:56.294322Z"
    }
   },
   "outputs": [],
   "source": [
    "# set seeds:\n",
    "rand_generator = np.random.default_rng(seed=333 * pop_number)\n",
    "random.seed(333 * pop_number)"
   ]
  },
  {
   "cell_type": "code",
   "execution_count": 32,
   "id": "eb21e815",
   "metadata": {
    "execution": {
     "iopub.execute_input": "2025-09-17T02:59:56.334880Z",
     "iopub.status.busy": "2025-09-17T02:59:56.334880Z",
     "iopub.status.idle": "2025-09-17T02:59:56.352394Z",
     "shell.execute_reply": "2025-09-17T02:59:56.352394Z",
     "shell.execute_reply.started": "2025-09-17T02:59:56.334880Z"
    }
   },
   "outputs": [],
   "source": [
    "assert pop_size % 100 == 0\n",
    "base_x = [i for i in range(-50, 0)] + [i for i in range(1, 51)]\n",
    "x = pd.Series(base_x * (pop_size // 100))\n",
    "normal_stdev = 30"
   ]
  },
  {
   "cell_type": "markdown",
   "id": "19913914-1895-47fd-b229-71888c561d74",
   "metadata": {},
   "source": [
    "# Run:"
   ]
  },
  {
   "cell_type": "code",
   "execution_count": 33,
   "id": "111d624d",
   "metadata": {
    "execution": {
     "iopub.execute_input": "2025-09-17T02:59:56.386113Z",
     "iopub.status.busy": "2025-09-17T02:59:56.385036Z",
     "iopub.status.idle": "2025-09-17T02:59:56.388685Z",
     "shell.execute_reply": "2025-09-17T02:59:56.388685Z",
     "shell.execute_reply.started": "2025-09-17T02:59:56.386113Z"
    }
   },
   "outputs": [],
   "source": [
    "fitted_betas = []\n",
    "fitted_Jn = []\n",
    "fitted_correlations = []\n",
    "realized_sample_sizes = []"
   ]
  },
  {
   "cell_type": "markdown",
   "id": "d321cc3c-4fee-4362-9157-84030c964c92",
   "metadata": {},
   "source": [
    "Create the simulated data (x, y):"
   ]
  },
  {
   "cell_type": "code",
   "execution_count": 34,
   "id": "8927d464-7048-4798-a3fb-60e900e6c534",
   "metadata": {
    "execution": {
     "iopub.execute_input": "2025-09-17T02:59:56.442343Z",
     "iopub.status.busy": "2025-09-17T02:59:56.441343Z",
     "iopub.status.idle": "2025-09-17T02:59:56.446401Z",
     "shell.execute_reply": "2025-09-17T02:59:56.446401Z",
     "shell.execute_reply.started": "2025-09-17T02:59:56.442343Z"
    }
   },
   "outputs": [],
   "source": [
    "y = x * beta + rand_generator.normal(size=pop_size) * normal_stdev"
   ]
  },
  {
   "cell_type": "code",
   "execution_count": 35,
   "id": "d18218fe-15d6-4bdb-b3a9-1461c85fbaf3",
   "metadata": {
    "execution": {
     "iopub.execute_input": "2025-09-17T02:59:56.479489Z",
     "iopub.status.busy": "2025-09-17T02:59:56.479489Z",
     "iopub.status.idle": "2025-09-17T02:59:56.489717Z",
     "shell.execute_reply": "2025-09-17T02:59:56.489717Z",
     "shell.execute_reply.started": "2025-09-17T02:59:56.479489Z"
    }
   },
   "outputs": [],
   "source": [
    "data = pd.concat([y, x], axis=1)\n",
    "data.columns = ['y', 'x']\n",
    "fitted_beta = sm.OLS(data['y'], data['x']).fit().params.iloc[0]\n",
    "data['g_star'] = data['x'] * (data['y'] - data['x'] * fitted_beta)"
   ]
  },
  {
   "cell_type": "code",
   "execution_count": 36,
   "id": "8d13b2a9",
   "metadata": {
    "execution": {
     "iopub.execute_input": "2025-09-17T02:59:56.515555Z",
     "iopub.status.busy": "2025-09-17T02:59:56.514554Z",
     "iopub.status.idle": "2025-09-17T02:59:56.522160Z",
     "shell.execute_reply": "2025-09-17T02:59:56.522160Z",
     "shell.execute_reply.started": "2025-09-17T02:59:56.515555Z"
    }
   },
   "outputs": [],
   "source": [
    "std_y = y.abs().std()\n",
    "data[\"marginal_probs\"] = expit(\n",
    "    logit(sample_probability_centering)\n",
    "    + sample_probability_bias_factor * (np.abs(y) - np.mean(abs(y))) / std_y\n",
    ")"
   ]
  },
  {
   "cell_type": "code",
   "execution_count": 37,
   "id": "4f7e72b1-638d-4194-872e-c33205bf6ea3",
   "metadata": {
    "execution": {
     "iopub.execute_input": "2025-09-17T02:59:56.552009Z",
     "iopub.status.busy": "2025-09-17T02:59:56.552009Z",
     "iopub.status.idle": "2025-09-17T02:59:56.557735Z",
     "shell.execute_reply": "2025-09-17T02:59:56.557222Z",
     "shell.execute_reply.started": "2025-09-17T02:59:56.552009Z"
    }
   },
   "outputs": [
    {
     "data": {
      "text/plain": [
       "np.float64(0.4878752684434134)"
      ]
     },
     "execution_count": 37,
     "metadata": {},
     "output_type": "execute_result"
    }
   ],
   "source": [
    "data['marginal_probs'].mean()"
   ]
  },
  {
   "cell_type": "code",
   "execution_count": 38,
   "id": "9da1071a",
   "metadata": {
    "execution": {
     "iopub.execute_input": "2025-09-17T02:59:56.587378Z",
     "iopub.status.busy": "2025-09-17T02:59:56.587378Z",
     "iopub.status.idle": "2025-09-17T03:08:04.749029Z",
     "shell.execute_reply": "2025-09-17T03:08:04.749029Z",
     "shell.execute_reply.started": "2025-09-17T02:59:56.587378Z"
    }
   },
   "outputs": [
    {
     "name": "stderr",
     "output_type": "stream",
     "text": [
      "100%|█████████████████████████████████████████████████████████████████████████| 100000/100000 [08:08<00:00, 204.85it/s]\n"
     ]
    }
   ],
   "source": [
    "for _ in tqdm(range(agg_iters)):\n",
    "    srs_sample_indices = pd.Series(random.sample(range(pop_size), sample_size))\n",
    "\n",
    "    # reset the sample\n",
    "    data[\"r1\"] = 0\n",
    "    data[\"r\"] = 0\n",
    "\n",
    "    # sample both the intended and biased sample:\n",
    "    data.loc[srs_sample_indices, \"r1\"] = 1\n",
    "    full_sampled_data = data[data[\"r1\"] == 1]\n",
    "\n",
    "    biased_sample_indices = full_sampled_data.index[\n",
    "        rand_generator.binomial(n=1, p=full_sampled_data[\"marginal_probs\"]) == 1\n",
    "    ]\n",
    "    data.loc[biased_sample_indices, \"r\"] = 1\n",
    "\n",
    "    # compute results:\n",
    "    biased_sample_indices_size = len(biased_sample_indices)\n",
    "    realized_sample_sizes.append(biased_sample_indices_size)\n",
    "\n",
    "    srs_sample = data[data[\"r1\"] == 1]\n",
    "    biased_sample = data[data[\"r\"] == 1]\n",
    "    srs_fitted_beta = sm.OLS(srs_sample[\"y\"], srs_sample[\"x\"]).fit().params.iloc[0]\n",
    "    biased_fitted_beta = (\n",
    "        sm.OLS(biased_sample[\"y\"], biased_sample[\"x\"]).fit().params.iloc[0]\n",
    "    )\n",
    "\n",
    "    fitted_betas.append(pd.Series([fitted_beta, srs_fitted_beta, biased_fitted_beta]))\n",
    "    fitted_Jn.append(\n",
    "        pd.Series([np.mean(srs_sample[\"x\"] ** 2), np.mean(biased_sample[\"x\"] ** 2)])\n",
    "    )\n",
    "    fitted_correlations.append(data[[\"g_star\", \"r1\", \"r\"]].corr().iloc[0, 1:])"
   ]
  },
  {
   "cell_type": "markdown",
   "id": "fbb14a54-8a76-4311-9a43-35de652c4523",
   "metadata": {},
   "source": [
    "## Clean up the data:"
   ]
  },
  {
   "cell_type": "code",
   "execution_count": 39,
   "id": "079f384b",
   "metadata": {
    "execution": {
     "iopub.execute_input": "2025-09-17T03:08:04.750033Z",
     "iopub.status.busy": "2025-09-17T03:08:04.750033Z",
     "iopub.status.idle": "2025-09-17T03:08:09.569572Z",
     "shell.execute_reply": "2025-09-17T03:08:09.569572Z",
     "shell.execute_reply.started": "2025-09-17T03:08:04.750033Z"
    }
   },
   "outputs": [],
   "source": [
    "fitted_betas = pd.concat(fitted_betas, axis=1).T\n",
    "fitted_Jn = pd.concat(fitted_Jn, axis=1).T\n",
    "fitted_correlations = pd.concat(fitted_correlations, axis=1).T.reset_index(drop=True)"
   ]
  },
  {
   "cell_type": "code",
   "execution_count": 40,
   "id": "22704cef",
   "metadata": {
    "execution": {
     "iopub.execute_input": "2025-09-17T03:08:09.570589Z",
     "iopub.status.busy": "2025-09-17T03:08:09.569572Z",
     "iopub.status.idle": "2025-09-17T03:08:09.572520Z",
     "shell.execute_reply": "2025-09-17T03:08:09.572520Z",
     "shell.execute_reply.started": "2025-09-17T03:08:09.570589Z"
    },
    "scrolled": true
   },
   "outputs": [],
   "source": [
    "fitted_Jn.columns = ['srs', 'biased']\n",
    "fitted_betas.columns = ['population', 'srs', 'biased']\n",
    "fitted_correlations.columns = ['srs', 'biased']"
   ]
  },
  {
   "cell_type": "code",
   "execution_count": 41,
   "id": "13d625c8",
   "metadata": {
    "execution": {
     "iopub.execute_input": "2025-09-17T03:08:09.573524Z",
     "iopub.status.busy": "2025-09-17T03:08:09.573524Z",
     "iopub.status.idle": "2025-09-17T03:08:09.603706Z",
     "shell.execute_reply": "2025-09-17T03:08:09.603706Z",
     "shell.execute_reply.started": "2025-09-17T03:08:09.573524Z"
    }
   },
   "outputs": [],
   "source": [
    "realized_sample_sizes = pd.Series(realized_sample_sizes)"
   ]
  },
  {
   "cell_type": "code",
   "execution_count": 42,
   "id": "661d5d8d-9721-4eae-89e5-80d2e0c52280",
   "metadata": {
    "execution": {
     "iopub.execute_input": "2025-09-17T03:08:09.604709Z",
     "iopub.status.busy": "2025-09-17T03:08:09.604709Z",
     "iopub.status.idle": "2025-09-17T03:08:09.610773Z",
     "shell.execute_reply": "2025-09-17T03:08:09.610773Z",
     "shell.execute_reply.started": "2025-09-17T03:08:09.604709Z"
    }
   },
   "outputs": [
    {
     "data": {
      "text/html": [
       "<div>\n",
       "<style scoped>\n",
       "    .dataframe tbody tr th:only-of-type {\n",
       "        vertical-align: middle;\n",
       "    }\n",
       "\n",
       "    .dataframe tbody tr th {\n",
       "        vertical-align: top;\n",
       "    }\n",
       "\n",
       "    .dataframe thead th {\n",
       "        text-align: right;\n",
       "    }\n",
       "</style>\n",
       "<table border=\"1\" class=\"dataframe\">\n",
       "  <thead>\n",
       "    <tr style=\"text-align: right;\">\n",
       "      <th></th>\n",
       "      <th>srs_fi</th>\n",
       "      <th>biased_fi</th>\n",
       "      <th>srs_corr</th>\n",
       "      <th>biased_corr</th>\n",
       "    </tr>\n",
       "  </thead>\n",
       "  <tbody>\n",
       "    <tr>\n",
       "      <th>0</th>\n",
       "      <td>820.383</td>\n",
       "      <td>1049.095335</td>\n",
       "      <td>-0.000672</td>\n",
       "      <td>0.033525</td>\n",
       "    </tr>\n",
       "    <tr>\n",
       "      <th>1</th>\n",
       "      <td>867.127</td>\n",
       "      <td>1062.175847</td>\n",
       "      <td>-0.001645</td>\n",
       "      <td>0.039859</td>\n",
       "    </tr>\n",
       "    <tr>\n",
       "      <th>2</th>\n",
       "      <td>856.042</td>\n",
       "      <td>1092.287234</td>\n",
       "      <td>0.000319</td>\n",
       "      <td>0.042120</td>\n",
       "    </tr>\n",
       "    <tr>\n",
       "      <th>3</th>\n",
       "      <td>870.083</td>\n",
       "      <td>1059.778865</td>\n",
       "      <td>0.003066</td>\n",
       "      <td>0.040517</td>\n",
       "    </tr>\n",
       "    <tr>\n",
       "      <th>4</th>\n",
       "      <td>859.271</td>\n",
       "      <td>1074.781746</td>\n",
       "      <td>0.003522</td>\n",
       "      <td>0.043160</td>\n",
       "    </tr>\n",
       "  </tbody>\n",
       "</table>\n",
       "</div>"
      ],
      "text/plain": [
       "    srs_fi    biased_fi  srs_corr  biased_corr\n",
       "0  820.383  1049.095335 -0.000672     0.033525\n",
       "1  867.127  1062.175847 -0.001645     0.039859\n",
       "2  856.042  1092.287234  0.000319     0.042120\n",
       "3  870.083  1059.778865  0.003066     0.040517\n",
       "4  859.271  1074.781746  0.003522     0.043160"
      ]
     },
     "execution_count": 42,
     "metadata": {},
     "output_type": "execute_result"
    }
   ],
   "source": [
    "fitted_Jn_and_corr = fitted_Jn.join(fitted_correlations, lsuffix = '_fi', rsuffix = '_corr')\n",
    "fitted_Jn_and_corr.head()"
   ]
  },
  {
   "cell_type": "code",
   "execution_count": null,
   "id": "216b1ccc-f1f0-4473-b88b-854749581faa",
   "metadata": {},
   "outputs": [],
   "source": []
  },
  {
   "cell_type": "markdown",
   "id": "9b4cbd76-d514-4c04-a8d3-70a6f0a6fb1f",
   "metadata": {},
   "source": [
    "# Save:"
   ]
  },
  {
   "cell_type": "code",
   "execution_count": 43,
   "id": "c70000b1-c08e-422b-be61-d482ca22f55e",
   "metadata": {
    "execution": {
     "iopub.execute_input": "2025-09-17T03:08:09.610773Z",
     "iopub.status.busy": "2025-09-17T03:08:09.610773Z",
     "iopub.status.idle": "2025-09-17T03:08:09.627175Z",
     "shell.execute_reply": "2025-09-17T03:08:09.627175Z",
     "shell.execute_reply.started": "2025-09-17T03:08:09.610773Z"
    }
   },
   "outputs": [
    {
     "data": {
      "text/html": [
       "<div>\n",
       "<style scoped>\n",
       "    .dataframe tbody tr th:only-of-type {\n",
       "        vertical-align: middle;\n",
       "    }\n",
       "\n",
       "    .dataframe tbody tr th {\n",
       "        vertical-align: top;\n",
       "    }\n",
       "\n",
       "    .dataframe thead th {\n",
       "        text-align: right;\n",
       "    }\n",
       "</style>\n",
       "<table border=\"1\" class=\"dataframe\">\n",
       "  <thead>\n",
       "    <tr style=\"text-align: right;\">\n",
       "      <th></th>\n",
       "      <th>srs_fi</th>\n",
       "      <th>biased_fi</th>\n",
       "      <th>srs_corr</th>\n",
       "      <th>biased_corr</th>\n",
       "    </tr>\n",
       "  </thead>\n",
       "  <tbody>\n",
       "    <tr>\n",
       "      <th>count</th>\n",
       "      <td>100000.000000</td>\n",
       "      <td>100000.000000</td>\n",
       "      <td>100000.000000</td>\n",
       "      <td>100000.000000</td>\n",
       "    </tr>\n",
       "    <tr>\n",
       "      <th>mean</th>\n",
       "      <td>858.641428</td>\n",
       "      <td>1069.482471</td>\n",
       "      <td>-0.000003</td>\n",
       "      <td>0.038741</td>\n",
       "    </tr>\n",
       "    <tr>\n",
       "      <th>std</th>\n",
       "      <td>23.947606</td>\n",
       "      <td>35.691209</td>\n",
       "      <td>0.003165</td>\n",
       "      <td>0.003115</td>\n",
       "    </tr>\n",
       "    <tr>\n",
       "      <th>min</th>\n",
       "      <td>750.120000</td>\n",
       "      <td>904.186296</td>\n",
       "      <td>-0.014226</td>\n",
       "      <td>0.025078</td>\n",
       "    </tr>\n",
       "    <tr>\n",
       "      <th>25%</th>\n",
       "      <td>842.452750</td>\n",
       "      <td>1045.245314</td>\n",
       "      <td>-0.002143</td>\n",
       "      <td>0.036656</td>\n",
       "    </tr>\n",
       "    <tr>\n",
       "      <th>50%</th>\n",
       "      <td>858.602500</td>\n",
       "      <td>1069.359590</td>\n",
       "      <td>0.000002</td>\n",
       "      <td>0.038755</td>\n",
       "    </tr>\n",
       "    <tr>\n",
       "      <th>75%</th>\n",
       "      <td>874.838000</td>\n",
       "      <td>1093.588246</td>\n",
       "      <td>0.002141</td>\n",
       "      <td>0.040846</td>\n",
       "    </tr>\n",
       "    <tr>\n",
       "      <th>max</th>\n",
       "      <td>982.528000</td>\n",
       "      <td>1232.791322</td>\n",
       "      <td>0.014403</td>\n",
       "      <td>0.052924</td>\n",
       "    </tr>\n",
       "  </tbody>\n",
       "</table>\n",
       "</div>"
      ],
      "text/plain": [
       "              srs_fi      biased_fi       srs_corr    biased_corr\n",
       "count  100000.000000  100000.000000  100000.000000  100000.000000\n",
       "mean      858.641428    1069.482471      -0.000003       0.038741\n",
       "std        23.947606      35.691209       0.003165       0.003115\n",
       "min       750.120000     904.186296      -0.014226       0.025078\n",
       "25%       842.452750    1045.245314      -0.002143       0.036656\n",
       "50%       858.602500    1069.359590       0.000002       0.038755\n",
       "75%       874.838000    1093.588246       0.002141       0.040846\n",
       "max       982.528000    1232.791322       0.014403       0.052924"
      ]
     },
     "execution_count": 43,
     "metadata": {},
     "output_type": "execute_result"
    }
   ],
   "source": [
    "fitted_Jn_and_corr.describe()"
   ]
  },
  {
   "cell_type": "code",
   "execution_count": 44,
   "id": "2942223b-cb7f-41e7-85ee-c9e48249c8ac",
   "metadata": {
    "execution": {
     "iopub.execute_input": "2025-09-17T03:08:09.627175Z",
     "iopub.status.busy": "2025-09-17T03:08:09.627175Z",
     "iopub.status.idle": "2025-09-17T03:08:09.635181Z",
     "shell.execute_reply": "2025-09-17T03:08:09.635181Z",
     "shell.execute_reply.started": "2025-09-17T03:08:09.627175Z"
    }
   },
   "outputs": [
    {
     "data": {
      "text/html": [
       "<div>\n",
       "<style scoped>\n",
       "    .dataframe tbody tr th:only-of-type {\n",
       "        vertical-align: middle;\n",
       "    }\n",
       "\n",
       "    .dataframe tbody tr th {\n",
       "        vertical-align: top;\n",
       "    }\n",
       "\n",
       "    .dataframe thead th {\n",
       "        text-align: right;\n",
       "    }\n",
       "</style>\n",
       "<table border=\"1\" class=\"dataframe\">\n",
       "  <thead>\n",
       "    <tr style=\"text-align: right;\">\n",
       "      <th></th>\n",
       "      <th>srs_fi</th>\n",
       "      <th>biased_fi</th>\n",
       "      <th>srs_corr</th>\n",
       "      <th>biased_corr</th>\n",
       "    </tr>\n",
       "  </thead>\n",
       "  <tbody>\n",
       "    <tr>\n",
       "      <th>srs_fi</th>\n",
       "      <td>1.000000</td>\n",
       "      <td>0.725042</td>\n",
       "      <td>0.001127</td>\n",
       "      <td>0.202122</td>\n",
       "    </tr>\n",
       "    <tr>\n",
       "      <th>biased_fi</th>\n",
       "      <td>0.725042</td>\n",
       "      <td>1.000000</td>\n",
       "      <td>0.139577</td>\n",
       "      <td>0.203984</td>\n",
       "    </tr>\n",
       "    <tr>\n",
       "      <th>srs_corr</th>\n",
       "      <td>0.001127</td>\n",
       "      <td>0.139577</td>\n",
       "      <td>1.000000</td>\n",
       "      <td>0.769759</td>\n",
       "    </tr>\n",
       "    <tr>\n",
       "      <th>biased_corr</th>\n",
       "      <td>0.202122</td>\n",
       "      <td>0.203984</td>\n",
       "      <td>0.769759</td>\n",
       "      <td>1.000000</td>\n",
       "    </tr>\n",
       "  </tbody>\n",
       "</table>\n",
       "</div>"
      ],
      "text/plain": [
       "               srs_fi  biased_fi  srs_corr  biased_corr\n",
       "srs_fi       1.000000   0.725042  0.001127     0.202122\n",
       "biased_fi    0.725042   1.000000  0.139577     0.203984\n",
       "srs_corr     0.001127   0.139577  1.000000     0.769759\n",
       "biased_corr  0.202122   0.203984  0.769759     1.000000"
      ]
     },
     "execution_count": 44,
     "metadata": {},
     "output_type": "execute_result"
    }
   ],
   "source": [
    "fitted_Jn_and_corr.corr()"
   ]
  },
  {
   "cell_type": "code",
   "execution_count": 45,
   "id": "f3ea0b16-aa81-4f81-b13c-c7398235efe0",
   "metadata": {
    "execution": {
     "iopub.execute_input": "2025-09-17T03:08:09.635684Z",
     "iopub.status.busy": "2025-09-17T03:08:09.635684Z",
     "iopub.status.idle": "2025-09-17T03:08:09.639339Z",
     "shell.execute_reply": "2025-09-17T03:08:09.639339Z",
     "shell.execute_reply.started": "2025-09-17T03:08:09.635684Z"
    }
   },
   "outputs": [],
   "source": [
    "fitted_Jn_and_corr.to_pickle('sample_by_abs_y_bias.pkl')"
   ]
  },
  {
   "cell_type": "code",
   "execution_count": null,
   "id": "be6d17bb-b18f-4f38-824f-36a888458d6a",
   "metadata": {},
   "outputs": [],
   "source": []
  }
 ],
 "metadata": {
  "kernelspec": {
   "display_name": "Python 3 (ipykernel)",
   "language": "python",
   "name": "python3"
  },
  "language_info": {
   "codemirror_mode": {
    "name": "ipython",
    "version": 3
   },
   "file_extension": ".py",
   "mimetype": "text/x-python",
   "name": "python",
   "nbconvert_exporter": "python",
   "pygments_lexer": "ipython3",
   "version": "3.12.8"
  }
 },
 "nbformat": 4,
 "nbformat_minor": 5
}
