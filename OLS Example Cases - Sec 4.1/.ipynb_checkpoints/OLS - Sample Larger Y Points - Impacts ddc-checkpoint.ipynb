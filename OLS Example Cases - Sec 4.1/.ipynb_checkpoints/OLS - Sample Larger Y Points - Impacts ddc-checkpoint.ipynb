{
 "cells": [
  {
   "cell_type": "markdown",
   "id": "7a54a08f-5ae4-44f9-9635-b8bb4f2d212a",
   "metadata": {},
   "source": [
    "biased sampling scheme of:\n",
    "- expit(logit(sample_probability_centering) + \\\n",
    "                               sample_probability_bias_factor * (y / std_y))"
   ]
  },
  {
   "cell_type": "markdown",
   "id": "c5c011f0",
   "metadata": {},
   "source": [
    "# Imports:"
   ]
  },
  {
   "cell_type": "code",
   "execution_count": 1,
   "id": "d75790bb-5992-40f0-90f8-68743a4fc2b7",
   "metadata": {
    "execution": {
     "iopub.execute_input": "2025-08-28T15:35:20.168769Z",
     "iopub.status.busy": "2025-08-28T15:35:20.168769Z",
     "iopub.status.idle": "2025-08-28T15:35:22.840894Z",
     "shell.execute_reply": "2025-08-28T15:35:22.840894Z",
     "shell.execute_reply.started": "2025-08-28T15:35:20.168769Z"
    }
   },
   "outputs": [],
   "source": [
    "import numpy as np\n",
    "import pandas as pd\n",
    "import seaborn as sns\n",
    "\n",
    "from scipy.stats import chi2\n",
    "\n",
    "from tqdm import tqdm, trange\n",
    "import random\n",
    "\n",
    "import matplotlib.pyplot as plt\n",
    "import pickle\n",
    "import statsmodels.api as sm\n",
    "from scipy.special import expit, logit"
   ]
  },
  {
   "cell_type": "markdown",
   "id": "0813c942-ec6e-45e7-84dc-08ca0cae9dcb",
   "metadata": {},
   "source": [
    "# Hyperparameters:"
   ]
  },
  {
   "cell_type": "code",
   "execution_count": 2,
   "id": "27d3ee42-91c1-42fe-a412-6b3ab36bd83f",
   "metadata": {
    "execution": {
     "iopub.execute_input": "2025-08-28T15:35:22.841899Z",
     "iopub.status.busy": "2025-08-28T15:35:22.841899Z",
     "iopub.status.idle": "2025-08-28T15:35:22.845271Z",
     "shell.execute_reply": "2025-08-28T15:35:22.844577Z",
     "shell.execute_reply.started": "2025-08-28T15:35:22.841899Z"
    }
   },
   "outputs": [],
   "source": [
    "pop_size = 100 * 1_000\n",
    "sample_size = 30\n",
    "agg_iters = 100_000\n",
    "\n",
    "beta = 1\n",
    "\n",
    "## for biased sampling mechanism:\n",
    "sample_probability_centering = 0.8\n",
    "sample_probability_bias_factor = 1"
   ]
  },
  {
   "cell_type": "code",
   "execution_count": 3,
   "id": "0ad06d0e-546b-4c4c-bef0-661b8fbc67dc",
   "metadata": {
    "execution": {
     "iopub.execute_input": "2025-08-28T15:35:22.846167Z",
     "iopub.status.busy": "2025-08-28T15:35:22.845271Z",
     "iopub.status.idle": "2025-08-28T15:35:22.849118Z",
     "shell.execute_reply": "2025-08-28T15:35:22.849118Z",
     "shell.execute_reply.started": "2025-08-28T15:35:22.846167Z"
    }
   },
   "outputs": [],
   "source": [
    "## for rng generator:\n",
    "pop_number = 1"
   ]
  },
  {
   "cell_type": "markdown",
   "id": "de7f4383",
   "metadata": {},
   "source": [
    "# Run:"
   ]
  },
  {
   "cell_type": "code",
   "execution_count": 4,
   "id": "67baf705",
   "metadata": {
    "execution": {
     "iopub.execute_input": "2025-08-28T15:35:22.851121Z",
     "iopub.status.busy": "2025-08-28T15:35:22.850121Z",
     "iopub.status.idle": "2025-08-28T15:35:22.852995Z",
     "shell.execute_reply": "2025-08-28T15:35:22.852995Z",
     "shell.execute_reply.started": "2025-08-28T15:35:22.851121Z"
    }
   },
   "outputs": [],
   "source": [
    "rand_generator = np.random.default_rng(seed=333 * pop_number)"
   ]
  },
  {
   "cell_type": "code",
   "execution_count": 5,
   "id": "eb21e815",
   "metadata": {
    "execution": {
     "iopub.execute_input": "2025-08-28T15:35:22.854999Z",
     "iopub.status.busy": "2025-08-28T15:35:22.854087Z",
     "iopub.status.idle": "2025-08-28T15:35:22.869406Z",
     "shell.execute_reply": "2025-08-28T15:35:22.868403Z",
     "shell.execute_reply.started": "2025-08-28T15:35:22.854999Z"
    }
   },
   "outputs": [],
   "source": [
    "assert pop_size % 100 == 0\n",
    "base_x = [i for i in range(-50, 0)] + [i for i in range(1, 51)]\n",
    "x = pd.Series(base_x * (pop_size // 100))\n",
    "normal_stdev = 30"
   ]
  },
  {
   "cell_type": "code",
   "execution_count": 6,
   "id": "111d624d",
   "metadata": {
    "execution": {
     "iopub.execute_input": "2025-08-28T15:35:22.870406Z",
     "iopub.status.busy": "2025-08-28T15:35:22.870406Z",
     "iopub.status.idle": "2025-08-28T15:35:22.873745Z",
     "shell.execute_reply": "2025-08-28T15:35:22.873745Z",
     "shell.execute_reply.started": "2025-08-28T15:35:22.870406Z"
    }
   },
   "outputs": [],
   "source": [
    "fitted_betas = []\n",
    "fitted_FI = []\n",
    "fitted_correlations = []\n",
    "realized_sample_sizes = []"
   ]
  },
  {
   "cell_type": "markdown",
   "id": "d321cc3c-4fee-4362-9157-84030c964c92",
   "metadata": {},
   "source": [
    "Create the simulated data (x, y):"
   ]
  },
  {
   "cell_type": "code",
   "execution_count": 7,
   "id": "8927d464-7048-4798-a3fb-60e900e6c534",
   "metadata": {
    "execution": {
     "iopub.execute_input": "2025-08-28T15:35:22.880749Z",
     "iopub.status.busy": "2025-08-28T15:35:22.880749Z",
     "iopub.status.idle": "2025-08-28T15:35:22.884578Z",
     "shell.execute_reply": "2025-08-28T15:35:22.884578Z",
     "shell.execute_reply.started": "2025-08-28T15:35:22.880749Z"
    }
   },
   "outputs": [],
   "source": [
    "y = x * beta + rand_generator.normal(size=pop_size) * normal_stdev"
   ]
  },
  {
   "cell_type": "code",
   "execution_count": 8,
   "id": "4b2122ac-aece-47c4-b7ee-01e8b06a160b",
   "metadata": {
    "execution": {
     "iopub.execute_input": "2025-08-28T15:35:22.885581Z",
     "iopub.status.busy": "2025-08-28T15:35:22.885581Z",
     "iopub.status.idle": "2025-08-28T15:35:22.888809Z",
     "shell.execute_reply": "2025-08-28T15:35:22.888809Z",
     "shell.execute_reply.started": "2025-08-28T15:35:22.885581Z"
    }
   },
   "outputs": [],
   "source": [
    "std_y = np.sqrt(np.var(x) + normal_stdev ** 2)"
   ]
  },
  {
   "cell_type": "code",
   "execution_count": 9,
   "id": "8c23726a-17d4-4e3e-9b33-bae9ebc830ac",
   "metadata": {
    "execution": {
     "iopub.execute_input": "2025-08-28T15:35:22.890947Z",
     "iopub.status.busy": "2025-08-28T15:35:22.890947Z",
     "iopub.status.idle": "2025-08-28T15:35:22.896152Z",
     "shell.execute_reply": "2025-08-28T15:35:22.896152Z",
     "shell.execute_reply.started": "2025-08-28T15:35:22.890947Z"
    }
   },
   "outputs": [
    {
     "data": {
      "text/plain": [
       "np.float64(42.04298479595959)"
      ]
     },
     "execution_count": 9,
     "metadata": {},
     "output_type": "execute_result"
    }
   ],
   "source": [
    "np.std(y)"
   ]
  },
  {
   "cell_type": "code",
   "execution_count": 10,
   "id": "18ad76f2-8524-46cc-af5f-5ef242d1025f",
   "metadata": {
    "execution": {
     "iopub.execute_input": "2025-08-28T15:35:22.896152Z",
     "iopub.status.busy": "2025-08-28T15:35:22.896152Z",
     "iopub.status.idle": "2025-08-28T15:35:22.918893Z",
     "shell.execute_reply": "2025-08-28T15:35:22.918893Z",
     "shell.execute_reply.started": "2025-08-28T15:35:22.896152Z"
    }
   },
   "outputs": [
    {
     "data": {
      "text/html": [
       "<table class=\"simpletable\">\n",
       "<caption>OLS Regression Results</caption>\n",
       "<tr>\n",
       "  <th>Dep. Variable:</th>            <td>y</td>        <th>  R-squared (uncentered):</th>       <td>   0.486</td>  \n",
       "</tr>\n",
       "<tr>\n",
       "  <th>Model:</th>                   <td>OLS</td>       <th>  Adj. R-squared (uncentered):</th>  <td>   0.486</td>  \n",
       "</tr>\n",
       "<tr>\n",
       "  <th>Method:</th>             <td>Least Squares</td>  <th>  F-statistic:       </th>           <td>9.460e+04</td> \n",
       "</tr>\n",
       "<tr>\n",
       "  <th>Date:</th>             <td>Thu, 28 Aug 2025</td> <th>  Prob (F-statistic):</th>            <td>  0.00</td>   \n",
       "</tr>\n",
       "<tr>\n",
       "  <th>Time:</th>                 <td>10:35:22</td>     <th>  Log-Likelihood:    </th>          <td>-4.8247e+05</td>\n",
       "</tr>\n",
       "<tr>\n",
       "  <th>No. Observations:</th>      <td>100000</td>      <th>  AIC:               </th>           <td>9.649e+05</td> \n",
       "</tr>\n",
       "<tr>\n",
       "  <th>Df Residuals:</th>          <td> 99999</td>      <th>  BIC:               </th>           <td>9.650e+05</td> \n",
       "</tr>\n",
       "<tr>\n",
       "  <th>Df Model:</th>              <td>     1</td>      <th>                     </th>               <td> </td>     \n",
       "</tr>\n",
       "<tr>\n",
       "  <th>Covariance Type:</th>      <td>nonrobust</td>    <th>                     </th>               <td> </td>     \n",
       "</tr>\n",
       "</table>\n",
       "<table class=\"simpletable\">\n",
       "<tr>\n",
       "  <td></td>     <th>coef</th>     <th>std err</th>      <th>t</th>      <th>P>|t|</th>  <th>[0.025</th>    <th>0.975]</th>  \n",
       "</tr>\n",
       "<tr>\n",
       "  <th>x</th> <td>    1.0005</td> <td>    0.003</td> <td>  307.572</td> <td> 0.000</td> <td>    0.994</td> <td>    1.007</td>\n",
       "</tr>\n",
       "</table>\n",
       "<table class=\"simpletable\">\n",
       "<tr>\n",
       "  <th>Omnibus:</th>       <td> 6.615</td> <th>  Durbin-Watson:     </th> <td>   2.000</td>\n",
       "</tr>\n",
       "<tr>\n",
       "  <th>Prob(Omnibus):</th> <td> 0.037</td> <th>  Jarque-Bera (JB):  </th> <td>   6.474</td>\n",
       "</tr>\n",
       "<tr>\n",
       "  <th>Skew:</th>          <td> 0.008</td> <th>  Prob(JB):          </th> <td>  0.0393</td>\n",
       "</tr>\n",
       "<tr>\n",
       "  <th>Kurtosis:</th>      <td> 2.964</td> <th>  Cond. No.          </th> <td>    1.00</td>\n",
       "</tr>\n",
       "</table><br/><br/>Notes:<br/>[1] R² is computed without centering (uncentered) since the model does not contain a constant.<br/>[2] Standard Errors assume that the covariance matrix of the errors is correctly specified."
      ],
      "text/latex": [
       "\\begin{center}\n",
       "\\begin{tabular}{lclc}\n",
       "\\toprule\n",
       "\\textbf{Dep. Variable:}    &        y         & \\textbf{  R-squared (uncentered):}      &      0.486   \\\\\n",
       "\\textbf{Model:}            &       OLS        & \\textbf{  Adj. R-squared (uncentered):} &      0.486   \\\\\n",
       "\\textbf{Method:}           &  Least Squares   & \\textbf{  F-statistic:       }          &  9.460e+04   \\\\\n",
       "\\textbf{Date:}             & Thu, 28 Aug 2025 & \\textbf{  Prob (F-statistic):}          &      0.00    \\\\\n",
       "\\textbf{Time:}             &     10:35:22     & \\textbf{  Log-Likelihood:    }          & -4.8247e+05  \\\\\n",
       "\\textbf{No. Observations:} &      100000      & \\textbf{  AIC:               }          &  9.649e+05   \\\\\n",
       "\\textbf{Df Residuals:}     &       99999      & \\textbf{  BIC:               }          &  9.650e+05   \\\\\n",
       "\\textbf{Df Model:}         &           1      & \\textbf{                     }          &              \\\\\n",
       "\\textbf{Covariance Type:}  &    nonrobust     & \\textbf{                     }          &              \\\\\n",
       "\\bottomrule\n",
       "\\end{tabular}\n",
       "\\begin{tabular}{lcccccc}\n",
       "           & \\textbf{coef} & \\textbf{std err} & \\textbf{t} & \\textbf{P$> |$t$|$} & \\textbf{[0.025} & \\textbf{0.975]}  \\\\\n",
       "\\midrule\n",
       "\\textbf{x} &       1.0005  &        0.003     &   307.572  &         0.000        &        0.994    &        1.007     \\\\\n",
       "\\bottomrule\n",
       "\\end{tabular}\n",
       "\\begin{tabular}{lclc}\n",
       "\\textbf{Omnibus:}       &  6.615 & \\textbf{  Durbin-Watson:     } &    2.000  \\\\\n",
       "\\textbf{Prob(Omnibus):} &  0.037 & \\textbf{  Jarque-Bera (JB):  } &    6.474  \\\\\n",
       "\\textbf{Skew:}          &  0.008 & \\textbf{  Prob(JB):          } &   0.0393  \\\\\n",
       "\\textbf{Kurtosis:}      &  2.964 & \\textbf{  Cond. No.          } &     1.00  \\\\\n",
       "\\bottomrule\n",
       "\\end{tabular}\n",
       "%\\caption{OLS Regression Results}\n",
       "\\end{center}\n",
       "\n",
       "Notes: \\newline\n",
       " [1] R² is computed without centering (uncentered) since the model does not contain a constant. \\newline\n",
       " [2] Standard Errors assume that the covariance matrix of the errors is correctly specified."
      ],
      "text/plain": [
       "<class 'statsmodels.iolib.summary.Summary'>\n",
       "\"\"\"\n",
       "                                 OLS Regression Results                                \n",
       "=======================================================================================\n",
       "Dep. Variable:                      y   R-squared (uncentered):                   0.486\n",
       "Model:                            OLS   Adj. R-squared (uncentered):              0.486\n",
       "Method:                 Least Squares   F-statistic:                          9.460e+04\n",
       "Date:                Thu, 28 Aug 2025   Prob (F-statistic):                        0.00\n",
       "Time:                        10:35:22   Log-Likelihood:                     -4.8247e+05\n",
       "No. Observations:              100000   AIC:                                  9.649e+05\n",
       "Df Residuals:                   99999   BIC:                                  9.650e+05\n",
       "Df Model:                           1                                                  \n",
       "Covariance Type:            nonrobust                                                  \n",
       "==============================================================================\n",
       "                 coef    std err          t      P>|t|      [0.025      0.975]\n",
       "------------------------------------------------------------------------------\n",
       "x              1.0005      0.003    307.572      0.000       0.994       1.007\n",
       "==============================================================================\n",
       "Omnibus:                        6.615   Durbin-Watson:                   2.000\n",
       "Prob(Omnibus):                  0.037   Jarque-Bera (JB):                6.474\n",
       "Skew:                           0.008   Prob(JB):                       0.0393\n",
       "Kurtosis:                       2.964   Cond. No.                         1.00\n",
       "==============================================================================\n",
       "\n",
       "Notes:\n",
       "[1] R² is computed without centering (uncentered) since the model does not contain a constant.\n",
       "[2] Standard Errors assume that the covariance matrix of the errors is correctly specified.\n",
       "\"\"\""
      ]
     },
     "execution_count": 10,
     "metadata": {},
     "output_type": "execute_result"
    }
   ],
   "source": [
    "data = pd.concat([y, x], axis=1)\n",
    "\n",
    "data.columns = ['y', 'x']\n",
    "\n",
    "fitted_beta = sm.OLS(data['y'], data['x']).fit().params.iloc[0]\n",
    "\n",
    "sm.OLS(data['y'], data['x']).fit().summary()"
   ]
  },
  {
   "cell_type": "code",
   "execution_count": 11,
   "id": "c8209a23-decf-47d7-b052-f35ed0d18e96",
   "metadata": {
    "execution": {
     "iopub.execute_input": "2025-08-28T15:35:22.918893Z",
     "iopub.status.busy": "2025-08-28T15:35:22.918893Z",
     "iopub.status.idle": "2025-08-28T15:35:22.922467Z",
     "shell.execute_reply": "2025-08-28T15:35:22.922467Z",
     "shell.execute_reply.started": "2025-08-28T15:35:22.918893Z"
    }
   },
   "outputs": [],
   "source": [
    "data['g_star'] = data['x'] * (data['y'] - data['x'] * fitted_beta)"
   ]
  },
  {
   "cell_type": "code",
   "execution_count": 12,
   "id": "8d13b2a9",
   "metadata": {
    "execution": {
     "iopub.execute_input": "2025-08-28T15:35:22.923975Z",
     "iopub.status.busy": "2025-08-28T15:35:22.922467Z",
     "iopub.status.idle": "2025-08-28T15:35:22.930243Z",
     "shell.execute_reply": "2025-08-28T15:35:22.930243Z",
     "shell.execute_reply.started": "2025-08-28T15:35:22.923975Z"
    }
   },
   "outputs": [],
   "source": [
    "marginal_probabilities = expit(logit(sample_probability_centering) + \\\n",
    "                               sample_probability_bias_factor * (y / std_y))"
   ]
  },
  {
   "cell_type": "code",
   "execution_count": 13,
   "id": "4f7e72b1-638d-4194-872e-c33205bf6ea3",
   "metadata": {
    "execution": {
     "iopub.execute_input": "2025-08-28T15:35:22.930902Z",
     "iopub.status.busy": "2025-08-28T15:35:22.930902Z",
     "iopub.status.idle": "2025-08-28T15:35:22.933702Z",
     "shell.execute_reply": "2025-08-28T15:35:22.933702Z",
     "shell.execute_reply.started": "2025-08-28T15:35:22.930902Z"
    }
   },
   "outputs": [
    {
     "data": {
      "text/plain": [
       "np.float64(0.7603001094704808)"
      ]
     },
     "execution_count": 13,
     "metadata": {},
     "output_type": "execute_result"
    }
   ],
   "source": [
    "np.mean(marginal_probabilities)"
   ]
  },
  {
   "cell_type": "markdown",
   "id": "8714023a",
   "metadata": {},
   "source": [
    "# run:"
   ]
  },
  {
   "cell_type": "code",
   "execution_count": 14,
   "id": "9da1071a",
   "metadata": {
    "execution": {
     "iopub.execute_input": "2025-08-28T15:35:22.933702Z",
     "iopub.status.busy": "2025-08-28T15:35:22.933702Z",
     "iopub.status.idle": "2025-08-28T16:00:18.200005Z",
     "shell.execute_reply": "2025-08-28T16:00:18.200005Z",
     "shell.execute_reply.started": "2025-08-28T15:35:22.933702Z"
    }
   },
   "outputs": [
    {
     "name": "stderr",
     "output_type": "stream",
     "text": [
      "100%|██████████████████████████████████████████████████████████████████████████| 100000/100000 [24:55<00:00, 66.88it/s]\n"
     ]
    }
   ],
   "source": [
    "for _ in tqdm(range(agg_iters)):\n",
    "    srs_sample_indices = pd.Series(random.sample(range(pop_size), sample_size))\n",
    "    srs_sample_indices = srs_sample_indices.sort_values().reset_index(drop=True)\n",
    "\n",
    "    # reset the sample\n",
    "    data['r0'] = 0\n",
    "    data['r'] = 0\n",
    "    data['r1'] = 0\n",
    "    data['r2'] = 0\n",
    "    \n",
    "    data.loc[srs_sample_indices, 'r0'] = 1\n",
    "    full_sampled_data = data[data['r0'] == 1]\n",
    "\n",
    "    biased_sample_indices = marginal_probabilities.index[rand_generator.binomial(n=1, p = marginal_probabilities) == 1]\n",
    "\n",
    "    data.loc[biased_sample_indices, 'r'] = 1\n",
    "\n",
    "    biased_sample_indices_size = len(biased_sample_indices)\n",
    "    realized_sample_sizes.append(biased_sample_indices_size)\n",
    "\n",
    "\n",
    "    srs_sample = data[data['r0'] == 1].copy()\n",
    "    biased_sample = data[data['r'] == 1].copy()\n",
    "\n",
    "    srs_fitted_beta = sm.OLS(srs_sample['y'], srs_sample['x']).fit().params.iloc[0]\n",
    "    biased_fitted_beta = sm.OLS(biased_sample['y'], biased_sample['x']).fit().params.iloc[0]\n",
    "\n",
    "    fitted_betas.append(pd.Series([fitted_beta, srs_fitted_beta, biased_fitted_beta]))\n",
    "\n",
    "    fitted_FI.append(pd.Series([np.mean(srs_sample['x'] ** 2), np.mean(biased_sample['x'] ** 2)]))\n",
    "\n",
    "    fitted_correlations.append(data[['g_star', 'r0', 'r']].corr().iloc[0, 1:])"
   ]
  },
  {
   "cell_type": "markdown",
   "id": "db8b1e01-b45f-4bf7-a173-bc260d128855",
   "metadata": {},
   "source": [
    "Clean up the data:"
   ]
  },
  {
   "cell_type": "code",
   "execution_count": 15,
   "id": "079f384b",
   "metadata": {
    "execution": {
     "iopub.execute_input": "2025-08-28T16:00:18.201010Z",
     "iopub.status.busy": "2025-08-28T16:00:18.201010Z",
     "iopub.status.idle": "2025-08-28T16:00:23.273442Z",
     "shell.execute_reply": "2025-08-28T16:00:23.273442Z",
     "shell.execute_reply.started": "2025-08-28T16:00:18.201010Z"
    }
   },
   "outputs": [],
   "source": [
    "fitted_betas = pd.concat(fitted_betas, axis=1).T\n",
    "fitted_FI = pd.concat(fitted_FI, axis=1).T\n",
    "fitted_correlations = pd.concat(fitted_correlations, axis=1).T.reset_index(drop=True)"
   ]
  },
  {
   "cell_type": "code",
   "execution_count": 16,
   "id": "22704cef",
   "metadata": {
    "execution": {
     "iopub.execute_input": "2025-08-28T16:00:23.274446Z",
     "iopub.status.busy": "2025-08-28T16:00:23.274446Z",
     "iopub.status.idle": "2025-08-28T16:00:23.276950Z",
     "shell.execute_reply": "2025-08-28T16:00:23.276950Z",
     "shell.execute_reply.started": "2025-08-28T16:00:23.274446Z"
    },
    "scrolled": true
   },
   "outputs": [],
   "source": [
    "fitted_FI.columns = ['srs', 'biased']\n",
    "fitted_betas.columns = ['population', 'srs', 'biased']\n",
    "fitted_correlations.columns = ['srs', 'biased']"
   ]
  },
  {
   "cell_type": "code",
   "execution_count": 17,
   "id": "13d625c8",
   "metadata": {
    "execution": {
     "iopub.execute_input": "2025-08-28T16:00:23.277954Z",
     "iopub.status.busy": "2025-08-28T16:00:23.276950Z",
     "iopub.status.idle": "2025-08-28T16:00:23.318031Z",
     "shell.execute_reply": "2025-08-28T16:00:23.318031Z",
     "shell.execute_reply.started": "2025-08-28T16:00:23.277954Z"
    }
   },
   "outputs": [],
   "source": [
    "realized_sample_sizes = pd.Series(realized_sample_sizes)"
   ]
  },
  {
   "cell_type": "code",
   "execution_count": 18,
   "id": "36c073ab",
   "metadata": {
    "execution": {
     "iopub.execute_input": "2025-08-28T16:00:23.319035Z",
     "iopub.status.busy": "2025-08-28T16:00:23.318031Z",
     "iopub.status.idle": "2025-08-28T16:00:23.324197Z",
     "shell.execute_reply": "2025-08-28T16:00:23.324197Z",
     "shell.execute_reply.started": "2025-08-28T16:00:23.319035Z"
    }
   },
   "outputs": [
    {
     "data": {
      "text/html": [
       "<div>\n",
       "<style scoped>\n",
       "    .dataframe tbody tr th:only-of-type {\n",
       "        vertical-align: middle;\n",
       "    }\n",
       "\n",
       "    .dataframe tbody tr th {\n",
       "        vertical-align: top;\n",
       "    }\n",
       "\n",
       "    .dataframe thead th {\n",
       "        text-align: right;\n",
       "    }\n",
       "</style>\n",
       "<table border=\"1\" class=\"dataframe\">\n",
       "  <thead>\n",
       "    <tr style=\"text-align: right;\">\n",
       "      <th></th>\n",
       "      <th>srs</th>\n",
       "      <th>biased</th>\n",
       "    </tr>\n",
       "  </thead>\n",
       "  <tbody>\n",
       "    <tr>\n",
       "      <th>0</th>\n",
       "      <td>688.566667</td>\n",
       "      <td>845.643528</td>\n",
       "    </tr>\n",
       "    <tr>\n",
       "      <th>1</th>\n",
       "      <td>931.466667</td>\n",
       "      <td>843.379366</td>\n",
       "    </tr>\n",
       "    <tr>\n",
       "      <th>2</th>\n",
       "      <td>972.100000</td>\n",
       "      <td>843.463103</td>\n",
       "    </tr>\n",
       "    <tr>\n",
       "      <th>3</th>\n",
       "      <td>830.600000</td>\n",
       "      <td>841.925560</td>\n",
       "    </tr>\n",
       "    <tr>\n",
       "      <th>4</th>\n",
       "      <td>841.733333</td>\n",
       "      <td>843.166152</td>\n",
       "    </tr>\n",
       "  </tbody>\n",
       "</table>\n",
       "</div>"
      ],
      "text/plain": [
       "          srs      biased\n",
       "0  688.566667  845.643528\n",
       "1  931.466667  843.379366\n",
       "2  972.100000  843.463103\n",
       "3  830.600000  841.925560\n",
       "4  841.733333  843.166152"
      ]
     },
     "execution_count": 18,
     "metadata": {},
     "output_type": "execute_result"
    }
   ],
   "source": [
    "fitted_FI.head()"
   ]
  },
  {
   "cell_type": "code",
   "execution_count": 19,
   "id": "059b47ba",
   "metadata": {
    "execution": {
     "iopub.execute_input": "2025-08-28T16:00:23.324700Z",
     "iopub.status.busy": "2025-08-28T16:00:23.324700Z",
     "iopub.status.idle": "2025-08-28T16:00:23.328155Z",
     "shell.execute_reply": "2025-08-28T16:00:23.328155Z",
     "shell.execute_reply.started": "2025-08-28T16:00:23.324700Z"
    }
   },
   "outputs": [
    {
     "data": {
      "text/html": [
       "<div>\n",
       "<style scoped>\n",
       "    .dataframe tbody tr th:only-of-type {\n",
       "        vertical-align: middle;\n",
       "    }\n",
       "\n",
       "    .dataframe tbody tr th {\n",
       "        vertical-align: top;\n",
       "    }\n",
       "\n",
       "    .dataframe thead th {\n",
       "        text-align: right;\n",
       "    }\n",
       "</style>\n",
       "<table border=\"1\" class=\"dataframe\">\n",
       "  <thead>\n",
       "    <tr style=\"text-align: right;\">\n",
       "      <th></th>\n",
       "      <th>srs</th>\n",
       "      <th>biased</th>\n",
       "    </tr>\n",
       "  </thead>\n",
       "  <tbody>\n",
       "    <tr>\n",
       "      <th>99995</th>\n",
       "      <td>708.033333</td>\n",
       "      <td>845.905249</td>\n",
       "    </tr>\n",
       "    <tr>\n",
       "      <th>99996</th>\n",
       "      <td>979.333333</td>\n",
       "      <td>845.083118</td>\n",
       "    </tr>\n",
       "    <tr>\n",
       "      <th>99997</th>\n",
       "      <td>764.900000</td>\n",
       "      <td>843.619438</td>\n",
       "    </tr>\n",
       "    <tr>\n",
       "      <th>99998</th>\n",
       "      <td>972.766667</td>\n",
       "      <td>844.446755</td>\n",
       "    </tr>\n",
       "    <tr>\n",
       "      <th>99999</th>\n",
       "      <td>1149.300000</td>\n",
       "      <td>845.026032</td>\n",
       "    </tr>\n",
       "  </tbody>\n",
       "</table>\n",
       "</div>"
      ],
      "text/plain": [
       "               srs      biased\n",
       "99995   708.033333  845.905249\n",
       "99996   979.333333  845.083118\n",
       "99997   764.900000  843.619438\n",
       "99998   972.766667  844.446755\n",
       "99999  1149.300000  845.026032"
      ]
     },
     "execution_count": 19,
     "metadata": {},
     "output_type": "execute_result"
    }
   ],
   "source": [
    "fitted_FI.tail()"
   ]
  },
  {
   "cell_type": "markdown",
   "id": "16af5db2-12d9-4b04-9dd8-975415523fd2",
   "metadata": {},
   "source": [
    "# Save:"
   ]
  },
  {
   "cell_type": "code",
   "execution_count": 20,
   "id": "756b0455",
   "metadata": {
    "execution": {
     "iopub.execute_input": "2025-08-28T16:00:23.329160Z",
     "iopub.status.busy": "2025-08-28T16:00:23.328155Z",
     "iopub.status.idle": "2025-08-28T16:00:23.334063Z",
     "shell.execute_reply": "2025-08-28T16:00:23.334063Z",
     "shell.execute_reply.started": "2025-08-28T16:00:23.329160Z"
    }
   },
   "outputs": [
    {
     "data": {
      "text/html": [
       "<div>\n",
       "<style scoped>\n",
       "    .dataframe tbody tr th:only-of-type {\n",
       "        vertical-align: middle;\n",
       "    }\n",
       "\n",
       "    .dataframe tbody tr th {\n",
       "        vertical-align: top;\n",
       "    }\n",
       "\n",
       "    .dataframe thead th {\n",
       "        text-align: right;\n",
       "    }\n",
       "</style>\n",
       "<table border=\"1\" class=\"dataframe\">\n",
       "  <thead>\n",
       "    <tr style=\"text-align: right;\">\n",
       "      <th></th>\n",
       "      <th>srs_fi</th>\n",
       "      <th>biased_fi</th>\n",
       "      <th>srs_corr</th>\n",
       "      <th>biased_corr</th>\n",
       "    </tr>\n",
       "  </thead>\n",
       "  <tbody>\n",
       "    <tr>\n",
       "      <th>0</th>\n",
       "      <td>688.566667</td>\n",
       "      <td>845.643528</td>\n",
       "      <td>0.001519</td>\n",
       "      <td>-0.079726</td>\n",
       "    </tr>\n",
       "    <tr>\n",
       "      <th>1</th>\n",
       "      <td>931.466667</td>\n",
       "      <td>843.379366</td>\n",
       "      <td>-0.001842</td>\n",
       "      <td>-0.076616</td>\n",
       "    </tr>\n",
       "    <tr>\n",
       "      <th>2</th>\n",
       "      <td>972.100000</td>\n",
       "      <td>843.463103</td>\n",
       "      <td>0.003345</td>\n",
       "      <td>-0.078689</td>\n",
       "    </tr>\n",
       "    <tr>\n",
       "      <th>3</th>\n",
       "      <td>830.600000</td>\n",
       "      <td>841.925560</td>\n",
       "      <td>-0.000359</td>\n",
       "      <td>-0.081295</td>\n",
       "    </tr>\n",
       "    <tr>\n",
       "      <th>4</th>\n",
       "      <td>841.733333</td>\n",
       "      <td>843.166152</td>\n",
       "      <td>-0.001097</td>\n",
       "      <td>-0.076856</td>\n",
       "    </tr>\n",
       "  </tbody>\n",
       "</table>\n",
       "</div>"
      ],
      "text/plain": [
       "       srs_fi   biased_fi  srs_corr  biased_corr\n",
       "0  688.566667  845.643528  0.001519    -0.079726\n",
       "1  931.466667  843.379366 -0.001842    -0.076616\n",
       "2  972.100000  843.463103  0.003345    -0.078689\n",
       "3  830.600000  841.925560 -0.000359    -0.081295\n",
       "4  841.733333  843.166152 -0.001097    -0.076856"
      ]
     },
     "execution_count": 20,
     "metadata": {},
     "output_type": "execute_result"
    }
   ],
   "source": [
    "fitted_FI_and_corr = fitted_FI.join(fitted_correlations, lsuffix = '_fi', rsuffix = '_corr')\n",
    "\n",
    "fitted_FI_and_corr.head()"
   ]
  },
  {
   "cell_type": "code",
   "execution_count": 21,
   "id": "466a4994-e528-4608-bc47-ed37cd167177",
   "metadata": {
    "execution": {
     "iopub.execute_input": "2025-08-28T16:00:23.334063Z",
     "iopub.status.busy": "2025-08-28T16:00:23.334063Z",
     "iopub.status.idle": "2025-08-28T16:00:23.339355Z",
     "shell.execute_reply": "2025-08-28T16:00:23.339355Z",
     "shell.execute_reply.started": "2025-08-28T16:00:23.334063Z"
    }
   },
   "outputs": [],
   "source": [
    "Jeee = np.mean(data['x'] ** 2)\n",
    "\n",
    "fitted_FI_and_corr['srs_samp_elasticity'] = fitted_FI_and_corr.eval(f'srs_fi / {Jeee}')\n",
    "fitted_FI_and_corr['biased_samp_elasticity'] = fitted_FI_and_corr.eval(f'biased_fi / {Jeee}')"
   ]
  },
  {
   "cell_type": "code",
   "execution_count": 22,
   "id": "f3ea0b16-aa81-4f81-b13c-c7398235efe0",
   "metadata": {
    "execution": {
     "iopub.execute_input": "2025-08-28T16:00:23.339355Z",
     "iopub.status.busy": "2025-08-28T16:00:23.339355Z",
     "iopub.status.idle": "2025-08-28T16:00:23.343956Z",
     "shell.execute_reply": "2025-08-28T16:00:23.343379Z",
     "shell.execute_reply.started": "2025-08-28T16:00:23.339355Z"
    }
   },
   "outputs": [],
   "source": [
    "fitted_FI_and_corr.to_pickle('sample_by_y_bias.pkl')"
   ]
  },
  {
   "cell_type": "code",
   "execution_count": null,
   "id": "5eabed82-83e4-426c-adce-d1787dfb37f9",
   "metadata": {},
   "outputs": [],
   "source": []
  },
  {
   "cell_type": "code",
   "execution_count": null,
   "id": "be98bdbb-a24d-4d15-8047-021b5d6a6e3a",
   "metadata": {},
   "outputs": [],
   "source": []
  },
  {
   "cell_type": "code",
   "execution_count": null,
   "id": "6364b0ae-250a-441f-b40b-e3e798c7b6c5",
   "metadata": {},
   "outputs": [],
   "source": []
  },
  {
   "cell_type": "code",
   "execution_count": null,
   "id": "8ed0823b",
   "metadata": {},
   "outputs": [],
   "source": []
  }
 ],
 "metadata": {
  "kernelspec": {
   "display_name": "Python 3 (ipykernel)",
   "language": "python",
   "name": "python3"
  },
  "language_info": {
   "codemirror_mode": {
    "name": "ipython",
    "version": 3
   },
   "file_extension": ".py",
   "mimetype": "text/x-python",
   "name": "python",
   "nbconvert_exporter": "python",
   "pygments_lexer": "ipython3",
   "version": "3.12.8"
  }
 },
 "nbformat": 4,
 "nbformat_minor": 5
}
