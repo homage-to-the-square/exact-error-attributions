{
 "cells": [
  {
   "cell_type": "markdown",
   "id": "e7ea3b29-27f7-4bc5-892d-f6f9e5d6208c",
   "metadata": {},
   "source": [
    "biased sampling scheme of:\n",
    "- logit(sample_probability_centering) + \\\n",
    "                               0.1 * (data['x'].abs() - 25.5))"
   ]
  },
  {
   "cell_type": "markdown",
   "id": "c5c011f0",
   "metadata": {},
   "source": [
    "# Imports:"
   ]
  },
  {
   "cell_type": "code",
   "execution_count": 1,
   "id": "e0bad1c1",
   "metadata": {
    "execution": {
     "iopub.execute_input": "2025-08-28T22:44:27.947771Z",
     "iopub.status.busy": "2025-08-28T22:44:27.947771Z",
     "iopub.status.idle": "2025-08-28T22:44:29.768901Z",
     "shell.execute_reply": "2025-08-28T22:44:29.768901Z",
     "shell.execute_reply.started": "2025-08-28T22:44:27.947771Z"
    }
   },
   "outputs": [],
   "source": [
    "import numpy as np\n",
    "import pandas as pd\n",
    "import seaborn as sns\n",
    "\n",
    "from scipy.stats import chi2\n",
    "\n",
    "from tqdm import tqdm, trange\n",
    "import random"
   ]
  },
  {
   "cell_type": "code",
   "execution_count": 2,
   "id": "ca6716ac",
   "metadata": {
    "execution": {
     "iopub.execute_input": "2025-08-28T22:44:29.769916Z",
     "iopub.status.busy": "2025-08-28T22:44:29.768901Z",
     "iopub.status.idle": "2025-08-28T22:44:30.007185Z",
     "shell.execute_reply": "2025-08-28T22:44:30.007185Z",
     "shell.execute_reply.started": "2025-08-28T22:44:29.769916Z"
    }
   },
   "outputs": [],
   "source": [
    "import matplotlib.pyplot as plt\n",
    "import pickle\n",
    "import statsmodels.api as sm\n",
    "from scipy.special import expit, logit"
   ]
  },
  {
   "cell_type": "markdown",
   "id": "0813c942-ec6e-45e7-84dc-08ca0cae9dcb",
   "metadata": {},
   "source": [
    "# Hyperparameters:"
   ]
  },
  {
   "cell_type": "code",
   "execution_count": 6,
   "id": "27d3ee42-91c1-42fe-a412-6b3ab36bd83f",
   "metadata": {
    "execution": {
     "iopub.execute_input": "2025-08-28T22:44:32.723467Z",
     "iopub.status.busy": "2025-08-28T22:44:32.723467Z",
     "iopub.status.idle": "2025-08-28T22:44:32.727095Z",
     "shell.execute_reply": "2025-08-28T22:44:32.727095Z",
     "shell.execute_reply.started": "2025-08-28T22:44:32.723467Z"
    }
   },
   "outputs": [],
   "source": [
    "pop_size = 100 * 1_000\n",
    "sample_size = 30\n",
    "agg_iters = 100_0\n",
    "\n",
    "beta = 1\n",
    "\n",
    "## for biased sampling mechanism:\n",
    "sample_probability_centering = 0.8\n",
    "sample_probability_bias_factor = 0.1"
   ]
  },
  {
   "cell_type": "code",
   "execution_count": 7,
   "id": "0ad06d0e-546b-4c4c-bef0-661b8fbc67dc",
   "metadata": {
    "execution": {
     "iopub.execute_input": "2025-08-28T22:44:33.076654Z",
     "iopub.status.busy": "2025-08-28T22:44:33.076654Z",
     "iopub.status.idle": "2025-08-28T22:44:33.079984Z",
     "shell.execute_reply": "2025-08-28T22:44:33.079984Z",
     "shell.execute_reply.started": "2025-08-28T22:44:33.076654Z"
    }
   },
   "outputs": [],
   "source": [
    "## for rng generator:\n",
    "pop_number = 1"
   ]
  },
  {
   "cell_type": "markdown",
   "id": "de7f4383",
   "metadata": {},
   "source": [
    "# Run:"
   ]
  },
  {
   "cell_type": "code",
   "execution_count": 8,
   "id": "67baf705",
   "metadata": {
    "execution": {
     "iopub.execute_input": "2025-08-28T22:44:33.811987Z",
     "iopub.status.busy": "2025-08-28T22:44:33.811987Z",
     "iopub.status.idle": "2025-08-28T22:44:33.815494Z",
     "shell.execute_reply": "2025-08-28T22:44:33.815494Z",
     "shell.execute_reply.started": "2025-08-28T22:44:33.811987Z"
    }
   },
   "outputs": [],
   "source": [
    "rand_generator = np.random.default_rng(seed=333 * pop_number)"
   ]
  },
  {
   "cell_type": "code",
   "execution_count": 9,
   "id": "eb21e815",
   "metadata": {
    "execution": {
     "iopub.execute_input": "2025-08-28T22:44:34.137252Z",
     "iopub.status.busy": "2025-08-28T22:44:34.137252Z",
     "iopub.status.idle": "2025-08-28T22:44:34.152893Z",
     "shell.execute_reply": "2025-08-28T22:44:34.152893Z",
     "shell.execute_reply.started": "2025-08-28T22:44:34.137252Z"
    }
   },
   "outputs": [],
   "source": [
    "assert pop_size % 100 == 0\n",
    "base_x = [i for i in range(-50, 0)] + [i for i in range(1, 51)]\n",
    "x = pd.Series(base_x * (pop_size // 100))\n",
    "normal_stdev = 30"
   ]
  },
  {
   "cell_type": "code",
   "execution_count": 11,
   "id": "111d624d",
   "metadata": {
    "execution": {
     "iopub.execute_input": "2025-08-28T22:44:35.421863Z",
     "iopub.status.busy": "2025-08-28T22:44:35.421863Z",
     "iopub.status.idle": "2025-08-28T22:44:35.424863Z",
     "shell.execute_reply": "2025-08-28T22:44:35.424863Z",
     "shell.execute_reply.started": "2025-08-28T22:44:35.421863Z"
    }
   },
   "outputs": [],
   "source": [
    "fitted_betas = []\n",
    "fitted_FI = []\n",
    "fitted_correlations = []\n",
    "realized_sample_sizes = []"
   ]
  },
  {
   "cell_type": "markdown",
   "id": "d321cc3c-4fee-4362-9157-84030c964c92",
   "metadata": {},
   "source": [
    "Create the simulated data (x, y):"
   ]
  },
  {
   "cell_type": "code",
   "execution_count": 12,
   "id": "ea477f46",
   "metadata": {
    "execution": {
     "iopub.execute_input": "2025-08-28T22:44:36.111144Z",
     "iopub.status.busy": "2025-08-28T22:44:36.111144Z",
     "iopub.status.idle": "2025-08-28T22:44:36.128561Z",
     "shell.execute_reply": "2025-08-28T22:44:36.128561Z",
     "shell.execute_reply.started": "2025-08-28T22:44:36.111144Z"
    }
   },
   "outputs": [],
   "source": [
    "y = x * beta + rand_generator.normal(size=pop_size) * normal_stdev\n",
    "\n",
    "data = pd.concat([y, x], axis=1)\n",
    "\n",
    "data.columns = ['y', 'x']\n",
    "\n",
    "fitted_beta = sm.OLS(data['y'], data['x']).fit().params.iloc[0]\n",
    "\n",
    "data['g_star'] = data['x'] * (data['y'] - data['x'] * fitted_beta)"
   ]
  },
  {
   "cell_type": "code",
   "execution_count": 13,
   "id": "8d13b2a9",
   "metadata": {
    "execution": {
     "iopub.execute_input": "2025-08-28T22:44:36.362524Z",
     "iopub.status.busy": "2025-08-28T22:44:36.362524Z",
     "iopub.status.idle": "2025-08-28T22:44:36.373190Z",
     "shell.execute_reply": "2025-08-28T22:44:36.373190Z",
     "shell.execute_reply.started": "2025-08-28T22:44:36.362524Z"
    }
   },
   "outputs": [],
   "source": [
    "marginal_probabilities = expit(logit(sample_probability_centering) + \\\n",
    "                               sample_probability_bias_factor * (data['x'].abs() - 25.5))"
   ]
  },
  {
   "cell_type": "markdown",
   "id": "8714023a",
   "metadata": {},
   "source": [
    "# run:"
   ]
  },
  {
   "cell_type": "code",
   "execution_count": 14,
   "id": "9da1071a",
   "metadata": {
    "execution": {
     "iopub.execute_input": "2025-08-28T22:44:37.185860Z",
     "iopub.status.busy": "2025-08-28T22:44:37.184854Z",
     "iopub.status.idle": "2025-08-28T22:44:42.106711Z",
     "shell.execute_reply": "2025-08-28T22:44:42.106711Z",
     "shell.execute_reply.started": "2025-08-28T22:44:37.185860Z"
    }
   },
   "outputs": [
    {
     "name": "stderr",
     "output_type": "stream",
     "text": [
      "100%|█████████████████████████████████████████████████████████████████████████████| 1000/1000 [00:04<00:00, 203.63it/s]\n"
     ]
    }
   ],
   "source": [
    "for _ in tqdm(range(agg_iters)):\n",
    "    srs_sample_indices = pd.Series(random.sample(range(pop_size), sample_size))\n",
    "    srs_sample_indices = srs_sample_indices.sort_values().reset_index(drop=True)\n",
    "\n",
    "    # reset the sample\n",
    "    data['r0'] = 0\n",
    "    data['r'] = 0\n",
    "    data['r1'] = 0\n",
    "    data['r2'] = 0\n",
    "    \n",
    "    data.loc[srs_sample_indices, 'r0'] = 1\n",
    "    full_sampled_data = data[data['r0'] == 1]\n",
    "\n",
    "    marginal_probabilities = expit(logit(sample_probability_centering) + \\\n",
    "                                   sample_probability_bias_factor * (full_sampled_data['x'].abs() - 25.5))\n",
    "    biased_sample_indices = marginal_probabilities.index[rand_generator.binomial(n=1, p = marginal_probabilities) == 1]\n",
    "\n",
    "    data.loc[biased_sample_indices, 'r'] = 1\n",
    "\n",
    "    biased_sample_indices_size = len(biased_sample_indices)\n",
    "    realized_sample_sizes.append(biased_sample_indices_size)\n",
    "\n",
    "\n",
    "    srs_sample = data[data['r0'] == 1].copy()\n",
    "    biased_sample = data[data['r'] == 1].copy()\n",
    "\n",
    "    srs_fitted_beta = sm.OLS(srs_sample['y'], srs_sample['x']).fit().params.iloc[0]\n",
    "    biased_fitted_beta = sm.OLS(biased_sample['y'], biased_sample['x']).fit().params.iloc[0]\n",
    "\n",
    "    fitted_betas.append(pd.Series([fitted_beta, srs_fitted_beta, biased_fitted_beta]))\n",
    "\n",
    "    fitted_FI.append(pd.Series([np.mean(srs_sample['x'] ** 2), np.mean(biased_sample['x'] ** 2)]))\n",
    "\n",
    "    fitted_correlations.append(data[['g_star', 'r0', 'r']].corr().iloc[0, 1:])"
   ]
  },
  {
   "cell_type": "markdown",
   "id": "db8b1e01-b45f-4bf7-a173-bc260d128855",
   "metadata": {},
   "source": [
    "Clean up the data:"
   ]
  },
  {
   "cell_type": "code",
   "execution_count": 12,
   "id": "079f384b",
   "metadata": {
    "execution": {
     "iopub.execute_input": "2025-08-28T21:30:10.858815Z",
     "iopub.status.busy": "2025-08-28T21:30:10.857815Z",
     "iopub.status.idle": "2025-08-28T21:30:15.934733Z",
     "shell.execute_reply": "2025-08-28T21:30:15.934733Z",
     "shell.execute_reply.started": "2025-08-28T21:30:10.858815Z"
    }
   },
   "outputs": [],
   "source": [
    "fitted_betas = pd.concat(fitted_betas, axis=1).T\n",
    "fitted_FI = pd.concat(fitted_FI, axis=1).T\n",
    "fitted_correlations = pd.concat(fitted_correlations, axis=1).T.reset_index(drop=True)"
   ]
  },
  {
   "cell_type": "code",
   "execution_count": 13,
   "id": "22704cef",
   "metadata": {
    "execution": {
     "iopub.execute_input": "2025-08-28T21:30:15.934733Z",
     "iopub.status.busy": "2025-08-28T21:30:15.934733Z",
     "iopub.status.idle": "2025-08-28T21:30:15.938145Z",
     "shell.execute_reply": "2025-08-28T21:30:15.938145Z",
     "shell.execute_reply.started": "2025-08-28T21:30:15.934733Z"
    },
    "scrolled": true
   },
   "outputs": [],
   "source": [
    "fitted_FI.columns = ['srs', 'biased']\n",
    "fitted_betas.columns = ['population', 'srs', 'biased']\n",
    "fitted_correlations.columns = ['srs', 'biased']"
   ]
  },
  {
   "cell_type": "code",
   "execution_count": 14,
   "id": "13d625c8",
   "metadata": {
    "execution": {
     "iopub.execute_input": "2025-08-28T21:30:15.938652Z",
     "iopub.status.busy": "2025-08-28T21:30:15.938652Z",
     "iopub.status.idle": "2025-08-28T21:30:15.987635Z",
     "shell.execute_reply": "2025-08-28T21:30:15.987635Z",
     "shell.execute_reply.started": "2025-08-28T21:30:15.938652Z"
    }
   },
   "outputs": [],
   "source": [
    "realized_sample_sizes = pd.Series(realized_sample_sizes)"
   ]
  },
  {
   "cell_type": "code",
   "execution_count": 15,
   "id": "36c073ab",
   "metadata": {
    "execution": {
     "iopub.execute_input": "2025-08-28T21:30:15.988639Z",
     "iopub.status.busy": "2025-08-28T21:30:15.987635Z",
     "iopub.status.idle": "2025-08-28T21:30:15.999946Z",
     "shell.execute_reply": "2025-08-28T21:30:15.999443Z",
     "shell.execute_reply.started": "2025-08-28T21:30:15.988639Z"
    }
   },
   "outputs": [
    {
     "data": {
      "text/html": [
       "<div>\n",
       "<style scoped>\n",
       "    .dataframe tbody tr th:only-of-type {\n",
       "        vertical-align: middle;\n",
       "    }\n",
       "\n",
       "    .dataframe tbody tr th {\n",
       "        vertical-align: top;\n",
       "    }\n",
       "\n",
       "    .dataframe thead th {\n",
       "        text-align: right;\n",
       "    }\n",
       "</style>\n",
       "<table border=\"1\" class=\"dataframe\">\n",
       "  <thead>\n",
       "    <tr style=\"text-align: right;\">\n",
       "      <th></th>\n",
       "      <th>srs</th>\n",
       "      <th>biased</th>\n",
       "    </tr>\n",
       "  </thead>\n",
       "  <tbody>\n",
       "    <tr>\n",
       "      <th>0</th>\n",
       "      <td>752.566667</td>\n",
       "      <td>1069.706870</td>\n",
       "    </tr>\n",
       "    <tr>\n",
       "      <th>1</th>\n",
       "      <td>929.166667</td>\n",
       "      <td>1069.301200</td>\n",
       "    </tr>\n",
       "    <tr>\n",
       "      <th>2</th>\n",
       "      <td>888.500000</td>\n",
       "      <td>1068.272182</td>\n",
       "    </tr>\n",
       "    <tr>\n",
       "      <th>3</th>\n",
       "      <td>933.833333</td>\n",
       "      <td>1068.335264</td>\n",
       "    </tr>\n",
       "    <tr>\n",
       "      <th>4</th>\n",
       "      <td>824.333333</td>\n",
       "      <td>1067.513695</td>\n",
       "    </tr>\n",
       "  </tbody>\n",
       "</table>\n",
       "</div>"
      ],
      "text/plain": [
       "          srs       biased\n",
       "0  752.566667  1069.706870\n",
       "1  929.166667  1069.301200\n",
       "2  888.500000  1068.272182\n",
       "3  933.833333  1068.335264\n",
       "4  824.333333  1067.513695"
      ]
     },
     "execution_count": 15,
     "metadata": {},
     "output_type": "execute_result"
    }
   ],
   "source": [
    "fitted_FI.head()"
   ]
  },
  {
   "cell_type": "code",
   "execution_count": 16,
   "id": "059b47ba",
   "metadata": {
    "execution": {
     "iopub.execute_input": "2025-08-28T21:30:15.999946Z",
     "iopub.status.busy": "2025-08-28T21:30:15.999946Z",
     "iopub.status.idle": "2025-08-28T21:30:16.005005Z",
     "shell.execute_reply": "2025-08-28T21:30:16.005005Z",
     "shell.execute_reply.started": "2025-08-28T21:30:15.999946Z"
    },
    "scrolled": true
   },
   "outputs": [
    {
     "data": {
      "text/html": [
       "<div>\n",
       "<style scoped>\n",
       "    .dataframe tbody tr th:only-of-type {\n",
       "        vertical-align: middle;\n",
       "    }\n",
       "\n",
       "    .dataframe tbody tr th {\n",
       "        vertical-align: top;\n",
       "    }\n",
       "\n",
       "    .dataframe thead th {\n",
       "        text-align: right;\n",
       "    }\n",
       "</style>\n",
       "<table border=\"1\" class=\"dataframe\">\n",
       "  <thead>\n",
       "    <tr style=\"text-align: right;\">\n",
       "      <th></th>\n",
       "      <th>srs</th>\n",
       "      <th>biased</th>\n",
       "    </tr>\n",
       "  </thead>\n",
       "  <tbody>\n",
       "    <tr>\n",
       "      <th>99995</th>\n",
       "      <td>826.666667</td>\n",
       "      <td>1068.562033</td>\n",
       "    </tr>\n",
       "    <tr>\n",
       "      <th>99996</th>\n",
       "      <td>836.033333</td>\n",
       "      <td>1068.791067</td>\n",
       "    </tr>\n",
       "    <tr>\n",
       "      <th>99997</th>\n",
       "      <td>891.500000</td>\n",
       "      <td>1068.082733</td>\n",
       "    </tr>\n",
       "    <tr>\n",
       "      <th>99998</th>\n",
       "      <td>1031.433333</td>\n",
       "      <td>1068.256316</td>\n",
       "    </tr>\n",
       "    <tr>\n",
       "      <th>99999</th>\n",
       "      <td>992.566667</td>\n",
       "      <td>1068.132270</td>\n",
       "    </tr>\n",
       "  </tbody>\n",
       "</table>\n",
       "</div>"
      ],
      "text/plain": [
       "               srs       biased\n",
       "99995   826.666667  1068.562033\n",
       "99996   836.033333  1068.791067\n",
       "99997   891.500000  1068.082733\n",
       "99998  1031.433333  1068.256316\n",
       "99999   992.566667  1068.132270"
      ]
     },
     "execution_count": 16,
     "metadata": {},
     "output_type": "execute_result"
    }
   ],
   "source": [
    "fitted_FI.tail()"
   ]
  },
  {
   "cell_type": "code",
   "execution_count": 17,
   "id": "756b0455",
   "metadata": {
    "execution": {
     "iopub.execute_input": "2025-08-28T21:30:16.005005Z",
     "iopub.status.busy": "2025-08-28T21:30:16.005005Z",
     "iopub.status.idle": "2025-08-28T21:30:16.011649Z",
     "shell.execute_reply": "2025-08-28T21:30:16.011649Z",
     "shell.execute_reply.started": "2025-08-28T21:30:16.005005Z"
    }
   },
   "outputs": [
    {
     "data": {
      "text/html": [
       "<div>\n",
       "<style scoped>\n",
       "    .dataframe tbody tr th:only-of-type {\n",
       "        vertical-align: middle;\n",
       "    }\n",
       "\n",
       "    .dataframe tbody tr th {\n",
       "        vertical-align: top;\n",
       "    }\n",
       "\n",
       "    .dataframe thead th {\n",
       "        text-align: right;\n",
       "    }\n",
       "</style>\n",
       "<table border=\"1\" class=\"dataframe\">\n",
       "  <thead>\n",
       "    <tr style=\"text-align: right;\">\n",
       "      <th></th>\n",
       "      <th>srs_fi</th>\n",
       "      <th>biased_fi</th>\n",
       "      <th>srs_corr</th>\n",
       "      <th>biased_corr</th>\n",
       "    </tr>\n",
       "  </thead>\n",
       "  <tbody>\n",
       "    <tr>\n",
       "      <th>0</th>\n",
       "      <td>752.566667</td>\n",
       "      <td>1069.706870</td>\n",
       "      <td>0.001939</td>\n",
       "      <td>-0.003245</td>\n",
       "    </tr>\n",
       "    <tr>\n",
       "      <th>1</th>\n",
       "      <td>929.166667</td>\n",
       "      <td>1069.301200</td>\n",
       "      <td>0.003219</td>\n",
       "      <td>0.000446</td>\n",
       "    </tr>\n",
       "    <tr>\n",
       "      <th>2</th>\n",
       "      <td>888.500000</td>\n",
       "      <td>1068.272182</td>\n",
       "      <td>-0.005780</td>\n",
       "      <td>0.002344</td>\n",
       "    </tr>\n",
       "    <tr>\n",
       "      <th>3</th>\n",
       "      <td>933.833333</td>\n",
       "      <td>1068.335264</td>\n",
       "      <td>0.004207</td>\n",
       "      <td>-0.000031</td>\n",
       "    </tr>\n",
       "    <tr>\n",
       "      <th>4</th>\n",
       "      <td>824.333333</td>\n",
       "      <td>1067.513695</td>\n",
       "      <td>0.000749</td>\n",
       "      <td>0.002485</td>\n",
       "    </tr>\n",
       "  </tbody>\n",
       "</table>\n",
       "</div>"
      ],
      "text/plain": [
       "       srs_fi    biased_fi  srs_corr  biased_corr\n",
       "0  752.566667  1069.706870  0.001939    -0.003245\n",
       "1  929.166667  1069.301200  0.003219     0.000446\n",
       "2  888.500000  1068.272182 -0.005780     0.002344\n",
       "3  933.833333  1068.335264  0.004207    -0.000031\n",
       "4  824.333333  1067.513695  0.000749     0.002485"
      ]
     },
     "execution_count": 17,
     "metadata": {},
     "output_type": "execute_result"
    }
   ],
   "source": [
    "fitted_FI_and_corr = fitted_FI.join(fitted_correlations, lsuffix = '_fi', rsuffix = '_corr')\n",
    "\n",
    "fitted_FI_and_corr.head()"
   ]
  },
  {
   "cell_type": "code",
   "execution_count": 18,
   "id": "aff8f91e-87a4-4992-9429-f4d894fb40d2",
   "metadata": {
    "execution": {
     "iopub.execute_input": "2025-08-28T21:30:16.012653Z",
     "iopub.status.busy": "2025-08-28T21:30:16.011649Z",
     "iopub.status.idle": "2025-08-28T21:30:16.017301Z",
     "shell.execute_reply": "2025-08-28T21:30:16.017301Z",
     "shell.execute_reply.started": "2025-08-28T21:30:16.012653Z"
    },
    "scrolled": true
   },
   "outputs": [
    {
     "data": {
      "text/plain": [
       "np.float64(858.5)"
      ]
     },
     "execution_count": 18,
     "metadata": {},
     "output_type": "execute_result"
    }
   ],
   "source": [
    "np.mean(data['x'] ** 2)"
   ]
  },
  {
   "cell_type": "markdown",
   "id": "b0f9f7d1-8d22-4acd-978f-98f30e7963a6",
   "metadata": {},
   "source": [
    "# Save:"
   ]
  },
  {
   "cell_type": "code",
   "execution_count": 19,
   "id": "352147e2-00dc-44e0-8d9a-e5d96bf4bb0b",
   "metadata": {
    "execution": {
     "iopub.execute_input": "2025-08-28T21:30:16.018306Z",
     "iopub.status.busy": "2025-08-28T21:30:16.017301Z",
     "iopub.status.idle": "2025-08-28T21:30:16.027890Z",
     "shell.execute_reply": "2025-08-28T21:30:16.027315Z",
     "shell.execute_reply.started": "2025-08-28T21:30:16.018306Z"
    }
   },
   "outputs": [],
   "source": [
    "Jeee = np.mean(data['x'] ** 2)\n",
    "\n",
    "fitted_FI_and_corr['srs_samp_elasticity'] = fitted_FI_and_corr.eval(f'srs_fi / {Jeee}')\n",
    "fitted_FI_and_corr['biased_samp_elasticity'] = fitted_FI_and_corr.eval(f'biased_fi / {Jeee}')\n",
    "\n",
    "fitted_FI_and_corr.to_pickle('sample_by_x_bias.pkl')"
   ]
  },
  {
   "cell_type": "code",
   "execution_count": null,
   "id": "8118e5e2-7a0d-41b4-b82f-e208b85abec5",
   "metadata": {},
   "outputs": [],
   "source": []
  },
  {
   "cell_type": "code",
   "execution_count": null,
   "id": "8ed0823b",
   "metadata": {},
   "outputs": [],
   "source": []
  }
 ],
 "metadata": {
  "kernelspec": {
   "display_name": "Python 3 (ipykernel)",
   "language": "python",
   "name": "python3"
  },
  "language_info": {
   "codemirror_mode": {
    "name": "ipython",
    "version": 3
   },
   "file_extension": ".py",
   "mimetype": "text/x-python",
   "name": "python",
   "nbconvert_exporter": "python",
   "pygments_lexer": "ipython3",
   "version": "3.12.8"
  }
 },
 "nbformat": 4,
 "nbformat_minor": 5
}
