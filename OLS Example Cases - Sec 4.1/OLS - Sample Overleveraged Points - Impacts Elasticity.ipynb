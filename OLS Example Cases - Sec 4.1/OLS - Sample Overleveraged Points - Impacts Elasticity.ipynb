{
 "cells": [
  {
   "cell_type": "markdown",
   "id": "e7ea3b29-27f7-4bc5-892d-f6f9e5d6208c",
   "metadata": {},
   "source": [
    "biased sampling scheme of:\n",
    "- logit(sample_probability_centering) + \\\n",
    "                               0.1 * (data['x'].abs() - 25.5))"
   ]
  },
  {
   "cell_type": "markdown",
   "id": "c5c011f0",
   "metadata": {},
   "source": [
    "# Imports:"
   ]
  },
  {
   "cell_type": "code",
   "execution_count": 1,
   "id": "e0bad1c1",
   "metadata": {
    "execution": {
     "iopub.execute_input": "2025-08-28T22:44:27.947771Z",
     "iopub.status.busy": "2025-08-28T22:44:27.947771Z",
     "iopub.status.idle": "2025-08-28T22:44:29.768901Z",
     "shell.execute_reply": "2025-08-28T22:44:29.768901Z",
     "shell.execute_reply.started": "2025-08-28T22:44:27.947771Z"
    }
   },
   "outputs": [],
   "source": [
    "import numpy as np\n",
    "import pandas as pd\n",
    "import seaborn as sns\n",
    "\n",
    "from scipy.stats import chi2\n",
    "\n",
    "from tqdm import tqdm, trange\n",
    "import random"
   ]
  },
  {
   "cell_type": "code",
   "execution_count": 2,
   "id": "ca6716ac",
   "metadata": {
    "execution": {
     "iopub.execute_input": "2025-08-28T22:44:29.769916Z",
     "iopub.status.busy": "2025-08-28T22:44:29.768901Z",
     "iopub.status.idle": "2025-08-28T22:44:30.007185Z",
     "shell.execute_reply": "2025-08-28T22:44:30.007185Z",
     "shell.execute_reply.started": "2025-08-28T22:44:29.769916Z"
    }
   },
   "outputs": [],
   "source": [
    "import matplotlib.pyplot as plt\n",
    "import pickle\n",
    "import statsmodels.api as sm\n",
    "from scipy.special import expit, logit"
   ]
  },
  {
   "cell_type": "markdown",
   "id": "0813c942-ec6e-45e7-84dc-08ca0cae9dcb",
   "metadata": {},
   "source": [
    "# Hyperparameters:"
   ]
  },
  {
   "cell_type": "code",
   "execution_count": 6,
   "id": "27d3ee42-91c1-42fe-a412-6b3ab36bd83f",
   "metadata": {
    "execution": {
     "iopub.execute_input": "2025-08-28T22:44:32.723467Z",
     "iopub.status.busy": "2025-08-28T22:44:32.723467Z",
     "iopub.status.idle": "2025-08-28T22:44:32.727095Z",
     "shell.execute_reply": "2025-08-28T22:44:32.727095Z",
     "shell.execute_reply.started": "2025-08-28T22:44:32.723467Z"
    }
   },
   "outputs": [],
   "source": [
    "pop_size = 100 * 1_000\n",
    "sample_size = 30\n",
    "agg_iters = 100_0\n",
    "\n",
    "beta = 1\n",
    "\n",
    "## for biased sampling mechanism:\n",
    "sample_probability_centering = 0.8\n",
    "sample_probability_bias_factor = 0.1"
   ]
  },
  {
   "cell_type": "code",
   "execution_count": 7,
   "id": "0ad06d0e-546b-4c4c-bef0-661b8fbc67dc",
   "metadata": {
    "execution": {
     "iopub.execute_input": "2025-08-28T22:44:33.076654Z",
     "iopub.status.busy": "2025-08-28T22:44:33.076654Z",
     "iopub.status.idle": "2025-08-28T22:44:33.079984Z",
     "shell.execute_reply": "2025-08-28T22:44:33.079984Z",
     "shell.execute_reply.started": "2025-08-28T22:44:33.076654Z"
    }
   },
   "outputs": [],
   "source": [
    "## for rng generator:\n",
    "pop_number = 1"
   ]
  },
  {
   "cell_type": "markdown",
   "id": "de7f4383",
   "metadata": {},
   "source": [
    "# Run:"
   ]
  },
  {
   "cell_type": "code",
   "execution_count": 8,
   "id": "67baf705",
   "metadata": {
    "execution": {
     "iopub.execute_input": "2025-08-28T22:44:33.811987Z",
     "iopub.status.busy": "2025-08-28T22:44:33.811987Z",
     "iopub.status.idle": "2025-08-28T22:44:33.815494Z",
     "shell.execute_reply": "2025-08-28T22:44:33.815494Z",
     "shell.execute_reply.started": "2025-08-28T22:44:33.811987Z"
    }
   },
   "outputs": [],
   "source": [
    "rand_generator = np.random.default_rng(seed=333 * pop_number)"
   ]
  },
  {
   "cell_type": "code",
   "execution_count": 9,
   "id": "eb21e815",
   "metadata": {
    "execution": {
     "iopub.execute_input": "2025-08-28T22:44:34.137252Z",
     "iopub.status.busy": "2025-08-28T22:44:34.137252Z",
     "iopub.status.idle": "2025-08-28T22:44:34.152893Z",
     "shell.execute_reply": "2025-08-28T22:44:34.152893Z",
     "shell.execute_reply.started": "2025-08-28T22:44:34.137252Z"
    }
   },
   "outputs": [],
   "source": [
    "assert pop_size % 100 == 0\n",
    "base_x = [i for i in range(-50, 0)] + [i for i in range(1, 51)]\n",
    "x = pd.Series(base_x * (pop_size // 100))\n",
    "normal_stdev = 30"
   ]
  },
  {
   "cell_type": "code",
   "execution_count": 11,
   "id": "111d624d",
   "metadata": {
    "execution": {
     "iopub.execute_input": "2025-08-28T22:44:35.421863Z",
     "iopub.status.busy": "2025-08-28T22:44:35.421863Z",
     "iopub.status.idle": "2025-08-28T22:44:35.424863Z",
     "shell.execute_reply": "2025-08-28T22:44:35.424863Z",
     "shell.execute_reply.started": "2025-08-28T22:44:35.421863Z"
    }
   },
   "outputs": [],
   "source": [
    "fitted_betas = []\n",
    "fitted_FI = []\n",
    "fitted_correlations = []\n",
    "realized_sample_sizes = []"
   ]
  },
  {
   "cell_type": "markdown",
   "id": "d321cc3c-4fee-4362-9157-84030c964c92",
   "metadata": {},
   "source": [
    "Create the simulated data (x, y):"
   ]
  },
  {
   "cell_type": "code",
   "execution_count": 12,
   "id": "ea477f46",
   "metadata": {
    "execution": {
     "iopub.execute_input": "2025-08-28T22:44:36.111144Z",
     "iopub.status.busy": "2025-08-28T22:44:36.111144Z",
     "iopub.status.idle": "2025-08-28T22:44:36.128561Z",
     "shell.execute_reply": "2025-08-28T22:44:36.128561Z",
     "shell.execute_reply.started": "2025-08-28T22:44:36.111144Z"
    }
   },
   "outputs": [],
   "source": [
    "y = x * beta + rand_generator.normal(size=pop_size) * normal_stdev\n",
    "\n",
    "data = pd.concat([y, x], axis=1)\n",
    "\n",
    "data.columns = ['y', 'x']\n",
    "\n",
    "fitted_beta = sm.OLS(data['y'], data['x']).fit().params.iloc[0]\n",
    "\n",
    "data['g_star'] = data['x'] * (data['y'] - data['x'] * fitted_beta)"
   ]
  },
  {
   "cell_type": "code",
   "execution_count": 13,
   "id": "8d13b2a9",
   "metadata": {
    "execution": {
     "iopub.execute_input": "2025-08-28T22:44:36.362524Z",
     "iopub.status.busy": "2025-08-28T22:44:36.362524Z",
     "iopub.status.idle": "2025-08-28T22:44:36.373190Z",
     "shell.execute_reply": "2025-08-28T22:44:36.373190Z",
     "shell.execute_reply.started": "2025-08-28T22:44:36.362524Z"
    }
   },
   "outputs": [],
   "source": [
    "marginal_probabilities = expit(logit(sample_probability_centering) + \\\n",
    "                               sample_probability_bias_factor * (data['x'].abs() - 25.5))"
   ]
  },
  {
   "cell_type": "markdown",
   "id": "8714023a",
   "metadata": {},
   "source": [
    "# run:"
   ]
  },
  {
   "cell_type": "code",
   "execution_count": 14,
   "id": "9da1071a",
   "metadata": {
    "execution": {
     "iopub.execute_input": "2025-08-28T22:44:37.185860Z",
     "iopub.status.busy": "2025-08-28T22:44:37.184854Z",
     "iopub.status.idle": "2025-08-28T22:44:42.106711Z",
     "shell.execute_reply": "2025-08-28T22:44:42.106711Z",
     "shell.execute_reply.started": "2025-08-28T22:44:37.185860Z"
    }
   },
   "outputs": [
    {
     "name": "stderr",
     "output_type": "stream",
     "text": [
      "100%|█████████████████████████████████████████████████████████████████████████████| 1000/1000 [00:04<00:00, 203.63it/s]\n"
     ]
    }
   ],
   "source": [
    "for _ in tqdm(range(agg_iters)):\n",
    "    srs_sample_indices = pd.Series(random.sample(range(pop_size), sample_size))\n",
    "    srs_sample_indices = srs_sample_indices.sort_values().reset_index(drop=True)\n",
    "\n",
    "    # reset the sample\n",
    "    data['r0'] = 0\n",
    "    data['r'] = 0\n",
    "    data['r1'] = 0\n",
    "    data['r2'] = 0\n",
    "    \n",
    "    data.loc[srs_sample_indices, 'r0'] = 1\n",
    "    full_sampled_data = data[data['r0'] == 1]\n",
    "\n",
    "    marginal_probabilities = expit(logit(sample_probability_centering) + \\\n",
    "                                   sample_probability_bias_factor * (full_sampled_data['x'].abs() - 25.5))\n",
    "    biased_sample_indices = marginal_probabilities.index[rand_generator.binomial(n=1, p = marginal_probabilities) == 1]\n",
    "\n",
    "    data.loc[biased_sample_indices, 'r'] = 1\n",
    "\n",
    "    biased_sample_indices_size = len(biased_sample_indices)\n",
    "    realized_sample_sizes.append(biased_sample_indices_size)\n",
    "\n",
    "\n",
    "    srs_sample = data[data['r0'] == 1].copy()\n",
    "    biased_sample = data[data['r'] == 1].copy()\n",
    "\n",
    "    srs_fitted_beta = sm.OLS(srs_sample['y'], srs_sample['x']).fit().params.iloc[0]\n",
    "    biased_fitted_beta = sm.OLS(biased_sample['y'], biased_sample['x']).fit().params.iloc[0]\n",
    "\n",
    "    fitted_betas.append(pd.Series([fitted_beta, srs_fitted_beta, biased_fitted_beta]))\n",
    "\n",
    "    fitted_FI.append(pd.Series([np.mean(srs_sample['x'] ** 2), np.mean(biased_sample['x'] ** 2)]))\n",
    "\n",
    "    fitted_correlations.append(data[['g_star', 'r0', 'r']].corr().iloc[0, 1:])"
   ]
  },
  {
   "cell_type": "markdown",
   "id": "db8b1e01-b45f-4bf7-a173-bc260d128855",
   "metadata": {},
   "source": [
    "Clean up the data:"
   ]
  },
  {
   "cell_type": "code",
   "execution_count": 17,
   "id": "079f384b",
   "metadata": {
    "execution": {
     "iopub.execute_input": "2025-08-28T23:21:03.454854Z",
     "iopub.status.busy": "2025-08-28T23:21:03.454854Z",
     "iopub.status.idle": "2025-08-28T23:21:03.520359Z",
     "shell.execute_reply": "2025-08-28T23:21:03.520359Z",
     "shell.execute_reply.started": "2025-08-28T23:21:03.454854Z"
    }
   },
   "outputs": [],
   "source": [
    "fitted_betas = pd.concat(fitted_betas, axis=1).T\n",
    "fitted_FI = pd.concat(fitted_FI, axis=1).T\n",
    "fitted_correlations = pd.concat(fitted_correlations, axis=1).T.reset_index(drop=True)"
   ]
  },
  {
   "cell_type": "code",
   "execution_count": 18,
   "id": "22704cef",
   "metadata": {
    "execution": {
     "iopub.execute_input": "2025-08-28T23:21:03.670266Z",
     "iopub.status.busy": "2025-08-28T23:21:03.669259Z",
     "iopub.status.idle": "2025-08-28T23:21:03.672397Z",
     "shell.execute_reply": "2025-08-28T23:21:03.672397Z",
     "shell.execute_reply.started": "2025-08-28T23:21:03.670266Z"
    },
    "scrolled": true
   },
   "outputs": [],
   "source": [
    "fitted_FI.columns = ['srs', 'biased']\n",
    "fitted_betas.columns = ['population', 'srs', 'biased']\n",
    "fitted_correlations.columns = ['srs', 'biased']"
   ]
  },
  {
   "cell_type": "code",
   "execution_count": 19,
   "id": "13d625c8",
   "metadata": {
    "execution": {
     "iopub.execute_input": "2025-08-28T23:21:03.887019Z",
     "iopub.status.busy": "2025-08-28T23:21:03.887019Z",
     "iopub.status.idle": "2025-08-28T23:21:03.891032Z",
     "shell.execute_reply": "2025-08-28T23:21:03.890528Z",
     "shell.execute_reply.started": "2025-08-28T23:21:03.887019Z"
    }
   },
   "outputs": [],
   "source": [
    "realized_sample_sizes = pd.Series(realized_sample_sizes)"
   ]
  },
  {
   "cell_type": "code",
   "execution_count": 20,
   "id": "36c073ab",
   "metadata": {
    "execution": {
     "iopub.execute_input": "2025-08-28T23:21:04.156034Z",
     "iopub.status.busy": "2025-08-28T23:21:04.156034Z",
     "iopub.status.idle": "2025-08-28T23:21:04.172396Z",
     "shell.execute_reply": "2025-08-28T23:21:04.172396Z",
     "shell.execute_reply.started": "2025-08-28T23:21:04.156034Z"
    }
   },
   "outputs": [
    {
     "data": {
      "text/html": [
       "<div>\n",
       "<style scoped>\n",
       "    .dataframe tbody tr th:only-of-type {\n",
       "        vertical-align: middle;\n",
       "    }\n",
       "\n",
       "    .dataframe tbody tr th {\n",
       "        vertical-align: top;\n",
       "    }\n",
       "\n",
       "    .dataframe thead th {\n",
       "        text-align: right;\n",
       "    }\n",
       "</style>\n",
       "<table border=\"1\" class=\"dataframe\">\n",
       "  <thead>\n",
       "    <tr style=\"text-align: right;\">\n",
       "      <th></th>\n",
       "      <th>srs</th>\n",
       "      <th>biased</th>\n",
       "    </tr>\n",
       "  </thead>\n",
       "  <tbody>\n",
       "    <tr>\n",
       "      <th>0</th>\n",
       "      <td>1069.866667</td>\n",
       "      <td>1182.407407</td>\n",
       "    </tr>\n",
       "    <tr>\n",
       "      <th>1</th>\n",
       "      <td>1007.600000</td>\n",
       "      <td>1272.391304</td>\n",
       "    </tr>\n",
       "    <tr>\n",
       "      <th>2</th>\n",
       "      <td>959.100000</td>\n",
       "      <td>1390.000000</td>\n",
       "    </tr>\n",
       "    <tr>\n",
       "      <th>3</th>\n",
       "      <td>927.733333</td>\n",
       "      <td>1373.722222</td>\n",
       "    </tr>\n",
       "    <tr>\n",
       "      <th>4</th>\n",
       "      <td>949.000000</td>\n",
       "      <td>1166.916667</td>\n",
       "    </tr>\n",
       "  </tbody>\n",
       "</table>\n",
       "</div>"
      ],
      "text/plain": [
       "           srs       biased\n",
       "0  1069.866667  1182.407407\n",
       "1  1007.600000  1272.391304\n",
       "2   959.100000  1390.000000\n",
       "3   927.733333  1373.722222\n",
       "4   949.000000  1166.916667"
      ]
     },
     "execution_count": 20,
     "metadata": {},
     "output_type": "execute_result"
    }
   ],
   "source": [
    "fitted_FI.head()"
   ]
  },
  {
   "cell_type": "code",
   "execution_count": 21,
   "id": "059b47ba",
   "metadata": {
    "execution": {
     "iopub.execute_input": "2025-08-28T23:21:05.734432Z",
     "iopub.status.busy": "2025-08-28T23:21:05.734432Z",
     "iopub.status.idle": "2025-08-28T23:21:05.740809Z",
     "shell.execute_reply": "2025-08-28T23:21:05.740809Z",
     "shell.execute_reply.started": "2025-08-28T23:21:05.734432Z"
    },
    "scrolled": true
   },
   "outputs": [
    {
     "data": {
      "text/html": [
       "<div>\n",
       "<style scoped>\n",
       "    .dataframe tbody tr th:only-of-type {\n",
       "        vertical-align: middle;\n",
       "    }\n",
       "\n",
       "    .dataframe tbody tr th {\n",
       "        vertical-align: top;\n",
       "    }\n",
       "\n",
       "    .dataframe thead th {\n",
       "        text-align: right;\n",
       "    }\n",
       "</style>\n",
       "<table border=\"1\" class=\"dataframe\">\n",
       "  <thead>\n",
       "    <tr style=\"text-align: right;\">\n",
       "      <th></th>\n",
       "      <th>srs</th>\n",
       "      <th>biased</th>\n",
       "    </tr>\n",
       "  </thead>\n",
       "  <tbody>\n",
       "    <tr>\n",
       "      <th>995</th>\n",
       "      <td>1231.133333</td>\n",
       "      <td>1313.560000</td>\n",
       "    </tr>\n",
       "    <tr>\n",
       "      <th>996</th>\n",
       "      <td>945.166667</td>\n",
       "      <td>1226.818182</td>\n",
       "    </tr>\n",
       "    <tr>\n",
       "      <th>997</th>\n",
       "      <td>863.400000</td>\n",
       "      <td>1192.210526</td>\n",
       "    </tr>\n",
       "    <tr>\n",
       "      <th>998</th>\n",
       "      <td>1100.533333</td>\n",
       "      <td>1308.826087</td>\n",
       "    </tr>\n",
       "    <tr>\n",
       "      <th>999</th>\n",
       "      <td>871.700000</td>\n",
       "      <td>1093.045455</td>\n",
       "    </tr>\n",
       "  </tbody>\n",
       "</table>\n",
       "</div>"
      ],
      "text/plain": [
       "             srs       biased\n",
       "995  1231.133333  1313.560000\n",
       "996   945.166667  1226.818182\n",
       "997   863.400000  1192.210526\n",
       "998  1100.533333  1308.826087\n",
       "999   871.700000  1093.045455"
      ]
     },
     "execution_count": 21,
     "metadata": {},
     "output_type": "execute_result"
    }
   ],
   "source": [
    "fitted_FI.tail()"
   ]
  },
  {
   "cell_type": "code",
   "execution_count": 22,
   "id": "756b0455",
   "metadata": {
    "execution": {
     "iopub.execute_input": "2025-08-28T23:21:06.544151Z",
     "iopub.status.busy": "2025-08-28T23:21:06.544151Z",
     "iopub.status.idle": "2025-08-28T23:21:06.553602Z",
     "shell.execute_reply": "2025-08-28T23:21:06.553602Z",
     "shell.execute_reply.started": "2025-08-28T23:21:06.544151Z"
    }
   },
   "outputs": [
    {
     "data": {
      "text/html": [
       "<div>\n",
       "<style scoped>\n",
       "    .dataframe tbody tr th:only-of-type {\n",
       "        vertical-align: middle;\n",
       "    }\n",
       "\n",
       "    .dataframe tbody tr th {\n",
       "        vertical-align: top;\n",
       "    }\n",
       "\n",
       "    .dataframe thead th {\n",
       "        text-align: right;\n",
       "    }\n",
       "</style>\n",
       "<table border=\"1\" class=\"dataframe\">\n",
       "  <thead>\n",
       "    <tr style=\"text-align: right;\">\n",
       "      <th></th>\n",
       "      <th>srs_fi</th>\n",
       "      <th>biased_fi</th>\n",
       "      <th>srs_corr</th>\n",
       "      <th>biased_corr</th>\n",
       "    </tr>\n",
       "  </thead>\n",
       "  <tbody>\n",
       "    <tr>\n",
       "      <th>0</th>\n",
       "      <td>1069.866667</td>\n",
       "      <td>1182.407407</td>\n",
       "      <td>0.002088</td>\n",
       "      <td>0.002220</td>\n",
       "    </tr>\n",
       "    <tr>\n",
       "      <th>1</th>\n",
       "      <td>1007.600000</td>\n",
       "      <td>1272.391304</td>\n",
       "      <td>-0.001691</td>\n",
       "      <td>-0.000874</td>\n",
       "    </tr>\n",
       "    <tr>\n",
       "      <th>2</th>\n",
       "      <td>959.100000</td>\n",
       "      <td>1390.000000</td>\n",
       "      <td>0.002868</td>\n",
       "      <td>0.002634</td>\n",
       "    </tr>\n",
       "    <tr>\n",
       "      <th>3</th>\n",
       "      <td>927.733333</td>\n",
       "      <td>1373.722222</td>\n",
       "      <td>-0.001650</td>\n",
       "      <td>-0.003755</td>\n",
       "    </tr>\n",
       "    <tr>\n",
       "      <th>4</th>\n",
       "      <td>949.000000</td>\n",
       "      <td>1166.916667</td>\n",
       "      <td>-0.009547</td>\n",
       "      <td>-0.011470</td>\n",
       "    </tr>\n",
       "  </tbody>\n",
       "</table>\n",
       "</div>"
      ],
      "text/plain": [
       "        srs_fi    biased_fi  srs_corr  biased_corr\n",
       "0  1069.866667  1182.407407  0.002088     0.002220\n",
       "1  1007.600000  1272.391304 -0.001691    -0.000874\n",
       "2   959.100000  1390.000000  0.002868     0.002634\n",
       "3   927.733333  1373.722222 -0.001650    -0.003755\n",
       "4   949.000000  1166.916667 -0.009547    -0.011470"
      ]
     },
     "execution_count": 22,
     "metadata": {},
     "output_type": "execute_result"
    }
   ],
   "source": [
    "fitted_FI_and_corr = fitted_FI.join(fitted_correlations, lsuffix = '_fi', rsuffix = '_corr')\n",
    "\n",
    "fitted_FI_and_corr.head()"
   ]
  },
  {
   "cell_type": "code",
   "execution_count": null,
   "id": "c23a2ee1-8eb3-48b5-9e95-46f12e40d503",
   "metadata": {},
   "outputs": [],
   "source": []
  },
  {
   "cell_type": "code",
   "execution_count": 18,
   "id": "aff8f91e-87a4-4992-9429-f4d894fb40d2",
   "metadata": {
    "execution": {
     "iopub.execute_input": "2025-08-28T21:30:16.012653Z",
     "iopub.status.busy": "2025-08-28T21:30:16.011649Z",
     "iopub.status.idle": "2025-08-28T21:30:16.017301Z",
     "shell.execute_reply": "2025-08-28T21:30:16.017301Z",
     "shell.execute_reply.started": "2025-08-28T21:30:16.012653Z"
    },
    "scrolled": true
   },
   "outputs": [
    {
     "data": {
      "text/plain": [
       "np.float64(858.5)"
      ]
     },
     "execution_count": 18,
     "metadata": {},
     "output_type": "execute_result"
    }
   ],
   "source": [
    "np.mean(data['x'] ** 2)"
   ]
  },
  {
   "cell_type": "markdown",
   "id": "b0f9f7d1-8d22-4acd-978f-98f30e7963a6",
   "metadata": {},
   "source": [
    "# Save:"
   ]
  },
  {
   "cell_type": "code",
   "execution_count": 23,
   "id": "5a6ab0d2-5faa-4873-a0d0-7a1a7ec14714",
   "metadata": {
    "execution": {
     "iopub.execute_input": "2025-08-28T23:21:11.692908Z",
     "iopub.status.busy": "2025-08-28T23:21:11.692908Z",
     "iopub.status.idle": "2025-08-28T23:21:11.789566Z",
     "shell.execute_reply": "2025-08-28T23:21:11.789566Z",
     "shell.execute_reply.started": "2025-08-28T23:21:11.692908Z"
    }
   },
   "outputs": [],
   "source": [
    "Jeee = np.mean(data['x'] ** 2)\n",
    "\n",
    "fitted_FI_and_corr['srs_samp_elasticity'] = fitted_FI_and_corr.eval(f'srs_fi / {Jeee}')\n",
    "fitted_FI_and_corr['biased_samp_elasticity'] = fitted_FI_and_corr.eval(f'biased_fi / {Jeee}')"
   ]
  },
  {
   "cell_type": "code",
   "execution_count": 24,
   "id": "3bffc085-9ea9-4205-8996-868463b035ab",
   "metadata": {
    "execution": {
     "iopub.execute_input": "2025-08-28T23:21:15.799706Z",
     "iopub.status.busy": "2025-08-28T23:21:15.798698Z",
     "iopub.status.idle": "2025-08-28T23:21:15.812595Z",
     "shell.execute_reply": "2025-08-28T23:21:15.812595Z",
     "shell.execute_reply.started": "2025-08-28T23:21:15.799706Z"
    }
   },
   "outputs": [
    {
     "data": {
      "text/html": [
       "<div>\n",
       "<style scoped>\n",
       "    .dataframe tbody tr th:only-of-type {\n",
       "        vertical-align: middle;\n",
       "    }\n",
       "\n",
       "    .dataframe tbody tr th {\n",
       "        vertical-align: top;\n",
       "    }\n",
       "\n",
       "    .dataframe thead th {\n",
       "        text-align: right;\n",
       "    }\n",
       "</style>\n",
       "<table border=\"1\" class=\"dataframe\">\n",
       "  <thead>\n",
       "    <tr style=\"text-align: right;\">\n",
       "      <th></th>\n",
       "      <th>srs_fi</th>\n",
       "      <th>biased_fi</th>\n",
       "      <th>srs_corr</th>\n",
       "      <th>biased_corr</th>\n",
       "      <th>srs_samp_elasticity</th>\n",
       "      <th>biased_samp_elasticity</th>\n",
       "    </tr>\n",
       "  </thead>\n",
       "  <tbody>\n",
       "    <tr>\n",
       "      <th>count</th>\n",
       "      <td>1000.000000</td>\n",
       "      <td>1000.000000</td>\n",
       "      <td>1000.000000</td>\n",
       "      <td>1000.000000</td>\n",
       "      <td>1000.000000</td>\n",
       "      <td>1000.000000</td>\n",
       "    </tr>\n",
       "    <tr>\n",
       "      <th>mean</th>\n",
       "      <td>864.773433</td>\n",
       "      <td>1076.788951</td>\n",
       "      <td>-0.000189</td>\n",
       "      <td>-0.000187</td>\n",
       "      <td>1.007307</td>\n",
       "      <td>1.254268</td>\n",
       "    </tr>\n",
       "    <tr>\n",
       "      <th>std</th>\n",
       "      <td>143.207731</td>\n",
       "      <td>167.695222</td>\n",
       "      <td>0.003115</td>\n",
       "      <td>0.003508</td>\n",
       "      <td>0.166812</td>\n",
       "      <td>0.195335</td>\n",
       "    </tr>\n",
       "    <tr>\n",
       "      <th>min</th>\n",
       "      <td>463.966667</td>\n",
       "      <td>589.866667</td>\n",
       "      <td>-0.009918</td>\n",
       "      <td>-0.011470</td>\n",
       "      <td>0.540439</td>\n",
       "      <td>0.687090</td>\n",
       "    </tr>\n",
       "    <tr>\n",
       "      <th>25%</th>\n",
       "      <td>760.441667</td>\n",
       "      <td>952.637124</td>\n",
       "      <td>-0.002160</td>\n",
       "      <td>-0.002533</td>\n",
       "      <td>0.885779</td>\n",
       "      <td>1.109653</td>\n",
       "    </tr>\n",
       "    <tr>\n",
       "      <th>50%</th>\n",
       "      <td>863.600000</td>\n",
       "      <td>1074.710714</td>\n",
       "      <td>-0.000060</td>\n",
       "      <td>-0.000217</td>\n",
       "      <td>1.005941</td>\n",
       "      <td>1.251847</td>\n",
       "    </tr>\n",
       "    <tr>\n",
       "      <th>75%</th>\n",
       "      <td>962.083333</td>\n",
       "      <td>1192.388834</td>\n",
       "      <td>0.001999</td>\n",
       "      <td>0.002397</td>\n",
       "      <td>1.120656</td>\n",
       "      <td>1.388921</td>\n",
       "    </tr>\n",
       "    <tr>\n",
       "      <th>max</th>\n",
       "      <td>1327.333333</td>\n",
       "      <td>1553.480000</td>\n",
       "      <td>0.008405</td>\n",
       "      <td>0.009456</td>\n",
       "      <td>1.546108</td>\n",
       "      <td>1.809528</td>\n",
       "    </tr>\n",
       "  </tbody>\n",
       "</table>\n",
       "</div>"
      ],
      "text/plain": [
       "            srs_fi    biased_fi     srs_corr  biased_corr  \\\n",
       "count  1000.000000  1000.000000  1000.000000  1000.000000   \n",
       "mean    864.773433  1076.788951    -0.000189    -0.000187   \n",
       "std     143.207731   167.695222     0.003115     0.003508   \n",
       "min     463.966667   589.866667    -0.009918    -0.011470   \n",
       "25%     760.441667   952.637124    -0.002160    -0.002533   \n",
       "50%     863.600000  1074.710714    -0.000060    -0.000217   \n",
       "75%     962.083333  1192.388834     0.001999     0.002397   \n",
       "max    1327.333333  1553.480000     0.008405     0.009456   \n",
       "\n",
       "       srs_samp_elasticity  biased_samp_elasticity  \n",
       "count          1000.000000             1000.000000  \n",
       "mean              1.007307                1.254268  \n",
       "std               0.166812                0.195335  \n",
       "min               0.540439                0.687090  \n",
       "25%               0.885779                1.109653  \n",
       "50%               1.005941                1.251847  \n",
       "75%               1.120656                1.388921  \n",
       "max               1.546108                1.809528  "
      ]
     },
     "execution_count": 24,
     "metadata": {},
     "output_type": "execute_result"
    }
   ],
   "source": [
    "fitted_FI_and_corr.describe()"
   ]
  },
  {
   "cell_type": "code",
   "execution_count": null,
   "id": "fdf942f2-2e3d-48ec-be9a-3c071ab5f619",
   "metadata": {
    "execution": {
     "iopub.execute_input": "2025-08-28T21:30:16.018306Z",
     "iopub.status.busy": "2025-08-28T21:30:16.017301Z",
     "iopub.status.idle": "2025-08-28T21:30:16.027890Z",
     "shell.execute_reply": "2025-08-28T21:30:16.027315Z",
     "shell.execute_reply.started": "2025-08-28T21:30:16.018306Z"
    }
   },
   "outputs": [],
   "source": [
    "fitted_FI_and_corr.to_pickle('sample_by_x_bias.pkl')"
   ]
  },
  {
   "cell_type": "code",
   "execution_count": null,
   "id": "8118e5e2-7a0d-41b4-b82f-e208b85abec5",
   "metadata": {},
   "outputs": [],
   "source": []
  },
  {
   "cell_type": "code",
   "execution_count": null,
   "id": "8ed0823b",
   "metadata": {},
   "outputs": [],
   "source": []
  }
 ],
 "metadata": {
  "kernelspec": {
   "display_name": "Python 3 (ipykernel)",
   "language": "python",
   "name": "python3"
  },
  "language_info": {
   "codemirror_mode": {
    "name": "ipython",
    "version": 3
   },
   "file_extension": ".py",
   "mimetype": "text/x-python",
   "name": "python",
   "nbconvert_exporter": "python",
   "pygments_lexer": "ipython3",
   "version": "3.12.8"
  }
 },
 "nbformat": 4,
 "nbformat_minor": 5
}
