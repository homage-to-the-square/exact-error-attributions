{
 "cells": [
  {
   "cell_type": "markdown",
   "id": "7a54a08f-5ae4-44f9-9635-b8bb4f2d212a",
   "metadata": {},
   "source": [
    "biased sampling scheme of:\n",
    "- expit(logit(sample_probability_centering) + \\\n",
    "                               sample_probability_bias_factor * (y / std_y))"
   ]
  },
  {
   "cell_type": "markdown",
   "id": "59f1169c-7393-4103-9044-8d66d66e3792",
   "metadata": {},
   "source": [
    "creates file:\n",
    "- sample_by_y_bias.pkl"
   ]
  },
  {
   "cell_type": "markdown",
   "id": "c5c011f0",
   "metadata": {},
   "source": [
    "# Imports:"
   ]
  },
  {
   "cell_type": "code",
   "execution_count": 1,
   "id": "d75790bb-5992-40f0-90f8-68743a4fc2b7",
   "metadata": {
    "execution": {
     "iopub.execute_input": "2025-09-17T02:25:13.363889Z",
     "iopub.status.busy": "2025-09-17T02:25:13.363889Z",
     "iopub.status.idle": "2025-09-17T02:25:14.050202Z",
     "shell.execute_reply": "2025-09-17T02:25:14.049691Z",
     "shell.execute_reply.started": "2025-09-17T02:25:13.363889Z"
    }
   },
   "outputs": [],
   "source": [
    "import numpy as np\n",
    "import pandas as pd\n",
    "from tqdm import tqdm\n",
    "import random\n",
    "import statsmodels.api as sm\n",
    "from scipy.special import expit, logit"
   ]
  },
  {
   "cell_type": "markdown",
   "id": "0813c942-ec6e-45e7-84dc-08ca0cae9dcb",
   "metadata": {},
   "source": [
    "# Hyperparameters:"
   ]
  },
  {
   "cell_type": "code",
   "execution_count": 2,
   "id": "27d3ee42-91c1-42fe-a412-6b3ab36bd83f",
   "metadata": {
    "execution": {
     "iopub.execute_input": "2025-09-17T02:25:14.050202Z",
     "iopub.status.busy": "2025-09-17T02:25:14.050202Z",
     "iopub.status.idle": "2025-09-17T02:25:14.053225Z",
     "shell.execute_reply": "2025-09-17T02:25:14.053225Z",
     "shell.execute_reply.started": "2025-09-17T02:25:14.050202Z"
    }
   },
   "outputs": [],
   "source": [
    "pop_size = 100 * 1_000\n",
    "sample_size = 100_0\n",
    "agg_iters = 100_000\n",
    "\n",
    "beta = 1\n",
    "\n",
    "## for biased sampling mechanism:\n",
    "sample_probability_centering = 0.8\n",
    "sample_probability_bias_factor = 1"
   ]
  },
  {
   "cell_type": "code",
   "execution_count": 3,
   "id": "0ad06d0e-546b-4c4c-bef0-661b8fbc67dc",
   "metadata": {
    "execution": {
     "iopub.execute_input": "2025-09-17T02:25:14.054735Z",
     "iopub.status.busy": "2025-09-17T02:25:14.053225Z",
     "iopub.status.idle": "2025-09-17T02:25:14.057245Z",
     "shell.execute_reply": "2025-09-17T02:25:14.057245Z",
     "shell.execute_reply.started": "2025-09-17T02:25:14.054735Z"
    }
   },
   "outputs": [],
   "source": [
    "## for rng generator:\n",
    "pop_number = 1"
   ]
  },
  {
   "cell_type": "code",
   "execution_count": 4,
   "id": "57b4272a-bbfc-495d-b36a-bee1b0bf3be7",
   "metadata": {
    "execution": {
     "iopub.execute_input": "2025-09-17T02:25:14.057761Z",
     "iopub.status.busy": "2025-09-17T02:25:14.057761Z",
     "iopub.status.idle": "2025-09-17T02:25:14.060309Z",
     "shell.execute_reply": "2025-09-17T02:25:14.060309Z",
     "shell.execute_reply.started": "2025-09-17T02:25:14.057761Z"
    }
   },
   "outputs": [],
   "source": [
    "# set seeds:\n",
    "rand_generator = np.random.default_rng(seed=333 * pop_number)\n",
    "random.seed(333 * pop_number)"
   ]
  },
  {
   "cell_type": "code",
   "execution_count": 5,
   "id": "b33992d7-a332-457f-98f7-a1a70b5c9a88",
   "metadata": {
    "execution": {
     "iopub.execute_input": "2025-09-17T02:25:14.061891Z",
     "iopub.status.busy": "2025-09-17T02:25:14.061348Z",
     "iopub.status.idle": "2025-09-17T02:25:14.073773Z",
     "shell.execute_reply": "2025-09-17T02:25:14.073264Z",
     "shell.execute_reply.started": "2025-09-17T02:25:14.061891Z"
    }
   },
   "outputs": [],
   "source": [
    "assert pop_size % 100 == 0\n",
    "base_x = [i for i in range(-50, 0)] + [i for i in range(1, 51)]\n",
    "x = pd.Series(base_x * (pop_size // 100))\n",
    "normal_stdev = 30"
   ]
  },
  {
   "cell_type": "markdown",
   "id": "de7f4383",
   "metadata": {},
   "source": [
    "# Run:"
   ]
  },
  {
   "cell_type": "code",
   "execution_count": 6,
   "id": "111d624d",
   "metadata": {
    "execution": {
     "iopub.execute_input": "2025-09-17T02:25:14.073773Z",
     "iopub.status.busy": "2025-09-17T02:25:14.073773Z",
     "iopub.status.idle": "2025-09-17T02:25:14.076114Z",
     "shell.execute_reply": "2025-09-17T02:25:14.076114Z",
     "shell.execute_reply.started": "2025-09-17T02:25:14.073773Z"
    }
   },
   "outputs": [],
   "source": [
    "fitted_betas = []\n",
    "fitted_Jn = []\n",
    "fitted_correlations = []\n",
    "realized_sample_sizes = []"
   ]
  },
  {
   "cell_type": "markdown",
   "id": "d321cc3c-4fee-4362-9157-84030c964c92",
   "metadata": {},
   "source": [
    "Create the simulated data (x, y):"
   ]
  },
  {
   "cell_type": "code",
   "execution_count": 7,
   "id": "8927d464-7048-4798-a3fb-60e900e6c534",
   "metadata": {
    "execution": {
     "iopub.execute_input": "2025-09-17T02:25:14.076114Z",
     "iopub.status.busy": "2025-09-17T02:25:14.076114Z",
     "iopub.status.idle": "2025-09-17T02:25:14.080679Z",
     "shell.execute_reply": "2025-09-17T02:25:14.080679Z",
     "shell.execute_reply.started": "2025-09-17T02:25:14.076114Z"
    }
   },
   "outputs": [],
   "source": [
    "y = x * beta + rand_generator.normal(size=pop_size) * normal_stdev"
   ]
  },
  {
   "cell_type": "code",
   "execution_count": 8,
   "id": "18ad76f2-8524-46cc-af5f-5ef242d1025f",
   "metadata": {
    "execution": {
     "iopub.execute_input": "2025-09-17T02:25:14.081682Z",
     "iopub.status.busy": "2025-09-17T02:25:14.081682Z",
     "iopub.status.idle": "2025-09-17T02:25:14.089432Z",
     "shell.execute_reply": "2025-09-17T02:25:14.089432Z",
     "shell.execute_reply.started": "2025-09-17T02:25:14.081682Z"
    },
    "scrolled": true
   },
   "outputs": [],
   "source": [
    "data = pd.concat([y, x], axis=1)\n",
    "data.columns = ['y', 'x']\n",
    "fitted_beta = sm.OLS(data['y'], data['x']).fit().params.iloc[0]\n",
    "data['g_star'] = data['x'] * (data['y'] - data['x'] * fitted_beta)"
   ]
  },
  {
   "cell_type": "code",
   "execution_count": 9,
   "id": "71622fbb-b0bd-44a2-97c6-8b1a02174356",
   "metadata": {
    "execution": {
     "iopub.execute_input": "2025-09-17T02:25:14.089943Z",
     "iopub.status.busy": "2025-09-17T02:25:14.089943Z",
     "iopub.status.idle": "2025-09-17T02:25:14.096822Z",
     "shell.execute_reply": "2025-09-17T02:25:14.096822Z",
     "shell.execute_reply.started": "2025-09-17T02:25:14.089943Z"
    }
   },
   "outputs": [],
   "source": [
    "std_y = np.std(y)\n",
    "data[\"marginal_probs\"] = expit(\n",
    "    logit(sample_probability_centering) + sample_probability_bias_factor * (y / std_y)\n",
    ")"
   ]
  },
  {
   "cell_type": "code",
   "execution_count": 10,
   "id": "4f7e72b1-638d-4194-872e-c33205bf6ea3",
   "metadata": {
    "execution": {
     "iopub.execute_input": "2025-09-17T02:25:14.096822Z",
     "iopub.status.busy": "2025-09-17T02:25:14.096822Z",
     "iopub.status.idle": "2025-09-17T02:25:14.101301Z",
     "shell.execute_reply": "2025-09-17T02:25:14.101301Z",
     "shell.execute_reply.started": "2025-09-17T02:25:14.096822Z"
    }
   },
   "outputs": [
    {
     "data": {
      "text/plain": [
       "np.float64(0.7604675827575927)"
      ]
     },
     "execution_count": 10,
     "metadata": {},
     "output_type": "execute_result"
    }
   ],
   "source": [
    "data[\"marginal_probs\"].mean()"
   ]
  },
  {
   "cell_type": "markdown",
   "id": "8714023a",
   "metadata": {},
   "source": [
    "# run:"
   ]
  },
  {
   "cell_type": "code",
   "execution_count": 11,
   "id": "9da1071a",
   "metadata": {
    "execution": {
     "iopub.execute_input": "2025-09-17T02:25:14.102307Z",
     "iopub.status.busy": "2025-09-17T02:25:14.101301Z",
     "iopub.status.idle": "2025-09-17T02:34:30.129028Z",
     "shell.execute_reply": "2025-09-17T02:34:30.129028Z",
     "shell.execute_reply.started": "2025-09-17T02:25:14.102307Z"
    }
   },
   "outputs": [
    {
     "name": "stderr",
     "output_type": "stream",
     "text": [
      "100%|█████████████████████████████████████████████████████████████████████████| 100000/100000 [09:16<00:00, 179.85it/s]\n"
     ]
    }
   ],
   "source": [
    "for _ in tqdm(range(agg_iters)):\n",
    "    srs_sample_indices = pd.Series(random.sample(range(pop_size), sample_size))\n",
    "\n",
    "    # reset the sample\n",
    "    data[\"r1\"] = 0\n",
    "    data[\"r\"] = 0\n",
    "\n",
    "    # sample both the intended and biased sample:\n",
    "    data.loc[srs_sample_indices, \"r1\"] = 1\n",
    "    full_sampled_data = data[data[\"r1\"] == 1]\n",
    "\n",
    "    biased_sample_indices = full_sampled_data.index[\n",
    "        rand_generator.binomial(n=1, p=full_sampled_data[\"marginal_probs\"]) == 1\n",
    "    ]\n",
    "    data.loc[biased_sample_indices, \"r\"] = 1\n",
    "\n",
    "    # compute results:\n",
    "    biased_sample_indices_size = len(biased_sample_indices)\n",
    "    realized_sample_sizes.append(biased_sample_indices_size)\n",
    "\n",
    "    srs_sample = data[data[\"r1\"] == 1]\n",
    "    biased_sample = data[data[\"r\"] == 1]\n",
    "    srs_fitted_beta = sm.OLS(srs_sample[\"y\"], srs_sample[\"x\"]).fit().params.iloc[0]\n",
    "    biased_fitted_beta = (\n",
    "        sm.OLS(biased_sample[\"y\"], biased_sample[\"x\"]).fit().params.iloc[0]\n",
    "    )\n",
    "\n",
    "    fitted_betas.append(pd.Series([fitted_beta, srs_fitted_beta, biased_fitted_beta]))\n",
    "    fitted_Jn.append(\n",
    "        pd.Series([np.mean(srs_sample[\"x\"] ** 2), np.mean(biased_sample[\"x\"] ** 2)])\n",
    "    )\n",
    "    fitted_correlations.append(data[[\"g_star\", \"r1\", \"r\"]].corr().iloc[0, 1:])"
   ]
  },
  {
   "cell_type": "markdown",
   "id": "db8b1e01-b45f-4bf7-a173-bc260d128855",
   "metadata": {},
   "source": [
    "Clean up the data:"
   ]
  },
  {
   "cell_type": "code",
   "execution_count": 12,
   "id": "079f384b",
   "metadata": {
    "execution": {
     "iopub.execute_input": "2025-09-17T02:34:30.130041Z",
     "iopub.status.busy": "2025-09-17T02:34:30.129535Z",
     "iopub.status.idle": "2025-09-17T02:34:35.160036Z",
     "shell.execute_reply": "2025-09-17T02:34:35.160036Z",
     "shell.execute_reply.started": "2025-09-17T02:34:30.129535Z"
    }
   },
   "outputs": [],
   "source": [
    "fitted_betas = pd.concat(fitted_betas, axis=1).T\n",
    "fitted_Jn = pd.concat(fitted_Jn, axis=1).T\n",
    "fitted_correlations = pd.concat(fitted_correlations, axis=1).T.reset_index(drop=True)"
   ]
  },
  {
   "cell_type": "code",
   "execution_count": 13,
   "id": "22704cef",
   "metadata": {
    "execution": {
     "iopub.execute_input": "2025-09-17T02:34:35.161039Z",
     "iopub.status.busy": "2025-09-17T02:34:35.160036Z",
     "iopub.status.idle": "2025-09-17T02:34:35.164129Z",
     "shell.execute_reply": "2025-09-17T02:34:35.164129Z",
     "shell.execute_reply.started": "2025-09-17T02:34:35.161039Z"
    },
    "scrolled": true
   },
   "outputs": [],
   "source": [
    "fitted_Jn.columns = ['srs', 'biased']\n",
    "fitted_betas.columns = ['population', 'srs', 'biased']\n",
    "fitted_correlations.columns = ['srs', 'biased']"
   ]
  },
  {
   "cell_type": "code",
   "execution_count": 14,
   "id": "13d625c8",
   "metadata": {
    "execution": {
     "iopub.execute_input": "2025-09-17T02:34:35.166134Z",
     "iopub.status.busy": "2025-09-17T02:34:35.165134Z",
     "iopub.status.idle": "2025-09-17T02:34:35.204777Z",
     "shell.execute_reply": "2025-09-17T02:34:35.204777Z",
     "shell.execute_reply.started": "2025-09-17T02:34:35.166134Z"
    }
   },
   "outputs": [],
   "source": [
    "realized_sample_sizes = pd.Series(realized_sample_sizes)"
   ]
  },
  {
   "cell_type": "code",
   "execution_count": 15,
   "id": "84ae8b32-89f3-42de-af97-52741546d078",
   "metadata": {
    "execution": {
     "iopub.execute_input": "2025-09-17T02:34:35.205780Z",
     "iopub.status.busy": "2025-09-17T02:34:35.204777Z",
     "iopub.status.idle": "2025-09-17T02:34:35.212580Z",
     "shell.execute_reply": "2025-09-17T02:34:35.212580Z",
     "shell.execute_reply.started": "2025-09-17T02:34:35.205780Z"
    }
   },
   "outputs": [
    {
     "data": {
      "text/html": [
       "<div>\n",
       "<style scoped>\n",
       "    .dataframe tbody tr th:only-of-type {\n",
       "        vertical-align: middle;\n",
       "    }\n",
       "\n",
       "    .dataframe tbody tr th {\n",
       "        vertical-align: top;\n",
       "    }\n",
       "\n",
       "    .dataframe thead th {\n",
       "        text-align: right;\n",
       "    }\n",
       "</style>\n",
       "<table border=\"1\" class=\"dataframe\">\n",
       "  <thead>\n",
       "    <tr style=\"text-align: right;\">\n",
       "      <th></th>\n",
       "      <th>srs_fi</th>\n",
       "      <th>biased_fi</th>\n",
       "      <th>srs_corr</th>\n",
       "      <th>biased_corr</th>\n",
       "    </tr>\n",
       "  </thead>\n",
       "  <tbody>\n",
       "    <tr>\n",
       "      <th>0</th>\n",
       "      <td>820.383</td>\n",
       "      <td>816.399481</td>\n",
       "      <td>-0.000672</td>\n",
       "      <td>-0.002976</td>\n",
       "    </tr>\n",
       "    <tr>\n",
       "      <th>1</th>\n",
       "      <td>867.127</td>\n",
       "      <td>847.071429</td>\n",
       "      <td>-0.001645</td>\n",
       "      <td>-0.006582</td>\n",
       "    </tr>\n",
       "    <tr>\n",
       "      <th>2</th>\n",
       "      <td>856.042</td>\n",
       "      <td>836.248391</td>\n",
       "      <td>0.000319</td>\n",
       "      <td>-0.003973</td>\n",
       "    </tr>\n",
       "    <tr>\n",
       "      <th>3</th>\n",
       "      <td>870.083</td>\n",
       "      <td>837.937738</td>\n",
       "      <td>0.003066</td>\n",
       "      <td>-0.000788</td>\n",
       "    </tr>\n",
       "    <tr>\n",
       "      <th>4</th>\n",
       "      <td>859.271</td>\n",
       "      <td>842.957474</td>\n",
       "      <td>0.003522</td>\n",
       "      <td>-0.001406</td>\n",
       "    </tr>\n",
       "  </tbody>\n",
       "</table>\n",
       "</div>"
      ],
      "text/plain": [
       "    srs_fi   biased_fi  srs_corr  biased_corr\n",
       "0  820.383  816.399481 -0.000672    -0.002976\n",
       "1  867.127  847.071429 -0.001645    -0.006582\n",
       "2  856.042  836.248391  0.000319    -0.003973\n",
       "3  870.083  837.937738  0.003066    -0.000788\n",
       "4  859.271  842.957474  0.003522    -0.001406"
      ]
     },
     "execution_count": 15,
     "metadata": {},
     "output_type": "execute_result"
    }
   ],
   "source": [
    "fitted_Jn_and_corr = fitted_Jn.join(fitted_correlations, lsuffix = '_fi', rsuffix = '_corr')\n",
    "fitted_Jn_and_corr.head()"
   ]
  },
  {
   "cell_type": "code",
   "execution_count": 16,
   "id": "5ba2990a-25fa-4212-ab96-aacb1af6dea8",
   "metadata": {
    "execution": {
     "iopub.execute_input": "2025-09-17T02:34:35.212580Z",
     "iopub.status.busy": "2025-09-17T02:34:35.212580Z",
     "iopub.status.idle": "2025-09-17T02:34:35.228354Z",
     "shell.execute_reply": "2025-09-17T02:34:35.228354Z",
     "shell.execute_reply.started": "2025-09-17T02:34:35.212580Z"
    }
   },
   "outputs": [
    {
     "data": {
      "text/html": [
       "<div>\n",
       "<style scoped>\n",
       "    .dataframe tbody tr th:only-of-type {\n",
       "        vertical-align: middle;\n",
       "    }\n",
       "\n",
       "    .dataframe tbody tr th {\n",
       "        vertical-align: top;\n",
       "    }\n",
       "\n",
       "    .dataframe thead th {\n",
       "        text-align: right;\n",
       "    }\n",
       "</style>\n",
       "<table border=\"1\" class=\"dataframe\">\n",
       "  <thead>\n",
       "    <tr style=\"text-align: right;\">\n",
       "      <th></th>\n",
       "      <th>srs_fi</th>\n",
       "      <th>biased_fi</th>\n",
       "      <th>srs_corr</th>\n",
       "      <th>biased_corr</th>\n",
       "    </tr>\n",
       "  </thead>\n",
       "  <tbody>\n",
       "    <tr>\n",
       "      <th>count</th>\n",
       "      <td>100000.000000</td>\n",
       "      <td>100000.000000</td>\n",
       "      <td>100000.000000</td>\n",
       "      <td>100000.000000</td>\n",
       "    </tr>\n",
       "    <tr>\n",
       "      <th>mean</th>\n",
       "      <td>858.641428</td>\n",
       "      <td>843.940512</td>\n",
       "      <td>-0.000003</td>\n",
       "      <td>-0.003821</td>\n",
       "    </tr>\n",
       "    <tr>\n",
       "      <th>std</th>\n",
       "      <td>23.947606</td>\n",
       "      <td>27.302935</td>\n",
       "      <td>0.003165</td>\n",
       "      <td>0.003092</td>\n",
       "    </tr>\n",
       "    <tr>\n",
       "      <th>min</th>\n",
       "      <td>750.120000</td>\n",
       "      <td>735.557441</td>\n",
       "      <td>-0.014226</td>\n",
       "      <td>-0.016726</td>\n",
       "    </tr>\n",
       "    <tr>\n",
       "      <th>25%</th>\n",
       "      <td>842.452750</td>\n",
       "      <td>825.411701</td>\n",
       "      <td>-0.002143</td>\n",
       "      <td>-0.005908</td>\n",
       "    </tr>\n",
       "    <tr>\n",
       "      <th>50%</th>\n",
       "      <td>858.602500</td>\n",
       "      <td>843.833100</td>\n",
       "      <td>0.000002</td>\n",
       "      <td>-0.003823</td>\n",
       "    </tr>\n",
       "    <tr>\n",
       "      <th>75%</th>\n",
       "      <td>874.838000</td>\n",
       "      <td>862.445649</td>\n",
       "      <td>0.002141</td>\n",
       "      <td>-0.001739</td>\n",
       "    </tr>\n",
       "    <tr>\n",
       "      <th>max</th>\n",
       "      <td>982.528000</td>\n",
       "      <td>994.464286</td>\n",
       "      <td>0.014403</td>\n",
       "      <td>0.008751</td>\n",
       "    </tr>\n",
       "  </tbody>\n",
       "</table>\n",
       "</div>"
      ],
      "text/plain": [
       "              srs_fi      biased_fi       srs_corr    biased_corr\n",
       "count  100000.000000  100000.000000  100000.000000  100000.000000\n",
       "mean      858.641428     843.940512      -0.000003      -0.003821\n",
       "std        23.947606      27.302935       0.003165       0.003092\n",
       "min       750.120000     735.557441      -0.014226      -0.016726\n",
       "25%       842.452750     825.411701      -0.002143      -0.005908\n",
       "50%       858.602500     843.833100       0.000002      -0.003823\n",
       "75%       874.838000     862.445649       0.002141      -0.001739\n",
       "max       982.528000     994.464286       0.014403       0.008751"
      ]
     },
     "execution_count": 16,
     "metadata": {},
     "output_type": "execute_result"
    }
   ],
   "source": [
    "fitted_Jn_and_corr.describe()"
   ]
  },
  {
   "cell_type": "code",
   "execution_count": null,
   "id": "c8584b85-1b7d-42c7-a534-0d45e5a51168",
   "metadata": {},
   "outputs": [],
   "source": []
  },
  {
   "cell_type": "markdown",
   "id": "16af5db2-12d9-4b04-9dd8-975415523fd2",
   "metadata": {},
   "source": [
    "# Save:"
   ]
  },
  {
   "cell_type": "code",
   "execution_count": 17,
   "id": "49655ef9-bc0c-4d59-b304-705a4eb0aba3",
   "metadata": {
    "execution": {
     "iopub.execute_input": "2025-09-17T02:34:35.228354Z",
     "iopub.status.busy": "2025-09-17T02:34:35.228354Z",
     "iopub.status.idle": "2025-09-17T02:34:35.247102Z",
     "shell.execute_reply": "2025-09-17T02:34:35.245098Z",
     "shell.execute_reply.started": "2025-09-17T02:34:35.228354Z"
    }
   },
   "outputs": [
    {
     "data": {
      "text/html": [
       "<div>\n",
       "<style scoped>\n",
       "    .dataframe tbody tr th:only-of-type {\n",
       "        vertical-align: middle;\n",
       "    }\n",
       "\n",
       "    .dataframe tbody tr th {\n",
       "        vertical-align: top;\n",
       "    }\n",
       "\n",
       "    .dataframe thead th {\n",
       "        text-align: right;\n",
       "    }\n",
       "</style>\n",
       "<table border=\"1\" class=\"dataframe\">\n",
       "  <thead>\n",
       "    <tr style=\"text-align: right;\">\n",
       "      <th></th>\n",
       "      <th>srs_fi</th>\n",
       "      <th>biased_fi</th>\n",
       "      <th>srs_corr</th>\n",
       "      <th>biased_corr</th>\n",
       "    </tr>\n",
       "  </thead>\n",
       "  <tbody>\n",
       "    <tr>\n",
       "      <th>count</th>\n",
       "      <td>100000.000000</td>\n",
       "      <td>100000.000000</td>\n",
       "      <td>100000.000000</td>\n",
       "      <td>100000.000000</td>\n",
       "    </tr>\n",
       "    <tr>\n",
       "      <th>mean</th>\n",
       "      <td>858.641428</td>\n",
       "      <td>843.940512</td>\n",
       "      <td>-0.000003</td>\n",
       "      <td>-0.003821</td>\n",
       "    </tr>\n",
       "    <tr>\n",
       "      <th>std</th>\n",
       "      <td>23.947606</td>\n",
       "      <td>27.302935</td>\n",
       "      <td>0.003165</td>\n",
       "      <td>0.003092</td>\n",
       "    </tr>\n",
       "    <tr>\n",
       "      <th>min</th>\n",
       "      <td>750.120000</td>\n",
       "      <td>735.557441</td>\n",
       "      <td>-0.014226</td>\n",
       "      <td>-0.016726</td>\n",
       "    </tr>\n",
       "    <tr>\n",
       "      <th>25%</th>\n",
       "      <td>842.452750</td>\n",
       "      <td>825.411701</td>\n",
       "      <td>-0.002143</td>\n",
       "      <td>-0.005908</td>\n",
       "    </tr>\n",
       "    <tr>\n",
       "      <th>50%</th>\n",
       "      <td>858.602500</td>\n",
       "      <td>843.833100</td>\n",
       "      <td>0.000002</td>\n",
       "      <td>-0.003823</td>\n",
       "    </tr>\n",
       "    <tr>\n",
       "      <th>75%</th>\n",
       "      <td>874.838000</td>\n",
       "      <td>862.445649</td>\n",
       "      <td>0.002141</td>\n",
       "      <td>-0.001739</td>\n",
       "    </tr>\n",
       "    <tr>\n",
       "      <th>max</th>\n",
       "      <td>982.528000</td>\n",
       "      <td>994.464286</td>\n",
       "      <td>0.014403</td>\n",
       "      <td>0.008751</td>\n",
       "    </tr>\n",
       "  </tbody>\n",
       "</table>\n",
       "</div>"
      ],
      "text/plain": [
       "              srs_fi      biased_fi       srs_corr    biased_corr\n",
       "count  100000.000000  100000.000000  100000.000000  100000.000000\n",
       "mean      858.641428     843.940512      -0.000003      -0.003821\n",
       "std        23.947606      27.302935       0.003165       0.003092\n",
       "min       750.120000     735.557441      -0.014226      -0.016726\n",
       "25%       842.452750     825.411701      -0.002143      -0.005908\n",
       "50%       858.602500     843.833100       0.000002      -0.003823\n",
       "75%       874.838000     862.445649       0.002141      -0.001739\n",
       "max       982.528000     994.464286       0.014403       0.008751"
      ]
     },
     "execution_count": 17,
     "metadata": {},
     "output_type": "execute_result"
    }
   ],
   "source": [
    "fitted_Jn_and_corr.describe()"
   ]
  },
  {
   "cell_type": "code",
   "execution_count": 18,
   "id": "6566a9bd-0762-4d65-8ee1-1ccfa278a669",
   "metadata": {
    "execution": {
     "iopub.execute_input": "2025-09-17T02:34:35.247102Z",
     "iopub.status.busy": "2025-09-17T02:34:35.247102Z",
     "iopub.status.idle": "2025-09-17T02:34:35.251356Z",
     "shell.execute_reply": "2025-09-17T02:34:35.251356Z",
     "shell.execute_reply.started": "2025-09-17T02:34:35.247102Z"
    }
   },
   "outputs": [],
   "source": [
    "fitted_Jn_and_corr.to_pickle('sample_by_y_bias.pkl')"
   ]
  },
  {
   "cell_type": "code",
   "execution_count": null,
   "id": "8ed0823b",
   "metadata": {},
   "outputs": [],
   "source": []
  }
 ],
 "metadata": {
  "kernelspec": {
   "display_name": "Python 3 (ipykernel)",
   "language": "python",
   "name": "python3"
  },
  "language_info": {
   "codemirror_mode": {
    "name": "ipython",
    "version": 3
   },
   "file_extension": ".py",
   "mimetype": "text/x-python",
   "name": "python",
   "nbconvert_exporter": "python",
   "pygments_lexer": "ipython3",
   "version": "3.12.8"
  }
 },
 "nbformat": 4,
 "nbformat_minor": 5
}
