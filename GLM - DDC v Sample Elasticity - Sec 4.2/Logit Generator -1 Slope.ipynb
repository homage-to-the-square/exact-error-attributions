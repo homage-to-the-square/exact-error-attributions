{
 "cells": [
  {
   "cell_type": "markdown",
   "id": "c5c011f0",
   "metadata": {},
   "source": [
    "# Imports:"
   ]
  },
  {
   "cell_type": "code",
   "execution_count": 1,
   "id": "e5ee153e-0118-441e-8d92-21943ecbe12f",
   "metadata": {
    "execution": {
     "iopub.execute_input": "2025-09-17T18:22:19.677658Z",
     "iopub.status.busy": "2025-09-17T18:22:19.677658Z",
     "iopub.status.idle": "2025-09-17T18:22:20.849751Z",
     "shell.execute_reply": "2025-09-17T18:22:20.849751Z",
     "shell.execute_reply.started": "2025-09-17T18:22:19.677658Z"
    }
   },
   "outputs": [],
   "source": [
    "import pickle\n",
    "from collections import defaultdict\n",
    "import numpy as np\n",
    "import pandas as pd\n",
    "from scipy.special import expit, logit\n",
    "from tqdm import tqdm, trange\n",
    "\n",
    "import warnings\n",
    "# Ignore all FutureWarnings\n",
    "warnings.simplefilter(action='ignore', category=FutureWarning)\n",
    "\n",
    "import sys\n",
    "sys.path.append(\"../\")\n",
    "from data_generating_utils import generate_population_data\n",
    "from ddc_utils import (\n",
    "    compute_all_three_logistic_models,\n",
    "    compute_average_jn,\n",
    "    get_pop_gs_for_binary_y,\n",
    "    is_binomial_data_seperable,\n",
    ")"
   ]
  },
  {
   "cell_type": "markdown",
   "id": "b2bfdd51",
   "metadata": {},
   "source": [
    "# Hyperparams:"
   ]
  },
  {
   "cell_type": "code",
   "execution_count": 2,
   "id": "a42c3547-83f0-4e43-8741-e5acad8909b6",
   "metadata": {
    "execution": {
     "iopub.execute_input": "2025-09-17T18:22:20.849751Z",
     "iopub.status.busy": "2025-09-17T18:22:20.849751Z",
     "iopub.status.idle": "2025-09-17T18:22:20.852860Z",
     "shell.execute_reply": "2025-09-17T18:22:20.852860Z",
     "shell.execute_reply.started": "2025-09-17T18:22:20.849751Z"
    }
   },
   "outputs": [],
   "source": [
    "population_size = 100_000\n",
    "\n",
    "number_of_coefficients = 1\n",
    "\n",
    "num_iters_per_population = 10_000\n",
    "\n",
    "true_beta = -1\n",
    "link = 'Logit'"
   ]
  },
  {
   "cell_type": "code",
   "execution_count": 3,
   "id": "1167c17d-68d3-4bdf-88af-f33786134b7b",
   "metadata": {
    "execution": {
     "iopub.execute_input": "2025-09-17T18:22:20.854102Z",
     "iopub.status.busy": "2025-09-17T18:22:20.852860Z",
     "iopub.status.idle": "2025-09-17T18:22:20.856210Z",
     "shell.execute_reply": "2025-09-17T18:22:20.856210Z",
     "shell.execute_reply.started": "2025-09-17T18:22:20.854102Z"
    }
   },
   "outputs": [],
   "source": [
    "ALL_SAMPLE_SIZES = [1000]"
   ]
  },
  {
   "cell_type": "code",
   "execution_count": 4,
   "id": "8d4c6a4b-0d94-4ffb-9c1c-9f9beb595fc5",
   "metadata": {
    "execution": {
     "iopub.execute_input": "2025-09-17T18:22:20.857215Z",
     "iopub.status.busy": "2025-09-17T18:22:20.857215Z",
     "iopub.status.idle": "2025-09-17T18:22:20.859218Z",
     "shell.execute_reply": "2025-09-17T18:22:20.859218Z",
     "shell.execute_reply.started": "2025-09-17T18:22:20.857215Z"
    }
   },
   "outputs": [],
   "source": [
    "# for biased sampling scheme:\n",
    "sample_probability_centering = 0.77\n",
    "sample_probability_bias_factor = 1"
   ]
  },
  {
   "cell_type": "code",
   "execution_count": 6,
   "id": "3fa42c21-b80a-4a1b-b370-4346af69727c",
   "metadata": {
    "execution": {
     "iopub.execute_input": "2025-09-17T18:22:20.862287Z",
     "iopub.status.busy": "2025-09-17T18:22:20.862287Z",
     "iopub.status.idle": "2025-09-17T18:22:20.865529Z",
     "shell.execute_reply": "2025-09-17T18:22:20.865529Z",
     "shell.execute_reply.started": "2025-09-17T18:22:20.862287Z"
    }
   },
   "outputs": [],
   "source": [
    "# for seeding + saving:\n",
    "pop_index = 1\n",
    "iter_val = 0\n",
    "rand_generator = np.random.default_rng(seed=333 * pop_index + iter_val)"
   ]
  },
  {
   "cell_type": "markdown",
   "id": "25216b90",
   "metadata": {},
   "source": [
    "# Run:"
   ]
  },
  {
   "cell_type": "code",
   "execution_count": 7,
   "id": "5c9b81a2",
   "metadata": {
    "execution": {
     "iopub.execute_input": "2025-09-17T18:22:20.865529Z",
     "iopub.status.busy": "2025-09-17T18:22:20.865529Z",
     "iopub.status.idle": "2025-09-17T18:22:20.868235Z",
     "shell.execute_reply": "2025-09-17T18:22:20.868235Z",
     "shell.execute_reply.started": "2025-09-17T18:22:20.865529Z"
    }
   },
   "outputs": [],
   "source": [
    "feature_cols = [f'x_{i}' for i in range(number_of_coefficients)]"
   ]
  },
  {
   "cell_type": "code",
   "execution_count": 8,
   "id": "65af24c9",
   "metadata": {
    "execution": {
     "iopub.execute_input": "2025-09-17T18:22:20.869238Z",
     "iopub.status.busy": "2025-09-17T18:22:20.869238Z",
     "iopub.status.idle": "2025-09-17T18:22:20.871189Z",
     "shell.execute_reply": "2025-09-17T18:22:20.871189Z",
     "shell.execute_reply.started": "2025-09-17T18:22:20.869238Z"
    }
   },
   "outputs": [],
   "source": [
    "# hypervariabes where things will be saved as key of sample size -> list.\n",
    "all_jns_per_sample_size_biased = defaultdict(list)\n",
    "all_ddc_per_sample_size_biased = defaultdict(list)\n",
    "all_sample_beta_per_sample_size_biased = defaultdict(list)\n",
    "\n",
    "all_jns_per_sample_size_full = defaultdict(list)\n",
    "all_ddc_per_sample_size_full = defaultdict(list)\n",
    "all_sample_beta_per_sample_size_full = defaultdict(list)\n",
    "\n",
    "\n",
    "\n",
    "all_realized_sample_sizes_per_sample_size = defaultdict(list)\n",
    "all_pop_beta_per_sample_size = defaultdict(list)\n",
    "\n",
    "sample_specific_non_separable_count = {}"
   ]
  },
  {
   "cell_type": "code",
   "execution_count": 9,
   "id": "90014de8-f358-4278-9827-09ec25a51ad4",
   "metadata": {
    "execution": {
     "iopub.execute_input": "2025-09-17T18:22:20.871189Z",
     "iopub.status.busy": "2025-09-17T18:22:20.871189Z",
     "iopub.status.idle": "2025-09-17T18:22:20.890834Z",
     "shell.execute_reply": "2025-09-17T18:22:20.890834Z",
     "shell.execute_reply.started": "2025-09-17T18:22:20.871189Z"
    }
   },
   "outputs": [],
   "source": [
    "pop_data = generate_population_data(\n",
    "    population_size,\n",
    "    number_of_coefficients,\n",
    "    rand_generator,\n",
    "    feature_cols=feature_cols,\n",
    "    true_beta=true_beta,\n",
    "    link=link,\n",
    ")\n",
    "\n",
    "pop_data[\"marginal_probs\"] = expit(\n",
    "    logit(sample_probability_centering)\n",
    "    + sample_probability_bias_factor\n",
    "    * (2 * pop_data[\"y\"] - 1)\n",
    "    * pop_data[\"x_0\"]\n",
    ")"
   ]
  },
  {
   "cell_type": "code",
   "execution_count": 10,
   "id": "4877fcae",
   "metadata": {
    "execution": {
     "iopub.execute_input": "2025-09-17T18:22:20.891837Z",
     "iopub.status.busy": "2025-09-17T18:22:20.890834Z",
     "iopub.status.idle": "2025-09-17T18:22:20.895853Z",
     "shell.execute_reply": "2025-09-17T18:22:20.895853Z",
     "shell.execute_reply.started": "2025-09-17T18:22:20.891837Z"
    }
   },
   "outputs": [],
   "source": [
    "pickle_filename = f'base_population_data_{link}_{true_beta}.pickle'\n",
    "with open(pickle_filename, 'wb') as handle:\n",
    "    pickle.dump(pop_data, handle)"
   ]
  },
  {
   "cell_type": "code",
   "execution_count": 11,
   "id": "e256c431",
   "metadata": {
    "execution": {
     "iopub.execute_input": "2025-09-17T18:22:20.895853Z",
     "iopub.status.busy": "2025-09-17T18:22:20.895853Z",
     "iopub.status.idle": "2025-09-17T18:22:20.898857Z",
     "shell.execute_reply": "2025-09-17T18:22:20.898857Z",
     "shell.execute_reply.started": "2025-09-17T18:22:20.895853Z"
    }
   },
   "outputs": [],
   "source": [
    "model_iteration = [(0, 'Logit'), (1, 'Probit'), (2, 'CLogLog')]"
   ]
  },
  {
   "cell_type": "markdown",
   "id": "5d023a24-f622-4ebe-b45f-cf3f80f40e84",
   "metadata": {},
   "source": [
    "## get population-level statistics:"
   ]
  },
  {
   "cell_type": "code",
   "execution_count": 12,
   "id": "c217fb9d",
   "metadata": {
    "execution": {
     "iopub.execute_input": "2025-09-17T18:22:20.898857Z",
     "iopub.status.busy": "2025-09-17T18:22:20.898857Z",
     "iopub.status.idle": "2025-09-17T18:22:20.902152Z",
     "shell.execute_reply": "2025-09-17T18:22:20.902152Z",
     "shell.execute_reply.started": "2025-09-17T18:22:20.898857Z"
    }
   },
   "outputs": [],
   "source": [
    "pop_x = pop_data[feature_cols]\n",
    "pop_y = pop_data['y']"
   ]
  },
  {
   "cell_type": "code",
   "execution_count": 13,
   "id": "51261eba-a9e7-4ce5-a283-f0ac47618d0c",
   "metadata": {
    "execution": {
     "iopub.execute_input": "2025-09-17T18:22:20.903660Z",
     "iopub.status.busy": "2025-09-17T18:22:20.903157Z",
     "iopub.status.idle": "2025-09-17T18:22:21.071672Z",
     "shell.execute_reply": "2025-09-17T18:22:21.071672Z",
     "shell.execute_reply.started": "2025-09-17T18:22:20.903660Z"
    }
   },
   "outputs": [],
   "source": [
    "# compute the population models, saving their betas and gs:\n",
    "\n",
    "population_models = (\n",
    "    compute_all_three_logistic_models(pop_x, pop_y)\n",
    ")\n",
    "\n",
    "pop_logit_model, pop_probit_model, pop_cloglog_model = population_models\n",
    "\n",
    "pop_betas = [\n",
    "    np.array(pop_logit_model.params),\n",
    "    np.array(pop_probit_model.params),\n",
    "    np.array(pop_cloglog_model.params),\n",
    "]\n",
    "\n",
    "pop_gs = get_pop_gs_for_binary_y(population_models, pop_x, pop_y, population_size)"
   ]
  },
  {
   "cell_type": "markdown",
   "id": "5353d244-c1f4-4e47-bb1f-4cda7c3341d1",
   "metadata": {},
   "source": [
    "## Iterate per sample size:"
   ]
  },
  {
   "cell_type": "code",
   "execution_count": 14,
   "id": "260fd510",
   "metadata": {
    "execution": {
     "iopub.execute_input": "2025-09-17T18:22:21.072675Z",
     "iopub.status.busy": "2025-09-17T18:22:21.071672Z",
     "iopub.status.idle": "2025-09-17T18:27:05.405070Z",
     "shell.execute_reply": "2025-09-17T18:27:05.405070Z",
     "shell.execute_reply.started": "2025-09-17T18:22:21.072675Z"
    },
    "scrolled": true
   },
   "outputs": [
    {
     "name": "stderr",
     "output_type": "stream",
     "text": [
      "  0%|                                                                                            | 0/1 [00:00<?, ?it/s]\n",
      "\u001b[A%|                                                                                        | 0/10000 [00:00<?, ?it/s]\n",
      "\u001b[A%|██▊                                                                           | 367/10000 [00:10<04:22, 36.66it/s]\n",
      "\u001b[A%|██▊                                                                           | 367/10000 [00:20<04:22, 36.66it/s]\n",
      "\u001b[A%|█████▋                                                                        | 730/10000 [00:20<04:14, 36.42it/s]\n",
      "\u001b[A%|█████▋                                                                        | 730/10000 [00:30<04:14, 36.42it/s]\n",
      "\u001b[A%|████████▎                                                                    | 1078/10000 [00:30<04:10, 35.66it/s]\n",
      "\u001b[A%|███████████                                                                  | 1430/10000 [00:40<04:01, 35.46it/s]\n",
      "\u001b[A%|█████████████▊                                                               | 1789/10000 [00:50<03:50, 35.60it/s]\n",
      "\u001b[A%|████████████████▌                                                            | 2148/10000 [01:00<03:41, 35.52it/s]\n",
      "\u001b[A%|███████████████████▎                                                         | 2507/10000 [01:10<03:30, 35.64it/s]\n",
      "\u001b[A%|██████████████████████▏                                                      | 2874/10000 [01:20<03:18, 35.97it/s]\n",
      "\u001b[A%|████████████████████████▉                                                    | 3241/10000 [01:30<03:09, 35.59it/s]\n",
      "\u001b[A%|███████████████████████████▋                                                 | 3602/10000 [01:40<02:58, 35.74it/s]\n",
      "\u001b[A%|██████████████████████████████▌                                              | 3963/10000 [01:51<02:50, 35.46it/s]\n",
      "\u001b[A%|█████████████████████████████████▏                                           | 4312/10000 [02:01<02:41, 35.12it/s]\n",
      "\u001b[A%|███████████████████████████████████▊                                         | 4656/10000 [02:11<02:33, 34.87it/s]\n",
      "\u001b[A%|██████████████████████████████████████▍                                      | 4999/10000 [02:21<02:24, 34.54it/s]\n",
      "\u001b[A%|█████████████████████████████████████████▏                                   | 5353/10000 [02:31<02:13, 34.77it/s]\n",
      "\u001b[A%|████████████████████████████████████████████                                 | 5716/10000 [02:41<02:01, 35.22it/s]\n",
      "\u001b[A%|██████████████████████████████████████████████▊                              | 6079/10000 [02:51<01:50, 35.50it/s]\n",
      "\u001b[A%|█████████████████████████████████████████████████▌                           | 6441/10000 [03:02<01:42, 34.76it/s]\n",
      "\u001b[A%|████████████████████████████████████████████████████▎                        | 6796/10000 [03:12<01:31, 34.97it/s]\n",
      "\u001b[A%|███████████████████████████████████████████████████████                      | 7151/10000 [03:22<01:21, 34.88it/s]\n",
      "\u001b[A%|█████████████████████████████████████████████████████████▊                   | 7510/10000 [03:32<01:10, 35.18it/s]\n",
      "\u001b[A%|████████████████████████████████████████████████████████████▋                | 7874/10000 [03:42<00:59, 35.53it/s]\n",
      "\u001b[A%|███████████████████████████████████████████████████████████████▍             | 8238/10000 [03:53<00:50, 35.00it/s]\n",
      "\u001b[A%|██████████████████████████████████████████████████████████████████▏          | 8593/10000 [04:03<00:40, 35.14it/s]\n",
      "\u001b[A%|████████████████████████████████████████████████████████████████████▉        | 8948/10000 [04:13<00:30, 34.92it/s]\n",
      "\u001b[A%|███████████████████████████████████████████████████████████████████████▌     | 9300/10000 [04:23<00:20, 34.99it/s]\n",
      "\u001b[A%|██████████████████████████████████████████████████████████████████████████▎  | 9652/10000 [04:34<00:09, 34.87it/s]\n",
      "100%|████████████████████████████████████████████████████████████████████████████| 10000/10000 [04:44<00:00, 35.17it/s]\n",
      "100%|███████████████████████████████████████████████████████████████████████████████████| 1/1 [04:44<00:00, 284.33s/it]\n"
     ]
    },
    {
     "name": "stderr",
     "output_type": "stream",
     "text": [
      " 66%|███████████████████████████████████████████████████▏                         | 6646/10000 [10:49<05:32, 10.10it/s]\u001b[A\n",
      " 67%|███████████████████████████████████████████████████▉                         | 6749/10000 [10:59<05:20, 10.15it/s]\u001b[A\n",
      " 69%|████████████████████████████████████████████████████▊                        | 6852/10000 [11:09<05:09, 10.18it/s]\u001b[A\n",
      " 69%|████████████████████████████████████████████████████▊                        | 6852/10000 [11:21<05:09, 10.18it/s]\u001b[A\n",
      " 70%|█████████████████████████████████████████████████████▌                       | 6952/10000 [11:21<05:15,  9.65it/s]\u001b[A\n",
      " 71%|██████████████████████████████████████████████████████▎                      | 7053/10000 [11:31<05:02,  9.76it/s]\u001b[A\n",
      " 72%|███████████████████████████████████████████████████████                      | 7157/10000 [11:41<04:45,  9.94it/s]\u001b[A\n",
      " 73%|███████████████████████████████████████████████████████▉                     | 7261/10000 [11:51<04:35,  9.93it/s]\u001b[A\n",
      " 74%|████████████████████████████████████████████████████████▋                    | 7364/10000 [12:01<04:23, 10.02it/s]\u001b[A\n",
      " 75%|█████████████████████████████████████████████████████████▌                   | 7468/10000 [12:11<04:10, 10.11it/s]\u001b[A\n",
      " 76%|██████████████████████████████████████████████████████████▎                  | 7572/10000 [12:21<03:58, 10.19it/s]\u001b[A\n",
      " 77%|███████████████████████████████████████████████████████████                  | 7678/10000 [12:31<03:45, 10.30it/s]\u001b[A\n",
      " 78%|███████████████████████████████████████████████████████████▉                 | 7784/10000 [12:41<03:33, 10.37it/s]\u001b[A\n",
      " 79%|████████████████████████████████████████████████████████████▊                | 7890/10000 [12:52<03:24, 10.31it/s]\u001b[A\n",
      " 80%|█████████████████████████████████████████████████████████████▌               | 7992/10000 [13:02<03:16, 10.24it/s]\u001b[A\n",
      " 81%|██████████████████████████████████████████████████████████████▎              | 8093/10000 [13:12<03:09, 10.07it/s]\u001b[A\n",
      " 82%|███████████████████████████████████████████████████████████████              | 8197/10000 [13:23<02:57, 10.14it/s]\u001b[A\n",
      " 83%|███████████████████████████████████████████████████████████████▉             | 8302/10000 [13:33<02:46, 10.22it/s]\u001b[A\n",
      " 84%|████████████████████████████████████████████████████████████████▋            | 8407/10000 [13:43<02:34, 10.28it/s]\u001b[A\n",
      " 85%|█████████████████████████████████████████████████████████████████▌           | 8512/10000 [13:53<02:24, 10.28it/s]\u001b[A\n",
      " 86%|██████████████████████████████████████████████████████████████████▎          | 8615/10000 [14:04<02:19,  9.91it/s]\u001b[A\n",
      " 87%|███████████████████████████████████████████████████████████████████▏         | 8722/10000 [14:14<02:06, 10.11it/s]\u001b[A\n",
      " 88%|███████████████████████████████████████████████████████████████████▉         | 8829/10000 [14:25<01:55, 10.13it/s]\u001b[A\n",
      " 89%|████████████████████████████████████████████████████████████████████▊        | 8931/10000 [14:35<01:45, 10.13it/s]\u001b[A\n",
      " 90%|█████████████████████████████████████████████████████████████████████▌       | 9033/10000 [14:45<01:36, 10.02it/s]\u001b[A\n",
      " 91%|██████████████████████████████████████████████████████████████████████▎      | 9131/10000 [14:56<01:28,  9.87it/s]\u001b[A\n",
      " 92%|███████████████████████████████████████████████████████████████████████      | 9227/10000 [15:07<01:22,  9.41it/s]\u001b[A\n",
      " 93%|███████████████████████████████████████████████████████████████████████▊     | 9324/10000 [15:17<01:11,  9.47it/s]\u001b[A\n",
      " 94%|████████████████████████████████████████████████████████████████████████▌    | 9426/10000 [15:27<00:59,  9.68it/s]\u001b[A\n",
      " 95%|█████████████████████████████████████████████████████████████████████████▎   | 9528/10000 [15:37<00:48,  9.78it/s]\u001b[A\n",
      " 96%|██████████████████████████████████████████████████████████████████████████▏  | 9634/10000 [15:47<00:36, 10.02it/s]\u001b[A\n",
      " 97%|██████████████████████████████████████████████████████████████████████████▉  | 9740/10000 [15:58<00:25, 10.08it/s]\u001b[A\n",
      " 98%|███████████████████████████████████████████████████████████████████████████▊ | 9843/10000 [16:08<00:15,  9.99it/s]\u001b[A\n",
      "100%|████████████████████████████████████████████████████████████████████████████| 10000/10000 [16:24<00:00, 10.16it/s]\u001b[A\n",
      "100%|███████████████████████████████████████████████████████████████████████████████████| 1/1 [16:24<00:00, 984.22s/it]\n"
     ]
    }
   ],
   "source": [
    "for temp_sample_size in tqdm(ALL_SAMPLE_SIZES):\n",
    "    non_separable_count = 0\n",
    "\n",
    "    for _ in trange(num_iters_per_population, mininterval=10):\n",
    "        # use sampling scheme to sample data:\n",
    "        obtained_valid_sample = False\n",
    "\n",
    "        while not obtained_valid_sample:\n",
    "            pop_data[\"r0\"] = 0\n",
    "            pop_data[\"r\"] = 0\n",
    "            \n",
    "            pop_data.loc[\n",
    "                np.random.choice(pop_data.index, size=temp_sample_size, replace=False),\n",
    "                \"r0\",\n",
    "            ] = 1\n",
    "            full_sampled_data = pop_data[pop_data[\"r0\"] == 1]\n",
    "            \n",
    "            other_sample_indices = full_sampled_data.index[\n",
    "                rand_generator.binomial(n=1, p=full_sampled_data[\"marginal_probs\"]) == 1\n",
    "            ]\n",
    "            pop_data.loc[other_sample_indices, \"r\"] = 1\n",
    "            \n",
    "            # sample_data here means the biased sample data.\n",
    "            sample_data = pop_data[pop_data[\"r\"] == 1]\n",
    "            realised_sample_size = len(other_sample_indices)\n",
    "\n",
    "            if realised_sample_size < 1_000:\n",
    "                if is_binomial_data_seperable(sample_data, \"y\", \"x_0\"):\n",
    "                    non_separable_count = non_separable_count + 1\n",
    "                    continue\n",
    "            obtained_valid_sample = True\n",
    "\n",
    "        # compute biased x, y, model, beta\n",
    "        sample_x = sample_data[feature_cols]\n",
    "        sample_y = sample_data[\"y\"]\n",
    "        sample_models = compute_all_three_logistic_models(sample_x, sample_y)\n",
    "        sample_betas = [sample_model.params for sample_model in sample_models]\n",
    "        sample_r = pop_data[\"r\"]\n",
    "\n",
    "        # compute full x, y, model, beta\n",
    "        sample_x_full = full_sampled_data[feature_cols]\n",
    "        sample_y_full = full_sampled_data[\"y\"]\n",
    "        sample_models_full = compute_all_three_logistic_models(\n",
    "            sample_x_full, sample_y_full\n",
    "        )\n",
    "        sample_betas_full = [\n",
    "            sample_model_full.params for sample_model_full in sample_models_full\n",
    "        ]\n",
    "        sample_r_full = pop_data[\"r0\"]\n",
    "\n",
    "        # compute biased versions of things:\n",
    "        all_sample_beta_per_sample_size_biased[temp_sample_size].append(\n",
    "            [pd.Series(sample_beta) for sample_beta in sample_betas]\n",
    "        )\n",
    "        all_ddc_per_sample_size_biased[temp_sample_size].append(\n",
    "            [\n",
    "                pop_gs[link_fn].corrwith(sample_r)[[\"x_0\"]]\n",
    "                for _, link_fn in model_iteration\n",
    "            ]\n",
    "        )\n",
    "        all_jns_per_sample_size_biased[temp_sample_size].append(\n",
    "            [\n",
    "                compute_average_jn(\n",
    "                    pop_betas[model_index],\n",
    "                    sample_betas[model_index],\n",
    "                    sample_x,\n",
    "                    sample_y,\n",
    "                    link_fn=link_fn,\n",
    "                )\n",
    "                for model_index, link_fn in model_iteration\n",
    "            ]\n",
    "        )\n",
    "\n",
    "        all_realized_sample_sizes_per_sample_size[temp_sample_size].append(\n",
    "            realised_sample_size\n",
    "        )\n",
    "\n",
    "        # compute full versions of things:\n",
    "        all_sample_beta_per_sample_size_full[temp_sample_size].append(\n",
    "            [pd.Series(sample_beta) for sample_beta in sample_betas_full]\n",
    "        )\n",
    "        all_ddc_per_sample_size_full[temp_sample_size].append(\n",
    "            [\n",
    "                pop_gs[link_fn].corrwith(sample_r_full)[[\"x_0\"]]\n",
    "                for _, link_fn in model_iteration\n",
    "            ]\n",
    "        )\n",
    "        all_jns_per_sample_size_full[temp_sample_size].append(\n",
    "            [\n",
    "                compute_average_jn(\n",
    "                    pop_betas[model_index],\n",
    "                    sample_betas_full[model_index],\n",
    "                    sample_x_full,\n",
    "                    sample_y_full,\n",
    "                    link_fn=link_fn,\n",
    "                )\n",
    "                for model_index, link_fn in model_iteration\n",
    "            ]\n",
    "        )\n",
    "\n",
    "    sample_specific_non_separable_count[temp_sample_size] = non_separable_count"
   ]
  },
  {
   "cell_type": "markdown",
   "id": "59cfa2a2-4990-4d97-b147-3933b76e5fd8",
   "metadata": {},
   "source": [
    "## combine data for each sample size:"
   ]
  },
  {
   "cell_type": "code",
   "execution_count": 15,
   "id": "1c6a7e25",
   "metadata": {
    "execution": {
     "iopub.execute_input": "2025-09-17T18:27:05.406074Z",
     "iopub.status.busy": "2025-09-17T18:27:05.405070Z",
     "iopub.status.idle": "2025-09-17T18:27:05.409132Z",
     "shell.execute_reply": "2025-09-17T18:27:05.409132Z",
     "shell.execute_reply.started": "2025-09-17T18:27:05.406074Z"
    }
   },
   "outputs": [
    {
     "data": {
      "text/plain": [
       "{1000: 0}"
      ]
     },
     "execution_count": 15,
     "metadata": {},
     "output_type": "execute_result"
    }
   ],
   "source": [
    "sample_specific_non_separable_count"
   ]
  },
  {
   "cell_type": "code",
   "execution_count": 16,
   "id": "07d65b4e",
   "metadata": {
    "execution": {
     "iopub.execute_input": "2025-09-17T18:27:05.410160Z",
     "iopub.status.busy": "2025-09-17T18:27:05.410160Z",
     "iopub.status.idle": "2025-09-17T18:27:05.412062Z",
     "shell.execute_reply": "2025-09-17T18:27:05.412062Z",
     "shell.execute_reply.started": "2025-09-17T18:27:05.410160Z"
    }
   },
   "outputs": [],
   "source": [
    "all_data_per_ss = []"
   ]
  },
  {
   "cell_type": "code",
   "execution_count": 17,
   "id": "40974b84",
   "metadata": {
    "execution": {
     "iopub.execute_input": "2025-09-17T18:27:05.413067Z",
     "iopub.status.busy": "2025-09-17T18:27:05.413067Z",
     "iopub.status.idle": "2025-09-17T18:27:05.416509Z",
     "shell.execute_reply": "2025-09-17T18:27:05.416509Z",
     "shell.execute_reply.started": "2025-09-17T18:27:05.413067Z"
    }
   },
   "outputs": [],
   "source": [
    "all_raw_data = [\n",
    "    all_jns_per_sample_size_biased,\n",
    "    all_ddc_per_sample_size_biased,\n",
    "    all_sample_beta_per_sample_size_biased,\n",
    "    all_jns_per_sample_size_full,\n",
    "    all_ddc_per_sample_size_full,\n",
    "    all_sample_beta_per_sample_size_full,\n",
    "    all_realized_sample_sizes_per_sample_size,\n",
    "    all_pop_beta_per_sample_size,\n",
    "]"
   ]
  },
  {
   "cell_type": "code",
   "execution_count": 18,
   "id": "e22da8ac",
   "metadata": {
    "execution": {
     "iopub.execute_input": "2025-09-17T18:27:05.417570Z",
     "iopub.status.busy": "2025-09-17T18:27:05.416509Z",
     "iopub.status.idle": "2025-09-17T18:27:11.110604Z",
     "shell.execute_reply": "2025-09-17T18:27:11.110604Z",
     "shell.execute_reply.started": "2025-09-17T18:27:05.417570Z"
    }
   },
   "outputs": [],
   "source": [
    "pickle_filename = f'all_raw_data_{link}_{true_beta}.pickle'\n",
    "with open(pickle_filename, 'wb') as handle:\n",
    "    pickle.dump(all_raw_data, handle)"
   ]
  },
  {
   "cell_type": "code",
   "execution_count": 19,
   "id": "a43b12ed",
   "metadata": {
    "execution": {
     "iopub.execute_input": "2025-09-17T18:27:11.111607Z",
     "iopub.status.busy": "2025-09-17T18:27:11.111607Z",
     "iopub.status.idle": "2025-09-17T18:27:11.114524Z",
     "shell.execute_reply": "2025-09-17T18:27:11.114524Z",
     "shell.execute_reply.started": "2025-09-17T18:27:11.111607Z"
    }
   },
   "outputs": [],
   "source": [
    "pickle_filename = f'pop_betas_{link}_{true_beta}.pickle'\n",
    "with open(pickle_filename, 'wb') as handle:\n",
    "    pickle.dump(pop_betas, handle)"
   ]
  },
  {
   "cell_type": "code",
   "execution_count": null,
   "id": "2904c6eb",
   "metadata": {},
   "outputs": [],
   "source": []
  },
  {
   "cell_type": "code",
   "execution_count": null,
   "id": "2d71a5b7",
   "metadata": {},
   "outputs": [],
   "source": []
  }
 ],
 "metadata": {
  "kernelspec": {
   "display_name": "Python 3 (ipykernel)",
   "language": "python",
   "name": "python3"
  },
  "language_info": {
   "codemirror_mode": {
    "name": "ipython",
    "version": 3
   },
   "file_extension": ".py",
   "mimetype": "text/x-python",
   "name": "python",
   "nbconvert_exporter": "python",
   "pygments_lexer": "ipython3",
   "version": "3.12.8"
  }
 },
 "nbformat": 4,
 "nbformat_minor": 5
}
