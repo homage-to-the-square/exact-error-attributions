{
 "cells": [
  {
   "cell_type": "markdown",
   "id": "c43782e1",
   "metadata": {},
   "source": [
    "can also check the linear independence of rho and Jn here as well!"
   ]
  },
  {
   "cell_type": "markdown",
   "id": "c5c011f0",
   "metadata": {},
   "source": [
    "# Imports:"
   ]
  },
  {
   "cell_type": "code",
   "execution_count": 1,
   "id": "e0bad1c1",
   "metadata": {},
   "outputs": [],
   "source": [
    "import numpy as np\n",
    "import pandas as pd\n",
    "import seaborn as sns\n",
    "from sklearn.linear_model import LogisticRegression\n",
    "\n",
    "from scipy.stats import chi2\n",
    "from collections import Counter\n",
    "\n",
    "from itertools import permutations\n",
    "from tqdm import tqdm, trange"
   ]
  },
  {
   "cell_type": "code",
   "execution_count": 2,
   "id": "c60867f7",
   "metadata": {},
   "outputs": [],
   "source": [
    "import matplotlib.pyplot as plt\n",
    "\n",
    "import pickle\n",
    "\n",
    "import statsmodels.api as sm\n",
    "\n",
    "from collections import defaultdict\n",
    "\n",
    "from scipy.linalg import sqrtm\n",
    "\n",
    "from scipy.special import expit, logit"
   ]
  },
  {
   "cell_type": "code",
   "execution_count": null,
   "id": "ea94d4bc-ecb6-48a9-913e-690783b7a9d8",
   "metadata": {},
   "outputs": [],
   "source": []
  },
  {
   "cell_type": "markdown",
   "id": "8fc5f200-f365-4416-a2d1-20cab3cdd4a0",
   "metadata": {},
   "source": [
    "# Helper Functions:"
   ]
  },
  {
   "cell_type": "code",
   "execution_count": 1,
   "id": "a16ebe9e-10be-49d0-9657-b51692f8ed4d",
   "metadata": {},
   "outputs": [
    {
     "ename": "ModuleNotFoundError",
     "evalue": "No module named 'scipy'",
     "output_type": "error",
     "traceback": [
      "\u001b[1;31m---------------------------------------------------------------------------\u001b[0m",
      "\u001b[1;31mModuleNotFoundError\u001b[0m                       Traceback (most recent call last)",
      "Cell \u001b[1;32mIn[1], line 1\u001b[0m\n\u001b[1;32m----> 1\u001b[0m \u001b[38;5;28;01mfrom\u001b[39;00m \u001b[38;5;21;01mscipy\u001b[39;00m\u001b[38;5;21;01m.\u001b[39;00m\u001b[38;5;21;01mstats\u001b[39;00m \u001b[38;5;28;01mimport\u001b[39;00m norm\n",
      "\u001b[1;31mModuleNotFoundError\u001b[0m: No module named 'scipy'"
     ]
    }
   ],
   "source": [
    "from scipy.stats import norm"
   ]
  },
  {
   "cell_type": "code",
   "execution_count": null,
   "id": "511f0c99-b381-4d2d-a97e-d65967ddfdc4",
   "metadata": {},
   "outputs": [],
   "source": [
    "import sys\n",
    "\n",
    "sys.path.append('../')\n",
    "\n",
    "from ddc_utils import *\n",
    "from data_generating_utils import *"
   ]
  },
  {
   "cell_type": "markdown",
   "id": "b2bfdd51",
   "metadata": {},
   "source": [
    "# Hyperparams:"
   ]
  },
  {
   "cell_type": "code",
   "execution_count": 7,
   "id": "7f1fc130",
   "metadata": {},
   "outputs": [],
   "source": [
    "pop_index = 1\n",
    "iter_val = 0"
   ]
  },
  {
   "cell_type": "code",
   "execution_count": 8,
   "id": "c4ae7e04",
   "metadata": {},
   "outputs": [],
   "source": [
    "rand_generator = np.random.default_rng(seed=333 * pop_index + iter_val)"
   ]
  },
  {
   "cell_type": "code",
   "execution_count": 9,
   "id": "29d053a9",
   "metadata": {},
   "outputs": [],
   "source": [
    "population_size = 100_000\n",
    "\n",
    "number_of_coefficients = 1\n",
    "\n",
    "num_iters_per_population = 25_000\n",
    "true_beta = 0.610\n",
    "link = 'Probit'"
   ]
  },
  {
   "cell_type": "code",
   "execution_count": 10,
   "id": "0363039f",
   "metadata": {},
   "outputs": [],
   "source": [
    "ALL_SAMPLE_SIZES = [1000]"
   ]
  },
  {
   "cell_type": "code",
   "execution_count": null,
   "id": "0bd16c32",
   "metadata": {},
   "outputs": [],
   "source": []
  },
  {
   "cell_type": "markdown",
   "id": "25216b90",
   "metadata": {},
   "source": [
    "# Run:"
   ]
  },
  {
   "cell_type": "code",
   "execution_count": 11,
   "id": "5c9b81a2",
   "metadata": {},
   "outputs": [],
   "source": [
    "feature_cols = [f'x_{i}' for i in range(number_of_coefficients)]"
   ]
  },
  {
   "cell_type": "code",
   "execution_count": 12,
   "id": "65af24c9",
   "metadata": {},
   "outputs": [],
   "source": [
    "# hypervariabes where things will be saved as key of sample size -> list.\n",
    "all_jns_per_sample_size_biased = defaultdict(list)\n",
    "all_ddc_per_sample_size_biased = defaultdict(list)\n",
    "all_sample_beta_per_sample_size_biased = defaultdict(list)\n",
    "\n",
    "all_jns_per_sample_size_full = defaultdict(list)\n",
    "all_ddc_per_sample_size_full = defaultdict(list)\n",
    "all_sample_beta_per_sample_size_full = defaultdict(list)\n",
    "\n",
    "\n",
    "\n",
    "all_realized_sample_sizes_per_sample_size = defaultdict(list)\n",
    "all_pop_beta_per_sample_size = defaultdict(list)\n",
    "\n",
    "sample_specific_non_separable_count = {}"
   ]
  },
  {
   "cell_type": "code",
   "execution_count": 13,
   "id": "c2a6681e",
   "metadata": {},
   "outputs": [],
   "source": [
    "sample_probability_centering = 0.77\n",
    "sample_probability_bias_factor = 1"
   ]
  },
  {
   "cell_type": "code",
   "execution_count": 14,
   "id": "34cbdbdb",
   "metadata": {},
   "outputs": [],
   "source": [
    "pop_data = generate_population_data(population_size, number_of_coefficients, \n",
    "                                    feature_cols = feature_cols, true_beta = true_beta, link = link)"
   ]
  },
  {
   "cell_type": "code",
   "execution_count": 15,
   "id": "4877fcae",
   "metadata": {},
   "outputs": [],
   "source": [
    "pickle_filename = f'base_population_data_{link}_{true_beta}.pickle'\n",
    "with open(pickle_filename, 'wb') as handle:\n",
    "    pickle.dump(pop_data, handle)"
   ]
  },
  {
   "cell_type": "code",
   "execution_count": 16,
   "id": "e256c431",
   "metadata": {},
   "outputs": [],
   "source": [
    "model_iteration = [(0, 'Logit'), (1, 'Probit'), (2, 'CLogLog')]"
   ]
  },
  {
   "cell_type": "markdown",
   "id": "1b506e88",
   "metadata": {},
   "source": [
    "#### get population-level statistics:"
   ]
  },
  {
   "cell_type": "code",
   "execution_count": 17,
   "id": "c217fb9d",
   "metadata": {},
   "outputs": [],
   "source": [
    "pop_x = pop_data[feature_cols]\n",
    "pop_y = pop_data['y']\n",
    "\n",
    "pop_model = sm.Logit(endog = pop_y, exog = pop_x).fit(disp=0)\n",
    "pop_beta = np.array(pop_model.params)\n",
    "pop_gs = pop_x * (np.array(pop_y).reshape((population_size, 1)) - \\\n",
    "              np.array(pop_model.predict()).reshape((population_size, 1)))"
   ]
  },
  {
   "cell_type": "markdown",
   "id": "c06e2d31",
   "metadata": {},
   "source": [
    "compute the population models:"
   ]
  },
  {
   "cell_type": "code",
   "execution_count": 18,
   "id": "95bff6bd",
   "metadata": {},
   "outputs": [],
   "source": [
    "def compute_all_three_logistic_models(x_data, y_data):\n",
    "    temp_logit_model = sm.Logit(endog = y_data, exog = x_data).fit(disp=0)\n",
    "    temp_probit_model = sm.GLM(y_data, x_data, family=sm.families.Binomial(link=sm.families.links.Probit())).fit()\n",
    "    temp_cloglog_model = sm.GLM(y_data, x_data, family=sm.families.Binomial(link=sm.families.links.CLogLog())).fit()\n",
    "    return [temp_logit_model, temp_probit_model, temp_cloglog_model]"
   ]
  },
  {
   "cell_type": "code",
   "execution_count": 19,
   "id": "c10a9f32",
   "metadata": {},
   "outputs": [],
   "source": [
    "population_models = compute_all_three_logistic_models(pop_x, pop_y)\n",
    "pop_logit_model, pop_probit_model, pop_cloglog_model = population_models"
   ]
  },
  {
   "cell_type": "markdown",
   "id": "d9d042dc",
   "metadata": {},
   "source": [
    "save their betas:"
   ]
  },
  {
   "cell_type": "code",
   "execution_count": 20,
   "id": "96ea14a2",
   "metadata": {},
   "outputs": [],
   "source": [
    "pop_betas = [np.array(pop_logit_model.params), \n",
    "             np.array(pop_probit_model.params), \n",
    "             np.array(pop_cloglog_model.params)]"
   ]
  },
  {
   "cell_type": "code",
   "execution_count": 21,
   "id": "8fd46059",
   "metadata": {},
   "outputs": [
    {
     "data": {
      "text/plain": [
       "[array([1.01802156]), array([0.61579984]), array([0.5698061])]"
      ]
     },
     "execution_count": 21,
     "metadata": {},
     "output_type": "execute_result"
    }
   ],
   "source": [
    "pop_betas"
   ]
  },
  {
   "cell_type": "markdown",
   "id": "56c00b66",
   "metadata": {},
   "source": [
    "compute the gs:"
   ]
  },
  {
   "cell_type": "code",
   "execution_count": 22,
   "id": "24a8102b",
   "metadata": {},
   "outputs": [],
   "source": [
    "pop_gs = {}"
   ]
  },
  {
   "cell_type": "code",
   "execution_count": 23,
   "id": "5cc24f59",
   "metadata": {},
   "outputs": [],
   "source": [
    "pop_gs['Logit'] = pop_x * (np.array(pop_y).reshape((population_size, 1)) - \\\n",
    "                    np.array(pop_logit_model.predict()).reshape((population_size, 1)))"
   ]
  },
  {
   "cell_type": "code",
   "execution_count": 24,
   "id": "c98d1cc2",
   "metadata": {},
   "outputs": [],
   "source": [
    "# compute probit gs \n",
    "temp_mu_is = pop_probit_model.predict()\n",
    "variance_denominator = 1/((temp_mu_is) * (1 - temp_mu_is))\n",
    "dmu_dg = norm.pdf(pop_x @ pop_probit_model.params)\n",
    "pop_gs['Probit'] = pop_x.mul(((pop_y - temp_mu_is) * variance_denominator * dmu_dg), axis=0)"
   ]
  },
  {
   "cell_type": "code",
   "execution_count": 25,
   "id": "eaad6a74",
   "metadata": {},
   "outputs": [],
   "source": [
    "# compute cloglog gs \n",
    "temp_mu_is = pop_cloglog_model.predict()\n",
    "variance_denominator = 1/((temp_mu_is) * (1 - temp_mu_is))\n",
    "dmu_dg = np.log(1 - temp_mu_is) * (temp_mu_is - 1)\n",
    "pop_gs['CLogLog'] = pop_x.mul(((pop_y - temp_mu_is) * variance_denominator * dmu_dg), axis=0)"
   ]
  },
  {
   "cell_type": "markdown",
   "id": "06e44da0",
   "metadata": {},
   "source": [
    "#### actually run:"
   ]
  },
  {
   "cell_type": "code",
   "execution_count": 26,
   "id": "260fd510",
   "metadata": {
    "scrolled": true
   },
   "outputs": [
    {
     "name": "stderr",
     "output_type": "stream",
     "text": [
      "  0%|                                                                                            | 0/1 [00:00<?, ?it/s]\n",
      "  0%|                                                                                        | 0/10000 [00:00<?, ?it/s]\u001b[AC:\\Users\\Jason\\.conda\\envs\\airsoft\\lib\\site-packages\\pandas\\core\\arraylike.py:396: RuntimeWarning: divide by zero encountered in log\n",
      "  result = getattr(ufunc, method)(*inputs, **kwargs)\n",
      "\n",
      "  1%|▊                                                                             | 107/10000 [00:10<15:30, 10.63it/s]\u001b[AC:\\Users\\Jason\\.conda\\envs\\airsoft\\lib\\site-packages\\pandas\\core\\arraylike.py:396: RuntimeWarning: divide by zero encountered in log\n",
      "  result = getattr(ufunc, method)(*inputs, **kwargs)\n",
      "C:\\Users\\Jason\\.conda\\envs\\airsoft\\lib\\site-packages\\pandas\\core\\arraylike.py:396: RuntimeWarning: divide by zero encountered in log\n",
      "  result = getattr(ufunc, method)(*inputs, **kwargs)\n",
      "C:\\Users\\Jason\\.conda\\envs\\airsoft\\lib\\site-packages\\pandas\\core\\arraylike.py:396: RuntimeWarning: divide by zero encountered in log\n",
      "  result = getattr(ufunc, method)(*inputs, **kwargs)\n",
      "C:\\Users\\Jason\\.conda\\envs\\airsoft\\lib\\site-packages\\pandas\\core\\arraylike.py:396: RuntimeWarning: divide by zero encountered in log\n",
      "  result = getattr(ufunc, method)(*inputs, **kwargs)\n",
      "C:\\Users\\Jason\\.conda\\envs\\airsoft\\lib\\site-packages\\pandas\\core\\arraylike.py:396: RuntimeWarning: divide by zero encountered in log\n",
      "  result = getattr(ufunc, method)(*inputs, **kwargs)\n",
      "\n",
      "  2%|█▋                                                                            | 215/10000 [00:20<15:13, 10.71it/s]\u001b[AC:\\Users\\Jason\\.conda\\envs\\airsoft\\lib\\site-packages\\pandas\\core\\arraylike.py:396: RuntimeWarning: divide by zero encountered in log\n",
      "  result = getattr(ufunc, method)(*inputs, **kwargs)\n",
      "C:\\Users\\Jason\\.conda\\envs\\airsoft\\lib\\site-packages\\pandas\\core\\arraylike.py:396: RuntimeWarning: divide by zero encountered in log\n",
      "  result = getattr(ufunc, method)(*inputs, **kwargs)\n",
      "C:\\Users\\Jason\\.conda\\envs\\airsoft\\lib\\site-packages\\pandas\\core\\arraylike.py:396: RuntimeWarning: divide by zero encountered in log\n",
      "  result = getattr(ufunc, method)(*inputs, **kwargs)\n",
      "\n",
      "  3%|██▌                                                                           | 326/10000 [00:30<14:48, 10.88it/s]\u001b[AC:\\Users\\Jason\\.conda\\envs\\airsoft\\lib\\site-packages\\pandas\\core\\arraylike.py:396: RuntimeWarning: divide by zero encountered in log\n",
      "  result = getattr(ufunc, method)(*inputs, **kwargs)\n",
      "C:\\Users\\Jason\\.conda\\envs\\airsoft\\lib\\site-packages\\pandas\\core\\arraylike.py:396: RuntimeWarning: divide by zero encountered in log\n",
      "  result = getattr(ufunc, method)(*inputs, **kwargs)\n",
      "\n",
      "  4%|███▍                                                                          | 437/10000 [00:40<14:42, 10.84it/s]\u001b[AC:\\Users\\Jason\\.conda\\envs\\airsoft\\lib\\site-packages\\pandas\\core\\arraylike.py:396: RuntimeWarning: divide by zero encountered in log\n",
      "  result = getattr(ufunc, method)(*inputs, **kwargs)\n",
      "C:\\Users\\Jason\\.conda\\envs\\airsoft\\lib\\site-packages\\pandas\\core\\arraylike.py:396: RuntimeWarning: divide by zero encountered in log\n",
      "  result = getattr(ufunc, method)(*inputs, **kwargs)\n",
      "\n",
      "  5%|████▎                                                                         | 547/10000 [00:50<14:30, 10.86it/s]\u001b[AC:\\Users\\Jason\\.conda\\envs\\airsoft\\lib\\site-packages\\pandas\\core\\arraylike.py:396: RuntimeWarning: divide by zero encountered in log\n",
      "  result = getattr(ufunc, method)(*inputs, **kwargs)\n",
      "C:\\Users\\Jason\\.conda\\envs\\airsoft\\lib\\site-packages\\pandas\\core\\arraylike.py:396: RuntimeWarning: divide by zero encountered in log\n",
      "  result = getattr(ufunc, method)(*inputs, **kwargs)\n",
      "\n",
      "  7%|█████▏                                                                        | 659/10000 [01:00<14:13, 10.95it/s]\u001b[AC:\\Users\\Jason\\.conda\\envs\\airsoft\\lib\\site-packages\\pandas\\core\\arraylike.py:396: RuntimeWarning: divide by zero encountered in log\n",
      "  result = getattr(ufunc, method)(*inputs, **kwargs)\n",
      "\n",
      "  8%|██████                                                                        | 776/10000 [01:10<13:46, 11.17it/s]\u001b[AC:\\Users\\Jason\\.conda\\envs\\airsoft\\lib\\site-packages\\pandas\\core\\arraylike.py:396: RuntimeWarning: divide by zero encountered in log\n",
      "  result = getattr(ufunc, method)(*inputs, **kwargs)\n",
      "C:\\Users\\Jason\\.conda\\envs\\airsoft\\lib\\site-packages\\pandas\\core\\arraylike.py:396: RuntimeWarning: divide by zero encountered in log\n",
      "  result = getattr(ufunc, method)(*inputs, **kwargs)\n",
      "\n",
      "  9%|██████▉                                                                       | 893/10000 [01:20<13:25, 11.31it/s]\u001b[AC:\\Users\\Jason\\.conda\\envs\\airsoft\\lib\\site-packages\\pandas\\core\\arraylike.py:396: RuntimeWarning: divide by zero encountered in log\n",
      "  result = getattr(ufunc, method)(*inputs, **kwargs)\n",
      "C:\\Users\\Jason\\.conda\\envs\\airsoft\\lib\\site-packages\\pandas\\core\\arraylike.py:396: RuntimeWarning: divide by zero encountered in log\n",
      "  result = getattr(ufunc, method)(*inputs, **kwargs)\n",
      "C:\\Users\\Jason\\.conda\\envs\\airsoft\\lib\\site-packages\\pandas\\core\\arraylike.py:396: RuntimeWarning: divide by zero encountered in log\n",
      "  result = getattr(ufunc, method)(*inputs, **kwargs)\n",
      "C:\\Users\\Jason\\.conda\\envs\\airsoft\\lib\\site-packages\\pandas\\core\\arraylike.py:396: RuntimeWarning: divide by zero encountered in log\n",
      "  result = getattr(ufunc, method)(*inputs, **kwargs)\n",
      "\n",
      " 10%|███████▊                                                                     | 1015/10000 [01:30<12:56, 11.57it/s]\u001b[AC:\\Users\\Jason\\.conda\\envs\\airsoft\\lib\\site-packages\\pandas\\core\\arraylike.py:396: RuntimeWarning: divide by zero encountered in log\n",
      "  result = getattr(ufunc, method)(*inputs, **kwargs)\n",
      "\n",
      " 11%|████████▊                                                                    | 1137/10000 [01:42<13:06, 11.26it/s]\u001b[AC:\\Users\\Jason\\.conda\\envs\\airsoft\\lib\\site-packages\\pandas\\core\\arraylike.py:396: RuntimeWarning: divide by zero encountered in log\n",
      "  result = getattr(ufunc, method)(*inputs, **kwargs)\n",
      "C:\\Users\\Jason\\.conda\\envs\\airsoft\\lib\\site-packages\\pandas\\core\\arraylike.py:396: RuntimeWarning: divide by zero encountered in log\n",
      "  result = getattr(ufunc, method)(*inputs, **kwargs)\n",
      "C:\\Users\\Jason\\.conda\\envs\\airsoft\\lib\\site-packages\\pandas\\core\\arraylike.py:396: RuntimeWarning: divide by zero encountered in log\n",
      "  result = getattr(ufunc, method)(*inputs, **kwargs)\n",
      "\n",
      " 12%|█████████▌                                                                   | 1244/10000 [01:52<13:13, 11.04it/s]\u001b[A\n",
      " 14%|██████████▍                                                                  | 1361/10000 [02:02<12:49, 11.22it/s]\u001b[A\n",
      " 15%|███████████▍                                                                 | 1487/10000 [02:12<12:12, 11.63it/s]\u001b[AC:\\Users\\Jason\\.conda\\envs\\airsoft\\lib\\site-packages\\pandas\\core\\arraylike.py:396: RuntimeWarning: divide by zero encountered in log\n",
      "  result = getattr(ufunc, method)(*inputs, **kwargs)\n",
      "C:\\Users\\Jason\\.conda\\envs\\airsoft\\lib\\site-packages\\pandas\\core\\arraylike.py:396: RuntimeWarning: divide by zero encountered in log\n",
      "  result = getattr(ufunc, method)(*inputs, **kwargs)\n",
      "\n",
      " 16%|████████████▍                                                                | 1613/10000 [02:22<11:51, 11.79it/s]\u001b[A\n",
      " 17%|█████████████▍                                                               | 1738/10000 [02:32<11:30, 11.97it/s]\u001b[AC:\\Users\\Jason\\.conda\\envs\\airsoft\\lib\\site-packages\\pandas\\core\\arraylike.py:396: RuntimeWarning: divide by zero encountered in log\n",
      "  result = getattr(ufunc, method)(*inputs, **kwargs)\n",
      "\n",
      " 19%|██████████████▎                                                              | 1863/10000 [02:42<11:12, 12.10it/s]\u001b[AC:\\Users\\Jason\\.conda\\envs\\airsoft\\lib\\site-packages\\pandas\\core\\arraylike.py:396: RuntimeWarning: divide by zero encountered in log\n",
      "  result = getattr(ufunc, method)(*inputs, **kwargs)\n",
      "C:\\Users\\Jason\\.conda\\envs\\airsoft\\lib\\site-packages\\pandas\\core\\arraylike.py:396: RuntimeWarning: divide by zero encountered in log\n",
      "  result = getattr(ufunc, method)(*inputs, **kwargs)\n",
      "\n",
      " 20%|███████████████▎                                                             | 1989/10000 [02:53<10:55, 12.22it/s]\u001b[AC:\\Users\\Jason\\.conda\\envs\\airsoft\\lib\\site-packages\\pandas\\core\\arraylike.py:396: RuntimeWarning: divide by zero encountered in log\n",
      "  result = getattr(ufunc, method)(*inputs, **kwargs)\n"
     ]
    },
    {
     "name": "stderr",
     "output_type": "stream",
     "text": [
      "\n",
      " 21%|████████████████▎                                                            | 2115/10000 [03:03<10:51, 12.10it/s]\u001b[AC:\\Users\\Jason\\.conda\\envs\\airsoft\\lib\\site-packages\\pandas\\core\\arraylike.py:396: RuntimeWarning: divide by zero encountered in log\n",
      "  result = getattr(ufunc, method)(*inputs, **kwargs)\n",
      "C:\\Users\\Jason\\.conda\\envs\\airsoft\\lib\\site-packages\\pandas\\core\\arraylike.py:396: RuntimeWarning: divide by zero encountered in log\n",
      "  result = getattr(ufunc, method)(*inputs, **kwargs)\n",
      "C:\\Users\\Jason\\.conda\\envs\\airsoft\\lib\\site-packages\\pandas\\core\\arraylike.py:396: RuntimeWarning: divide by zero encountered in log\n",
      "  result = getattr(ufunc, method)(*inputs, **kwargs)\n",
      "C:\\Users\\Jason\\.conda\\envs\\airsoft\\lib\\site-packages\\pandas\\core\\arraylike.py:396: RuntimeWarning: divide by zero encountered in log\n",
      "  result = getattr(ufunc, method)(*inputs, **kwargs)\n",
      "C:\\Users\\Jason\\.conda\\envs\\airsoft\\lib\\site-packages\\pandas\\core\\arraylike.py:396: RuntimeWarning: divide by zero encountered in log\n",
      "  result = getattr(ufunc, method)(*inputs, **kwargs)\n",
      "\n",
      " 22%|█████████████████▏                                                           | 2234/10000 [03:13<10:45, 12.03it/s]\u001b[AC:\\Users\\Jason\\.conda\\envs\\airsoft\\lib\\site-packages\\pandas\\core\\arraylike.py:396: RuntimeWarning: divide by zero encountered in log\n",
      "  result = getattr(ufunc, method)(*inputs, **kwargs)\n",
      "\n",
      " 24%|██████████████████                                                           | 2353/10000 [03:24<10:54, 11.69it/s]\u001b[AC:\\Users\\Jason\\.conda\\envs\\airsoft\\lib\\site-packages\\pandas\\core\\arraylike.py:396: RuntimeWarning: divide by zero encountered in log\n",
      "  result = getattr(ufunc, method)(*inputs, **kwargs)\n",
      "\n",
      " 25%|██████████████████▉                                                          | 2463/10000 [03:35<11:06, 11.30it/s]\u001b[AC:\\Users\\Jason\\.conda\\envs\\airsoft\\lib\\site-packages\\pandas\\core\\arraylike.py:396: RuntimeWarning: divide by zero encountered in log\n",
      "  result = getattr(ufunc, method)(*inputs, **kwargs)\n",
      "C:\\Users\\Jason\\.conda\\envs\\airsoft\\lib\\site-packages\\pandas\\core\\arraylike.py:396: RuntimeWarning: divide by zero encountered in log\n",
      "  result = getattr(ufunc, method)(*inputs, **kwargs)\n",
      "C:\\Users\\Jason\\.conda\\envs\\airsoft\\lib\\site-packages\\pandas\\core\\arraylike.py:396: RuntimeWarning: divide by zero encountered in log\n",
      "  result = getattr(ufunc, method)(*inputs, **kwargs)\n",
      "\n",
      " 26%|███████████████████▊                                                         | 2579/10000 [03:45<10:53, 11.36it/s]\u001b[AC:\\Users\\Jason\\.conda\\envs\\airsoft\\lib\\site-packages\\pandas\\core\\arraylike.py:396: RuntimeWarning: divide by zero encountered in log\n",
      "  result = getattr(ufunc, method)(*inputs, **kwargs)\n",
      "C:\\Users\\Jason\\.conda\\envs\\airsoft\\lib\\site-packages\\pandas\\core\\arraylike.py:396: RuntimeWarning: divide by zero encountered in log\n",
      "  result = getattr(ufunc, method)(*inputs, **kwargs)\n",
      "\n",
      " 27%|████████████████████▋                                                        | 2694/10000 [03:56<11:08, 10.93it/s]\u001b[A\n",
      " 28%|█████████████████████▌                                                       | 2804/10000 [04:06<10:58, 10.92it/s]\u001b[AC:\\Users\\Jason\\.conda\\envs\\airsoft\\lib\\site-packages\\pandas\\core\\arraylike.py:396: RuntimeWarning: divide by zero encountered in log\n",
      "  result = getattr(ufunc, method)(*inputs, **kwargs)\n",
      "\n",
      " 29%|██████████████████████▍                                                      | 2916/10000 [04:16<10:45, 10.98it/s]\u001b[AC:\\Users\\Jason\\.conda\\envs\\airsoft\\lib\\site-packages\\pandas\\core\\arraylike.py:396: RuntimeWarning: divide by zero encountered in log\n",
      "  result = getattr(ufunc, method)(*inputs, **kwargs)\n",
      "\n",
      " 30%|███████████████████████▎                                                     | 3028/10000 [04:27<10:34, 10.99it/s]\u001b[A\n",
      " 31%|████████████████████████▏                                                    | 3142/10000 [04:37<10:18, 11.09it/s]\u001b[A\n",
      " 33%|█████████████████████████                                                    | 3256/10000 [04:47<10:06, 11.12it/s]\u001b[A\n",
      " 34%|█████████████████████████▉                                                   | 3369/10000 [04:58<10:12, 10.83it/s]\u001b[A\n",
      " 35%|██████████████████████████▋                                                  | 3472/10000 [05:09<10:34, 10.29it/s]\u001b[AC:\\Users\\Jason\\.conda\\envs\\airsoft\\lib\\site-packages\\pandas\\core\\arraylike.py:396: RuntimeWarning: divide by zero encountered in log\n",
      "  result = getattr(ufunc, method)(*inputs, **kwargs)\n",
      "C:\\Users\\Jason\\.conda\\envs\\airsoft\\lib\\site-packages\\pandas\\core\\arraylike.py:396: RuntimeWarning: divide by zero encountered in log\n",
      "  result = getattr(ufunc, method)(*inputs, **kwargs)\n",
      "C:\\Users\\Jason\\.conda\\envs\\airsoft\\lib\\site-packages\\pandas\\core\\arraylike.py:396: RuntimeWarning: divide by zero encountered in log\n",
      "  result = getattr(ufunc, method)(*inputs, **kwargs)\n",
      "\n",
      " 36%|███████████████████████████▋                                                 | 3588/10000 [05:19<10:01, 10.66it/s]\u001b[AC:\\Users\\Jason\\.conda\\envs\\airsoft\\lib\\site-packages\\pandas\\core\\arraylike.py:396: RuntimeWarning: divide by zero encountered in log\n",
      "  result = getattr(ufunc, method)(*inputs, **kwargs)\n",
      "\n",
      " 36%|███████████████████████████▋                                                 | 3588/10000 [05:30<10:01, 10.66it/s]\u001b[A\n",
      " 37%|████████████████████████████▌                                                | 3702/10000 [05:30<09:55, 10.58it/s]\u001b[AC:\\Users\\Jason\\.conda\\envs\\airsoft\\lib\\site-packages\\pandas\\core\\arraylike.py:396: RuntimeWarning: divide by zero encountered in log\n",
      "  result = getattr(ufunc, method)(*inputs, **kwargs)\n",
      "C:\\Users\\Jason\\.conda\\envs\\airsoft\\lib\\site-packages\\pandas\\core\\arraylike.py:396: RuntimeWarning: divide by zero encountered in log\n",
      "  result = getattr(ufunc, method)(*inputs, **kwargs)\n",
      "\n",
      " 38%|█████████████████████████████▎                                               | 3813/10000 [05:40<09:37, 10.71it/s]\u001b[AC:\\Users\\Jason\\.conda\\envs\\airsoft\\lib\\site-packages\\pandas\\core\\arraylike.py:396: RuntimeWarning: divide by zero encountered in log\n",
      "  result = getattr(ufunc, method)(*inputs, **kwargs)\n",
      "\n",
      " 39%|██████████████████████████████▏                                              | 3924/10000 [05:51<09:30, 10.65it/s]\u001b[A\n",
      " 40%|███████████████████████████████▏                                             | 4044/10000 [06:01<08:59, 11.03it/s]\u001b[A\n",
      " 42%|████████████████████████████████                                             | 4164/10000 [06:11<08:37, 11.28it/s]\u001b[AC:\\Users\\Jason\\.conda\\envs\\airsoft\\lib\\site-packages\\pandas\\core\\arraylike.py:396: RuntimeWarning: divide by zero encountered in log\n",
      "  result = getattr(ufunc, method)(*inputs, **kwargs)\n",
      "\n",
      " 43%|████████████████████████████████▉                                            | 4283/10000 [06:22<08:34, 11.12it/s]\u001b[AC:\\Users\\Jason\\.conda\\envs\\airsoft\\lib\\site-packages\\pandas\\core\\arraylike.py:396: RuntimeWarning: divide by zero encountered in log\n",
      "  result = getattr(ufunc, method)(*inputs, **kwargs)\n",
      "C:\\Users\\Jason\\.conda\\envs\\airsoft\\lib\\site-packages\\pandas\\core\\arraylike.py:396: RuntimeWarning: divide by zero encountered in log\n",
      "  result = getattr(ufunc, method)(*inputs, **kwargs)\n",
      "\n",
      " 44%|█████████████████████████████████▊                                           | 4391/10000 [06:32<08:35, 10.87it/s]\u001b[AC:\\Users\\Jason\\.conda\\envs\\airsoft\\lib\\site-packages\\pandas\\core\\arraylike.py:396: RuntimeWarning: divide by zero encountered in log\n",
      "  result = getattr(ufunc, method)(*inputs, **kwargs)\n",
      "C:\\Users\\Jason\\.conda\\envs\\airsoft\\lib\\site-packages\\pandas\\core\\arraylike.py:396: RuntimeWarning: divide by zero encountered in log\n",
      "  result = getattr(ufunc, method)(*inputs, **kwargs)\n",
      "C:\\Users\\Jason\\.conda\\envs\\airsoft\\lib\\site-packages\\pandas\\core\\arraylike.py:396: RuntimeWarning: divide by zero encountered in log\n",
      "  result = getattr(ufunc, method)(*inputs, **kwargs)\n",
      "\n",
      " 45%|██████████████████████████████████▋                                          | 4508/10000 [06:42<08:14, 11.11it/s]\u001b[AC:\\Users\\Jason\\.conda\\envs\\airsoft\\lib\\site-packages\\pandas\\core\\arraylike.py:396: RuntimeWarning: divide by zero encountered in log\n",
      "  result = getattr(ufunc, method)(*inputs, **kwargs)\n",
      "\n",
      " 46%|███████████████████████████████████▌                                         | 4625/10000 [06:53<08:08, 11.01it/s]\u001b[A\n"
     ]
    },
    {
     "name": "stderr",
     "output_type": "stream",
     "text": [
      " 47%|████████████████████████████████████▍                                        | 4734/10000 [07:03<08:01, 10.93it/s]\u001b[AC:\\Users\\Jason\\.conda\\envs\\airsoft\\lib\\site-packages\\pandas\\core\\arraylike.py:396: RuntimeWarning: divide by zero encountered in log\n",
      "  result = getattr(ufunc, method)(*inputs, **kwargs)\n",
      "\n",
      " 49%|█████████████████████████████████████▍                                       | 4854/10000 [07:14<07:38, 11.22it/s]\u001b[A\n",
      " 50%|██████████████████████████████████████▎                                      | 4975/10000 [07:24<07:18, 11.47it/s]\u001b[AC:\\Users\\Jason\\.conda\\envs\\airsoft\\lib\\site-packages\\pandas\\core\\arraylike.py:396: RuntimeWarning: divide by zero encountered in log\n",
      "  result = getattr(ufunc, method)(*inputs, **kwargs)\n",
      "\n",
      " 51%|███████████████████████████████████████▏                                     | 5096/10000 [07:34<07:05, 11.54it/s]\u001b[AC:\\Users\\Jason\\.conda\\envs\\airsoft\\lib\\site-packages\\pandas\\core\\arraylike.py:396: RuntimeWarning: divide by zero encountered in log\n",
      "  result = getattr(ufunc, method)(*inputs, **kwargs)\n",
      "C:\\Users\\Jason\\.conda\\envs\\airsoft\\lib\\site-packages\\pandas\\core\\arraylike.py:396: RuntimeWarning: divide by zero encountered in log\n",
      "  result = getattr(ufunc, method)(*inputs, **kwargs)\n",
      "C:\\Users\\Jason\\.conda\\envs\\airsoft\\lib\\site-packages\\pandas\\core\\arraylike.py:396: RuntimeWarning: divide by zero encountered in log\n",
      "  result = getattr(ufunc, method)(*inputs, **kwargs)\n",
      "\n",
      " 52%|████████████████████████████████████████▏                                    | 5213/10000 [07:44<07:00, 11.38it/s]\u001b[A\n",
      " 53%|█████████████████████████████████████████                                    | 5327/10000 [07:55<06:50, 11.38it/s]\u001b[AC:\\Users\\Jason\\.conda\\envs\\airsoft\\lib\\site-packages\\pandas\\core\\arraylike.py:396: RuntimeWarning: divide by zero encountered in log\n",
      "  result = getattr(ufunc, method)(*inputs, **kwargs)\n",
      "C:\\Users\\Jason\\.conda\\envs\\airsoft\\lib\\site-packages\\pandas\\core\\arraylike.py:396: RuntimeWarning: divide by zero encountered in log\n",
      "  result = getattr(ufunc, method)(*inputs, **kwargs)\n",
      "\n",
      " 54%|█████████████████████████████████████████▉                                   | 5442/10000 [08:05<06:39, 11.40it/s]\u001b[A\n",
      " 56%|██████████████████████████████████████████▊                                  | 5557/10000 [08:16<06:50, 10.82it/s]\u001b[A\n",
      " 57%|███████████████████████████████████████████▌                                 | 5663/10000 [08:27<06:43, 10.75it/s]\u001b[AC:\\Users\\Jason\\.conda\\envs\\airsoft\\lib\\site-packages\\pandas\\core\\arraylike.py:396: RuntimeWarning: divide by zero encountered in log\n",
      "  result = getattr(ufunc, method)(*inputs, **kwargs)\n",
      "C:\\Users\\Jason\\.conda\\envs\\airsoft\\lib\\site-packages\\pandas\\core\\arraylike.py:396: RuntimeWarning: divide by zero encountered in log\n",
      "  result = getattr(ufunc, method)(*inputs, **kwargs)\n",
      "C:\\Users\\Jason\\.conda\\envs\\airsoft\\lib\\site-packages\\pandas\\core\\arraylike.py:396: RuntimeWarning: divide by zero encountered in log\n",
      "  result = getattr(ufunc, method)(*inputs, **kwargs)\n",
      "\n",
      " 58%|████████████████████████████████████████████▍                                | 5772/10000 [08:37<06:32, 10.77it/s]\u001b[AC:\\Users\\Jason\\.conda\\envs\\airsoft\\lib\\site-packages\\pandas\\core\\arraylike.py:396: RuntimeWarning: divide by zero encountered in log\n",
      "  result = getattr(ufunc, method)(*inputs, **kwargs)\n",
      "\n",
      " 59%|█████████████████████████████████████████████▎                               | 5881/10000 [08:47<06:22, 10.77it/s]\u001b[AC:\\Users\\Jason\\.conda\\envs\\airsoft\\lib\\site-packages\\pandas\\core\\arraylike.py:396: RuntimeWarning: divide by zero encountered in log\n",
      "  result = getattr(ufunc, method)(*inputs, **kwargs)\n",
      "C:\\Users\\Jason\\.conda\\envs\\airsoft\\lib\\site-packages\\pandas\\core\\arraylike.py:396: RuntimeWarning: divide by zero encountered in log\n",
      "  result = getattr(ufunc, method)(*inputs, **kwargs)\n",
      "\n",
      " 60%|██████████████████████████████████████████████                               | 5989/10000 [08:58<06:25, 10.40it/s]\u001b[AC:\\Users\\Jason\\.conda\\envs\\airsoft\\lib\\site-packages\\pandas\\core\\arraylike.py:396: RuntimeWarning: divide by zero encountered in log\n",
      "  result = getattr(ufunc, method)(*inputs, **kwargs)\n",
      "C:\\Users\\Jason\\.conda\\envs\\airsoft\\lib\\site-packages\\pandas\\core\\arraylike.py:396: RuntimeWarning: divide by zero encountered in log\n",
      "  result = getattr(ufunc, method)(*inputs, **kwargs)\n",
      "\n",
      " 61%|██████████████████████████████████████████████▉                              | 6101/10000 [09:08<06:07, 10.61it/s]\u001b[AC:\\Users\\Jason\\.conda\\envs\\airsoft\\lib\\site-packages\\pandas\\core\\arraylike.py:396: RuntimeWarning: divide by zero encountered in log\n",
      "  result = getattr(ufunc, method)(*inputs, **kwargs)\n",
      "\n",
      " 62%|███████████████████████████████████████████████▊                             | 6213/10000 [09:19<06:03, 10.42it/s]\u001b[AC:\\Users\\Jason\\.conda\\envs\\airsoft\\lib\\site-packages\\pandas\\core\\arraylike.py:396: RuntimeWarning: divide by zero encountered in log\n",
      "  result = getattr(ufunc, method)(*inputs, **kwargs)\n",
      "\n",
      " 63%|████████████████████████████████████████████████▋                            | 6315/10000 [09:29<05:56, 10.33it/s]\u001b[AC:\\Users\\Jason\\.conda\\envs\\airsoft\\lib\\site-packages\\pandas\\core\\arraylike.py:396: RuntimeWarning: divide by zero encountered in log\n",
      "  result = getattr(ufunc, method)(*inputs, **kwargs)\n",
      "C:\\Users\\Jason\\.conda\\envs\\airsoft\\lib\\site-packages\\pandas\\core\\arraylike.py:396: RuntimeWarning: divide by zero encountered in log\n",
      "  result = getattr(ufunc, method)(*inputs, **kwargs)\n",
      "\n",
      " 64%|█████████████████████████████████████████████████▍                           | 6422/10000 [09:39<05:42, 10.44it/s]\u001b[AC:\\Users\\Jason\\.conda\\envs\\airsoft\\lib\\site-packages\\pandas\\core\\arraylike.py:396: RuntimeWarning: divide by zero encountered in log\n",
      "  result = getattr(ufunc, method)(*inputs, **kwargs)\n",
      "\n",
      " 65%|██████████████████████████████████████████████████▎                          | 6529/10000 [09:50<05:35, 10.35it/s]\u001b[AC:\\Users\\Jason\\.conda\\envs\\airsoft\\lib\\site-packages\\pandas\\core\\arraylike.py:396: RuntimeWarning: divide by zero encountered in log\n",
      "  result = getattr(ufunc, method)(*inputs, **kwargs)\n",
      "C:\\Users\\Jason\\.conda\\envs\\airsoft\\lib\\site-packages\\pandas\\core\\arraylike.py:396: RuntimeWarning: divide by zero encountered in log\n",
      "  result = getattr(ufunc, method)(*inputs, **kwargs)\n",
      "\n",
      " 66%|███████████████████████████████████████████████████                          | 6636/10000 [10:00<05:22, 10.44it/s]\u001b[AC:\\Users\\Jason\\.conda\\envs\\airsoft\\lib\\site-packages\\pandas\\core\\arraylike.py:396: RuntimeWarning: divide by zero encountered in log\n",
      "  result = getattr(ufunc, method)(*inputs, **kwargs)\n",
      "\n",
      " 67%|███████████████████████████████████████████████████▉                         | 6748/10000 [10:10<05:05, 10.64it/s]\u001b[A\n",
      " 67%|███████████████████████████████████████████████████▉                         | 6748/10000 [10:20<05:05, 10.64it/s]\u001b[A\n",
      " 68%|████████████████████████████████████████████████████▋                        | 6842/10000 [10:20<05:11, 10.14it/s]\u001b[A\n",
      " 69%|█████████████████████████████████████████████████████▍                       | 6942/10000 [10:30<05:03, 10.07it/s]\u001b[AC:\\Users\\Jason\\.conda\\envs\\airsoft\\lib\\site-packages\\pandas\\core\\arraylike.py:396: RuntimeWarning: divide by zero encountered in log\n",
      "  result = getattr(ufunc, method)(*inputs, **kwargs)\n",
      "\n",
      " 70%|██████████████████████████████████████████████████████▏                      | 7042/10000 [10:41<04:55, 10.03it/s]\u001b[AC:\\Users\\Jason\\.conda\\envs\\airsoft\\lib\\site-packages\\pandas\\core\\arraylike.py:396: RuntimeWarning: divide by zero encountered in log\n",
      "  result = getattr(ufunc, method)(*inputs, **kwargs)\n",
      "\n",
      " 71%|██████████████████████████████████████████████████████▉                      | 7142/10000 [10:51<04:49,  9.86it/s]\u001b[AC:\\Users\\Jason\\.conda\\envs\\airsoft\\lib\\site-packages\\pandas\\core\\arraylike.py:396: RuntimeWarning: divide by zero encountered in log\n",
      "  result = getattr(ufunc, method)(*inputs, **kwargs)\n",
      "\n",
      " 72%|███████████████████████████████████████████████████████▊                     | 7245/10000 [11:01<04:36,  9.97it/s]\u001b[A\n",
      " 73%|████████████████████████████████████████████████████████▌                    | 7348/10000 [11:12<04:26,  9.96it/s]\u001b[AC:\\Users\\Jason\\.conda\\envs\\airsoft\\lib\\site-packages\\pandas\\core\\arraylike.py:396: RuntimeWarning: divide by zero encountered in log\n",
      "  result = getattr(ufunc, method)(*inputs, **kwargs)\n"
     ]
    },
    {
     "name": "stderr",
     "output_type": "stream",
     "text": [
      "\n",
      " 75%|█████████████████████████████████████████████████████████▍                   | 7452/10000 [11:22<04:13, 10.05it/s]\u001b[AC:\\Users\\Jason\\.conda\\envs\\airsoft\\lib\\site-packages\\pandas\\core\\arraylike.py:396: RuntimeWarning: divide by zero encountered in log\n",
      "  result = getattr(ufunc, method)(*inputs, **kwargs)\n",
      "C:\\Users\\Jason\\.conda\\envs\\airsoft\\lib\\site-packages\\pandas\\core\\arraylike.py:396: RuntimeWarning: divide by zero encountered in log\n",
      "  result = getattr(ufunc, method)(*inputs, **kwargs)\n",
      "\n",
      " 76%|██████████████████████████████████████████████████████████▏                  | 7555/10000 [11:35<04:28,  9.12it/s]\u001b[AC:\\Users\\Jason\\.conda\\envs\\airsoft\\lib\\site-packages\\pandas\\core\\arraylike.py:396: RuntimeWarning: divide by zero encountered in log\n",
      "  result = getattr(ufunc, method)(*inputs, **kwargs)\n",
      "C:\\Users\\Jason\\.conda\\envs\\airsoft\\lib\\site-packages\\pandas\\core\\arraylike.py:396: RuntimeWarning: divide by zero encountered in log\n",
      "  result = getattr(ufunc, method)(*inputs, **kwargs)\n",
      "\n",
      " 76%|██████████████████████████████████████████████████████████▊                  | 7631/10000 [11:48<04:52,  8.11it/s]\u001b[AC:\\Users\\Jason\\.conda\\envs\\airsoft\\lib\\site-packages\\pandas\\core\\arraylike.py:396: RuntimeWarning: divide by zero encountered in log\n",
      "  result = getattr(ufunc, method)(*inputs, **kwargs)\n",
      "C:\\Users\\Jason\\.conda\\envs\\airsoft\\lib\\site-packages\\pandas\\core\\arraylike.py:396: RuntimeWarning: divide by zero encountered in log\n",
      "  result = getattr(ufunc, method)(*inputs, **kwargs)\n",
      "C:\\Users\\Jason\\.conda\\envs\\airsoft\\lib\\site-packages\\pandas\\core\\arraylike.py:396: RuntimeWarning: divide by zero encountered in log\n",
      "  result = getattr(ufunc, method)(*inputs, **kwargs)\n",
      "\n",
      " 77%|███████████████████████████████████████████████████████████▍                 | 7714/10000 [11:58<04:40,  8.14it/s]\u001b[AC:\\Users\\Jason\\.conda\\envs\\airsoft\\lib\\site-packages\\pandas\\core\\arraylike.py:396: RuntimeWarning: divide by zero encountered in log\n",
      "  result = getattr(ufunc, method)(*inputs, **kwargs)\n",
      "\n",
      " 78%|████████████████████████████████████████████████████████████                 | 7797/10000 [12:09<04:33,  8.06it/s]\u001b[A\n",
      " 79%|████████████████████████████████████████████████████████████▋                | 7881/10000 [12:19<04:20,  8.14it/s]\u001b[AC:\\Users\\Jason\\.conda\\envs\\airsoft\\lib\\site-packages\\pandas\\core\\arraylike.py:396: RuntimeWarning: divide by zero encountered in log\n",
      "  result = getattr(ufunc, method)(*inputs, **kwargs)\n",
      "C:\\Users\\Jason\\.conda\\envs\\airsoft\\lib\\site-packages\\pandas\\core\\arraylike.py:396: RuntimeWarning: divide by zero encountered in log\n",
      "  result = getattr(ufunc, method)(*inputs, **kwargs)\n",
      "\n",
      " 80%|█████████████████████████████████████████████████████████████▍               | 7981/10000 [12:29<03:53,  8.66it/s]\u001b[A\n",
      " 81%|██████████████████████████████████████████████████████████████▏              | 8081/10000 [12:39<03:36,  8.87it/s]\u001b[AC:\\Users\\Jason\\.conda\\envs\\airsoft\\lib\\site-packages\\pandas\\core\\arraylike.py:396: RuntimeWarning: divide by zero encountered in log\n",
      "  result = getattr(ufunc, method)(*inputs, **kwargs)\n",
      "C:\\Users\\Jason\\.conda\\envs\\airsoft\\lib\\site-packages\\pandas\\core\\arraylike.py:396: RuntimeWarning: divide by zero encountered in log\n",
      "  result = getattr(ufunc, method)(*inputs, **kwargs)\n",
      "C:\\Users\\Jason\\.conda\\envs\\airsoft\\lib\\site-packages\\pandas\\core\\arraylike.py:396: RuntimeWarning: divide by zero encountered in log\n",
      "  result = getattr(ufunc, method)(*inputs, **kwargs)\n",
      "\n",
      " 82%|███████████████████████████████████████████████████████████████              | 8191/10000 [12:50<03:11,  9.47it/s]\u001b[AC:\\Users\\Jason\\.conda\\envs\\airsoft\\lib\\site-packages\\pandas\\core\\arraylike.py:396: RuntimeWarning: divide by zero encountered in log\n",
      "  result = getattr(ufunc, method)(*inputs, **kwargs)\n",
      "C:\\Users\\Jason\\.conda\\envs\\airsoft\\lib\\site-packages\\pandas\\core\\arraylike.py:396: RuntimeWarning: divide by zero encountered in log\n",
      "  result = getattr(ufunc, method)(*inputs, **kwargs)\n",
      "\n",
      " 82%|███████████████████████████████████████████████████████████████              | 8191/10000 [13:00<03:11,  9.47it/s]\u001b[A\n",
      " 83%|███████████████████████████████████████████████████████████████▉             | 8301/10000 [13:01<02:56,  9.64it/s]\u001b[A\n",
      " 84%|████████████████████████████████████████████████████████████████▋            | 8409/10000 [13:11<02:39,  9.97it/s]\u001b[AC:\\Users\\Jason\\.conda\\envs\\airsoft\\lib\\site-packages\\pandas\\core\\arraylike.py:396: RuntimeWarning: divide by zero encountered in log\n",
      "  result = getattr(ufunc, method)(*inputs, **kwargs)\n",
      "\n",
      " 85%|█████████████████████████████████████████████████████████████████▌           | 8517/10000 [13:22<02:30,  9.82it/s]\u001b[AC:\\Users\\Jason\\.conda\\envs\\airsoft\\lib\\site-packages\\pandas\\core\\arraylike.py:396: RuntimeWarning: divide by zero encountered in log\n",
      "  result = getattr(ufunc, method)(*inputs, **kwargs)\n",
      "C:\\Users\\Jason\\.conda\\envs\\airsoft\\lib\\site-packages\\pandas\\core\\arraylike.py:396: RuntimeWarning: divide by zero encountered in log\n",
      "  result = getattr(ufunc, method)(*inputs, **kwargs)\n",
      "C:\\Users\\Jason\\.conda\\envs\\airsoft\\lib\\site-packages\\pandas\\core\\arraylike.py:396: RuntimeWarning: divide by zero encountered in log\n",
      "  result = getattr(ufunc, method)(*inputs, **kwargs)\n",
      "\n",
      " 86%|██████████████████████████████████████████████████████████████████▎          | 8613/10000 [13:32<02:23,  9.67it/s]\u001b[AC:\\Users\\Jason\\.conda\\envs\\airsoft\\lib\\site-packages\\pandas\\core\\arraylike.py:396: RuntimeWarning: divide by zero encountered in log\n",
      "  result = getattr(ufunc, method)(*inputs, **kwargs)\n",
      "\n",
      " 87%|███████████████████████████████████████████████████████████████████▏         | 8725/10000 [13:42<02:06, 10.11it/s]\u001b[AC:\\Users\\Jason\\.conda\\envs\\airsoft\\lib\\site-packages\\pandas\\core\\arraylike.py:396: RuntimeWarning: divide by zero encountered in log\n",
      "  result = getattr(ufunc, method)(*inputs, **kwargs)\n",
      "\n",
      " 88%|████████████████████████████████████████████████████████████████████         | 8838/10000 [13:52<01:51, 10.44it/s]\u001b[A\n",
      " 90%|████████████████████████████████████████████████████████████████████▉        | 8955/10000 [14:02<01:36, 10.79it/s]\u001b[AC:\\Users\\Jason\\.conda\\envs\\airsoft\\lib\\site-packages\\pandas\\core\\arraylike.py:396: RuntimeWarning: divide by zero encountered in log\n",
      "  result = getattr(ufunc, method)(*inputs, **kwargs)\n",
      "\n",
      " 91%|█████████████████████████████████████████████████████████████████████▊       | 9073/10000 [14:12<01:23, 11.07it/s]\u001b[AC:\\Users\\Jason\\.conda\\envs\\airsoft\\lib\\site-packages\\pandas\\core\\arraylike.py:396: RuntimeWarning: divide by zero encountered in log\n",
      "  result = getattr(ufunc, method)(*inputs, **kwargs)\n",
      "\n",
      " 92%|██████████████████████████████████████████████████████████████████████▊      | 9191/10000 [14:23<01:13, 10.99it/s]\u001b[A\n",
      " 93%|███████████████████████████████████████████████████████████████████████▌     | 9300/10000 [14:34<01:04, 10.87it/s]\u001b[A\n",
      " 94%|████████████████████████████████████████████████████████████████████████▍    | 9407/10000 [14:45<00:56, 10.47it/s]\u001b[A\n",
      " 95%|█████████████████████████████████████████████████████████████████████████▎   | 9517/10000 [14:55<00:45, 10.62it/s]\u001b[AC:\\Users\\Jason\\.conda\\envs\\airsoft\\lib\\site-packages\\pandas\\core\\arraylike.py:396: RuntimeWarning: divide by zero encountered in log\n",
      "  result = getattr(ufunc, method)(*inputs, **kwargs)\n",
      "C:\\Users\\Jason\\.conda\\envs\\airsoft\\lib\\site-packages\\pandas\\core\\arraylike.py:396: RuntimeWarning: divide by zero encountered in log\n",
      "  result = getattr(ufunc, method)(*inputs, **kwargs)\n",
      "\n",
      " 96%|██████████████████████████████████████████████████████████████████████████▏  | 9627/10000 [15:05<00:35, 10.64it/s]\u001b[AC:\\Users\\Jason\\.conda\\envs\\airsoft\\lib\\site-packages\\pandas\\core\\arraylike.py:396: RuntimeWarning: divide by zero encountered in log\n",
      "  result = getattr(ufunc, method)(*inputs, **kwargs)\n",
      "\n",
      " 97%|██████████████████████████████████████████████████████████████████████████▉  | 9735/10000 [15:15<00:24, 10.66it/s]\u001b[AC:\\Users\\Jason\\.conda\\envs\\airsoft\\lib\\site-packages\\pandas\\core\\arraylike.py:396: RuntimeWarning: divide by zero encountered in log\n",
      "  result = getattr(ufunc, method)(*inputs, **kwargs)\n",
      "\n",
      " 98%|███████████████████████████████████████████████████████████████████████████▊ | 9843/10000 [15:26<00:14, 10.55it/s]\u001b[AC:\\Users\\Jason\\.conda\\envs\\airsoft\\lib\\site-packages\\pandas\\core\\arraylike.py:396: RuntimeWarning: divide by zero encountered in log\n",
      "  result = getattr(ufunc, method)(*inputs, **kwargs)\n"
     ]
    },
    {
     "name": "stderr",
     "output_type": "stream",
     "text": [
      "\n",
      "100%|████████████████████████████████████████████████████████████████████████████| 10000/10000 [15:41<00:00, 10.62it/s]\u001b[A\n",
      "100%|███████████████████████████████████████████████████████████████████████████████████| 1/1 [15:41<00:00, 941.64s/it]\n"
     ]
    }
   ],
   "source": [
    "for temp_sample_size in tqdm(ALL_SAMPLE_SIZES):\n",
    "    non_separable_count = 0\n",
    "    num_iters_per_population = 10_000\n",
    "        \n",
    "    for _ in trange(num_iters_per_population, mininterval=10):\n",
    "        # use sampling scheme to sample data:\n",
    "        obtained_valid_sample = False\n",
    "        \n",
    "        while not obtained_valid_sample:\n",
    "            pop_data['r0'] = 0\n",
    "            pop_data.loc[np.random.choice(pop_data.index, size = temp_sample_size, replace=False), 'r0'] = 1\n",
    "\n",
    "            pop_data['r'] = 0\n",
    "            \n",
    "            full_sampled_data = pop_data[pop_data['r0'] == 1]\n",
    "\n",
    "            marginal_probabilities = expit(logit(sample_probability_centering) + \\\n",
    "                                           sample_probability_bias_factor * (2* full_sampled_data['y'] - 1) * \\\n",
    "                                           full_sampled_data['x_0'])\n",
    "\n",
    "            other_sample_indices = marginal_probabilities.index[rand_generator.binomial(n=1, p = marginal_probabilities) == 1]\n",
    "\n",
    "            pop_data.loc[other_sample_indices, 'r'] = 1\n",
    "            # sample_data here means the biased sample data.\n",
    "            sample_data = pop_data[pop_data['r'] == 1]\n",
    "            realised_sample_size = len(other_sample_indices)\n",
    "            \n",
    "            if realised_sample_size < 1_000:\n",
    "                separability_check_df = sample_data[['x_0', 'y']].groupby('y')['x_0'].agg(['min', 'max'])\n",
    "                is_not_separable = (len(separability_check_df) < 2) or \\\n",
    "                                    (separability_check_df.iloc[0, 0] > separability_check_df.iloc[1, 1]) or \\\n",
    "                                    (separability_check_df.iloc[1, 0] > separability_check_df.iloc[0, 1])\n",
    "\n",
    "                if is_not_separable:\n",
    "                    non_separable_count = non_separable_count + 1\n",
    "                    continue\n",
    "\n",
    "            else:\n",
    "                ...\n",
    "            obtained_valid_sample = True\n",
    "            \n",
    "            # compute biased x, y, model, beta\n",
    "            sample_x = sample_data[feature_cols]\n",
    "            sample_y = sample_data['y']\n",
    "            sample_models = compute_all_three_logistic_models(sample_x, sample_y)\n",
    "            sample_betas = [sample_model.params for sample_model in sample_models]\n",
    "            sample_r = pop_data['r']\n",
    "        \n",
    "        # compute full x, y, model, beta\n",
    "        sample_x_full = full_sampled_data[feature_cols]\n",
    "        sample_y_full = full_sampled_data['y']\n",
    "        sample_models_full = compute_all_three_logistic_models(sample_x_full, sample_y_full)\n",
    "        sample_betas_full = [sample_model_full.params for sample_model_full in sample_models_full]\n",
    "        sample_r_full = pop_data['r0']\n",
    "        \n",
    "        \n",
    "        \n",
    "        # compute biased versions of things:\n",
    "        all_sample_beta_per_sample_size_biased[temp_sample_size].append(\n",
    "            [pd.Series(sample_beta) for sample_beta in sample_betas]\n",
    "        )        \n",
    "        all_ddc_per_sample_size_biased[temp_sample_size].append(\n",
    "                        [pop_gs[model_type].corrwith(sample_r)[['x_0']] for _, model_type in model_iteration]\n",
    "        )\n",
    "        all_jns_per_sample_size_biased[temp_sample_size].append(\n",
    "            [compute_average_jn(pop_betas[model_index], sample_betas[model_index], \n",
    "                               sample_x, sample_y, model_type = model_type) for model_index, model_type in model_iteration]\n",
    "        )\n",
    "            \n",
    "        all_realized_sample_sizes_per_sample_size[temp_sample_size].append(realised_sample_size)\n",
    "        \n",
    "        # compute full versions of things:\n",
    "        all_sample_beta_per_sample_size_full[temp_sample_size].append(\n",
    "            [pd.Series(sample_beta) for sample_beta in sample_betas_full]\n",
    "        )\n",
    "        \n",
    "        all_ddc_per_sample_size_full[temp_sample_size].append(\n",
    "            [pop_gs[model_type].corrwith(sample_r_full)[['x_0']] for _, model_type in model_iteration]\n",
    "        )\n",
    "        \n",
    "        all_jns_per_sample_size_full[temp_sample_size].append(\n",
    "            [compute_average_jn(pop_betas[model_index], sample_betas_full[model_index], \n",
    "                               sample_x_full, sample_y_full, \n",
    "                               model_type = model_type) for model_index, model_type in model_iteration]\n",
    "        )\n",
    "        \n",
    "    sample_specific_non_separable_count[temp_sample_size] = non_separable_count\n",
    "    "
   ]
  },
  {
   "cell_type": "markdown",
   "id": "a0da84f3",
   "metadata": {},
   "source": [
    "#### combine data for each sample size:"
   ]
  },
  {
   "cell_type": "code",
   "execution_count": 27,
   "id": "1c6a7e25",
   "metadata": {},
   "outputs": [
    {
     "data": {
      "text/plain": [
       "{1000: 0}"
      ]
     },
     "execution_count": 27,
     "metadata": {},
     "output_type": "execute_result"
    }
   ],
   "source": [
    "sample_specific_non_separable_count"
   ]
  },
  {
   "cell_type": "code",
   "execution_count": 28,
   "id": "07d65b4e",
   "metadata": {},
   "outputs": [],
   "source": [
    "all_data_per_ss = []"
   ]
  },
  {
   "cell_type": "code",
   "execution_count": 29,
   "id": "40974b84",
   "metadata": {},
   "outputs": [],
   "source": [
    "all_raw_data = [all_jns_per_sample_size_biased, all_ddc_per_sample_size_biased, all_sample_beta_per_sample_size_biased, \\\n",
    "                all_jns_per_sample_size_full, all_ddc_per_sample_size_full, all_sample_beta_per_sample_size_full, \\\n",
    "                all_realized_sample_sizes_per_sample_size, all_pop_beta_per_sample_size]"
   ]
  },
  {
   "cell_type": "code",
   "execution_count": 30,
   "id": "e22da8ac",
   "metadata": {},
   "outputs": [],
   "source": [
    "pickle_filename = f'all_raw_data_{link}_{true_beta}.pickle'\n",
    "with open(pickle_filename, 'wb') as handle:\n",
    "    pickle.dump(all_raw_data, handle)"
   ]
  },
  {
   "cell_type": "code",
   "execution_count": 31,
   "id": "a43b12ed",
   "metadata": {},
   "outputs": [],
   "source": [
    "pickle_filename = f'pop_betas_{link}_{true_beta}.pickle'\n",
    "with open(pickle_filename, 'wb') as handle:\n",
    "    pickle.dump(pop_betas, handle)"
   ]
  },
  {
   "cell_type": "code",
   "execution_count": null,
   "id": "61523b30",
   "metadata": {},
   "outputs": [],
   "source": []
  },
  {
   "cell_type": "code",
   "execution_count": null,
   "id": "ed7de804",
   "metadata": {},
   "outputs": [],
   "source": []
  }
 ],
 "metadata": {
  "kernelspec": {
   "display_name": "Python 3 (ipykernel)",
   "language": "python",
   "name": "python3"
  },
  "language_info": {
   "codemirror_mode": {
    "name": "ipython",
    "version": 3
   },
   "file_extension": ".py",
   "mimetype": "text/x-python",
   "name": "python",
   "nbconvert_exporter": "python",
   "pygments_lexer": "ipython3",
   "version": "3.11.4"
  }
 },
 "nbformat": 4,
 "nbformat_minor": 5
}
