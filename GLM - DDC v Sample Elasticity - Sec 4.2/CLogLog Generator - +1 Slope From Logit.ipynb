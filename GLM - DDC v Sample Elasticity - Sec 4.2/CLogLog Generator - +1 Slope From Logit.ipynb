{
 "cells": [
  {
   "cell_type": "markdown",
   "id": "c43782e1",
   "metadata": {},
   "source": [
    "can also check the linear independence of rho and Jn here as well!"
   ]
  },
  {
   "cell_type": "markdown",
   "id": "c5c011f0",
   "metadata": {},
   "source": [
    "# Imports:"
   ]
  },
  {
   "cell_type": "code",
   "execution_count": 1,
   "id": "e0bad1c1",
   "metadata": {},
   "outputs": [],
   "source": [
    "import numpy as np\n",
    "import pandas as pd\n",
    "import seaborn as sns\n",
    "from sklearn.linear_model import LogisticRegression\n",
    "\n",
    "from scipy.stats import chi2\n",
    "from collections import Counter\n",
    "\n",
    "from itertools import permutations\n",
    "from tqdm import tqdm, trange"
   ]
  },
  {
   "cell_type": "code",
   "execution_count": 2,
   "id": "c60867f7",
   "metadata": {},
   "outputs": [],
   "source": [
    "import matplotlib.pyplot as plt\n",
    "\n",
    "import pickle\n",
    "\n",
    "import statsmodels.api as sm\n",
    "\n",
    "from collections import defaultdict\n",
    "\n",
    "from scipy.linalg import sqrtm\n",
    "\n",
    "from scipy.special import expit, logit"
   ]
  },
  {
   "cell_type": "code",
   "execution_count": null,
   "id": "df3b8576-f0d8-42f0-8c75-86bd82a7052a",
   "metadata": {},
   "outputs": [],
   "source": []
  },
  {
   "cell_type": "markdown",
   "id": "26616f73-f344-4e71-b365-69957eea78ad",
   "metadata": {},
   "source": [
    "# Helper Functions:"
   ]
  },
  {
   "cell_type": "code",
   "execution_count": 3,
   "id": "09f3be7a-3b44-4524-a163-95c317a1db5c",
   "metadata": {},
   "outputs": [],
   "source": [
    "from scipy.stats import norm"
   ]
  },
  {
   "cell_type": "code",
   "execution_count": 4,
   "id": "10051514-1d0d-4a30-9240-c0b6afab864d",
   "metadata": {},
   "outputs": [],
   "source": [
    "import sys\n",
    "\n",
    "sys.path.append('../')\n",
    "\n",
    "from ddc_utils import *\n",
    "from data_generating_utils import *"
   ]
  },
  {
   "cell_type": "code",
   "execution_count": null,
   "id": "14207430-0cfd-45c2-895a-60b3512b5f95",
   "metadata": {},
   "outputs": [],
   "source": []
  },
  {
   "cell_type": "markdown",
   "id": "b2bfdd51",
   "metadata": {},
   "source": [
    "# Hyperparams:"
   ]
  },
  {
   "cell_type": "code",
   "execution_count": 7,
   "id": "7f1fc130",
   "metadata": {},
   "outputs": [],
   "source": [
    "pop_index = 1\n",
    "iter_val = 0"
   ]
  },
  {
   "cell_type": "code",
   "execution_count": 8,
   "id": "c4ae7e04",
   "metadata": {},
   "outputs": [],
   "source": [
    "rand_generator = np.random.default_rng(seed=333 * pop_index + iter_val)"
   ]
  },
  {
   "cell_type": "code",
   "execution_count": 9,
   "id": "29d053a9",
   "metadata": {},
   "outputs": [],
   "source": [
    "population_size = 100_000\n",
    "\n",
    "number_of_coefficients = 1\n",
    "\n",
    "num_iters_per_population = 25_000\n",
    "true_beta = 0.564"
   ]
  },
  {
   "cell_type": "code",
   "execution_count": 10,
   "id": "0363039f",
   "metadata": {},
   "outputs": [],
   "source": [
    "ALL_SAMPLE_SIZES = [1000]"
   ]
  },
  {
   "cell_type": "code",
   "execution_count": null,
   "id": "0bd16c32",
   "metadata": {},
   "outputs": [],
   "source": []
  },
  {
   "cell_type": "markdown",
   "id": "25216b90",
   "metadata": {},
   "source": [
    "# Run:"
   ]
  },
  {
   "cell_type": "code",
   "execution_count": 11,
   "id": "5c9b81a2",
   "metadata": {},
   "outputs": [],
   "source": [
    "feature_cols = [f'x_{i}' for i in range(number_of_coefficients)]"
   ]
  },
  {
   "cell_type": "code",
   "execution_count": 12,
   "id": "65af24c9",
   "metadata": {},
   "outputs": [],
   "source": [
    "# hypervariabes where things will be saved as key of sample size -> list.\n",
    "all_jns_per_sample_size_biased = defaultdict(list)\n",
    "all_ddc_per_sample_size_biased = defaultdict(list)\n",
    "all_sample_beta_per_sample_size_biased = defaultdict(list)\n",
    "\n",
    "all_jns_per_sample_size_full = defaultdict(list)\n",
    "all_ddc_per_sample_size_full = defaultdict(list)\n",
    "all_sample_beta_per_sample_size_full = defaultdict(list)\n",
    "\n",
    "\n",
    "\n",
    "all_realized_sample_sizes_per_sample_size = defaultdict(list)\n",
    "all_pop_beta_per_sample_size = defaultdict(list)\n",
    "\n",
    "sample_specific_non_separable_count = {}"
   ]
  },
  {
   "cell_type": "code",
   "execution_count": 13,
   "id": "c2a6681e",
   "metadata": {},
   "outputs": [],
   "source": [
    "sample_probability_centering = 0.77\n",
    "sample_probability_bias_factor = 1"
   ]
  },
  {
   "cell_type": "code",
   "execution_count": 14,
   "id": "f0b26108",
   "metadata": {},
   "outputs": [],
   "source": [
    "link = 'CLogLog'"
   ]
  },
  {
   "cell_type": "code",
   "execution_count": 16,
   "id": "34cbdbdb",
   "metadata": {},
   "outputs": [],
   "source": [
    "pop_data = generate_population_data(population_size, number_of_coefficients, \n",
    "                                    feature_cols = feature_cols, true_beta = true_beta, link = link)"
   ]
  },
  {
   "cell_type": "code",
   "execution_count": 17,
   "id": "4877fcae",
   "metadata": {},
   "outputs": [],
   "source": [
    "pickle_filename = f'base_population_data_{link}_{true_beta}.pickle'\n",
    "with open(pickle_filename, 'wb') as handle:\n",
    "    pickle.dump(pop_data, handle)"
   ]
  },
  {
   "cell_type": "code",
   "execution_count": 18,
   "id": "e256c431",
   "metadata": {},
   "outputs": [],
   "source": [
    "model_iteration = [(0, 'Logit'), (1, 'Probit'), (2, 'CLogLog')]"
   ]
  },
  {
   "cell_type": "markdown",
   "id": "1b506e88",
   "metadata": {},
   "source": [
    "#### get population-level statistics:"
   ]
  },
  {
   "cell_type": "code",
   "execution_count": 19,
   "id": "c217fb9d",
   "metadata": {},
   "outputs": [],
   "source": [
    "pop_x = pop_data[feature_cols]\n",
    "pop_y = pop_data['y']\n",
    "\n",
    "pop_model = sm.Logit(endog = pop_y, exog = pop_x).fit(disp=0)\n",
    "pop_beta = np.array(pop_model.params)\n",
    "pop_gs = pop_x * (np.array(pop_y).reshape((population_size, 1)) - \\\n",
    "              np.array(pop_model.predict()).reshape((population_size, 1)))"
   ]
  },
  {
   "cell_type": "markdown",
   "id": "c06e2d31",
   "metadata": {},
   "source": [
    "compute the population models:"
   ]
  },
  {
   "cell_type": "code",
   "execution_count": 20,
   "id": "95bff6bd",
   "metadata": {},
   "outputs": [],
   "source": [
    "def compute_all_three_logistic_models(x_data, y_data):\n",
    "    temp_logit_model = sm.Logit(endog = y_data, exog = x_data).fit(disp=0)\n",
    "    temp_probit_model = sm.GLM(y_data, x_data, family=sm.families.Binomial(link=sm.families.links.Probit())).fit()\n",
    "    temp_cloglog_model = sm.GLM(y_data, x_data, family=sm.families.Binomial(link=sm.families.links.CLogLog())).fit()\n",
    "    return [temp_logit_model, temp_probit_model, temp_cloglog_model]"
   ]
  },
  {
   "cell_type": "code",
   "execution_count": 21,
   "id": "c10a9f32",
   "metadata": {},
   "outputs": [],
   "source": [
    "population_models = compute_all_three_logistic_models(pop_x, pop_y)\n",
    "pop_logit_model, pop_probit_model, pop_cloglog_model = population_models"
   ]
  },
  {
   "cell_type": "markdown",
   "id": "d9d042dc",
   "metadata": {},
   "source": [
    "save their betas:"
   ]
  },
  {
   "cell_type": "code",
   "execution_count": 22,
   "id": "96ea14a2",
   "metadata": {},
   "outputs": [],
   "source": [
    "pop_betas = [np.array(pop_logit_model.params), \n",
    "             np.array(pop_probit_model.params), \n",
    "             np.array(pop_cloglog_model.params)]"
   ]
  },
  {
   "cell_type": "markdown",
   "id": "56c00b66",
   "metadata": {},
   "source": [
    "compute the gs:"
   ]
  },
  {
   "cell_type": "code",
   "execution_count": 23,
   "id": "24a8102b",
   "metadata": {},
   "outputs": [],
   "source": [
    "pop_gs = {}"
   ]
  },
  {
   "cell_type": "code",
   "execution_count": 24,
   "id": "5cc24f59",
   "metadata": {},
   "outputs": [],
   "source": [
    "pop_gs['Logit'] = pop_x * (np.array(pop_y).reshape((population_size, 1)) - \\\n",
    "                    np.array(pop_logit_model.predict()).reshape((population_size, 1)))"
   ]
  },
  {
   "cell_type": "code",
   "execution_count": 25,
   "id": "c98d1cc2",
   "metadata": {},
   "outputs": [],
   "source": [
    "# compute probit gs \n",
    "temp_mu_is = pop_probit_model.predict()\n",
    "variance_denominator = 1/((temp_mu_is) * (1 - temp_mu_is))\n",
    "dmu_dg = norm.pdf(pop_x @ pop_probit_model.params)\n",
    "pop_gs['Probit'] = pop_x.mul(((pop_y - temp_mu_is) * variance_denominator * dmu_dg), axis=0)"
   ]
  },
  {
   "cell_type": "code",
   "execution_count": 26,
   "id": "eaad6a74",
   "metadata": {},
   "outputs": [],
   "source": [
    "# compute cloglog gs \n",
    "temp_mu_is = pop_cloglog_model.predict()\n",
    "variance_denominator = 1/((temp_mu_is) * (1 - temp_mu_is))\n",
    "dmu_dg = np.log(1 - temp_mu_is) * (temp_mu_is - 1)\n",
    "pop_gs['CLogLog'] = pop_x.mul(((pop_y - temp_mu_is) * variance_denominator * dmu_dg), axis=0)"
   ]
  },
  {
   "cell_type": "markdown",
   "id": "06e44da0",
   "metadata": {},
   "source": [
    "#### actually run:"
   ]
  },
  {
   "cell_type": "code",
   "execution_count": null,
   "id": "260fd510",
   "metadata": {
    "scrolled": true
   },
   "outputs": [
    {
     "name": "stderr",
     "output_type": "stream",
     "text": [
      "  0%|                                                                                            | 0/1 [00:00<?, ?it/s]\n",
      "  0%|                                                                                        | 0/10000 [00:00<?, ?it/s]\u001b[AC:\\Users\\Jason\\.conda\\envs\\airsoft\\lib\\site-packages\\pandas\\core\\arraylike.py:396: RuntimeWarning: divide by zero encountered in log\n",
      "  result = getattr(ufunc, method)(*inputs, **kwargs)\n",
      "C:\\Users\\Jason\\.conda\\envs\\airsoft\\lib\\site-packages\\pandas\\core\\arraylike.py:396: RuntimeWarning: divide by zero encountered in log\n",
      "  result = getattr(ufunc, method)(*inputs, **kwargs)\n",
      "C:\\Users\\Jason\\.conda\\envs\\airsoft\\lib\\site-packages\\pandas\\core\\arraylike.py:396: RuntimeWarning: divide by zero encountered in log\n",
      "  result = getattr(ufunc, method)(*inputs, **kwargs)\n",
      "\n",
      "  2%|█▏                                                                            | 154/10000 [00:10<10:40, 15.36it/s]\u001b[AC:\\Users\\Jason\\.conda\\envs\\airsoft\\lib\\site-packages\\pandas\\core\\arraylike.py:396: RuntimeWarning: divide by zero encountered in log\n",
      "  result = getattr(ufunc, method)(*inputs, **kwargs)\n",
      "\n",
      "  3%|██▍                                                                           | 308/10000 [00:20<10:39, 15.15it/s]\u001b[AC:\\Users\\Jason\\.conda\\envs\\airsoft\\lib\\site-packages\\pandas\\core\\arraylike.py:396: RuntimeWarning: divide by zero encountered in log\n",
      "  result = getattr(ufunc, method)(*inputs, **kwargs)\n",
      "\n",
      "  5%|███▌                                                                          | 463/10000 [00:30<10:24, 15.27it/s]\u001b[AC:\\Users\\Jason\\.conda\\envs\\airsoft\\lib\\site-packages\\pandas\\core\\arraylike.py:396: RuntimeWarning: divide by zero encountered in log\n",
      "  result = getattr(ufunc, method)(*inputs, **kwargs)\n",
      "C:\\Users\\Jason\\.conda\\envs\\airsoft\\lib\\site-packages\\pandas\\core\\arraylike.py:396: RuntimeWarning: divide by zero encountered in log\n",
      "  result = getattr(ufunc, method)(*inputs, **kwargs)\n",
      "C:\\Users\\Jason\\.conda\\envs\\airsoft\\lib\\site-packages\\pandas\\core\\arraylike.py:396: RuntimeWarning: divide by zero encountered in log\n",
      "  result = getattr(ufunc, method)(*inputs, **kwargs)\n",
      "C:\\Users\\Jason\\.conda\\envs\\airsoft\\lib\\site-packages\\pandas\\core\\arraylike.py:396: RuntimeWarning: divide by zero encountered in log\n",
      "  result = getattr(ufunc, method)(*inputs, **kwargs)\n",
      "C:\\Users\\Jason\\.conda\\envs\\airsoft\\lib\\site-packages\\pandas\\core\\arraylike.py:396: RuntimeWarning: divide by zero encountered in log\n",
      "  result = getattr(ufunc, method)(*inputs, **kwargs)\n",
      "C:\\Users\\Jason\\.conda\\envs\\airsoft\\lib\\site-packages\\pandas\\core\\arraylike.py:396: RuntimeWarning: divide by zero encountered in log\n",
      "  result = getattr(ufunc, method)(*inputs, **kwargs)\n",
      "C:\\Users\\Jason\\.conda\\envs\\airsoft\\lib\\site-packages\\pandas\\core\\arraylike.py:396: RuntimeWarning: divide by zero encountered in log\n",
      "  result = getattr(ufunc, method)(*inputs, **kwargs)\n",
      "\n",
      "  6%|████▊                                                                         | 618/10000 [00:40<10:16, 15.21it/s]\u001b[AC:\\Users\\Jason\\.conda\\envs\\airsoft\\lib\\site-packages\\pandas\\core\\arraylike.py:396: RuntimeWarning: divide by zero encountered in log\n",
      "  result = getattr(ufunc, method)(*inputs, **kwargs)\n",
      "C:\\Users\\Jason\\.conda\\envs\\airsoft\\lib\\site-packages\\pandas\\core\\arraylike.py:396: RuntimeWarning: divide by zero encountered in log\n",
      "  result = getattr(ufunc, method)(*inputs, **kwargs)\n",
      "\n",
      "  8%|██████                                                                        | 770/10000 [00:51<10:16, 14.97it/s]\u001b[AC:\\Users\\Jason\\.conda\\envs\\airsoft\\lib\\site-packages\\pandas\\core\\arraylike.py:396: RuntimeWarning: divide by zero encountered in log\n",
      "  result = getattr(ufunc, method)(*inputs, **kwargs)\n",
      "\n",
      "  9%|███████▏                                                                      | 916/10000 [01:01<10:23, 14.56it/s]\u001b[AC:\\Users\\Jason\\.conda\\envs\\airsoft\\lib\\site-packages\\pandas\\core\\arraylike.py:396: RuntimeWarning: divide by zero encountered in log\n",
      "  result = getattr(ufunc, method)(*inputs, **kwargs)\n",
      "C:\\Users\\Jason\\.conda\\envs\\airsoft\\lib\\site-packages\\pandas\\core\\arraylike.py:396: RuntimeWarning: divide by zero encountered in log\n",
      "  result = getattr(ufunc, method)(*inputs, **kwargs)\n",
      "C:\\Users\\Jason\\.conda\\envs\\airsoft\\lib\\site-packages\\pandas\\core\\arraylike.py:396: RuntimeWarning: divide by zero encountered in log\n",
      "  result = getattr(ufunc, method)(*inputs, **kwargs)\n",
      "C:\\Users\\Jason\\.conda\\envs\\airsoft\\lib\\site-packages\\pandas\\core\\arraylike.py:396: RuntimeWarning: divide by zero encountered in log\n",
      "  result = getattr(ufunc, method)(*inputs, **kwargs)\n",
      "C:\\Users\\Jason\\.conda\\envs\\airsoft\\lib\\site-packages\\pandas\\core\\arraylike.py:396: RuntimeWarning: divide by zero encountered in log\n",
      "  result = getattr(ufunc, method)(*inputs, **kwargs)\n",
      "\n",
      " 11%|████████                                                                     | 1055/10000 [01:11<10:23, 14.35it/s]\u001b[AC:\\Users\\Jason\\.conda\\envs\\airsoft\\lib\\site-packages\\pandas\\core\\arraylike.py:396: RuntimeWarning: divide by zero encountered in log\n",
      "  result = getattr(ufunc, method)(*inputs, **kwargs)\n",
      "\n",
      " 12%|█████████▏                                                                   | 1196/10000 [01:21<10:17, 14.25it/s]\u001b[AC:\\Users\\Jason\\.conda\\envs\\airsoft\\lib\\site-packages\\pandas\\core\\arraylike.py:396: RuntimeWarning: divide by zero encountered in log\n",
      "  result = getattr(ufunc, method)(*inputs, **kwargs)\n",
      "\n",
      " 13%|██████████▎                                                                  | 1346/10000 [01:31<09:58, 14.47it/s]\u001b[AC:\\Users\\Jason\\.conda\\envs\\airsoft\\lib\\site-packages\\pandas\\core\\arraylike.py:396: RuntimeWarning: divide by zero encountered in log\n",
      "  result = getattr(ufunc, method)(*inputs, **kwargs)\n",
      "C:\\Users\\Jason\\.conda\\envs\\airsoft\\lib\\site-packages\\pandas\\core\\arraylike.py:396: RuntimeWarning: divide by zero encountered in log\n",
      "  result = getattr(ufunc, method)(*inputs, **kwargs)\n",
      "C:\\Users\\Jason\\.conda\\envs\\airsoft\\lib\\site-packages\\pandas\\core\\arraylike.py:396: RuntimeWarning: divide by zero encountered in log\n",
      "  result = getattr(ufunc, method)(*inputs, **kwargs)\n",
      "C:\\Users\\Jason\\.conda\\envs\\airsoft\\lib\\site-packages\\pandas\\core\\arraylike.py:396: RuntimeWarning: divide by zero encountered in log\n",
      "  result = getattr(ufunc, method)(*inputs, **kwargs)\n",
      "C:\\Users\\Jason\\.conda\\envs\\airsoft\\lib\\site-packages\\pandas\\core\\arraylike.py:396: RuntimeWarning: divide by zero encountered in log\n",
      "  result = getattr(ufunc, method)(*inputs, **kwargs)\n",
      "C:\\Users\\Jason\\.conda\\envs\\airsoft\\lib\\site-packages\\pandas\\core\\arraylike.py:396: RuntimeWarning: divide by zero encountered in log\n",
      "  result = getattr(ufunc, method)(*inputs, **kwargs)\n",
      "\n",
      " 15%|███████████▌                                                                 | 1496/10000 [01:41<09:44, 14.55it/s]\u001b[AC:\\Users\\Jason\\.conda\\envs\\airsoft\\lib\\site-packages\\pandas\\core\\arraylike.py:396: RuntimeWarning: divide by zero encountered in log\n",
      "  result = getattr(ufunc, method)(*inputs, **kwargs)\n",
      "C:\\Users\\Jason\\.conda\\envs\\airsoft\\lib\\site-packages\\pandas\\core\\arraylike.py:396: RuntimeWarning: divide by zero encountered in log\n",
      "  result = getattr(ufunc, method)(*inputs, **kwargs)\n",
      "C:\\Users\\Jason\\.conda\\envs\\airsoft\\lib\\site-packages\\pandas\\core\\arraylike.py:396: RuntimeWarning: divide by zero encountered in log\n",
      "  result = getattr(ufunc, method)(*inputs, **kwargs)\n",
      "C:\\Users\\Jason\\.conda\\envs\\airsoft\\lib\\site-packages\\pandas\\core\\arraylike.py:396: RuntimeWarning: divide by zero encountered in log\n",
      "  result = getattr(ufunc, method)(*inputs, **kwargs)\n",
      "\n",
      " 16%|████████████▋                                                                | 1644/10000 [01:52<09:33, 14.57it/s]\u001b[AC:\\Users\\Jason\\.conda\\envs\\airsoft\\lib\\site-packages\\pandas\\core\\arraylike.py:396: RuntimeWarning: divide by zero encountered in log\n",
      "  result = getattr(ufunc, method)(*inputs, **kwargs)\n",
      "C:\\Users\\Jason\\.conda\\envs\\airsoft\\lib\\site-packages\\pandas\\core\\arraylike.py:396: RuntimeWarning: divide by zero encountered in log\n",
      "  result = getattr(ufunc, method)(*inputs, **kwargs)\n",
      "C:\\Users\\Jason\\.conda\\envs\\airsoft\\lib\\site-packages\\pandas\\core\\arraylike.py:396: RuntimeWarning: divide by zero encountered in log\n",
      "  result = getattr(ufunc, method)(*inputs, **kwargs)\n",
      "C:\\Users\\Jason\\.conda\\envs\\airsoft\\lib\\site-packages\\pandas\\core\\arraylike.py:396: RuntimeWarning: divide by zero encountered in log\n",
      "  result = getattr(ufunc, method)(*inputs, **kwargs)\n"
     ]
    },
    {
     "name": "stderr",
     "output_type": "stream",
     "text": [
      "C:\\Users\\Jason\\.conda\\envs\\airsoft\\lib\\site-packages\\pandas\\core\\arraylike.py:396: RuntimeWarning: divide by zero encountered in log\n",
      "  result = getattr(ufunc, method)(*inputs, **kwargs)\n",
      "\n",
      " 18%|█████████████▊                                                               | 1791/10000 [02:02<09:38, 14.20it/s]\u001b[AC:\\Users\\Jason\\.conda\\envs\\airsoft\\lib\\site-packages\\pandas\\core\\arraylike.py:396: RuntimeWarning: divide by zero encountered in log\n",
      "  result = getattr(ufunc, method)(*inputs, **kwargs)\n",
      "C:\\Users\\Jason\\.conda\\envs\\airsoft\\lib\\site-packages\\pandas\\core\\arraylike.py:396: RuntimeWarning: divide by zero encountered in log\n",
      "  result = getattr(ufunc, method)(*inputs, **kwargs)\n",
      "C:\\Users\\Jason\\.conda\\envs\\airsoft\\lib\\site-packages\\pandas\\core\\arraylike.py:396: RuntimeWarning: divide by zero encountered in log\n",
      "  result = getattr(ufunc, method)(*inputs, **kwargs)\n",
      "\n",
      " 19%|██████████████▉                                                              | 1940/10000 [02:13<09:20, 14.38it/s]\u001b[AC:\\Users\\Jason\\.conda\\envs\\airsoft\\lib\\site-packages\\pandas\\core\\arraylike.py:396: RuntimeWarning: divide by zero encountered in log\n",
      "  result = getattr(ufunc, method)(*inputs, **kwargs)\n",
      "\n",
      " 21%|████████████████                                                             | 2089/10000 [02:23<09:07, 14.46it/s]\u001b[AC:\\Users\\Jason\\.conda\\envs\\airsoft\\lib\\site-packages\\pandas\\core\\arraylike.py:396: RuntimeWarning: divide by zero encountered in log\n",
      "  result = getattr(ufunc, method)(*inputs, **kwargs)\n",
      "C:\\Users\\Jason\\.conda\\envs\\airsoft\\lib\\site-packages\\pandas\\core\\arraylike.py:396: RuntimeWarning: divide by zero encountered in log\n",
      "  result = getattr(ufunc, method)(*inputs, **kwargs)\n",
      "\n",
      " 22%|█████████████████▏                                                           | 2240/10000 [02:33<08:49, 14.64it/s]\u001b[AC:\\Users\\Jason\\.conda\\envs\\airsoft\\lib\\site-packages\\pandas\\core\\arraylike.py:396: RuntimeWarning: divide by zero encountered in log\n",
      "  result = getattr(ufunc, method)(*inputs, **kwargs)\n",
      "C:\\Users\\Jason\\.conda\\envs\\airsoft\\lib\\site-packages\\pandas\\core\\arraylike.py:396: RuntimeWarning: divide by zero encountered in log\n",
      "  result = getattr(ufunc, method)(*inputs, **kwargs)\n",
      "\n",
      " 24%|██████████████████▍                                                          | 2391/10000 [02:43<08:39, 14.66it/s]\u001b[A\n",
      " 25%|███████████████████▌                                                         | 2538/10000 [02:53<08:28, 14.66it/s]\u001b[AC:\\Users\\Jason\\.conda\\envs\\airsoft\\lib\\site-packages\\pandas\\core\\arraylike.py:396: RuntimeWarning: divide by zero encountered in log\n",
      "  result = getattr(ufunc, method)(*inputs, **kwargs)\n",
      "\n",
      " 27%|████████████████████▋                                                        | 2685/10000 [03:04<08:28, 14.38it/s]\u001b[A\n",
      " 28%|█████████████████████▊                                                       | 2831/10000 [03:14<08:16, 14.43it/s]\u001b[AC:\\Users\\Jason\\.conda\\envs\\airsoft\\lib\\site-packages\\pandas\\core\\arraylike.py:396: RuntimeWarning: divide by zero encountered in log\n",
      "  result = getattr(ufunc, method)(*inputs, **kwargs)\n",
      "C:\\Users\\Jason\\.conda\\envs\\airsoft\\lib\\site-packages\\pandas\\core\\arraylike.py:396: RuntimeWarning: divide by zero encountered in log\n",
      "  result = getattr(ufunc, method)(*inputs, **kwargs)\n",
      "\n",
      " 30%|██████████████████████▉                                                      | 2980/10000 [03:24<08:02, 14.56it/s]\u001b[A\n",
      " 31%|████████████████████████                                                     | 3129/10000 [03:34<07:53, 14.52it/s]\u001b[A\n",
      " 33%|█████████████████████████▎                                                   | 3282/10000 [03:44<07:35, 14.74it/s]\u001b[AC:\\Users\\Jason\\.conda\\envs\\airsoft\\lib\\site-packages\\pandas\\core\\arraylike.py:396: RuntimeWarning: divide by zero encountered in log\n",
      "  result = getattr(ufunc, method)(*inputs, **kwargs)\n",
      "\n",
      " 34%|██████████████████████████▍                                                  | 3435/10000 [03:55<07:31, 14.54it/s]\u001b[AC:\\Users\\Jason\\.conda\\envs\\airsoft\\lib\\site-packages\\pandas\\core\\arraylike.py:396: RuntimeWarning: divide by zero encountered in log\n",
      "  result = getattr(ufunc, method)(*inputs, **kwargs)\n",
      "C:\\Users\\Jason\\.conda\\envs\\airsoft\\lib\\site-packages\\pandas\\core\\arraylike.py:396: RuntimeWarning: divide by zero encountered in log\n",
      "  result = getattr(ufunc, method)(*inputs, **kwargs)\n",
      "\n",
      " 36%|███████████████████████████▌                                                 | 3580/10000 [04:05<07:21, 14.53it/s]\u001b[AC:\\Users\\Jason\\.conda\\envs\\airsoft\\lib\\site-packages\\pandas\\core\\arraylike.py:396: RuntimeWarning: divide by zero encountered in log\n",
      "  result = getattr(ufunc, method)(*inputs, **kwargs)\n",
      "\n",
      " 37%|████████████████████████████▋                                                | 3725/10000 [04:15<07:13, 14.46it/s]\u001b[AC:\\Users\\Jason\\.conda\\envs\\airsoft\\lib\\site-packages\\pandas\\core\\arraylike.py:396: RuntimeWarning: divide by zero encountered in log\n",
      "  result = getattr(ufunc, method)(*inputs, **kwargs)\n",
      "C:\\Users\\Jason\\.conda\\envs\\airsoft\\lib\\site-packages\\pandas\\core\\arraylike.py:396: RuntimeWarning: divide by zero encountered in log\n",
      "  result = getattr(ufunc, method)(*inputs, **kwargs)\n",
      "C:\\Users\\Jason\\.conda\\envs\\airsoft\\lib\\site-packages\\pandas\\core\\arraylike.py:396: RuntimeWarning: divide by zero encountered in log\n",
      "  result = getattr(ufunc, method)(*inputs, **kwargs)\n",
      "C:\\Users\\Jason\\.conda\\envs\\airsoft\\lib\\site-packages\\pandas\\core\\arraylike.py:396: RuntimeWarning: divide by zero encountered in log\n",
      "  result = getattr(ufunc, method)(*inputs, **kwargs)\n",
      "C:\\Users\\Jason\\.conda\\envs\\airsoft\\lib\\site-packages\\pandas\\core\\arraylike.py:396: RuntimeWarning: divide by zero encountered in log\n",
      "  result = getattr(ufunc, method)(*inputs, **kwargs)\n",
      "\n",
      " 39%|█████████████████████████████▊                                               | 3873/10000 [04:25<07:01, 14.55it/s]\u001b[AC:\\Users\\Jason\\.conda\\envs\\airsoft\\lib\\site-packages\\pandas\\core\\arraylike.py:396: RuntimeWarning: divide by zero encountered in log\n",
      "  result = getattr(ufunc, method)(*inputs, **kwargs)\n",
      "C:\\Users\\Jason\\.conda\\envs\\airsoft\\lib\\site-packages\\pandas\\core\\arraylike.py:396: RuntimeWarning: divide by zero encountered in log\n",
      "  result = getattr(ufunc, method)(*inputs, **kwargs)\n",
      "C:\\Users\\Jason\\.conda\\envs\\airsoft\\lib\\site-packages\\pandas\\core\\arraylike.py:396: RuntimeWarning: divide by zero encountered in log\n",
      "  result = getattr(ufunc, method)(*inputs, **kwargs)\n",
      "\n",
      " 40%|██████████████████████████████▉                                              | 4023/10000 [04:35<06:47, 14.68it/s]\u001b[AC:\\Users\\Jason\\.conda\\envs\\airsoft\\lib\\site-packages\\pandas\\core\\arraylike.py:396: RuntimeWarning: divide by zero encountered in log\n",
      "  result = getattr(ufunc, method)(*inputs, **kwargs)\n",
      "C:\\Users\\Jason\\.conda\\envs\\airsoft\\lib\\site-packages\\pandas\\core\\arraylike.py:396: RuntimeWarning: divide by zero encountered in log\n",
      "  result = getattr(ufunc, method)(*inputs, **kwargs)\n",
      "C:\\Users\\Jason\\.conda\\envs\\airsoft\\lib\\site-packages\\pandas\\core\\arraylike.py:396: RuntimeWarning: divide by zero encountered in log\n",
      "  result = getattr(ufunc, method)(*inputs, **kwargs)\n",
      "C:\\Users\\Jason\\.conda\\envs\\airsoft\\lib\\site-packages\\pandas\\core\\arraylike.py:396: RuntimeWarning: divide by zero encountered in log\n",
      "  result = getattr(ufunc, method)(*inputs, **kwargs)\n",
      "\n",
      " 42%|████████████████████████████████▏                                            | 4173/10000 [04:46<06:40, 14.56it/s]\u001b[AC:\\Users\\Jason\\.conda\\envs\\airsoft\\lib\\site-packages\\pandas\\core\\arraylike.py:396: RuntimeWarning: divide by zero encountered in log\n",
      "  result = getattr(ufunc, method)(*inputs, **kwargs)\n",
      "C:\\Users\\Jason\\.conda\\envs\\airsoft\\lib\\site-packages\\pandas\\core\\arraylike.py:396: RuntimeWarning: divide by zero encountered in log\n",
      "  result = getattr(ufunc, method)(*inputs, **kwargs)\n",
      "\n",
      " 43%|█████████████████████████████████▎                                           | 4323/10000 [04:56<06:26, 14.68it/s]\u001b[AC:\\Users\\Jason\\.conda\\envs\\airsoft\\lib\\site-packages\\pandas\\core\\arraylike.py:396: RuntimeWarning: divide by zero encountered in log\n",
      "  result = getattr(ufunc, method)(*inputs, **kwargs)\n",
      "C:\\Users\\Jason\\.conda\\envs\\airsoft\\lib\\site-packages\\pandas\\core\\arraylike.py:396: RuntimeWarning: divide by zero encountered in log\n",
      "  result = getattr(ufunc, method)(*inputs, **kwargs)\n",
      "\n"
     ]
    },
    {
     "name": "stderr",
     "output_type": "stream",
     "text": [
      " 45%|██████████████████████████████████▍                                          | 4473/10000 [05:07<06:30, 14.16it/s]\u001b[AC:\\Users\\Jason\\.conda\\envs\\airsoft\\lib\\site-packages\\pandas\\core\\arraylike.py:396: RuntimeWarning: divide by zero encountered in log\n",
      "  result = getattr(ufunc, method)(*inputs, **kwargs)\n",
      "C:\\Users\\Jason\\.conda\\envs\\airsoft\\lib\\site-packages\\pandas\\core\\arraylike.py:396: RuntimeWarning: divide by zero encountered in log\n",
      "  result = getattr(ufunc, method)(*inputs, **kwargs)\n",
      "C:\\Users\\Jason\\.conda\\envs\\airsoft\\lib\\site-packages\\pandas\\core\\arraylike.py:396: RuntimeWarning: divide by zero encountered in log\n",
      "  result = getattr(ufunc, method)(*inputs, **kwargs)\n",
      "\n",
      " 46%|███████████████████████████████████▌                                         | 4617/10000 [05:17<06:18, 14.21it/s]\u001b[AC:\\Users\\Jason\\.conda\\envs\\airsoft\\lib\\site-packages\\pandas\\core\\arraylike.py:396: RuntimeWarning: divide by zero encountered in log\n",
      "  result = getattr(ufunc, method)(*inputs, **kwargs)\n",
      "\n",
      " 48%|████████████████████████████████████▋                                        | 4761/10000 [05:29<06:21, 13.72it/s]\u001b[A\n",
      " 49%|█████████████████████████████████████▊                                       | 4909/10000 [05:39<06:03, 14.00it/s]\u001b[AC:\\Users\\Jason\\.conda\\envs\\airsoft\\lib\\site-packages\\pandas\\core\\arraylike.py:396: RuntimeWarning: divide by zero encountered in log\n",
      "  result = getattr(ufunc, method)(*inputs, **kwargs)\n",
      "C:\\Users\\Jason\\.conda\\envs\\airsoft\\lib\\site-packages\\pandas\\core\\arraylike.py:396: RuntimeWarning: divide by zero encountered in log\n",
      "  result = getattr(ufunc, method)(*inputs, **kwargs)\n",
      "C:\\Users\\Jason\\.conda\\envs\\airsoft\\lib\\site-packages\\pandas\\core\\arraylike.py:396: RuntimeWarning: divide by zero encountered in log\n",
      "  result = getattr(ufunc, method)(*inputs, **kwargs)\n",
      "C:\\Users\\Jason\\.conda\\envs\\airsoft\\lib\\site-packages\\pandas\\core\\arraylike.py:396: RuntimeWarning: divide by zero encountered in log\n",
      "  result = getattr(ufunc, method)(*inputs, **kwargs)\n",
      "C:\\Users\\Jason\\.conda\\envs\\airsoft\\lib\\site-packages\\pandas\\core\\arraylike.py:396: RuntimeWarning: divide by zero encountered in log\n",
      "  result = getattr(ufunc, method)(*inputs, **kwargs)\n",
      "C:\\Users\\Jason\\.conda\\envs\\airsoft\\lib\\site-packages\\pandas\\core\\arraylike.py:396: RuntimeWarning: divide by zero encountered in log\n",
      "  result = getattr(ufunc, method)(*inputs, **kwargs)\n",
      "\n",
      " 51%|██████████████████████████████████████▉                                      | 5057/10000 [05:49<05:49, 14.13it/s]\u001b[AC:\\Users\\Jason\\.conda\\envs\\airsoft\\lib\\site-packages\\pandas\\core\\arraylike.py:396: RuntimeWarning: divide by zero encountered in log\n",
      "  result = getattr(ufunc, method)(*inputs, **kwargs)\n",
      "C:\\Users\\Jason\\.conda\\envs\\airsoft\\lib\\site-packages\\pandas\\core\\arraylike.py:396: RuntimeWarning: divide by zero encountered in log\n",
      "  result = getattr(ufunc, method)(*inputs, **kwargs)\n",
      "C:\\Users\\Jason\\.conda\\envs\\airsoft\\lib\\site-packages\\pandas\\core\\arraylike.py:396: RuntimeWarning: divide by zero encountered in log\n",
      "  result = getattr(ufunc, method)(*inputs, **kwargs)\n",
      "C:\\Users\\Jason\\.conda\\envs\\airsoft\\lib\\site-packages\\pandas\\core\\arraylike.py:396: RuntimeWarning: divide by zero encountered in log\n",
      "  result = getattr(ufunc, method)(*inputs, **kwargs)\n",
      "\n",
      " 52%|████████████████████████████████████████                                     | 5203/10000 [05:59<05:36, 14.25it/s]\u001b[AC:\\Users\\Jason\\.conda\\envs\\airsoft\\lib\\site-packages\\pandas\\core\\arraylike.py:396: RuntimeWarning: divide by zero encountered in log\n",
      "  result = getattr(ufunc, method)(*inputs, **kwargs)\n",
      "\n",
      " 54%|█████████████████████████████████████████▏                                   | 5352/10000 [06:09<05:21, 14.44it/s]\u001b[AC:\\Users\\Jason\\.conda\\envs\\airsoft\\lib\\site-packages\\pandas\\core\\arraylike.py:396: RuntimeWarning: divide by zero encountered in log\n",
      "  result = getattr(ufunc, method)(*inputs, **kwargs)\n",
      "C:\\Users\\Jason\\.conda\\envs\\airsoft\\lib\\site-packages\\pandas\\core\\arraylike.py:396: RuntimeWarning: divide by zero encountered in log\n",
      "  result = getattr(ufunc, method)(*inputs, **kwargs)\n",
      "C:\\Users\\Jason\\.conda\\envs\\airsoft\\lib\\site-packages\\pandas\\core\\arraylike.py:396: RuntimeWarning: divide by zero encountered in log\n",
      "  result = getattr(ufunc, method)(*inputs, **kwargs)\n",
      "C:\\Users\\Jason\\.conda\\envs\\airsoft\\lib\\site-packages\\pandas\\core\\arraylike.py:396: RuntimeWarning: divide by zero encountered in log\n",
      "  result = getattr(ufunc, method)(*inputs, **kwargs)\n",
      "\n",
      " 55%|██████████████████████████████████████████▎                                  | 5501/10000 [06:20<05:17, 14.15it/s]\u001b[AC:\\Users\\Jason\\.conda\\envs\\airsoft\\lib\\site-packages\\pandas\\core\\arraylike.py:396: RuntimeWarning: divide by zero encountered in log\n",
      "  result = getattr(ufunc, method)(*inputs, **kwargs)\n",
      "C:\\Users\\Jason\\.conda\\envs\\airsoft\\lib\\site-packages\\pandas\\core\\arraylike.py:396: RuntimeWarning: divide by zero encountered in log\n",
      "  result = getattr(ufunc, method)(*inputs, **kwargs)\n",
      "C:\\Users\\Jason\\.conda\\envs\\airsoft\\lib\\site-packages\\pandas\\core\\arraylike.py:396: RuntimeWarning: divide by zero encountered in log\n",
      "  result = getattr(ufunc, method)(*inputs, **kwargs)\n",
      "\n",
      " 56%|███████████████████████████████████████████▌                                 | 5650/10000 [06:30<05:03, 14.35it/s]\u001b[AC:\\Users\\Jason\\.conda\\envs\\airsoft\\lib\\site-packages\\pandas\\core\\arraylike.py:396: RuntimeWarning: divide by zero encountered in log\n",
      "  result = getattr(ufunc, method)(*inputs, **kwargs)\n",
      "C:\\Users\\Jason\\.conda\\envs\\airsoft\\lib\\site-packages\\pandas\\core\\arraylike.py:396: RuntimeWarning: divide by zero encountered in log\n",
      "  result = getattr(ufunc, method)(*inputs, **kwargs)\n",
      "\n",
      " 56%|███████████████████████████████████████████▌                                 | 5650/10000 [06:40<05:03, 14.35it/s]\u001b[A\n",
      " 58%|████████████████████████████████████████████▋                                | 5796/10000 [06:40<04:52, 14.39it/s]\u001b[AC:\\Users\\Jason\\.conda\\envs\\airsoft\\lib\\site-packages\\pandas\\core\\arraylike.py:396: RuntimeWarning: divide by zero encountered in log\n",
      "  result = getattr(ufunc, method)(*inputs, **kwargs)\n",
      "\n",
      " 58%|████████████████████████████████████████████▋                                | 5796/10000 [06:50<04:52, 14.39it/s]\u001b[A\n",
      " 59%|█████████████████████████████████████████████▊                               | 5945/10000 [06:50<04:39, 14.51it/s]\u001b[AC:\\Users\\Jason\\.conda\\envs\\airsoft\\lib\\site-packages\\pandas\\core\\arraylike.py:396: RuntimeWarning: divide by zero encountered in log\n",
      "  result = getattr(ufunc, method)(*inputs, **kwargs)\n",
      "C:\\Users\\Jason\\.conda\\envs\\airsoft\\lib\\site-packages\\pandas\\core\\arraylike.py:396: RuntimeWarning: divide by zero encountered in log\n",
      "  result = getattr(ufunc, method)(*inputs, **kwargs)\n",
      "C:\\Users\\Jason\\.conda\\envs\\airsoft\\lib\\site-packages\\pandas\\core\\arraylike.py:396: RuntimeWarning: divide by zero encountered in log\n",
      "  result = getattr(ufunc, method)(*inputs, **kwargs)\n",
      "C:\\Users\\Jason\\.conda\\envs\\airsoft\\lib\\site-packages\\pandas\\core\\arraylike.py:396: RuntimeWarning: divide by zero encountered in log\n",
      "  result = getattr(ufunc, method)(*inputs, **kwargs)\n",
      "C:\\Users\\Jason\\.conda\\envs\\airsoft\\lib\\site-packages\\pandas\\core\\arraylike.py:396: RuntimeWarning: divide by zero encountered in log\n",
      "  result = getattr(ufunc, method)(*inputs, **kwargs)\n",
      "\n",
      " 61%|██████████████████████████████████████████████▉                              | 6094/10000 [07:01<04:33, 14.29it/s]\u001b[AC:\\Users\\Jason\\.conda\\envs\\airsoft\\lib\\site-packages\\pandas\\core\\arraylike.py:396: RuntimeWarning: divide by zero encountered in log\n",
      "  result = getattr(ufunc, method)(*inputs, **kwargs)\n",
      "\n",
      " 62%|████████████████████████████████████████████████                             | 6239/10000 [07:11<04:22, 14.34it/s]\u001b[A\n",
      " 64%|█████████████████████████████████████████████████▏                           | 6386/10000 [07:21<04:10, 14.42it/s]\u001b[AC:\\Users\\Jason\\.conda\\envs\\airsoft\\lib\\site-packages\\pandas\\core\\arraylike.py:396: RuntimeWarning: divide by zero encountered in log\n",
      "  result = getattr(ufunc, method)(*inputs, **kwargs)\n",
      "C:\\Users\\Jason\\.conda\\envs\\airsoft\\lib\\site-packages\\pandas\\core\\arraylike.py:396: RuntimeWarning: divide by zero encountered in log\n",
      "  result = getattr(ufunc, method)(*inputs, **kwargs)\n",
      "C:\\Users\\Jason\\.conda\\envs\\airsoft\\lib\\site-packages\\pandas\\core\\arraylike.py:396: RuntimeWarning: divide by zero encountered in log\n",
      "  result = getattr(ufunc, method)(*inputs, **kwargs)\n"
     ]
    },
    {
     "name": "stderr",
     "output_type": "stream",
     "text": [
      "\n",
      " 65%|██████████████████████████████████████████████████▎                          | 6533/10000 [07:33<04:11, 13.79it/s]\u001b[AC:\\Users\\Jason\\.conda\\envs\\airsoft\\lib\\site-packages\\pandas\\core\\arraylike.py:396: RuntimeWarning: divide by zero encountered in log\n",
      "  result = getattr(ufunc, method)(*inputs, **kwargs)\n",
      "C:\\Users\\Jason\\.conda\\envs\\airsoft\\lib\\site-packages\\pandas\\core\\arraylike.py:396: RuntimeWarning: divide by zero encountered in log\n",
      "  result = getattr(ufunc, method)(*inputs, **kwargs)\n",
      "C:\\Users\\Jason\\.conda\\envs\\airsoft\\lib\\site-packages\\pandas\\core\\arraylike.py:396: RuntimeWarning: divide by zero encountered in log\n",
      "  result = getattr(ufunc, method)(*inputs, **kwargs)\n",
      "\n",
      " 67%|███████████████████████████████████████████████████▎                         | 6659/10000 [07:43<04:08, 13.43it/s]\u001b[AC:\\Users\\Jason\\.conda\\envs\\airsoft\\lib\\site-packages\\pandas\\core\\arraylike.py:396: RuntimeWarning: divide by zero encountered in log\n",
      "  result = getattr(ufunc, method)(*inputs, **kwargs)\n",
      "C:\\Users\\Jason\\.conda\\envs\\airsoft\\lib\\site-packages\\pandas\\core\\arraylike.py:396: RuntimeWarning: divide by zero encountered in log\n",
      "  result = getattr(ufunc, method)(*inputs, **kwargs)\n",
      "C:\\Users\\Jason\\.conda\\envs\\airsoft\\lib\\site-packages\\pandas\\core\\arraylike.py:396: RuntimeWarning: divide by zero encountered in log\n",
      "  result = getattr(ufunc, method)(*inputs, **kwargs)\n",
      "\n",
      " 68%|████████████████████████████████████████████████████▏                        | 6785/10000 [07:53<04:03, 13.18it/s]\u001b[AC:\\Users\\Jason\\.conda\\envs\\airsoft\\lib\\site-packages\\pandas\\core\\arraylike.py:396: RuntimeWarning: divide by zero encountered in log\n",
      "  result = getattr(ufunc, method)(*inputs, **kwargs)\n",
      "C:\\Users\\Jason\\.conda\\envs\\airsoft\\lib\\site-packages\\pandas\\core\\arraylike.py:396: RuntimeWarning: divide by zero encountered in log\n",
      "  result = getattr(ufunc, method)(*inputs, **kwargs)\n",
      "C:\\Users\\Jason\\.conda\\envs\\airsoft\\lib\\site-packages\\pandas\\core\\arraylike.py:396: RuntimeWarning: divide by zero encountered in log\n",
      "  result = getattr(ufunc, method)(*inputs, **kwargs)\n"
     ]
    }
   ],
   "source": [
    "for temp_sample_size in tqdm(ALL_SAMPLE_SIZES):\n",
    "    non_separable_count = 0\n",
    "    num_iters_per_population = 10_000\n",
    "        \n",
    "    for _ in trange(num_iters_per_population, mininterval=10):\n",
    "        # use sampling scheme to sample data:\n",
    "        obtained_valid_sample = False\n",
    "        \n",
    "        while not obtained_valid_sample:\n",
    "            pop_data['r0'] = 0\n",
    "            pop_data.loc[np.random.choice(pop_data.index, size = temp_sample_size, replace=False), 'r0'] = 1\n",
    "\n",
    "            pop_data['r'] = 0\n",
    "            \n",
    "            full_sampled_data = pop_data[pop_data['r0'] == 1]\n",
    "\n",
    "            marginal_probabilities = expit(logit(sample_probability_centering) + \\\n",
    "                                           sample_probability_bias_factor * (2* full_sampled_data['y'] - 1) * \\\n",
    "                                           full_sampled_data['x_0'])\n",
    "\n",
    "            other_sample_indices = marginal_probabilities.index[rand_generator.binomial(n=1, p = marginal_probabilities) == 1]\n",
    "\n",
    "            pop_data.loc[other_sample_indices, 'r'] = 1\n",
    "            # sample_data here means the biased sample data.\n",
    "            sample_data = pop_data[pop_data['r'] == 1]\n",
    "            realised_sample_size = len(other_sample_indices)\n",
    "            \n",
    "            if realised_sample_size < 1_000:\n",
    "                separability_check_df = sample_data[['x_0', 'y']].groupby('y')['x_0'].agg(['min', 'max'])\n",
    "                is_not_separable = (len(separability_check_df) < 2) or \\\n",
    "                                    (separability_check_df.iloc[0, 0] > separability_check_df.iloc[1, 1]) or \\\n",
    "                                    (separability_check_df.iloc[1, 0] > separability_check_df.iloc[0, 1])\n",
    "\n",
    "                if is_not_separable:\n",
    "                    non_separable_count = non_separable_count + 1\n",
    "                    continue\n",
    "\n",
    "            else:\n",
    "                ...\n",
    "            obtained_valid_sample = True\n",
    "            \n",
    "            # compute biased x, y, model, beta\n",
    "            sample_x = sample_data[feature_cols]\n",
    "            sample_y = sample_data['y']\n",
    "            sample_models = compute_all_three_logistic_models(sample_x, sample_y)\n",
    "            sample_betas = [sample_model.params for sample_model in sample_models]\n",
    "            sample_r = pop_data['r']\n",
    "        \n",
    "        # compute full x, y, model, beta\n",
    "        sample_x_full = full_sampled_data[feature_cols]\n",
    "        sample_y_full = full_sampled_data['y']\n",
    "        sample_models_full = compute_all_three_logistic_models(sample_x_full, sample_y_full)\n",
    "        sample_betas_full = [sample_model_full.params for sample_model_full in sample_models_full]\n",
    "        sample_r_full = pop_data['r0']\n",
    "        \n",
    "        \n",
    "        \n",
    "        # compute biased versions of things:\n",
    "        all_sample_beta_per_sample_size_biased[temp_sample_size].append(\n",
    "            [pd.Series(sample_beta) for sample_beta in sample_betas]\n",
    "        )        \n",
    "        all_ddc_per_sample_size_biased[temp_sample_size].append(\n",
    "                        [pop_gs[model_type].corrwith(sample_r)[['x_0']] for _, model_type in model_iteration]\n",
    "        )\n",
    "        all_jns_per_sample_size_biased[temp_sample_size].append(\n",
    "            [compute_average_jn(pop_betas[model_index], sample_betas[model_index], \n",
    "                               sample_x, sample_y, model_type = model_type) for model_index, model_type in model_iteration]\n",
    "        )\n",
    "            \n",
    "        all_realized_sample_sizes_per_sample_size[temp_sample_size].append(realised_sample_size)\n",
    "        \n",
    "        # compute full versions of things:\n",
    "        all_sample_beta_per_sample_size_full[temp_sample_size].append(\n",
    "            [pd.Series(sample_beta) for sample_beta in sample_betas_full]\n",
    "        )\n",
    "        \n",
    "        all_ddc_per_sample_size_full[temp_sample_size].append(\n",
    "            [pop_gs[model_type].corrwith(sample_r_full)[['x_0']] for _, model_type in model_iteration]\n",
    "        )\n",
    "        \n",
    "        all_jns_per_sample_size_full[temp_sample_size].append(\n",
    "            [compute_average_jn(pop_betas[model_index], sample_betas_full[model_index], \n",
    "                               sample_x_full, sample_y_full, \n",
    "                               model_type = model_type) for model_index, model_type in model_iteration]\n",
    "        )\n",
    "        \n",
    "    sample_specific_non_separable_count[temp_sample_size] = non_separable_count\n",
    "    "
   ]
  },
  {
   "cell_type": "markdown",
   "id": "a0da84f3",
   "metadata": {},
   "source": [
    "#### combine data for each sample size:"
   ]
  },
  {
   "cell_type": "code",
   "execution_count": 33,
   "id": "1c6a7e25",
   "metadata": {},
   "outputs": [
    {
     "data": {
      "text/plain": [
       "{1000: 0}"
      ]
     },
     "execution_count": 33,
     "metadata": {},
     "output_type": "execute_result"
    }
   ],
   "source": [
    "sample_specific_non_separable_count"
   ]
  },
  {
   "cell_type": "code",
   "execution_count": 34,
   "id": "07d65b4e",
   "metadata": {},
   "outputs": [],
   "source": [
    "all_data_per_ss = []"
   ]
  },
  {
   "cell_type": "code",
   "execution_count": 35,
   "id": "40974b84",
   "metadata": {},
   "outputs": [],
   "source": [
    "all_raw_data = [all_jns_per_sample_size_biased, all_ddc_per_sample_size_biased, all_sample_beta_per_sample_size_biased, \\\n",
    "                all_jns_per_sample_size_full, all_ddc_per_sample_size_full, all_sample_beta_per_sample_size_full, \\\n",
    "                all_realized_sample_sizes_per_sample_size, all_pop_beta_per_sample_size]"
   ]
  },
  {
   "cell_type": "code",
   "execution_count": 36,
   "id": "e22da8ac",
   "metadata": {},
   "outputs": [],
   "source": [
    "pickle_filename = f'all_raw_data_{link}_{true_beta}.pickle'\n",
    "with open(pickle_filename, 'wb') as handle:\n",
    "    pickle.dump(all_raw_data, handle)"
   ]
  },
  {
   "cell_type": "code",
   "execution_count": 31,
   "id": "a43b12ed",
   "metadata": {},
   "outputs": [],
   "source": [
    "pickle_filename = f'pop_betas_{link}_{true_beta}.pickle'\n",
    "with open(pickle_filename, 'wb') as handle:\n",
    "    pickle.dump(pop_betas, handle)"
   ]
  },
  {
   "cell_type": "code",
   "execution_count": null,
   "id": "61523b30",
   "metadata": {},
   "outputs": [],
   "source": []
  },
  {
   "cell_type": "code",
   "execution_count": null,
   "id": "ed7de804",
   "metadata": {},
   "outputs": [],
   "source": []
  }
 ],
 "metadata": {
  "kernelspec": {
   "display_name": "Python 3 (ipykernel)",
   "language": "python",
   "name": "python3"
  },
  "language_info": {
   "codemirror_mode": {
    "name": "ipython",
    "version": 3
   },
   "file_extension": ".py",
   "mimetype": "text/x-python",
   "name": "python",
   "nbconvert_exporter": "python",
   "pygments_lexer": "ipython3",
   "version": "3.12.8"
  }
 },
 "nbformat": 4,
 "nbformat_minor": 5
}
