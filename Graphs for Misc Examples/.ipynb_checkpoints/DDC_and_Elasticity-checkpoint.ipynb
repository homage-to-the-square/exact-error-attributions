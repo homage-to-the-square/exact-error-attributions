{
 "cells": [
  {
   "cell_type": "markdown",
   "id": "07fe8ab1-2824-4a95-954b-b3f840f53766",
   "metadata": {},
   "source": [
    "# Notes:"
   ]
  },
  {
   "cell_type": "markdown",
   "id": "b2a09c34-3108-4686-bdd2-df68bd344ef1",
   "metadata": {},
   "source": [
    "Recall that in linear regression:\n",
    "- The design matrix is equal to $J_n = \\frac1n \\sum_{i=1}^n x_i^2$. \n",
    "- In a fixed population, the data defect correlation is proportional to $\\textrm{Cov}(R, G^*)/\\sigma_R$, where $G^*(x, y) = x(y - \\beta^* x)$, and where $\\beta^*$ is the finite population OLS fit.\n",
    "- In the scenario below, where the finite population points are a grid, this simplifies greatly, as:\n",
    "    - $\\beta^* = 0$.\n",
    "    - $G^*(X, Y) = XY$.\n",
    "    - $E_I[G^*(X_I, Y_I)] = 0$.\n",
    "    - $\\textrm{Cov}(R, G^*) = E_I[R_IX_IY_I]$.\n",
    "\n",
    "Therefore, in this case, the ddc is proportional to:\n",
    "$$\\rho_{R, G^*} \\propto \\frac{\\sum_I R_IX_IY_I}{\\sqrt{n(N-n)}}.$$"
   ]
  },
  {
   "cell_type": "markdown",
   "id": "819f24e8-0c12-42fc-a3cc-e0b067fa579d",
   "metadata": {},
   "source": [
    "Suppose that we want to design an example where the ddc are the same, but the design matrices are different, and the sample sizes are also different.\n",
    "- For simplicitly, we can consider samples where the denominator $\\sqrt{n(N-n)}$ factors out nicely. For 25 datapoints, this occurs nicely for $n = 5, 9$, giving denominators of $10$ and $12$. Letting the above to equal 1/2, we see that the graph2_samples below works."
   ]
  },
  {
   "cell_type": "markdown",
   "id": "1ebe5288-ff6a-40ea-9382-44beaf6458f2",
   "metadata": {},
   "source": [
    "# Imports:"
   ]
  },
  {
   "cell_type": "code",
   "execution_count": 2,
   "id": "e0c363c1-dddb-4c4a-8550-19d9f98d5094",
   "metadata": {
    "execution": {
     "iopub.execute_input": "2025-08-29T11:09:18.153702Z",
     "iopub.status.busy": "2025-08-29T11:09:18.152199Z",
     "iopub.status.idle": "2025-08-29T11:09:19.939650Z",
     "shell.execute_reply": "2025-08-29T11:09:19.939650Z",
     "shell.execute_reply.started": "2025-08-29T11:09:18.153702Z"
    }
   },
   "outputs": [],
   "source": [
    "import matplotlib.pyplot as plt\n",
    "import pandas as pd\n",
    "import numpy as np\n",
    "# import matplotlib.ticker as mticker\n",
    "from matplotlib.ticker import FormatStrFormatter, MaxNLocator"
   ]
  },
  {
   "cell_type": "code",
   "execution_count": 3,
   "id": "c9638276-b407-4c19-81e3-b589380d02a8",
   "metadata": {
    "execution": {
     "iopub.execute_input": "2025-08-29T11:09:19.940654Z",
     "iopub.status.busy": "2025-08-29T11:09:19.939650Z",
     "iopub.status.idle": "2025-08-29T11:09:19.942572Z",
     "shell.execute_reply": "2025-08-29T11:09:19.942572Z",
     "shell.execute_reply.started": "2025-08-29T11:09:19.940654Z"
    }
   },
   "outputs": [],
   "source": [
    "def professional_plot_layout(fig):\n",
    "    return fig.update_layout(\n",
    "        template=\"simple_white\",  # clean background\n",
    "        # font=dict(family=\"Times New Roman\", size=14),  # journal-friendly\n",
    "        legend=dict(\n",
    "            title=None, orientation=\"h\", y=-0.2, x=0.5, xanchor=\"center\"  # below plot\n",
    "        ),\n",
    "        margin=dict(l=60, r=20, t=20, b=60),\n",
    "    )"
   ]
  },
  {
   "cell_type": "code",
   "execution_count": 4,
   "id": "e63c7b60-4dc1-4677-8e00-1c639142b318",
   "metadata": {
    "execution": {
     "iopub.execute_input": "2025-08-29T11:09:19.942572Z",
     "iopub.status.busy": "2025-08-29T11:09:19.942572Z",
     "iopub.status.idle": "2025-08-29T11:09:19.946115Z",
     "shell.execute_reply": "2025-08-29T11:09:19.946115Z",
     "shell.execute_reply.started": "2025-08-29T11:09:19.942572Z"
    }
   },
   "outputs": [],
   "source": [
    "def concatenate_lists(list_of_lists):\n",
    "    \"\"\"Concatenates a list of lists using list comprehension.\"\"\"\n",
    "    return [item for sublist in list_of_lists for item in sublist]"
   ]
  },
  {
   "cell_type": "code",
   "execution_count": 5,
   "id": "1cd44d35-d19d-42ab-8615-42d3071d9cf8",
   "metadata": {
    "execution": {
     "iopub.execute_input": "2025-08-29T11:09:19.946628Z",
     "iopub.status.busy": "2025-08-29T11:09:19.946628Z",
     "iopub.status.idle": "2025-08-29T11:09:19.949770Z",
     "shell.execute_reply": "2025-08-29T11:09:19.949770Z",
     "shell.execute_reply.started": "2025-08-29T11:09:19.946628Z"
    }
   },
   "outputs": [],
   "source": [
    "def corr_with_ddof(df: pd.DataFrame, ddof: int = 1) -> pd.DataFrame:\n",
    "    \"\"\"\n",
    "    Compute correlation matrix for a DataFrame with a custom ddof.\n",
    "\n",
    "    Parameters\n",
    "    ----------\n",
    "    df : pd.DataFrame\n",
    "        Input data (numeric only).\n",
    "    ddof : int, default=1\n",
    "        Delta degrees of freedom to use in variance/covariance.\n",
    "\n",
    "    Returns\n",
    "    -------\n",
    "    pd.DataFrame\n",
    "        Correlation matrix.\n",
    "    \"\"\"\n",
    "    # ensure numeric data only\n",
    "    df_num = df.select_dtypes(include=[np.number])\n",
    "    \n",
    "    # center the data\n",
    "    X = df_num.to_numpy(dtype=float)\n",
    "    X_centered = X - X.mean(axis=0)\n",
    "    \n",
    "    # covariance with custom ddof\n",
    "    n = X.shape[0]\n",
    "    cov = (X_centered.T @ X_centered) / (n - ddof)\n",
    "    \n",
    "    # standard deviations\n",
    "    std = np.sqrt(np.diag(cov))\n",
    "    \n",
    "    # correlation\n",
    "    corr = cov / np.outer(std, std)\n",
    "    \n",
    "    return pd.DataFrame(corr, index=df_num.columns, columns=df_num.columns)"
   ]
  },
  {
   "cell_type": "markdown",
   "id": "a7948270-832b-4146-a5a3-10255824ae70",
   "metadata": {},
   "source": [
    "# Hyperparams:"
   ]
  },
  {
   "cell_type": "code",
   "execution_count": 6,
   "id": "cadbf136-5a89-4b9b-acbc-03123b8833e4",
   "metadata": {
    "execution": {
     "iopub.execute_input": "2025-08-29T11:09:20.469106Z",
     "iopub.status.busy": "2025-08-29T11:09:20.469106Z",
     "iopub.status.idle": "2025-08-29T11:09:20.472233Z",
     "shell.execute_reply": "2025-08-29T11:09:20.472233Z",
     "shell.execute_reply.started": "2025-08-29T11:09:20.469106Z"
    }
   },
   "outputs": [],
   "source": [
    "n = 2"
   ]
  },
  {
   "cell_type": "code",
   "execution_count": 7,
   "id": "bc389951-4b46-48a2-acf2-6c9f2f379788",
   "metadata": {
    "execution": {
     "iopub.execute_input": "2025-08-29T11:09:20.683669Z",
     "iopub.status.busy": "2025-08-29T11:09:20.683669Z",
     "iopub.status.idle": "2025-08-29T11:09:20.686496Z",
     "shell.execute_reply": "2025-08-29T11:09:20.686496Z",
     "shell.execute_reply.started": "2025-08-29T11:09:20.683669Z"
    }
   },
   "outputs": [],
   "source": [
    "# all (x, y) combos\n",
    "graph1_samples = [[(-1, -2), (0, 0), (1, 2)], [(-1, -1), (0, 0), (1, 1)]]\n",
    "\n",
    "# graph2_samples = [[(-1, -2), (0, 0), (1, 2)], [(-2, -1), (0, 0), (2, 1)]]\n",
    "graph2_samples = [[(-2, 2), (-2, -1), (-2, -2), (1, 1), (1, 2)], [(-1, 1), (-1, -1), (-1, -2), (0, 0), (0, -1), (1, 2), (1, 1), (1, -1), (2, 1)]]\n"
   ]
  },
  {
   "cell_type": "markdown",
   "id": "e6d26a38-7019-495e-965c-b3a16d3b521f",
   "metadata": {},
   "source": [
    "# Run:"
   ]
  },
  {
   "cell_type": "markdown",
   "id": "112ea1e5-f439-4cd5-baa4-aeb4d6a06b53",
   "metadata": {},
   "source": [
    "## orig:"
   ]
  },
  {
   "cell_type": "code",
   "execution_count": null,
   "id": "0977c8a4-c1db-4e32-883a-7d318a8b41b8",
   "metadata": {
    "execution": {
     "iopub.execute_input": "2025-08-25T20:29:52.525585Z",
     "iopub.status.busy": "2025-08-25T20:29:52.525079Z",
     "iopub.status.idle": "2025-08-25T20:29:52.532281Z",
     "shell.execute_reply": "2025-08-25T20:29:52.531747Z",
     "shell.execute_reply.started": "2025-08-25T20:29:52.525585Z"
    }
   },
   "outputs": [],
   "source": [
    "df = pd.DataFrame({\n",
    "    \"X\": [i for i in range(-n, n+1)] * (2*n+1),\n",
    "    \"Y\": concatenate_lists([[i for _ in range((2*n+1))] for i in range(-n, n+1)])\n",
    "})\n",
    "\n",
    "# Function to encode memberships for plotting\n",
    "def get_membership(df, sample_shape, sample_fill, fill_color: str = 'blue', fill_shape: str = 'D', other_linestyle: str = 'dotted'):\n",
    "    shapes = []\n",
    "    facecolors = []\n",
    "    linestyles = []\n",
    "    \n",
    "    for temp_index, temp_row in df.iterrows():\n",
    "        temp_datapoint = (temp_row['X'], temp_row['Y'])\n",
    "        shapes.append(fill_shape if temp_datapoint in sample_shape else \"o\")\n",
    "        facecolors.append(fill_color if temp_datapoint in sample_fill else \"none\")\n",
    "        linestyles.append(\"solid\" if temp_datapoint in sample_shape else other_linestyle)\n",
    "    return shapes, facecolors, linestyles\n",
    "\n",
    "shapes_left, faces_left, lstyles_left = get_membership(df, graph1_samples[0], graph1_samples[1])\n",
    "shapes_right, faces_right, lstyles_right = get_membership(df, graph2_samples[0], graph2_samples[1], fill_color='orange')\n",
    "\n",
    "# Create subplots\n",
    "fig, axes = plt.subplots(1, 2, figsize=(12,5), sharey=True)\n",
    "\n",
    "# Left plot (A/B)\n",
    "for x, y, m, f, ls in zip(df[\"X\"], df[\"Y\"], shapes_left, faces_left, lstyles_left):\n",
    "    axes[0].scatter(x, y, s=90, marker=m, facecolor=f, edgecolor=\"black\", linewidth=1, linestyle=ls)\n",
    "axes[0].set_title(\"Same Design Matrix, Different DDC\")\n",
    "\n",
    "# Right plot (C/D)\n",
    "for x, y, m, f, ls in zip(df[\"X\"], df[\"Y\"], shapes_right, faces_right, lstyles_right):\n",
    "    axes[1].scatter(x, y, s=90, marker=m, facecolor=f, edgecolor=\"black\", linewidth=1, linestyle=ls)\n",
    "axes[1].set_title(\"Different Design Matrix, Same DDC\")\n",
    "\n",
    "for ax in axes:\n",
    "    ax.set_xlabel(\"X\")\n",
    "    ax.set_ylabel(\"Y\")\n",
    "    ax.set_aspect('equal', adjustable='box')\n",
    "    \n",
    "    # ---- Clean up ticks ----\n",
    "    ax.yaxis.set_major_formatter(FormatStrFormatter('%d'))\n",
    "    ax.yaxis.set_major_locator(MaxNLocator(integer=True))\n",
    "    \n",
    "# Shared legend (optional)\n",
    "# legend_elems = [\n",
    "#     plt.Line2D([0],[0], marker=\"s\", color=\"black\", markerfacecolor=\"none\", markersize=10, label=\"Shape category only\"),\n",
    "#     plt.Line2D([0],[0], marker=\"o\", color=\"black\", markerfacecolor=\"gray\", markersize=10, label=\"Fill category only\"),\n",
    "#     plt.Line2D([0],[0], marker=\"s\", color=\"black\", markerfacecolor=\"gray\", markersize=10, label=\"Shape + Fill\"),\n",
    "#     plt.Line2D([0],[0], marker=\"o\", color=\"black\", markerfacecolor=\"none\", markersize=10, label=\"Neither\")\n",
    "# ]\n",
    "# axes[1].legend(handles=legend_elems, frameon=False, title=\"Membership\", loc=\"upper right\")\n",
    "\n",
    "# Overall figure title\n",
    "fig.suptitle(\"Examples of the Design Matrix and Data Defect Correlation in Linear Regression:\", fontsize=16)\n",
    "\n",
    "plt.tight_layout(rect=[0, 0, 1, 0.95])  # leave space for suptitle\n",
    "# plt.show()\n",
    "\n",
    "fig.savefig(\"design_vs_ddc_ols_example.jpg\", dpi=300, bbox_inches='tight')"
   ]
  },
  {
   "cell_type": "code",
   "execution_count": null,
   "id": "68e3c89b-33db-4425-87d3-bf7c71f7fd50",
   "metadata": {},
   "outputs": [],
   "source": []
  },
  {
   "cell_type": "markdown",
   "id": "67a34d58-2dbb-4c51-be5b-0d722c874a07",
   "metadata": {},
   "source": [
    "## option 1:"
   ]
  },
  {
   "cell_type": "code",
   "execution_count": 36,
   "id": "4d23d63d-5e74-450c-821b-3eaece68ac06",
   "metadata": {
    "execution": {
     "iopub.execute_input": "2025-08-29T11:26:13.512158Z",
     "iopub.status.busy": "2025-08-29T11:26:13.512158Z",
     "iopub.status.idle": "2025-08-29T11:26:14.132588Z",
     "shell.execute_reply": "2025-08-29T11:26:14.132588Z",
     "shell.execute_reply.started": "2025-08-29T11:26:13.512158Z"
    }
   },
   "outputs": [
    {
     "name": "stderr",
     "output_type": "stream",
     "text": [
      "C:\\Users\\chess\\AppData\\Local\\Temp\\ipykernel_35396\\1537426165.py:75: UserWarning: Tight layout not applied. The bottom and top margins cannot be made large enough to accommodate all Axes decorations.\n",
      "  plt.tight_layout(rect=[0, 0, 1, 0.10])  # Adjust to make room for legend\n"
     ]
    },
    {
     "data": {
      "image/png": "[encoded data removed]",
      "text/plain": [
       "<Figure size 1200x500 with 2 Axes>"
      ]
     },
     "metadata": {},
     "output_type": "display_data"
    }
   ],
   "source": [
    "df = pd.DataFrame({\n",
    "    \"X\": [i for i in range(-n, n+1)] * (2*n+1),\n",
    "    \"Y\": concatenate_lists([[i for _ in range((2*n+1))] for i in range(-n, n+1)])\n",
    "})\n",
    "\n",
    "# colors, from lightest to darkest \n",
    "C1, C2, C3 = '#CCCCCC', '#777777', '#000000'\n",
    "# Function to encode memberships for plotting with grayscale\n",
    "def get_membership_grayscale(df, sample_shape, sample_fill):\n",
    "    \"\"\"\n",
    "    Returns grayscale colors based on membership:\n",
    "    - Light gray: only in sample_shape\n",
    "    - Medium gray: only in sample_fill  \n",
    "    - Dark gray: in both (overlap)\n",
    "    - White: in neither\n",
    "    \"\"\"\n",
    "    colors = []\n",
    "    \n",
    "    for temp_index, temp_row in df.iterrows():\n",
    "        temp_datapoint = (temp_row['X'], temp_row['Y'])\n",
    "        in_shape = temp_datapoint in sample_shape\n",
    "        in_fill = temp_datapoint in sample_fill\n",
    "        \n",
    "        if in_shape and in_fill:\n",
    "            colors.append(C3)  # Black (overlap)\n",
    "        elif in_shape:\n",
    "            colors.append(C1)  # Light gray (shape only)\n",
    "        elif in_fill:\n",
    "            colors.append(C2)  # Dark gray (fill only)\n",
    "        else:\n",
    "            colors.append('white') \n",
    "    \n",
    "    return colors\n",
    "\n",
    "# Get grayscale colors for both graphs\n",
    "colors_left = get_membership_grayscale(df, graph1_samples[0], graph1_samples[1])\n",
    "colors_right = get_membership_grayscale(df, graph2_samples[0], graph2_samples[1])\n",
    "\n",
    "# Create subplots\n",
    "fig, axes = plt.subplots(1, 2, figsize=(12,5), sharey=True)\n",
    "\n",
    "# Left plot (A/B) - use circles with grayscale colors\n",
    "for x, y, color in zip(df[\"X\"], df[\"Y\"], colors_left):\n",
    "    axes[0].scatter(x, y, s=90, marker='o', facecolor=color, edgecolor=\"black\", linewidth=1)\n",
    "axes[0].set_title(\"Same Design Matrix, Different DDC\")\n",
    "\n",
    "# Right plot (C/D) - use circles with grayscale colors\n",
    "for x, y, color in zip(df[\"X\"], df[\"Y\"], colors_right):\n",
    "    axes[1].scatter(x, y, s=90, marker='o', facecolor=color, edgecolor=\"black\", linewidth=1)\n",
    "axes[1].set_title(\"Different Design Matrix, Same DDC\")\n",
    "\n",
    "for ax in axes:\n",
    "    ax.set_xlabel(\"X\")\n",
    "    ax.set_ylabel(\"Y\")\n",
    "    ax.set_aspect('equal', adjustable='box')\n",
    "    \n",
    "    # ---- Clean up ticks ----\n",
    "    ax.yaxis.set_major_formatter(FormatStrFormatter('%d'))\n",
    "    ax.yaxis.set_major_locator(MaxNLocator(integer=True))\n",
    "\n",
    "# Overall figure title\n",
    "fig.suptitle(\"Examples of the Design Matrix and Data Defect Correlation in Linear Regression:\", fontsize=16)\n",
    "plt.tight_layout(rect=[0, 0, 1, 0.95])  # leave space for suptitle\n",
    "\n",
    "# Optional: Add legend to explain grayscale coding\n",
    "from matplotlib.patches import Patch\n",
    "legend_elements = [\n",
    "    Patch(facecolor=C1, edgecolor='black', label='Sample 1 Only'),\n",
    "    Patch(facecolor=C2, edgecolor='black', label='Sample 2 Only'),\n",
    "    Patch(facecolor=C3, edgecolor='black', label='In Both Samples'),\n",
    "    Patch(facecolor='white', edgecolor='black', label='Neither')\n",
    "]\n",
    "fig.legend(handles=legend_elements, loc='center', bbox_to_anchor=(0.5, 0.02), ncol=4, fontsize=10)\n",
    "\n",
    "plt.tight_layout(rect=[0, 0, 1, 0.10])  # Adjust to make room for legend\n",
    "fig.savefig(\"design_vs_ddc_ols_example_option2.jpg\", dpi=300, bbox_inches='tight')"
   ]
  },
  {
   "cell_type": "code",
   "execution_count": null,
   "id": "9c69a3fe-7a4f-4ba2-a1bc-29e02c90611c",
   "metadata": {},
   "outputs": [],
   "source": []
  },
  {
   "cell_type": "markdown",
   "id": "8d84eaab-b95a-43d6-bedb-8211a2779294",
   "metadata": {},
   "source": [
    "## option 2:"
   ]
  },
  {
   "cell_type": "code",
   "execution_count": 32,
   "id": "3d44ca1b-7117-4435-8baa-e42ab3c21b80",
   "metadata": {
    "execution": {
     "iopub.execute_input": "2025-08-29T11:20:37.446767Z",
     "iopub.status.busy": "2025-08-29T11:20:37.446767Z",
     "iopub.status.idle": "2025-08-29T11:20:37.895297Z",
     "shell.execute_reply": "2025-08-29T11:20:37.895297Z",
     "shell.execute_reply.started": "2025-08-29T11:20:37.446767Z"
    }
   },
   "outputs": [
    {
     "name": "stderr",
     "output_type": "stream",
     "text": [
      "C:\\Users\\chess\\AppData\\Local\\Temp\\ipykernel_35396\\716875889.py:87: UserWarning: Tight layout not applied. The bottom and top margins cannot be made large enough to accommodate all Axes decorations.\n",
      "  plt.tight_layout(rect=[0, 0, 1, 0.10])  # Adjust to make room for legend\n"
     ]
    },
    {
     "data": {
      "image/png": "[encoded data removed]",
      "text/plain": [
       "<Figure size 1200x500 with 2 Axes>"
      ]
     },
     "metadata": {},
     "output_type": "display_data"
    }
   ],
   "source": [
    "df = pd.DataFrame({\n",
    "    \"X\": [i for i in range(-n, n+1)] * (2*n+1),\n",
    "    \"Y\": concatenate_lists([[i for _ in range((2*n+1))] for i in range(-n, n+1)])\n",
    "})\n",
    "\n",
    "# colors, from lightest to darkest \n",
    "C1, C2, C3 = '#CCCCCC', '#777777', '#000000'\n",
    "\n",
    "# shapes for each category\n",
    "S1, S2, S3, S4 = 's', '^', 'D', 'o'  # square, triangle, diamond, circle\n",
    "\n",
    "# Function to encode memberships for plotting with grayscale and shapes\n",
    "def get_membership_grayscale_shapes(df, sample_shape, sample_fill):\n",
    "    \"\"\"\n",
    "    Returns grayscale colors and shapes based on membership:\n",
    "    - Light gray + square: only in sample_shape\n",
    "    - Medium gray + triangle: only in sample_fill  \n",
    "    - Dark gray + diamond: in both (overlap)\n",
    "    - White + circle: in neither\n",
    "    \"\"\"\n",
    "    colors = []\n",
    "    shapes = []\n",
    "    \n",
    "    for temp_index, temp_row in df.iterrows():\n",
    "        temp_datapoint = (temp_row['X'], temp_row['Y'])\n",
    "        in_shape = temp_datapoint in sample_shape\n",
    "        in_fill = temp_datapoint in sample_fill\n",
    "        \n",
    "        if in_shape and in_fill:\n",
    "            colors.append(C3)  # Black (overlap)\n",
    "            shapes.append(S3)  # Diamond\n",
    "        elif in_shape:\n",
    "            colors.append(C1)  # Light gray (shape only)\n",
    "            shapes.append(S1)  # Square\n",
    "        elif in_fill:\n",
    "            colors.append(C2)  # Medium gray (fill only)\n",
    "            shapes.append(S2)  # Triangle\n",
    "        else:\n",
    "            colors.append('white')  # White (neither)\n",
    "            shapes.append(S4)       # Circle\n",
    "    \n",
    "    return colors, shapes\n",
    "\n",
    "# Get grayscale colors and shapes for both graphs\n",
    "colors_left, shapes_left = get_membership_grayscale_shapes(df, graph1_samples[0], graph1_samples[1])\n",
    "colors_right, shapes_right = get_membership_grayscale_shapes(df, graph2_samples[0], graph2_samples[1])\n",
    "\n",
    "# Create subplots\n",
    "fig, axes = plt.subplots(1, 2, figsize=(12,5), sharey=True)\n",
    "\n",
    "# Left plot (A/B) - use shapes and grayscale colors\n",
    "for x, y, color, shape in zip(df[\"X\"], df[\"Y\"], colors_left, shapes_left):\n",
    "    axes[0].scatter(x, y, s=90, marker=shape, facecolor=color, edgecolor=\"black\", linewidth=1)\n",
    "axes[0].set_title(\"Same Design Matrix, Different DDC\")\n",
    "\n",
    "# Right plot (C/D) - use shapes and grayscale colors\n",
    "for x, y, color, shape in zip(df[\"X\"], df[\"Y\"], colors_right, shapes_right):\n",
    "    axes[1].scatter(x, y, s=90, marker=shape, facecolor=color, edgecolor=\"black\", linewidth=1)\n",
    "axes[1].set_title(\"Different Design Matrix, Same DDC\")\n",
    "\n",
    "for ax in axes:\n",
    "    ax.set_xlabel(\"X\")\n",
    "    ax.set_ylabel(\"Y\")\n",
    "    ax.set_aspect('equal', adjustable='box')\n",
    "    \n",
    "    # ---- Clean up ticks ----\n",
    "    ax.yaxis.set_major_formatter(FormatStrFormatter('%d'))\n",
    "    ax.yaxis.set_major_locator(MaxNLocator(integer=True))\n",
    "\n",
    "# Overall figure title\n",
    "fig.suptitle(\"Examples of the Design Matrix and Data Defect Correlation in Linear Regression:\", fontsize=16)\n",
    "\n",
    "# Create legend with both shapes and colors\n",
    "import matplotlib.lines as mlines\n",
    "legend_elements = [\n",
    "    mlines.Line2D([], [], color='black', marker=S1, markersize=8, markerfacecolor=C1, \n",
    "                  markeredgecolor='black', linestyle='None', label='Sample 1 Only'),\n",
    "    mlines.Line2D([], [], color='black', marker=S2, markersize=8, markerfacecolor=C2, \n",
    "                  markeredgecolor='black', linestyle='None', label='Sample 2 Only'),\n",
    "    mlines.Line2D([], [], color='black', marker=S3, markersize=8, markerfacecolor=C3, \n",
    "                  markeredgecolor='black', linestyle='None', label='In Both Samples'),\n",
    "    mlines.Line2D([], [], color='black', marker=S4, markersize=8, markerfacecolor='white', \n",
    "                  markeredgecolor='black', linestyle='None', label='Neither')\n",
    "]\n",
    "\n",
    "fig.legend(handles=legend_elements, loc='center', bbox_to_anchor=(0.5, 0.02), ncol=4, fontsize=10)\n",
    "plt.tight_layout(rect=[0, 0, 1, 0.10])  # Adjust to make room for legend\n",
    "\n",
    "fig.savefig(\"design_vs_ddc_ols_example_option3.jpg\", dpi=300, bbox_inches='tight')"
   ]
  },
  {
   "cell_type": "code",
   "execution_count": null,
   "id": "9a5f98c0-2fe2-4ab2-8951-7d9b2324de05",
   "metadata": {},
   "outputs": [],
   "source": []
  },
  {
   "cell_type": "markdown",
   "id": "15d8442b-70e9-4037-ad9f-546860d5ab15",
   "metadata": {},
   "source": [
    "## option 3:"
   ]
  },
  {
   "cell_type": "code",
   "execution_count": 38,
   "id": "71f9c193-6482-4208-b3f6-7d73119a4672",
   "metadata": {
    "execution": {
     "iopub.execute_input": "2025-08-29T11:26:31.784161Z",
     "iopub.status.busy": "2025-08-29T11:26:31.783151Z",
     "iopub.status.idle": "2025-08-29T11:26:32.320215Z",
     "shell.execute_reply": "2025-08-29T11:26:32.320215Z",
     "shell.execute_reply.started": "2025-08-29T11:26:31.784161Z"
    }
   },
   "outputs": [
    {
     "name": "stderr",
     "output_type": "stream",
     "text": [
      "C:\\Users\\chess\\AppData\\Local\\Temp\\ipykernel_35396\\1954626879.py:81: UserWarning: Tight layout not applied. The bottom and top margins cannot be made large enough to accommodate all Axes decorations.\n",
      "  plt.tight_layout(rect=[0, 0, 1, 0.10])  # Adjust to make room for legend\n"
     ]
    },
    {
     "data": {
      "image/png": "[encoded data removed]",
      "text/plain": [
       "<Figure size 1200x500 with 2 Axes>"
      ]
     },
     "metadata": {},
     "output_type": "display_data"
    }
   ],
   "source": [
    "df = pd.DataFrame({\n",
    "    \"X\": [i for i in range(-n, n+1)] * (2*n+1),\n",
    "    \"Y\": concatenate_lists([[i for _ in range((2*n+1))] for i in range(-n, n+1)])\n",
    "})\n",
    "\n",
    "# colors, from lightest to darkest \n",
    "C1, C2, C3 = '#CCCCCC', '#777777', '#000000'\n",
    "# Function to encode memberships for plotting with grayscale\n",
    "def get_membership_grayscale(df, sample_shape, sample_fill):\n",
    "    \"\"\"\n",
    "    Returns grayscale colors based on membership:\n",
    "    - Light gray: only in sample_shape\n",
    "    - Medium gray: only in sample_fill  \n",
    "    - Dark gray: in both (overlap)\n",
    "    - White: in neither\n",
    "    \"\"\"\n",
    "    colors = []\n",
    "    \n",
    "    for temp_index, temp_row in df.iterrows():\n",
    "        temp_datapoint = (temp_row['X'], temp_row['Y'])\n",
    "        in_shape = temp_datapoint in sample_shape\n",
    "        in_fill = temp_datapoint in sample_fill\n",
    "        \n",
    "        if in_shape and in_fill:\n",
    "            colors.append(C3)  # Black (overlap)\n",
    "        elif in_shape:\n",
    "            colors.append(C1)  # Light gray (shape only)\n",
    "        elif in_fill:\n",
    "            colors.append(C2)  # Dark gray (fill only)\n",
    "        else:\n",
    "            colors.append('white') \n",
    "    \n",
    "    return colors\n",
    "\n",
    "# Get grayscale colors for both graphs\n",
    "colors_left = get_membership_grayscale(df, graph1_samples[0], graph1_samples[1])\n",
    "colors_right = get_membership_grayscale(df, graph2_samples[0], graph2_samples[1])\n",
    "\n",
    "# Create subplots\n",
    "fig, axes = plt.subplots(1, 2, figsize=(12,5), sharey=True)\n",
    "\n",
    "# Left plot (A/B) - use circles with grayscale colors\n",
    "for x, y, color in zip(df[\"X\"], df[\"Y\"], colors_left):\n",
    "    if color == 'white':\n",
    "        axes[0].scatter(x, y, s=90, marker='o', facecolor=color, edgecolor=\"black\", linewidth=1)\n",
    "    else:\n",
    "        axes[0].scatter(x, y, s=90, marker='o', facecolor=color, edgecolor=color, linewidth=1)\n",
    "axes[0].set_title(\"Same Design Matrix, Different DDC\")\n",
    "\n",
    "# Right plot (C/D) - use circles with grayscale colors\n",
    "for x, y, color in zip(df[\"X\"], df[\"Y\"], colors_right):\n",
    "    if color == 'white':\n",
    "        axes[1].scatter(x, y, s=90, marker='o', facecolor=color, edgecolor=\"black\", linewidth=1)\n",
    "    else:\n",
    "        axes[1].scatter(x, y, s=90, marker='o', facecolor=color, edgecolor=color, linewidth=1)\n",
    "axes[1].set_title(\"Different Design Matrix, Same DDC\")\n",
    "\n",
    "for ax in axes:\n",
    "    ax.set_xlabel(\"X\")\n",
    "    ax.set_ylabel(\"Y\")\n",
    "    ax.set_aspect('equal', adjustable='box')\n",
    "    \n",
    "    # ---- Clean up ticks ----\n",
    "    ax.yaxis.set_major_formatter(FormatStrFormatter('%d'))\n",
    "    ax.yaxis.set_major_locator(MaxNLocator(integer=True))\n",
    "\n",
    "# Overall figure title\n",
    "fig.suptitle(\"Examples of the Design Matrix and Data Defect Correlation in Linear Regression:\", fontsize=16)\n",
    "plt.tight_layout(rect=[0, 0, 1, 0.95])  # leave space for suptitle\n",
    "\n",
    "# Optional: Add legend to explain grayscale coding\n",
    "from matplotlib.patches import Patch\n",
    "legend_elements = [\n",
    "    Patch(facecolor=C1, edgecolor=C1, label='Sample 1 Only'),\n",
    "    Patch(facecolor=C2, edgecolor=C2, label='Sample 2 Only'),\n",
    "    Patch(facecolor=C3, edgecolor=C3, label='In Both Samples'),\n",
    "    Patch(facecolor='white', edgecolor='black', label='Neither')\n",
    "]\n",
    "fig.legend(handles=legend_elements, loc='center', bbox_to_anchor=(0.5, 0.02), ncol=4, fontsize=10)\n",
    "\n",
    "plt.tight_layout(rect=[0, 0, 1, 0.10])  # Adjust to make room for legend\n",
    "fig.savefig(\"design_vs_ddc_ols_example_option4.jpg\", dpi=300, bbox_inches='tight')"
   ]
  },
  {
   "cell_type": "code",
   "execution_count": null,
   "id": "4450347b-9922-4f39-aa3d-c24dd109695a",
   "metadata": {},
   "outputs": [],
   "source": []
  },
  {
   "cell_type": "code",
   "execution_count": null,
   "id": "3ce14f6b-3d2a-4efa-918d-e29cec4c9a1a",
   "metadata": {},
   "outputs": [],
   "source": []
  },
  {
   "cell_type": "code",
   "execution_count": null,
   "id": "e91c42ec-71ac-4d84-bc92-647efec5709d",
   "metadata": {},
   "outputs": [],
   "source": []
  },
  {
   "cell_type": "markdown",
   "id": "e079e077-b0f9-434f-b488-0f070c707a85",
   "metadata": {},
   "source": [
    "## option 3:"
   ]
  },
  {
   "cell_type": "code",
   "execution_count": 40,
   "id": "1ce61f9a-96c6-435d-9f43-dda1b386b892",
   "metadata": {
    "execution": {
     "iopub.execute_input": "2025-08-29T11:26:57.449368Z",
     "iopub.status.busy": "2025-08-29T11:26:57.449368Z",
     "iopub.status.idle": "2025-08-29T11:26:57.900075Z",
     "shell.execute_reply": "2025-08-29T11:26:57.900075Z",
     "shell.execute_reply.started": "2025-08-29T11:26:57.449368Z"
    }
   },
   "outputs": [
    {
     "name": "stderr",
     "output_type": "stream",
     "text": [
      "C:\\Users\\chess\\AppData\\Local\\Temp\\ipykernel_35396\\1790620287.py:89: UserWarning: Tight layout not applied. The bottom and top margins cannot be made large enough to accommodate all Axes decorations.\n",
      "  plt.tight_layout(rect=[0, 0, 1, 0.10])  # Adjust to make room for legend\n"
     ]
    },
    {
     "data": {
      "image/png": "[encoded data removed]",
      "text/plain": [
       "<Figure size 1200x500 with 2 Axes>"
      ]
     },
     "metadata": {},
     "output_type": "display_data"
    }
   ],
   "source": [
    "df = pd.DataFrame({\n",
    "    \"X\": [i for i in range(-n, n+1)] * (2*n+1),\n",
    "    \"Y\": concatenate_lists([[i for _ in range((2*n+1))] for i in range(-n, n+1)])\n",
    "})\n",
    "\n",
    "# colors, from lightest to darkest \n",
    "C1, C2, C3 = '#CCCCCC', '#777777', '#000000'\n",
    "\n",
    "# shapes for each category\n",
    "S1, S2, S3, S4 = 's', '^', 'D', 'o'  # square, triangle, diamond, circle\n",
    "\n",
    "# Function to encode memberships for plotting with grayscale and shapes\n",
    "def get_membership_grayscale_shapes(df, sample_shape, sample_fill):\n",
    "    \"\"\"\n",
    "    Returns grayscale colors and shapes based on membership:\n",
    "    - Light gray + square: only in sample_shape\n",
    "    - Medium gray + triangle: only in sample_fill  \n",
    "    - Dark gray + diamond: in both (overlap)\n",
    "    - White + circle: in neither\n",
    "    \"\"\"\n",
    "    colors = []\n",
    "    shapes = []\n",
    "    \n",
    "    for temp_index, temp_row in df.iterrows():\n",
    "        temp_datapoint = (temp_row['X'], temp_row['Y'])\n",
    "        in_shape = temp_datapoint in sample_shape\n",
    "        in_fill = temp_datapoint in sample_fill\n",
    "        \n",
    "        if in_shape and in_fill:\n",
    "            colors.append(C3)  # Black (overlap)\n",
    "            shapes.append(S3)  # Diamond\n",
    "        elif in_shape:\n",
    "            colors.append(C1)  # Light gray (shape only)\n",
    "            shapes.append(S1)  # Square\n",
    "        elif in_fill:\n",
    "            colors.append(C2)  # Medium gray (fill only)\n",
    "            shapes.append(S2)  # Triangle\n",
    "        else:\n",
    "            colors.append('white')  # White (neither)\n",
    "            shapes.append(S4)       # Circle\n",
    "    \n",
    "    return colors, shapes\n",
    "\n",
    "# Get grayscale colors and shapes for both graphs\n",
    "colors_left, shapes_left = get_membership_grayscale_shapes(df, graph1_samples[0], graph1_samples[1])\n",
    "colors_right, shapes_right = get_membership_grayscale_shapes(df, graph2_samples[0], graph2_samples[1])\n",
    "\n",
    "# Create subplots\n",
    "fig, axes = plt.subplots(1, 2, figsize=(12,5), sharey=True)\n",
    "\n",
    "# Left plot (A/B) - use shapes and grayscale colors\n",
    "for x, y, color, shape in zip(df[\"X\"], df[\"Y\"], colors_left, shapes_left):\n",
    "    edge_color = \"black\" if color == 'white' else color\n",
    "    axes[0].scatter(x, y, s=90, marker=shape, facecolor=color, edgecolor=edge_color, linewidth=1)\n",
    "axes[0].set_title(\"Same Design Matrix, Different DDC\")\n",
    "\n",
    "# Right plot (C/D) - use shapes and grayscale colors\n",
    "for x, y, color, shape in zip(df[\"X\"], df[\"Y\"], colors_right, shapes_right):\n",
    "    edge_color = \"black\" if color == 'white' else color\n",
    "    axes[1].scatter(x, y, s=90, marker=shape, facecolor=color, edgecolor=edge_color, linewidth=1)\n",
    "axes[1].set_title(\"Different Design Matrix, Same DDC\")\n",
    "\n",
    "for ax in axes:\n",
    "    ax.set_xlabel(\"X\")\n",
    "    ax.set_ylabel(\"Y\")\n",
    "    ax.set_aspect('equal', adjustable='box')\n",
    "    \n",
    "    # ---- Clean up ticks ----\n",
    "    ax.yaxis.set_major_formatter(FormatStrFormatter('%d'))\n",
    "    ax.yaxis.set_major_locator(MaxNLocator(integer=True))\n",
    "\n",
    "# Overall figure title\n",
    "fig.suptitle(\"Examples of the Design Matrix and Data Defect Correlation in Linear Regression:\", fontsize=16)\n",
    "\n",
    "# Create legend with both shapes and colors\n",
    "import matplotlib.lines as mlines\n",
    "legend_elements = [\n",
    "    mlines.Line2D([], [], color='black', marker=S1, markersize=8, markerfacecolor=C1, \n",
    "                  markeredgecolor=C1, linestyle='None', label='Sample 1 Only'),\n",
    "    mlines.Line2D([], [], color='black', marker=S2, markersize=8, markerfacecolor=C2, \n",
    "                  markeredgecolor=C2, linestyle='None', label='Sample 2 Only'),\n",
    "    mlines.Line2D([], [], color='black', marker=S3, markersize=8, markerfacecolor=C3, \n",
    "                  markeredgecolor=C3, linestyle='None', label='In Both Samples'),\n",
    "    mlines.Line2D([], [], color='black', marker=S4, markersize=8, markerfacecolor='white', \n",
    "                  markeredgecolor='black', linestyle='None', label='Neither')\n",
    "]\n",
    "\n",
    "fig.legend(handles=legend_elements, loc='center', bbox_to_anchor=(0.5, 0.02), ncol=4, fontsize=10)\n",
    "plt.tight_layout(rect=[0, 0, 1, 0.10])  # Adjust to make room for legend\n",
    "\n",
    "fig.savefig(\"design_vs_ddc_ols_example_option5.jpg\", dpi=300, bbox_inches='tight')"
   ]
  },
  {
   "cell_type": "code",
   "execution_count": null,
   "id": "344b987b-8c97-48cd-a791-e0cf5cd3359e",
   "metadata": {},
   "outputs": [],
   "source": []
  },
  {
   "cell_type": "markdown",
   "id": "dcc33b5e-7c8e-40bd-be91-8b68fd7845af",
   "metadata": {},
   "source": [
    "## verify ddc, design matrix:"
   ]
  },
  {
   "cell_type": "code",
   "execution_count": 133,
   "id": "d8f1b284-1d57-4a95-9b23-3528d4d909cc",
   "metadata": {
    "execution": {
     "iopub.execute_input": "2025-08-25T20:30:08.395312Z",
     "iopub.status.busy": "2025-08-25T20:30:08.394304Z",
     "iopub.status.idle": "2025-08-25T20:30:08.398559Z",
     "shell.execute_reply": "2025-08-25T20:30:08.398559Z",
     "shell.execute_reply.started": "2025-08-25T20:30:08.395312Z"
    }
   },
   "outputs": [],
   "source": [
    "def label_df_with_samples(df, graph1_samples, grp_num: int):\n",
    "    g1 = []\n",
    "    g2 = []\n",
    "    for temp_index, temp_row in df.iterrows():\n",
    "        temp_datapoint = (temp_row['X'], temp_row['Y'])\n",
    "        g1.append(True if temp_datapoint in graph1_samples[0] else False)\n",
    "        g2.append(True if temp_datapoint in graph1_samples[1] else False)\n",
    "    df[f'grp_{grp_num}_s1'] = pd.Series(g1).astype(int)\n",
    "    df[f'grp_{grp_num}_s2'] = pd.Series(g2).astype(int)\n",
    "    return df\n",
    "    "
   ]
  },
  {
   "cell_type": "code",
   "execution_count": 134,
   "id": "0d281660-5bb4-4fe3-898c-25dc6da5f033",
   "metadata": {
    "execution": {
     "iopub.execute_input": "2025-08-25T20:30:08.567539Z",
     "iopub.status.busy": "2025-08-25T20:30:08.567539Z",
     "iopub.status.idle": "2025-08-25T20:30:08.575103Z",
     "shell.execute_reply": "2025-08-25T20:30:08.575103Z",
     "shell.execute_reply.started": "2025-08-25T20:30:08.567539Z"
    }
   },
   "outputs": [],
   "source": [
    "df = label_df_with_samples(df, graph1_samples, 1)\n",
    "df = label_df_with_samples(df, graph2_samples, 2)\n",
    "df['XY'] = df['X'] * df['Y']"
   ]
  },
  {
   "cell_type": "code",
   "execution_count": 135,
   "id": "8bf2ce99-aa49-4cf8-ab3b-065db83cfb7f",
   "metadata": {
    "execution": {
     "iopub.execute_input": "2025-08-25T20:30:08.723013Z",
     "iopub.status.busy": "2025-08-25T20:30:08.723013Z",
     "iopub.status.idle": "2025-08-25T20:30:08.730381Z",
     "shell.execute_reply": "2025-08-25T20:30:08.729378Z",
     "shell.execute_reply.started": "2025-08-25T20:30:08.723013Z"
    }
   },
   "outputs": [
    {
     "data": {
      "text/plain": [
       "grp_1_s1    2\n",
       "grp_1_s2    2\n",
       "dtype: int64"
      ]
     },
     "execution_count": 135,
     "metadata": {},
     "output_type": "execute_result"
    }
   ],
   "source": [
    "# Design Matrix (proportional):\n",
    "df[[\"grp_1_s1\", \"grp_1_s2\"]].mul(df[\"X\"] ** 2, axis=0).sum()"
   ]
  },
  {
   "cell_type": "code",
   "execution_count": 136,
   "id": "260d40e3-30e9-4f14-a7c5-8a97a657cff0",
   "metadata": {
    "execution": {
     "iopub.execute_input": "2025-08-25T20:30:08.938555Z",
     "iopub.status.busy": "2025-08-25T20:30:08.938555Z",
     "iopub.status.idle": "2025-08-25T20:30:08.947818Z",
     "shell.execute_reply": "2025-08-25T20:30:08.947818Z",
     "shell.execute_reply.started": "2025-08-25T20:30:08.938555Z"
    }
   },
   "outputs": [
    {
     "data": {
      "text/html": [
       "<div>\n",
       "<style scoped>\n",
       "    .dataframe tbody tr th:only-of-type {\n",
       "        vertical-align: middle;\n",
       "    }\n",
       "\n",
       "    .dataframe tbody tr th {\n",
       "        vertical-align: top;\n",
       "    }\n",
       "\n",
       "    .dataframe thead th {\n",
       "        text-align: right;\n",
       "    }\n",
       "</style>\n",
       "<table border=\"1\" class=\"dataframe\">\n",
       "  <thead>\n",
       "    <tr style=\"text-align: right;\">\n",
       "      <th></th>\n",
       "      <th>grp_1_s1</th>\n",
       "      <th>grp_1_s2</th>\n",
       "      <th>XY</th>\n",
       "    </tr>\n",
       "  </thead>\n",
       "  <tbody>\n",
       "    <tr>\n",
       "      <th>grp_1_s1</th>\n",
       "      <td>1.000000</td>\n",
       "      <td>0.242424</td>\n",
       "      <td>0.246183</td>\n",
       "    </tr>\n",
       "    <tr>\n",
       "      <th>grp_1_s2</th>\n",
       "      <td>0.242424</td>\n",
       "      <td>1.000000</td>\n",
       "      <td>0.123091</td>\n",
       "    </tr>\n",
       "    <tr>\n",
       "      <th>XY</th>\n",
       "      <td>0.246183</td>\n",
       "      <td>0.123091</td>\n",
       "      <td>1.000000</td>\n",
       "    </tr>\n",
       "  </tbody>\n",
       "</table>\n",
       "</div>"
      ],
      "text/plain": [
       "          grp_1_s1  grp_1_s2        XY\n",
       "grp_1_s1  1.000000  0.242424  0.246183\n",
       "grp_1_s2  0.242424  1.000000  0.123091\n",
       "XY        0.246183  0.123091  1.000000"
      ]
     },
     "execution_count": 136,
     "metadata": {},
     "output_type": "execute_result"
    }
   ],
   "source": [
    "# DDC:\n",
    "corr_with_ddof(df[['grp_1_s1', 'grp_1_s2', 'XY']])"
   ]
  },
  {
   "cell_type": "code",
   "execution_count": null,
   "id": "e86a9f94-2c7f-487c-aed0-c160548f5cab",
   "metadata": {},
   "outputs": [],
   "source": []
  },
  {
   "cell_type": "code",
   "execution_count": 137,
   "id": "7e5dd27c-afac-431a-bec0-a5c48f0fa89a",
   "metadata": {
    "execution": {
     "iopub.execute_input": "2025-08-25T20:30:09.933745Z",
     "iopub.status.busy": "2025-08-25T20:30:09.933745Z",
     "iopub.status.idle": "2025-08-25T20:30:09.945307Z",
     "shell.execute_reply": "2025-08-25T20:30:09.945307Z",
     "shell.execute_reply.started": "2025-08-25T20:30:09.933745Z"
    }
   },
   "outputs": [
    {
     "data": {
      "text/plain": [
       "grp_2_s1    14\n",
       "grp_2_s2    10\n",
       "dtype: int64"
      ]
     },
     "execution_count": 137,
     "metadata": {},
     "output_type": "execute_result"
    }
   ],
   "source": [
    "# Design Matrix (proportional):\n",
    "df[[\"grp_2_s1\", \"grp_2_s2\"]].mul(df[\"X\"] ** 2, axis=0).sum()"
   ]
  },
  {
   "cell_type": "code",
   "execution_count": 138,
   "id": "ac7a642d-1ba7-4a56-8ba2-12a35c684652",
   "metadata": {
    "execution": {
     "iopub.execute_input": "2025-08-25T20:30:10.120916Z",
     "iopub.status.busy": "2025-08-25T20:30:10.119907Z",
     "iopub.status.idle": "2025-08-25T20:30:10.142169Z",
     "shell.execute_reply": "2025-08-25T20:30:10.141662Z",
     "shell.execute_reply.started": "2025-08-25T20:30:10.120916Z"
    }
   },
   "outputs": [
    {
     "data": {
      "text/html": [
       "<div>\n",
       "<style scoped>\n",
       "    .dataframe tbody tr th:only-of-type {\n",
       "        vertical-align: middle;\n",
       "    }\n",
       "\n",
       "    .dataframe tbody tr th {\n",
       "        vertical-align: top;\n",
       "    }\n",
       "\n",
       "    .dataframe thead th {\n",
       "        text-align: right;\n",
       "    }\n",
       "</style>\n",
       "<table border=\"1\" class=\"dataframe\">\n",
       "  <thead>\n",
       "    <tr style=\"text-align: right;\">\n",
       "      <th></th>\n",
       "      <th>grp_2_s1</th>\n",
       "      <th>grp_2_s2</th>\n",
       "      <th>XY</th>\n",
       "    </tr>\n",
       "  </thead>\n",
       "  <tbody>\n",
       "    <tr>\n",
       "      <th>grp_2_s1</th>\n",
       "      <td>1.000000</td>\n",
       "      <td>0.041667</td>\n",
       "      <td>0.25</td>\n",
       "    </tr>\n",
       "    <tr>\n",
       "      <th>grp_2_s2</th>\n",
       "      <td>0.041667</td>\n",
       "      <td>1.000000</td>\n",
       "      <td>0.25</td>\n",
       "    </tr>\n",
       "    <tr>\n",
       "      <th>XY</th>\n",
       "      <td>0.250000</td>\n",
       "      <td>0.250000</td>\n",
       "      <td>1.00</td>\n",
       "    </tr>\n",
       "  </tbody>\n",
       "</table>\n",
       "</div>"
      ],
      "text/plain": [
       "          grp_2_s1  grp_2_s2    XY\n",
       "grp_2_s1  1.000000  0.041667  0.25\n",
       "grp_2_s2  0.041667  1.000000  0.25\n",
       "XY        0.250000  0.250000  1.00"
      ]
     },
     "execution_count": 138,
     "metadata": {},
     "output_type": "execute_result"
    }
   ],
   "source": [
    "# DDC:\n",
    "corr_with_ddof(df[['grp_2_s1', 'grp_2_s2', 'XY']])"
   ]
  },
  {
   "cell_type": "code",
   "execution_count": null,
   "id": "a307cfef-2368-4799-9dd3-40e103e95c28",
   "metadata": {},
   "outputs": [],
   "source": []
  },
  {
   "cell_type": "code",
   "execution_count": null,
   "id": "7097e50b-b892-4d91-8361-e48fa6ade068",
   "metadata": {},
   "outputs": [],
   "source": []
  }
 ],
 "metadata": {
  "kernelspec": {
   "display_name": "Python 3 (ipykernel)",
   "language": "python",
   "name": "python3"
  },
  "language_info": {
   "codemirror_mode": {
    "name": "ipython",
    "version": 3
   },
   "file_extension": ".py",
   "mimetype": "text/x-python",
   "name": "python",
   "nbconvert_exporter": "python",
   "pygments_lexer": "ipython3",
   "version": "3.12.8"
  }
 },
 "nbformat": 4,
 "nbformat_minor": 5
}
