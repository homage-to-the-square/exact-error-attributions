{
 "cells": [
  {
   "cell_type": "markdown",
   "id": "07fe8ab1-2824-4a95-954b-b3f840f53766",
   "metadata": {},
   "source": [
    "# Notes:"
   ]
  },
  {
   "cell_type": "markdown",
   "id": "b2a09c34-3108-4686-bdd2-df68bd344ef1",
   "metadata": {},
   "source": [
    "Recall that in linear regression:\n",
    "- The design matrix is equal to $J_n = \\frac1n \\sum_{i=1}^n x_i^2$. \n",
    "- In a fixed population, the data defect correlation is proportional to $\\textrm{Cov}(R, G^*)/\\sigma_R$, where $G^*(x, y) = x(y - \\beta^* x)$, and where $\\beta^*$ is the finite population OLS fit.\n",
    "- In the scenario below, where the finite population points are a grid, this simplifies greatly, as:\n",
    "    - $\\beta^* = 0$.\n",
    "    - $G^*(X, Y) = XY$.\n",
    "    - $E_I[G^*(X_I, Y_I)] = 0$.\n",
    "    - $\\textrm{Cov}(R, G^*) = E_I[R_IX_IY_I]$.\n",
    "\n",
    "Therefore, in this case, the ddc is proportional to:\n",
    "$$\\rho_{R, G^*} \\propto \\frac{\\sum_I R_IX_IY_I}{\\sqrt{n(N-n)}}.$$"
   ]
  },
  {
   "cell_type": "markdown",
   "id": "819f24e8-0c12-42fc-a3cc-e0b067fa579d",
   "metadata": {},
   "source": [
    "Suppose that we want to design an example where the ddc are the same, but the design matrices are different, and the sample sizes are also different.\n",
    "- For simplicitly, we can consider samples where the denominator $\\sqrt{n(N-n)}$ factors out nicely. For 25 datapoints, this occurs nicely for $n = 5, 9$, giving denominators of $10$ and $12$. Letting the above to equal 1/2, we see that the graph2_samples below works."
   ]
  },
  {
   "cell_type": "markdown",
   "id": "1ebe5288-ff6a-40ea-9382-44beaf6458f2",
   "metadata": {},
   "source": [
    "# Imports:"
   ]
  },
  {
   "cell_type": "code",
   "execution_count": 12,
   "id": "e0c363c1-dddb-4c4a-8550-19d9f98d5094",
   "metadata": {
    "execution": {
     "iopub.execute_input": "2025-09-01T13:57:39.456028Z",
     "iopub.status.busy": "2025-09-01T13:57:39.453028Z",
     "iopub.status.idle": "2025-09-01T13:57:39.508601Z",
     "shell.execute_reply": "2025-09-01T13:57:39.508098Z",
     "shell.execute_reply.started": "2025-09-01T13:57:39.456028Z"
    }
   },
   "outputs": [],
   "source": [
    "import matplotlib.pyplot as plt\n",
    "import pandas as pd\n",
    "import numpy as np\n",
    "# import matplotlib.ticker as mticker\n",
    "from matplotlib.ticker import FormatStrFormatter, MaxNLocator"
   ]
  },
  {
   "cell_type": "code",
   "execution_count": 13,
   "id": "c9638276-b407-4c19-81e3-b589380d02a8",
   "metadata": {
    "execution": {
     "iopub.execute_input": "2025-09-01T13:57:39.650891Z",
     "iopub.status.busy": "2025-09-01T13:57:39.640848Z",
     "iopub.status.idle": "2025-09-01T13:57:39.663412Z",
     "shell.execute_reply": "2025-09-01T13:57:39.663412Z",
     "shell.execute_reply.started": "2025-09-01T13:57:39.650891Z"
    }
   },
   "outputs": [],
   "source": [
    "def professional_plot_layout(fig):\n",
    "    return fig.update_layout(\n",
    "        template=\"simple_white\",  # clean background\n",
    "        # font=dict(family=\"Times New Roman\", size=14),  # journal-friendly\n",
    "        legend=dict(\n",
    "            title=None, orientation=\"h\", y=-0.2, x=0.5, xanchor=\"center\"  # below plot\n",
    "        ),\n",
    "        margin=dict(l=60, r=20, t=20, b=60),\n",
    "    )"
   ]
  },
  {
   "cell_type": "code",
   "execution_count": 14,
   "id": "e63c7b60-4dc1-4677-8e00-1c639142b318",
   "metadata": {
    "execution": {
     "iopub.execute_input": "2025-09-01T13:57:39.874626Z",
     "iopub.status.busy": "2025-09-01T13:57:39.873635Z",
     "iopub.status.idle": "2025-09-01T13:57:39.878772Z",
     "shell.execute_reply": "2025-09-01T13:57:39.878772Z",
     "shell.execute_reply.started": "2025-09-01T13:57:39.874626Z"
    }
   },
   "outputs": [],
   "source": [
    "def concatenate_lists(list_of_lists):\n",
    "    \"\"\"Concatenates a list of lists using list comprehension.\"\"\"\n",
    "    return [item for sublist in list_of_lists for item in sublist]"
   ]
  },
  {
   "cell_type": "code",
   "execution_count": 15,
   "id": "1cd44d35-d19d-42ab-8615-42d3071d9cf8",
   "metadata": {
    "execution": {
     "iopub.execute_input": "2025-09-01T13:57:40.107757Z",
     "iopub.status.busy": "2025-09-01T13:57:40.106746Z",
     "iopub.status.idle": "2025-09-01T13:57:40.121376Z",
     "shell.execute_reply": "2025-09-01T13:57:40.120871Z",
     "shell.execute_reply.started": "2025-09-01T13:57:40.107757Z"
    }
   },
   "outputs": [],
   "source": [
    "def corr_with_ddof(df: pd.DataFrame, ddof: int = 1) -> pd.DataFrame:\n",
    "    \"\"\"\n",
    "    Compute correlation matrix for a DataFrame with a custom ddof.\n",
    "\n",
    "    Parameters\n",
    "    ----------\n",
    "    df : pd.DataFrame\n",
    "        Input data (numeric only).\n",
    "    ddof : int, default=1\n",
    "        Delta degrees of freedom to use in variance/covariance.\n",
    "\n",
    "    Returns\n",
    "    -------\n",
    "    pd.DataFrame\n",
    "        Correlation matrix.\n",
    "    \"\"\"\n",
    "    # ensure numeric data only\n",
    "    df_num = df.select_dtypes(include=[np.number])\n",
    "    \n",
    "    # center the data\n",
    "    X = df_num.to_numpy(dtype=float)\n",
    "    X_centered = X - X.mean(axis=0)\n",
    "    \n",
    "    # covariance with custom ddof\n",
    "    n = X.shape[0]\n",
    "    cov = (X_centered.T @ X_centered) / (n - ddof)\n",
    "    \n",
    "    # standard deviations\n",
    "    std = np.sqrt(np.diag(cov))\n",
    "    \n",
    "    # correlation\n",
    "    corr = cov / np.outer(std, std)\n",
    "    \n",
    "    return pd.DataFrame(corr, index=df_num.columns, columns=df_num.columns)"
   ]
  },
  {
   "cell_type": "markdown",
   "id": "a7948270-832b-4146-a5a3-10255824ae70",
   "metadata": {},
   "source": [
    "# Hyperparams:"
   ]
  },
  {
   "cell_type": "code",
   "execution_count": 16,
   "id": "cadbf136-5a89-4b9b-acbc-03123b8833e4",
   "metadata": {
    "execution": {
     "iopub.execute_input": "2025-09-01T13:57:41.035774Z",
     "iopub.status.busy": "2025-09-01T13:57:41.035774Z",
     "iopub.status.idle": "2025-09-01T13:57:41.041986Z",
     "shell.execute_reply": "2025-09-01T13:57:41.041986Z",
     "shell.execute_reply.started": "2025-09-01T13:57:41.035774Z"
    }
   },
   "outputs": [],
   "source": [
    "n = 2"
   ]
  },
  {
   "cell_type": "code",
   "execution_count": 17,
   "id": "bc389951-4b46-48a2-acf2-6c9f2f379788",
   "metadata": {
    "execution": {
     "iopub.execute_input": "2025-09-01T13:57:41.217120Z",
     "iopub.status.busy": "2025-09-01T13:57:41.216119Z",
     "iopub.status.idle": "2025-09-01T13:57:41.222711Z",
     "shell.execute_reply": "2025-09-01T13:57:41.222711Z",
     "shell.execute_reply.started": "2025-09-01T13:57:41.217120Z"
    }
   },
   "outputs": [],
   "source": [
    "# all (x, y) combos\n",
    "graph1_samples = [[(-1, -2), (0, 0), (1, 2)], [(-1, -1), (0, 0), (1, 1)]]\n",
    "\n",
    "# graph2_samples = [[(-1, -2), (0, 0), (1, 2)], [(-2, -1), (0, 0), (2, 1)]]\n",
    "graph2_samples = [[(-2, 2), (-2, -1), (-2, -2), (1, 1), (1, 2)], [(-1, 1), (-1, -1), (-1, -2), (0, 0), (0, -1), (1, 2), (1, 1), (1, -1), (2, 1)]]\n"
   ]
  },
  {
   "cell_type": "code",
   "execution_count": 18,
   "id": "1ed0818b-b23f-4b39-9935-2276e0acd5e0",
   "metadata": {
    "execution": {
     "iopub.execute_input": "2025-09-01T13:57:41.382372Z",
     "iopub.status.busy": "2025-09-01T13:57:41.382372Z",
     "iopub.status.idle": "2025-09-01T13:57:41.385387Z",
     "shell.execute_reply": "2025-09-01T13:57:41.385387Z",
     "shell.execute_reply.started": "2025-09-01T13:57:41.382372Z"
    }
   },
   "outputs": [],
   "source": [
    "Jn_name = 'Realized Efficiency'"
   ]
  },
  {
   "cell_type": "markdown",
   "id": "e6d26a38-7019-495e-965c-b3a16d3b521f",
   "metadata": {},
   "source": [
    "# Run:"
   ]
  },
  {
   "cell_type": "markdown",
   "id": "112ea1e5-f439-4cd5-baa4-aeb4d6a06b53",
   "metadata": {
    "jp-MarkdownHeadingCollapsed": true
   },
   "source": [
    "## orig: (with color)"
   ]
  },
  {
   "cell_type": "code",
   "execution_count": null,
   "id": "0977c8a4-c1db-4e32-883a-7d318a8b41b8",
   "metadata": {
    "execution": {
     "iopub.execute_input": "2025-08-25T20:29:52.525585Z",
     "iopub.status.busy": "2025-08-25T20:29:52.525079Z",
     "iopub.status.idle": "2025-08-25T20:29:52.532281Z",
     "shell.execute_reply": "2025-08-25T20:29:52.531747Z",
     "shell.execute_reply.started": "2025-08-25T20:29:52.525585Z"
    }
   },
   "outputs": [],
   "source": [
    "df = pd.DataFrame({\n",
    "    \"X\": [i for i in range(-n, n+1)] * (2*n+1),\n",
    "    \"Y\": concatenate_lists([[i for _ in range((2*n+1))] for i in range(-n, n+1)])\n",
    "})\n",
    "\n",
    "# Function to encode memberships for plotting\n",
    "def get_membership(df, sample_shape, sample_fill, fill_color: str = 'blue', fill_shape: str = 'D', other_linestyle: str = 'dotted'):\n",
    "    shapes = []\n",
    "    facecolors = []\n",
    "    linestyles = []\n",
    "    \n",
    "    for temp_index, temp_row in df.iterrows():\n",
    "        temp_datapoint = (temp_row['X'], temp_row['Y'])\n",
    "        shapes.append(fill_shape if temp_datapoint in sample_shape else \"o\")\n",
    "        facecolors.append(fill_color if temp_datapoint in sample_fill else \"none\")\n",
    "        linestyles.append(\"solid\" if temp_datapoint in sample_shape else other_linestyle)\n",
    "    return shapes, facecolors, linestyles\n",
    "\n",
    "shapes_left, faces_left, lstyles_left = get_membership(df, graph1_samples[0], graph1_samples[1])\n",
    "shapes_right, faces_right, lstyles_right = get_membership(df, graph2_samples[0], graph2_samples[1], fill_color='orange')\n",
    "\n",
    "# Create subplots\n",
    "fig, axes = plt.subplots(1, 2, figsize=(12,5), sharey=True)\n",
    "\n",
    "# Left plot (A/B)\n",
    "for x, y, m, f, ls in zip(df[\"X\"], df[\"Y\"], shapes_left, faces_left, lstyles_left):\n",
    "    axes[0].scatter(x, y, s=90, marker=m, facecolor=f, edgecolor=\"black\", linewidth=1, linestyle=ls)\n",
    "axes[0].set_title(\"Same Design Matrix, Different DDC\")\n",
    "\n",
    "# Right plot (C/D)\n",
    "for x, y, m, f, ls in zip(df[\"X\"], df[\"Y\"], shapes_right, faces_right, lstyles_right):\n",
    "    axes[1].scatter(x, y, s=90, marker=m, facecolor=f, edgecolor=\"black\", linewidth=1, linestyle=ls)\n",
    "axes[1].set_title(\"Different Design Matrix, Same DDC\")\n",
    "\n",
    "for ax in axes:\n",
    "    ax.set_xlabel(\"X\")\n",
    "    ax.set_ylabel(\"Y\")\n",
    "    ax.set_aspect('equal', adjustable='box')\n",
    "    \n",
    "    # ---- Clean up ticks ----\n",
    "    ax.yaxis.set_major_formatter(FormatStrFormatter('%d'))\n",
    "    ax.yaxis.set_major_locator(MaxNLocator(integer=True))\n",
    "    \n",
    "# Shared legend (optional)\n",
    "# legend_elems = [\n",
    "#     plt.Line2D([0],[0], marker=\"s\", color=\"black\", markerfacecolor=\"none\", markersize=10, label=\"Shape category only\"),\n",
    "#     plt.Line2D([0],[0], marker=\"o\", color=\"black\", markerfacecolor=\"gray\", markersize=10, label=\"Fill category only\"),\n",
    "#     plt.Line2D([0],[0], marker=\"s\", color=\"black\", markerfacecolor=\"gray\", markersize=10, label=\"Shape + Fill\"),\n",
    "#     plt.Line2D([0],[0], marker=\"o\", color=\"black\", markerfacecolor=\"none\", markersize=10, label=\"Neither\")\n",
    "# ]\n",
    "# axes[1].legend(handles=legend_elems, frameon=False, title=\"Membership\", loc=\"upper right\")\n",
    "\n",
    "# Overall figure title\n",
    "fig.suptitle(\"Examples of the Design Matrix and Data Defect Correlation in Linear Regression:\", fontsize=16)\n",
    "\n",
    "plt.tight_layout(rect=[0, 0, 1, 0.95])  # leave space for suptitle\n",
    "# plt.show()\n",
    "\n",
    "fig.savefig(\"design_vs_ddc_ols_example.jpg\", dpi=300, bbox_inches='tight')"
   ]
  },
  {
   "cell_type": "code",
   "execution_count": null,
   "id": "68e3c89b-33db-4425-87d3-bf7c71f7fd50",
   "metadata": {},
   "outputs": [],
   "source": []
  },
  {
   "cell_type": "markdown",
   "id": "4e4861d4-9e07-4ee7-b8cc-bcb0afa7fc38",
   "metadata": {},
   "source": [
    "## bw version:"
   ]
  },
  {
   "cell_type": "code",
   "execution_count": 19,
   "id": "1f198d05-593e-4a2b-8212-84c9ba5b87ce",
   "metadata": {
    "execution": {
     "iopub.execute_input": "2025-09-01T13:57:43.266582Z",
     "iopub.status.busy": "2025-09-01T13:57:43.266582Z",
     "iopub.status.idle": "2025-09-01T13:57:44.374839Z",
     "shell.execute_reply": "2025-09-01T13:57:44.372828Z",
     "shell.execute_reply.started": "2025-09-01T13:57:43.266582Z"
    }
   },
   "outputs": [
    {
     "name": "stderr",
     "output_type": "stream",
     "text": [
      "C:\\Users\\chess\\AppData\\Local\\Temp\\ipykernel_11472\\2547630504.py:89: UserWarning: Tight layout not applied. The bottom and top margins cannot be made large enough to accommodate all Axes decorations.\n",
      "  plt.tight_layout(rect=[0, 0, 1, 0.10])  # Adjust to make room for legend\n"
     ]
    },
    {
     "data": {
      "image/png": "[encoded data removed]",
      "text/plain": [
       "<Figure size 1200x500 with 2 Axes>"
      ]
     },
     "metadata": {},
     "output_type": "display_data"
    }
   ],
   "source": [
    "df = pd.DataFrame({\n",
    "    \"X\": [i for i in range(-n, n+1)] * (2*n+1),\n",
    "    \"Y\": concatenate_lists([[i for _ in range((2*n+1))] for i in range(-n, n+1)])\n",
    "})\n",
    "\n",
    "# colors, from lightest to darkest \n",
    "C1, C2, C3 = 'white', 'white', 'white'\n",
    "\n",
    "# shapes for each category\n",
    "S1, S2, S3, S4 = '^', 'v', 'D', 'o'  # up triangle, down triangle, diamond, circle\n",
    "\n",
    "# Function to encode memberships for plotting with grayscale and shapes\n",
    "def get_membership_grayscale_shapes(df, sample_shape, sample_fill, default_color = 'white'):\n",
    "    \"\"\"\n",
    "    Returns grayscale colors and shapes based on membership:\n",
    "    - Light gray + square: only in sample_shape\n",
    "    - Medium gray + triangle: only in sample_fill  \n",
    "    - Dark gray + diamond: in both (overlap)\n",
    "    - White + circle: in neither\n",
    "    \"\"\"\n",
    "    colors = []\n",
    "    shapes = []\n",
    "    \n",
    "    for temp_index, temp_row in df.iterrows():\n",
    "        temp_datapoint = (temp_row['X'], temp_row['Y'])\n",
    "        in_shape = temp_datapoint in sample_shape\n",
    "        in_fill = temp_datapoint in sample_fill\n",
    "        \n",
    "        if in_shape and in_fill:\n",
    "            colors.append(C3)  # Black (overlap)\n",
    "            shapes.append(S3)  # Diamond\n",
    "        elif in_shape:\n",
    "            colors.append(C1)  # Light gray (shape only)\n",
    "            shapes.append(S1)  # Square\n",
    "        elif in_fill:\n",
    "            colors.append(C2)  # Medium gray (fill only)\n",
    "            shapes.append(S2)  # Triangle\n",
    "        else:\n",
    "            colors.append(default_color)  # White (neither)\n",
    "            shapes.append(S4)       # Circle\n",
    "    \n",
    "    return colors, shapes\n",
    "\n",
    "# Get grayscale colors and shapes for both graphs\n",
    "colors_left, shapes_left = get_membership_grayscale_shapes(df, graph1_samples[0], graph1_samples[1])\n",
    "colors_right, shapes_right = get_membership_grayscale_shapes(df, graph2_samples[0], graph2_samples[1])\n",
    "\n",
    "# Create subplots\n",
    "fig, axes = plt.subplots(1, 2, figsize=(12,5), sharey=True)\n",
    "\n",
    "# Left plot (A/B) - use shapes and grayscale colors\n",
    "for x, y, color, shape in zip(df[\"X\"], df[\"Y\"], colors_left, shapes_left):\n",
    "    edge_color = \"black\" if color == 'white' else color\n",
    "    axes[0].scatter(x, y, s=90, marker=shape, facecolor=color, edgecolor=edge_color, linewidth=1)\n",
    "axes[0].set_title(f\"Same {Jn_name}, Different DDC\")\n",
    "\n",
    "# Right plot (C/D) - use shapes and grayscale colors\n",
    "for x, y, color, shape in zip(df[\"X\"], df[\"Y\"], colors_right, shapes_right):\n",
    "    edge_color = \"black\" if color == 'white' else color\n",
    "    axes[1].scatter(x, y, s=90, marker=shape, facecolor=color, edgecolor=edge_color, linewidth=1)\n",
    "axes[1].set_title(f\"Different {Jn_name}, Same DDC\")\n",
    "\n",
    "for ax in axes:\n",
    "    ax.set_xlabel(\"X\")\n",
    "    ax.set_ylabel(\"Y\")\n",
    "    ax.set_aspect('equal', adjustable='box')\n",
    "    \n",
    "    # ---- Clean up ticks ----\n",
    "    ax.yaxis.set_major_formatter(FormatStrFormatter('%d'))\n",
    "    ax.yaxis.set_major_locator(MaxNLocator(integer=True))\n",
    "\n",
    "# Overall figure title\n",
    "fig.suptitle(f\"Examples of the {Jn_name} and Data Defect Correlation in Linear Regression:\", fontsize=16)\n",
    "\n",
    "# Create legend with both shapes and colors\n",
    "import matplotlib.lines as mlines\n",
    "legend_elements = [\n",
    "    mlines.Line2D([], [], color='black', marker=S1, markersize=8, markerfacecolor=C1, \n",
    "                  markeredgecolor='black', linestyle='None', label='Sample 1 Only'),\n",
    "    mlines.Line2D([], [], color='black', marker=S2, markersize=8, markerfacecolor=C2, \n",
    "                  markeredgecolor='black', linestyle='None', label='Sample 2 Only'),\n",
    "    mlines.Line2D([], [], color='black', marker=S3, markersize=8, markerfacecolor=C3, \n",
    "                  markeredgecolor='black', linestyle='None', label='In Both Samples'),\n",
    "    mlines.Line2D([], [], color='black', marker=S4, markersize=8, markerfacecolor='white', \n",
    "                  markeredgecolor='black', linestyle='None', label='Neither')\n",
    "]\n",
    "\n",
    "fig.legend(handles=legend_elements, loc='center', bbox_to_anchor=(0.5, -0.02), ncol=4, fontsize=10)\n",
    "plt.tight_layout(rect=[0, 0, 1, 0.10])  # Adjust to make room for legend\n",
    "\n",
    "fig.savefig(\"design_vs_ddc_ols_example_greyscale.jpg\", dpi=300, bbox_inches='tight')"
   ]
  },
  {
   "cell_type": "code",
   "execution_count": null,
   "id": "9cac1ef2-8ea1-43d5-aa9b-ddcb7d719fd3",
   "metadata": {},
   "outputs": [],
   "source": []
  },
  {
   "cell_type": "code",
   "execution_count": null,
   "id": "344b987b-8c97-48cd-a791-e0cf5cd3359e",
   "metadata": {},
   "outputs": [],
   "source": []
  },
  {
   "cell_type": "markdown",
   "id": "dcc33b5e-7c8e-40bd-be91-8b68fd7845af",
   "metadata": {},
   "source": [
    "## verify ddc, design matrix:"
   ]
  },
  {
   "cell_type": "code",
   "execution_count": 20,
   "id": "d8f1b284-1d57-4a95-9b23-3528d4d909cc",
   "metadata": {
    "execution": {
     "iopub.execute_input": "2025-09-01T13:57:47.359224Z",
     "iopub.status.busy": "2025-09-01T13:57:47.359224Z",
     "iopub.status.idle": "2025-09-01T13:57:47.363734Z",
     "shell.execute_reply": "2025-09-01T13:57:47.363734Z",
     "shell.execute_reply.started": "2025-09-01T13:57:47.359224Z"
    }
   },
   "outputs": [],
   "source": [
    "def label_df_with_samples(df, graph1_samples, grp_num: int):\n",
    "    g1 = []\n",
    "    g2 = []\n",
    "    for temp_index, temp_row in df.iterrows():\n",
    "        temp_datapoint = (temp_row['X'], temp_row['Y'])\n",
    "        g1.append(True if temp_datapoint in graph1_samples[0] else False)\n",
    "        g2.append(True if temp_datapoint in graph1_samples[1] else False)\n",
    "    df[f'grp_{grp_num}_s1'] = pd.Series(g1).astype(int)\n",
    "    df[f'grp_{grp_num}_s2'] = pd.Series(g2).astype(int)\n",
    "    return df\n",
    "    "
   ]
  },
  {
   "cell_type": "code",
   "execution_count": 21,
   "id": "0d281660-5bb4-4fe3-898c-25dc6da5f033",
   "metadata": {
    "execution": {
     "iopub.execute_input": "2025-09-01T13:57:47.621123Z",
     "iopub.status.busy": "2025-09-01T13:57:47.621123Z",
     "iopub.status.idle": "2025-09-01T13:57:47.635159Z",
     "shell.execute_reply": "2025-09-01T13:57:47.635159Z",
     "shell.execute_reply.started": "2025-09-01T13:57:47.621123Z"
    }
   },
   "outputs": [],
   "source": [
    "df = label_df_with_samples(df, graph1_samples, 1)\n",
    "df = label_df_with_samples(df, graph2_samples, 2)\n",
    "df['XY'] = df['X'] * df['Y']"
   ]
  },
  {
   "cell_type": "code",
   "execution_count": 22,
   "id": "8bf2ce99-aa49-4cf8-ab3b-065db83cfb7f",
   "metadata": {
    "execution": {
     "iopub.execute_input": "2025-09-01T13:57:47.824213Z",
     "iopub.status.busy": "2025-09-01T13:57:47.823214Z",
     "iopub.status.idle": "2025-09-01T13:57:47.838299Z",
     "shell.execute_reply": "2025-09-01T13:57:47.838299Z",
     "shell.execute_reply.started": "2025-09-01T13:57:47.824213Z"
    }
   },
   "outputs": [
    {
     "data": {
      "text/plain": [
       "grp_1_s1    2\n",
       "grp_1_s2    2\n",
       "dtype: int64"
      ]
     },
     "execution_count": 22,
     "metadata": {},
     "output_type": "execute_result"
    }
   ],
   "source": [
    "# Design Matrix (proportional):\n",
    "df[[\"grp_1_s1\", \"grp_1_s2\"]].mul(df[\"X\"] ** 2, axis=0).sum()"
   ]
  },
  {
   "cell_type": "code",
   "execution_count": 23,
   "id": "260d40e3-30e9-4f14-a7c5-8a97a657cff0",
   "metadata": {
    "execution": {
     "iopub.execute_input": "2025-09-01T13:57:48.201678Z",
     "iopub.status.busy": "2025-09-01T13:57:48.201678Z",
     "iopub.status.idle": "2025-09-01T13:57:48.216822Z",
     "shell.execute_reply": "2025-09-01T13:57:48.216822Z",
     "shell.execute_reply.started": "2025-09-01T13:57:48.201678Z"
    }
   },
   "outputs": [
    {
     "data": {
      "text/html": [
       "<div>\n",
       "<style scoped>\n",
       "    .dataframe tbody tr th:only-of-type {\n",
       "        vertical-align: middle;\n",
       "    }\n",
       "\n",
       "    .dataframe tbody tr th {\n",
       "        vertical-align: top;\n",
       "    }\n",
       "\n",
       "    .dataframe thead th {\n",
       "        text-align: right;\n",
       "    }\n",
       "</style>\n",
       "<table border=\"1\" class=\"dataframe\">\n",
       "  <thead>\n",
       "    <tr style=\"text-align: right;\">\n",
       "      <th></th>\n",
       "      <th>grp_1_s1</th>\n",
       "      <th>grp_1_s2</th>\n",
       "      <th>XY</th>\n",
       "    </tr>\n",
       "  </thead>\n",
       "  <tbody>\n",
       "    <tr>\n",
       "      <th>grp_1_s1</th>\n",
       "      <td>1.000000</td>\n",
       "      <td>0.242424</td>\n",
       "      <td>0.246183</td>\n",
       "    </tr>\n",
       "    <tr>\n",
       "      <th>grp_1_s2</th>\n",
       "      <td>0.242424</td>\n",
       "      <td>1.000000</td>\n",
       "      <td>0.123091</td>\n",
       "    </tr>\n",
       "    <tr>\n",
       "      <th>XY</th>\n",
       "      <td>0.246183</td>\n",
       "      <td>0.123091</td>\n",
       "      <td>1.000000</td>\n",
       "    </tr>\n",
       "  </tbody>\n",
       "</table>\n",
       "</div>"
      ],
      "text/plain": [
       "          grp_1_s1  grp_1_s2        XY\n",
       "grp_1_s1  1.000000  0.242424  0.246183\n",
       "grp_1_s2  0.242424  1.000000  0.123091\n",
       "XY        0.246183  0.123091  1.000000"
      ]
     },
     "execution_count": 23,
     "metadata": {},
     "output_type": "execute_result"
    }
   ],
   "source": [
    "# DDC:\n",
    "corr_with_ddof(df[['grp_1_s1', 'grp_1_s2', 'XY']])"
   ]
  },
  {
   "cell_type": "code",
   "execution_count": null,
   "id": "e86a9f94-2c7f-487c-aed0-c160548f5cab",
   "metadata": {},
   "outputs": [],
   "source": []
  },
  {
   "cell_type": "code",
   "execution_count": 24,
   "id": "7e5dd27c-afac-431a-bec0-a5c48f0fa89a",
   "metadata": {
    "execution": {
     "iopub.execute_input": "2025-09-01T13:57:56.645933Z",
     "iopub.status.busy": "2025-09-01T13:57:56.644933Z",
     "iopub.status.idle": "2025-09-01T13:57:56.650940Z",
     "shell.execute_reply": "2025-09-01T13:57:56.650940Z",
     "shell.execute_reply.started": "2025-09-01T13:57:56.645933Z"
    }
   },
   "outputs": [
    {
     "data": {
      "text/plain": [
       "grp_2_s1    14\n",
       "grp_2_s2    10\n",
       "dtype: int64"
      ]
     },
     "execution_count": 24,
     "metadata": {},
     "output_type": "execute_result"
    }
   ],
   "source": [
    "# Design Matrix (proportional):\n",
    "df[[\"grp_2_s1\", \"grp_2_s2\"]].mul(df[\"X\"] ** 2, axis=0).sum()"
   ]
  },
  {
   "cell_type": "code",
   "execution_count": 25,
   "id": "ac7a642d-1ba7-4a56-8ba2-12a35c684652",
   "metadata": {
    "execution": {
     "iopub.execute_input": "2025-09-01T13:57:56.813877Z",
     "iopub.status.busy": "2025-09-01T13:57:56.812877Z",
     "iopub.status.idle": "2025-09-01T13:57:56.819891Z",
     "shell.execute_reply": "2025-09-01T13:57:56.819891Z",
     "shell.execute_reply.started": "2025-09-01T13:57:56.812877Z"
    }
   },
   "outputs": [
    {
     "data": {
      "text/html": [
       "<div>\n",
       "<style scoped>\n",
       "    .dataframe tbody tr th:only-of-type {\n",
       "        vertical-align: middle;\n",
       "    }\n",
       "\n",
       "    .dataframe tbody tr th {\n",
       "        vertical-align: top;\n",
       "    }\n",
       "\n",
       "    .dataframe thead th {\n",
       "        text-align: right;\n",
       "    }\n",
       "</style>\n",
       "<table border=\"1\" class=\"dataframe\">\n",
       "  <thead>\n",
       "    <tr style=\"text-align: right;\">\n",
       "      <th></th>\n",
       "      <th>grp_2_s1</th>\n",
       "      <th>grp_2_s2</th>\n",
       "      <th>XY</th>\n",
       "    </tr>\n",
       "  </thead>\n",
       "  <tbody>\n",
       "    <tr>\n",
       "      <th>grp_2_s1</th>\n",
       "      <td>1.000000</td>\n",
       "      <td>0.041667</td>\n",
       "      <td>0.25</td>\n",
       "    </tr>\n",
       "    <tr>\n",
       "      <th>grp_2_s2</th>\n",
       "      <td>0.041667</td>\n",
       "      <td>1.000000</td>\n",
       "      <td>0.25</td>\n",
       "    </tr>\n",
       "    <tr>\n",
       "      <th>XY</th>\n",
       "      <td>0.250000</td>\n",
       "      <td>0.250000</td>\n",
       "      <td>1.00</td>\n",
       "    </tr>\n",
       "  </tbody>\n",
       "</table>\n",
       "</div>"
      ],
      "text/plain": [
       "          grp_2_s1  grp_2_s2    XY\n",
       "grp_2_s1  1.000000  0.041667  0.25\n",
       "grp_2_s2  0.041667  1.000000  0.25\n",
       "XY        0.250000  0.250000  1.00"
      ]
     },
     "execution_count": 25,
     "metadata": {},
     "output_type": "execute_result"
    }
   ],
   "source": [
    "# DDC:\n",
    "corr_with_ddof(df[['grp_2_s1', 'grp_2_s2', 'XY']])"
   ]
  },
  {
   "cell_type": "code",
   "execution_count": null,
   "id": "a307cfef-2368-4799-9dd3-40e103e95c28",
   "metadata": {},
   "outputs": [],
   "source": []
  },
  {
   "cell_type": "code",
   "execution_count": null,
   "id": "7097e50b-b892-4d91-8361-e48fa6ade068",
   "metadata": {},
   "outputs": [],
   "source": []
  }
 ],
 "metadata": {
  "kernelspec": {
   "display_name": "Python 3 (ipykernel)",
   "language": "python",
   "name": "python3"
  },
  "language_info": {
   "codemirror_mode": {
    "name": "ipython",
    "version": 3
   },
   "file_extension": ".py",
   "mimetype": "text/x-python",
   "name": "python",
   "nbconvert_exporter": "python",
   "pygments_lexer": "ipython3",
   "version": "3.12.8"
  }
 },
 "nbformat": 4,
 "nbformat_minor": 5
}
