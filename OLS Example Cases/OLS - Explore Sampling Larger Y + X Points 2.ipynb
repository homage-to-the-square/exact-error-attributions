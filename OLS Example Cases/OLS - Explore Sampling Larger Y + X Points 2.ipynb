{
 "cells": [
  {
   "cell_type": "markdown",
   "id": "c5c011f0",
   "metadata": {},
   "source": [
    "# Imports:"
   ]
  },
  {
   "cell_type": "code",
   "execution_count": 24,
   "id": "d75790bb-5992-40f0-90f8-68743a4fc2b7",
   "metadata": {},
   "outputs": [],
   "source": [
    "import numpy as np\n",
    "import pandas as pd\n",
    "import seaborn as sns\n",
    "\n",
    "from scipy.stats import chi2\n",
    "\n",
    "from tqdm import tqdm, trange\n",
    "import random\n",
    "\n",
    "import matplotlib.pyplot as plt\n",
    "import pickle\n",
    "import statsmodels.api as sm\n",
    "from scipy.special import expit, logit"
   ]
  },
  {
   "cell_type": "markdown",
   "id": "0813c942-ec6e-45e7-84dc-08ca0cae9dcb",
   "metadata": {},
   "source": [
    "# Hyperparameters:"
   ]
  },
  {
   "cell_type": "code",
   "execution_count": 25,
   "id": "27d3ee42-91c1-42fe-a412-6b3ab36bd83f",
   "metadata": {},
   "outputs": [],
   "source": [
    "pop_size = 100 * 1_000\n",
    "sample_size = 30\n",
    "agg_iters = 100_0\n",
    "\n",
    "normal_stdev = 100\n",
    "\n",
    "beta = 1\n",
    "\n",
    "## for biased sampling mechanism:\n",
    "sample_probability_centering = 0.8\n",
    "sample_probability_bias_factor = 10\n",
    "sample_probability_bias_factor_x = 1"
   ]
  },
  {
   "cell_type": "code",
   "execution_count": 26,
   "id": "0ad06d0e-546b-4c4c-bef0-661b8fbc67dc",
   "metadata": {},
   "outputs": [],
   "source": [
    "## for rng generator:\n",
    "pop_number = 1"
   ]
  },
  {
   "cell_type": "markdown",
   "id": "de7f4383",
   "metadata": {},
   "source": [
    "# Run:"
   ]
  },
  {
   "cell_type": "code",
   "execution_count": 27,
   "id": "67baf705",
   "metadata": {},
   "outputs": [],
   "source": [
    "rand_generator = np.random.default_rng(seed=333 * pop_number)"
   ]
  },
  {
   "cell_type": "code",
   "execution_count": 28,
   "id": "eb21e815",
   "metadata": {},
   "outputs": [],
   "source": [
    "assert pop_size % 100 == 0\n",
    "base_x = [i for i in range(-50, 0)] + [i for i in range(1, 51)]\n",
    "x = pd.Series(base_x * (pop_size // 100))"
   ]
  },
  {
   "cell_type": "code",
   "execution_count": 29,
   "id": "a0ea0c7b-b829-4788-9896-2a20b6a48a6f",
   "metadata": {},
   "outputs": [],
   "source": [
    "std_x = np.std(x)\n",
    "std_x_abs = np.std(x.abs())"
   ]
  },
  {
   "cell_type": "code",
   "execution_count": 30,
   "id": "111d624d",
   "metadata": {},
   "outputs": [],
   "source": [
    "fitted_betas = []\n",
    "fitted_FI = []\n",
    "fitted_correlations = []\n",
    "realized_sample_sizes = []"
   ]
  },
  {
   "cell_type": "markdown",
   "id": "d321cc3c-4fee-4362-9157-84030c964c92",
   "metadata": {},
   "source": [
    "Create the simulated data (x, y):"
   ]
  },
  {
   "cell_type": "code",
   "execution_count": 31,
   "id": "8927d464-7048-4798-a3fb-60e900e6c534",
   "metadata": {},
   "outputs": [],
   "source": [
    "y = x * beta + rand_generator.normal(size=pop_size) * normal_stdev"
   ]
  },
  {
   "cell_type": "code",
   "execution_count": 32,
   "id": "4b2122ac-aece-47c4-b7ee-01e8b06a160b",
   "metadata": {},
   "outputs": [],
   "source": [
    "std_y = np.sqrt(np.var(x) + normal_stdev ** 2)"
   ]
  },
  {
   "cell_type": "code",
   "execution_count": 33,
   "id": "8c23726a-17d4-4e3e-9b33-bae9ebc830ac",
   "metadata": {},
   "outputs": [
    {
     "data": {
      "text/plain": [
       "104.65955641791805"
      ]
     },
     "execution_count": 33,
     "metadata": {},
     "output_type": "execute_result"
    }
   ],
   "source": [
    "np.std(y)"
   ]
  },
  {
   "cell_type": "code",
   "execution_count": 34,
   "id": "18ad76f2-8524-46cc-af5f-5ef242d1025f",
   "metadata": {},
   "outputs": [
    {
     "data": {
      "text/html": [
       "<table class=\"simpletable\">\n",
       "<caption>OLS Regression Results</caption>\n",
       "<tr>\n",
       "  <th>Dep. Variable:</th>            <td>y</td>        <th>  R-squared (uncentered):</th>       <td>   0.079</td>  \n",
       "</tr>\n",
       "<tr>\n",
       "  <th>Model:</th>                   <td>OLS</td>       <th>  Adj. R-squared (uncentered):</th>  <td>   0.079</td>  \n",
       "</tr>\n",
       "<tr>\n",
       "  <th>Method:</th>             <td>Least Squares</td>  <th>  F-statistic:       </th>           <td>   8532.</td>  \n",
       "</tr>\n",
       "<tr>\n",
       "  <th>Date:</th>             <td>Tue, 31 Dec 2024</td> <th>  Prob (F-statistic):</th>            <td>  0.00</td>   \n",
       "</tr>\n",
       "<tr>\n",
       "  <th>Time:</th>                 <td>12:20:05</td>     <th>  Log-Likelihood:    </th>          <td>-6.0287e+05</td>\n",
       "</tr>\n",
       "<tr>\n",
       "  <th>No. Observations:</th>      <td>100000</td>      <th>  AIC:               </th>           <td>1.206e+06</td> \n",
       "</tr>\n",
       "<tr>\n",
       "  <th>Df Residuals:</th>          <td> 99999</td>      <th>  BIC:               </th>           <td>1.206e+06</td> \n",
       "</tr>\n",
       "<tr>\n",
       "  <th>Df Model:</th>              <td>     1</td>      <th>                     </th>               <td> </td>     \n",
       "</tr>\n",
       "<tr>\n",
       "  <th>Covariance Type:</th>      <td>nonrobust</td>    <th>                     </th>               <td> </td>     \n",
       "</tr>\n",
       "</table>\n",
       "<table class=\"simpletable\">\n",
       "<tr>\n",
       "  <td></td>     <th>coef</th>     <th>std err</th>      <th>t</th>      <th>P>|t|</th>  <th>[0.025</th>    <th>0.975]</th>  \n",
       "</tr>\n",
       "<tr>\n",
       "  <th>x</th> <td>    1.0015</td> <td>    0.011</td> <td>   92.370</td> <td> 0.000</td> <td>    0.980</td> <td>    1.023</td>\n",
       "</tr>\n",
       "</table>\n",
       "<table class=\"simpletable\">\n",
       "<tr>\n",
       "  <th>Omnibus:</th>       <td> 6.615</td> <th>  Durbin-Watson:     </th> <td>   2.000</td>\n",
       "</tr>\n",
       "<tr>\n",
       "  <th>Prob(Omnibus):</th> <td> 0.037</td> <th>  Jarque-Bera (JB):  </th> <td>   6.474</td>\n",
       "</tr>\n",
       "<tr>\n",
       "  <th>Skew:</th>          <td> 0.008</td> <th>  Prob(JB):          </th> <td>  0.0393</td>\n",
       "</tr>\n",
       "<tr>\n",
       "  <th>Kurtosis:</th>      <td> 2.964</td> <th>  Cond. No.          </th> <td>    1.00</td>\n",
       "</tr>\n",
       "</table><br/><br/>Notes:<br/>[1] R² is computed without centering (uncentered) since the model does not contain a constant.<br/>[2] Standard Errors assume that the covariance matrix of the errors is correctly specified."
      ],
      "text/latex": [
       "\\begin{center}\n",
       "\\begin{tabular}{lclc}\n",
       "\\toprule\n",
       "\\textbf{Dep. Variable:}    &        y         & \\textbf{  R-squared (uncentered):}      &      0.079   \\\\\n",
       "\\textbf{Model:}            &       OLS        & \\textbf{  Adj. R-squared (uncentered):} &      0.079   \\\\\n",
       "\\textbf{Method:}           &  Least Squares   & \\textbf{  F-statistic:       }          &      8532.   \\\\\n",
       "\\textbf{Date:}             & Tue, 31 Dec 2024 & \\textbf{  Prob (F-statistic):}          &      0.00    \\\\\n",
       "\\textbf{Time:}             &     12:20:05     & \\textbf{  Log-Likelihood:    }          & -6.0287e+05  \\\\\n",
       "\\textbf{No. Observations:} &      100000      & \\textbf{  AIC:               }          &  1.206e+06   \\\\\n",
       "\\textbf{Df Residuals:}     &       99999      & \\textbf{  BIC:               }          &  1.206e+06   \\\\\n",
       "\\textbf{Df Model:}         &           1      & \\textbf{                     }          &              \\\\\n",
       "\\textbf{Covariance Type:}  &    nonrobust     & \\textbf{                     }          &              \\\\\n",
       "\\bottomrule\n",
       "\\end{tabular}\n",
       "\\begin{tabular}{lcccccc}\n",
       "           & \\textbf{coef} & \\textbf{std err} & \\textbf{t} & \\textbf{P$> |$t$|$} & \\textbf{[0.025} & \\textbf{0.975]}  \\\\\n",
       "\\midrule\n",
       "\\textbf{x} &       1.0015  &        0.011     &    92.370  &         0.000        &        0.980    &        1.023     \\\\\n",
       "\\bottomrule\n",
       "\\end{tabular}\n",
       "\\begin{tabular}{lclc}\n",
       "\\textbf{Omnibus:}       &  6.615 & \\textbf{  Durbin-Watson:     } &    2.000  \\\\\n",
       "\\textbf{Prob(Omnibus):} &  0.037 & \\textbf{  Jarque-Bera (JB):  } &    6.474  \\\\\n",
       "\\textbf{Skew:}          &  0.008 & \\textbf{  Prob(JB):          } &   0.0393  \\\\\n",
       "\\textbf{Kurtosis:}      &  2.964 & \\textbf{  Cond. No.          } &     1.00  \\\\\n",
       "\\bottomrule\n",
       "\\end{tabular}\n",
       "%\\caption{OLS Regression Results}\n",
       "\\end{center}\n",
       "\n",
       "Notes: \\newline\n",
       " [1] R² is computed without centering (uncentered) since the model does not contain a constant. \\newline\n",
       " [2] Standard Errors assume that the covariance matrix of the errors is correctly specified."
      ],
      "text/plain": [
       "<class 'statsmodels.iolib.summary.Summary'>\n",
       "\"\"\"\n",
       "                                 OLS Regression Results                                \n",
       "=======================================================================================\n",
       "Dep. Variable:                      y   R-squared (uncentered):                   0.079\n",
       "Model:                            OLS   Adj. R-squared (uncentered):              0.079\n",
       "Method:                 Least Squares   F-statistic:                              8532.\n",
       "Date:                Tue, 31 Dec 2024   Prob (F-statistic):                        0.00\n",
       "Time:                        12:20:05   Log-Likelihood:                     -6.0287e+05\n",
       "No. Observations:              100000   AIC:                                  1.206e+06\n",
       "Df Residuals:                   99999   BIC:                                  1.206e+06\n",
       "Df Model:                           1                                                  \n",
       "Covariance Type:            nonrobust                                                  \n",
       "==============================================================================\n",
       "                 coef    std err          t      P>|t|      [0.025      0.975]\n",
       "------------------------------------------------------------------------------\n",
       "x              1.0015      0.011     92.370      0.000       0.980       1.023\n",
       "==============================================================================\n",
       "Omnibus:                        6.615   Durbin-Watson:                   2.000\n",
       "Prob(Omnibus):                  0.037   Jarque-Bera (JB):                6.474\n",
       "Skew:                           0.008   Prob(JB):                       0.0393\n",
       "Kurtosis:                       2.964   Cond. No.                         1.00\n",
       "==============================================================================\n",
       "\n",
       "Notes:\n",
       "[1] R² is computed without centering (uncentered) since the model does not contain a constant.\n",
       "[2] Standard Errors assume that the covariance matrix of the errors is correctly specified.\n",
       "\"\"\""
      ]
     },
     "execution_count": 34,
     "metadata": {},
     "output_type": "execute_result"
    }
   ],
   "source": [
    "data = pd.concat([y, x], axis=1)\n",
    "\n",
    "data.columns = ['y', 'x']\n",
    "\n",
    "fitted_beta = sm.OLS(data['y'], data['x']).fit().params.iloc[0]\n",
    "\n",
    "sm.OLS(data['y'], data['x']).fit().summary()"
   ]
  },
  {
   "cell_type": "code",
   "execution_count": 35,
   "id": "c8209a23-decf-47d7-b052-f35ed0d18e96",
   "metadata": {},
   "outputs": [],
   "source": [
    "data['g_star'] = data['x'] * (data['y'] - data['x'] * fitted_beta)"
   ]
  },
  {
   "cell_type": "code",
   "execution_count": 36,
   "id": "8d13b2a9",
   "metadata": {},
   "outputs": [],
   "source": [
    "marginal_probabilities = expit(logit(sample_probability_centering) + \\\n",
    "       sample_probability_bias_factor * (y / std_y) * (data['x'].abs() - 25.5) / std_x_abs)"
   ]
  },
  {
   "cell_type": "code",
   "execution_count": 37,
   "id": "4f7e72b1-638d-4194-872e-c33205bf6ea3",
   "metadata": {},
   "outputs": [
    {
     "data": {
      "text/plain": [
       "0.592649779630312"
      ]
     },
     "execution_count": 37,
     "metadata": {},
     "output_type": "execute_result"
    }
   ],
   "source": [
    "np.mean(marginal_probabilities)"
   ]
  },
  {
   "cell_type": "markdown",
   "id": "8714023a",
   "metadata": {},
   "source": [
    "# run:"
   ]
  },
  {
   "cell_type": "code",
   "execution_count": 38,
   "id": "9da1071a",
   "metadata": {},
   "outputs": [
    {
     "name": "stderr",
     "output_type": "stream",
     "text": [
      "100%|██████████████████████████████████████████████████████████████████████████████████| 1000/1000 [00:22<00:00, 44.87it/s]\n"
     ]
    }
   ],
   "source": [
    "for _ in tqdm(range(agg_iters)):\n",
    "    srs_sample_indices = pd.Series(random.sample(range(pop_size), sample_size))\n",
    "    srs_sample_indices = srs_sample_indices.sort_values().reset_index(drop=True)\n",
    "\n",
    "    # reset the sample\n",
    "    data['r0'] = 0\n",
    "    data['r'] = 0\n",
    "    data['r1'] = 0\n",
    "    data['r2'] = 0\n",
    "    \n",
    "    data.loc[srs_sample_indices, 'r0'] = 1\n",
    "    full_sampled_data = data[data['r0'] == 1]\n",
    "\n",
    "    # marginal_probabilities = expit(logit(sample_probability_centering) + \\\n",
    "    #                                sample_probability_bias_factor * (full_sampled_data['x'].abs() - 25.5))\n",
    "    biased_sample_indices = marginal_probabilities.index[rand_generator.binomial(n=1, p = marginal_probabilities) == 1]\n",
    "\n",
    "    data.loc[biased_sample_indices, 'r'] = 1\n",
    "\n",
    "    biased_sample_indices_size = len(biased_sample_indices)\n",
    "    realized_sample_sizes.append(biased_sample_indices_size)\n",
    "\n",
    "\n",
    "    srs_sample = data[data['r0'] == 1].copy()\n",
    "    biased_sample = data[data['r'] == 1].copy()\n",
    "\n",
    "    srs_fitted_beta = sm.OLS(srs_sample['y'], srs_sample['x']).fit().params.iloc[0]\n",
    "    biased_fitted_beta = sm.OLS(biased_sample['y'], biased_sample['x']).fit().params.iloc[0]\n",
    "\n",
    "    fitted_betas.append(pd.Series([fitted_beta, srs_fitted_beta, biased_fitted_beta]))\n",
    "\n",
    "    fitted_FI.append(pd.Series([np.mean(srs_sample['x'] ** 2), np.mean(biased_sample['x'] ** 2)]))\n",
    "\n",
    "    fitted_correlations.append(data[['g_star', 'r0', 'r']].corr().iloc[0, 1:])"
   ]
  },
  {
   "cell_type": "markdown",
   "id": "db8b1e01-b45f-4bf7-a173-bc260d128855",
   "metadata": {},
   "source": [
    "Clean up the data:"
   ]
  },
  {
   "cell_type": "code",
   "execution_count": 39,
   "id": "079f384b",
   "metadata": {},
   "outputs": [],
   "source": [
    "fitted_betas = pd.concat(fitted_betas, axis=1).T\n",
    "fitted_FI = pd.concat(fitted_FI, axis=1).T\n",
    "fitted_correlations = pd.concat(fitted_correlations, axis=1).T.reset_index(drop=True)"
   ]
  },
  {
   "cell_type": "code",
   "execution_count": 40,
   "id": "22704cef",
   "metadata": {
    "scrolled": true
   },
   "outputs": [],
   "source": [
    "fitted_FI.columns = ['srs', 'biased']\n",
    "fitted_betas.columns = ['population', 'srs', 'biased']\n",
    "fitted_correlations.columns = ['srs', 'biased']"
   ]
  },
  {
   "cell_type": "code",
   "execution_count": 41,
   "id": "13d625c8",
   "metadata": {},
   "outputs": [],
   "source": [
    "realized_sample_sizes = pd.Series(realized_sample_sizes)"
   ]
  },
  {
   "cell_type": "markdown",
   "id": "9b4cbd76-d514-4c04-a8d3-70a6f0a6fb1f",
   "metadata": {},
   "source": [
    "# Plot:"
   ]
  },
  {
   "cell_type": "code",
   "execution_count": 42,
   "id": "756b0455",
   "metadata": {},
   "outputs": [
    {
     "data": {
      "text/html": [
       "<div>\n",
       "<style scoped>\n",
       "    .dataframe tbody tr th:only-of-type {\n",
       "        vertical-align: middle;\n",
       "    }\n",
       "\n",
       "    .dataframe tbody tr th {\n",
       "        vertical-align: top;\n",
       "    }\n",
       "\n",
       "    .dataframe thead th {\n",
       "        text-align: right;\n",
       "    }\n",
       "</style>\n",
       "<table border=\"1\" class=\"dataframe\">\n",
       "  <thead>\n",
       "    <tr style=\"text-align: right;\">\n",
       "      <th></th>\n",
       "      <th>srs_fi</th>\n",
       "      <th>biased_fi</th>\n",
       "      <th>srs_corr</th>\n",
       "      <th>biased_corr</th>\n",
       "    </tr>\n",
       "  </thead>\n",
       "  <tbody>\n",
       "    <tr>\n",
       "      <th>0</th>\n",
       "      <td>939.266667</td>\n",
       "      <td>838.666150</td>\n",
       "      <td>-0.001622</td>\n",
       "      <td>-0.030975</td>\n",
       "    </tr>\n",
       "    <tr>\n",
       "      <th>1</th>\n",
       "      <td>865.000000</td>\n",
       "      <td>839.793566</td>\n",
       "      <td>0.002247</td>\n",
       "      <td>-0.030676</td>\n",
       "    </tr>\n",
       "    <tr>\n",
       "      <th>2</th>\n",
       "      <td>622.000000</td>\n",
       "      <td>839.419508</td>\n",
       "      <td>-0.003505</td>\n",
       "      <td>-0.030182</td>\n",
       "    </tr>\n",
       "    <tr>\n",
       "      <th>3</th>\n",
       "      <td>767.833333</td>\n",
       "      <td>838.151008</td>\n",
       "      <td>-0.001904</td>\n",
       "      <td>-0.031032</td>\n",
       "    </tr>\n",
       "    <tr>\n",
       "      <th>4</th>\n",
       "      <td>1070.166667</td>\n",
       "      <td>837.651530</td>\n",
       "      <td>-0.002013</td>\n",
       "      <td>-0.032149</td>\n",
       "    </tr>\n",
       "  </tbody>\n",
       "</table>\n",
       "</div>"
      ],
      "text/plain": [
       "        srs_fi   biased_fi  srs_corr  biased_corr\n",
       "0   939.266667  838.666150 -0.001622    -0.030975\n",
       "1   865.000000  839.793566  0.002247    -0.030676\n",
       "2   622.000000  839.419508 -0.003505    -0.030182\n",
       "3   767.833333  838.151008 -0.001904    -0.031032\n",
       "4  1070.166667  837.651530 -0.002013    -0.032149"
      ]
     },
     "execution_count": 42,
     "metadata": {},
     "output_type": "execute_result"
    }
   ],
   "source": [
    "fitted_FI_and_corr = fitted_FI.join(fitted_correlations, lsuffix = '_fi', rsuffix = '_corr')\n",
    "\n",
    "fitted_FI_and_corr.head()"
   ]
  },
  {
   "cell_type": "code",
   "execution_count": 43,
   "id": "ee1124d9-9dcf-45a2-b68c-0c4b648ff2c1",
   "metadata": {},
   "outputs": [],
   "source": [
    "Jeee = np.mean(data['x'] ** 2)\n",
    "\n",
    "fitted_FI_and_corr['srs_samp_elasticity'] = fitted_FI_and_corr.eval(f'srs_fi / {Jeee}')\n",
    "fitted_FI_and_corr['biased_samp_elasticity'] = fitted_FI_and_corr.eval(f'biased_fi / {Jeee}')"
   ]
  },
  {
   "cell_type": "code",
   "execution_count": null,
   "id": "be6d17bb-b18f-4f38-824f-36a888458d6a",
   "metadata": {},
   "outputs": [],
   "source": []
  },
  {
   "cell_type": "code",
   "execution_count": 44,
   "id": "75582ca0-67c6-43c8-8ffc-d777376e79c8",
   "metadata": {},
   "outputs": [
    {
     "data": {
      "text/plain": [
       "Text(0.5, 0.01, 'Jn (across sampling mechanisms)')"
      ]
     },
     "execution_count": 44,
     "metadata": {},
     "output_type": "execute_result"
    },
    {
     "data": {
      "image/png": "[encoded data removed]",
      "text/plain": [
       "<Figure size 1200x600 with 2 Axes>"
      ]
     },
     "metadata": {},
     "output_type": "display_data"
    }
   ],
   "source": [
    "fig, axes = plt.subplots(1, 2, \n",
    "                         constrained_layout=True, \n",
    "                         figsize=(12, 6))\n",
    "\n",
    "ax = axes[0]\n",
    "sns.kdeplot(data = fitted_FI_and_corr, \n",
    "            x=f'srs_samp_elasticity',\n",
    "            y = f'srs_corr', \n",
    "            fill=True, \n",
    "            bw_adjust=1.8, \n",
    "            levels=5,\n",
    "            ax=ax\n",
    "           )\n",
    "ax.set_xlabel('Ideal sample')\n",
    "ax.set_ylabel('')\n",
    "\n",
    "ax = axes[1]\n",
    "sns.kdeplot(data = fitted_FI_and_corr, \n",
    "            x=f'biased_samp_elasticity',\n",
    "            y = f'biased_corr', \n",
    "            fill=True, \n",
    "            bw_adjust=1.8, \n",
    "            levels=5,\n",
    "            ax=ax\n",
    "           )\n",
    "ax.set_xlabel('Biased sample')\n",
    "ax.set_ylabel('')\n",
    "\n",
    "fig.suptitle('Data defect correlation vs Jn for least squares')\n",
    "fig.supylabel('Data defect correlation')\n",
    "fig.supxlabel('Jn (across sampling mechanisms)')"
   ]
  },
  {
   "cell_type": "code",
   "execution_count": 45,
   "id": "67bb0589-b1be-42d9-a589-a4fc1ac0feac",
   "metadata": {},
   "outputs": [],
   "source": [
    "fitted_FI_and_corr['const'] = 1"
   ]
  },
  {
   "cell_type": "code",
   "execution_count": 46,
   "id": "4c73bced-5f5d-4dc9-ba2d-ecaf14c864d3",
   "metadata": {},
   "outputs": [
    {
     "name": "stdout",
     "output_type": "stream",
     "text": [
      "                            OLS Regression Results                            \n",
      "==============================================================================\n",
      "Dep. Variable:               srs_corr   R-squared:                       0.000\n",
      "Model:                            OLS   Adj. R-squared:                 -0.001\n",
      "Method:                 Least Squares   F-statistic:                   0.07255\n",
      "Date:                Tue, 31 Dec 2024   Prob (F-statistic):              0.788\n",
      "Time:                        12:20:30   Log-Likelihood:                 4307.3\n",
      "No. Observations:                1000   AIC:                            -8611.\n",
      "Df Residuals:                     998   BIC:                            -8601.\n",
      "Df Model:                           1                                         \n",
      "Covariance Type:            nonrobust                                         \n",
      "=======================================================================================\n",
      "                          coef    std err          t      P>|t|      [0.025      0.975]\n",
      "---------------------------------------------------------------------------------------\n",
      "const                  -0.0002      0.001     -0.235      0.814      -0.001       0.001\n",
      "srs_samp_elasticity     0.0002      0.001      0.269      0.788      -0.001       0.001\n",
      "==============================================================================\n",
      "Omnibus:                        3.470   Durbin-Watson:                   1.894\n",
      "Prob(Omnibus):                  0.176   Jarque-Bera (JB):                3.541\n",
      "Skew:                          -0.138   Prob(JB):                        0.170\n",
      "Kurtosis:                       2.907   Cond. No.                         12.6\n",
      "==============================================================================\n",
      "\n",
      "Notes:\n",
      "[1] Standard Errors assume that the covariance matrix of the errors is correctly specified.\n",
      "                            OLS Regression Results                            \n",
      "==============================================================================\n",
      "Dep. Variable:            biased_corr   R-squared:                       0.073\n",
      "Model:                            OLS   Adj. R-squared:                  0.073\n",
      "Method:                 Least Squares   F-statistic:                     79.11\n",
      "Date:                Tue, 31 Dec 2024   Prob (F-statistic):           2.70e-18\n",
      "Time:                        12:20:30   Log-Likelihood:                 5528.9\n",
      "No. Observations:                1000   AIC:                        -1.105e+04\n",
      "Df Residuals:                     998   BIC:                        -1.104e+04\n",
      "Df Model:                           1                                         \n",
      "Covariance Type:            nonrobust                                         \n",
      "==========================================================================================\n",
      "                             coef    std err          t      P>|t|      [0.025      0.975]\n",
      "------------------------------------------------------------------------------------------\n",
      "const                      0.2656      0.033      7.984      0.000       0.200       0.331\n",
      "biased_samp_elasticity    -0.3027      0.034     -8.895      0.000      -0.369      -0.236\n",
      "==============================================================================\n",
      "Omnibus:                        0.080   Durbin-Watson:                   1.855\n",
      "Prob(Omnibus):                  0.961   Jarque-Bera (JB):                0.094\n",
      "Skew:                          -0.022   Prob(JB):                        0.954\n",
      "Kurtosis:                       2.981   Cond. No.                     2.19e+03\n",
      "==============================================================================\n",
      "\n",
      "Notes:\n",
      "[1] Standard Errors assume that the covariance matrix of the errors is correctly specified.\n",
      "[2] The condition number is large, 2.19e+03. This might indicate that there are\n",
      "strong multicollinearity or other numerical problems.\n"
     ]
    }
   ],
   "source": [
    "for samp_scheme in ['srs', 'biased']:\n",
    "    print(sm.OLS(endog = fitted_FI_and_corr[f'{samp_scheme}_corr'], \n",
    "           exog = fitted_FI_and_corr[['const', f'{samp_scheme}_samp_elasticity']]\n",
    "          ).fit().summary()\n",
    "    )"
   ]
  },
  {
   "cell_type": "code",
   "execution_count": null,
   "id": "546ac80b-fb54-4e36-9106-562f15eea2b5",
   "metadata": {},
   "outputs": [],
   "source": []
  },
  {
   "cell_type": "code",
   "execution_count": null,
   "id": "77e4a3e3-c0f0-41a4-b010-bbe7efb55d50",
   "metadata": {},
   "outputs": [],
   "source": []
  },
  {
   "cell_type": "code",
   "execution_count": null,
   "id": "2ad73d08-84fe-4bdf-ac49-409550864f68",
   "metadata": {},
   "outputs": [],
   "source": []
  },
  {
   "cell_type": "code",
   "execution_count": null,
   "id": "8ed0823b",
   "metadata": {},
   "outputs": [],
   "source": []
  }
 ],
 "metadata": {
  "kernelspec": {
   "display_name": "Python 3.8 (Airsoft)",
   "language": "python",
   "name": "airsoft"
  },
  "language_info": {
   "codemirror_mode": {
    "name": "ipython",
    "version": 3
   },
   "file_extension": ".py",
   "mimetype": "text/x-python",
   "name": "python",
   "nbconvert_exporter": "python",
   "pygments_lexer": "ipython3",
   "version": "3.8.17"
  }
 },
 "nbformat": 4,
 "nbformat_minor": 5
}
