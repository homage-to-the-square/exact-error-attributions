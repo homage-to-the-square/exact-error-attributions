{
 "cells": [
  {
   "cell_type": "markdown",
   "id": "79393017-a94c-4958-aac1-5dfd3f375e9d",
   "metadata": {},
   "source": [
    "# Imports:"
   ]
  },
  {
   "cell_type": "code",
   "execution_count": 1,
   "id": "0b93f6fc-ebc2-4b47-9fdd-8fd2a1d7a1d4",
   "metadata": {},
   "outputs": [],
   "source": [
    "import numpy as np\n",
    "import pandas as pd\n",
    "from scipy.stats import chi2, norm, cauchy, pareto"
   ]
  },
  {
   "cell_type": "code",
   "execution_count": null,
   "id": "7d34b032-cb98-4350-8612-225a5c1aaa17",
   "metadata": {},
   "outputs": [],
   "source": []
  },
  {
   "cell_type": "markdown",
   "id": "46b3e7cf-ca09-4e0b-b3a7-6a297e7ea78a",
   "metadata": {},
   "source": [
    "# Checks:"
   ]
  },
  {
   "cell_type": "code",
   "execution_count": 20,
   "id": "5ae4cfb6-bd71-4cae-938f-b3c38567adba",
   "metadata": {},
   "outputs": [],
   "source": [
    "beta = 1\n",
    "s_size = 50\n",
    "p_size = 1_000\n",
    "n_sims = 1_000\n",
    "\n",
    "pop_x = pd.Series(norm.rvs(size = p_size))"
   ]
  },
  {
   "cell_type": "code",
   "execution_count": 21,
   "id": "e5394f1d-fc41-41e2-8c27-a7c16186fadd",
   "metadata": {},
   "outputs": [],
   "source": [
    "pop_y = pd.Series(pop_x * beta + norm.rvs(size=p_size))"
   ]
  },
  {
   "cell_type": "code",
   "execution_count": null,
   "id": "22552616-f014-4e4c-a6b9-97e79289049e",
   "metadata": {},
   "outputs": [],
   "source": []
  },
  {
   "cell_type": "code",
   "execution_count": 22,
   "id": "e8991307-95be-467e-b45e-860ba0679fc5",
   "metadata": {},
   "outputs": [],
   "source": [
    "xy_sims = []\n",
    "x2_sims = []\n",
    "for i in range(n_sims):\n",
    "    sample_y = pop_y.sample(s_size)\n",
    "    sample_x = pop_x.sample(s_size)\n",
    "    x2_mean = np.mean(sample_x ** 2)\n",
    "    xy_mean = np.mean(sample_y * sample_x)\n",
    "    \n",
    "    x2_sims.append(x2_mean)\n",
    "    xy_sims.append(xy_mean)"
   ]
  },
  {
   "cell_type": "code",
   "execution_count": 27,
   "id": "7db27545-fdcc-4534-923a-28fa57de8305",
   "metadata": {},
   "outputs": [],
   "source": [
    "sim_df = pd.DataFrame([xy_sims, x2_sims]).T\n",
    "sim_df.columns = ['xy', 'x2']"
   ]
  },
  {
   "cell_type": "code",
   "execution_count": 32,
   "id": "25440b02-2769-45f5-8dc8-8008e8888aed",
   "metadata": {},
   "outputs": [],
   "source": [
    "sim_df['1/x2'] = 1/sim_df['x2']\n",
    "sim_df['Y2'] = sim_df['xy'] ** 2\n",
    "sim_df['1/X2'] = sim_df['1/x2'] ** 2\n",
    "sim_df['XY'] = sim_df['xy'] * sim_df['x2']\n",
    "sim_df['X2'] = sim_df['x2'] ** 2"
   ]
  },
  {
   "cell_type": "code",
   "execution_count": 33,
   "id": "3586bc2d-49a8-4237-8632-fb71a1275c6a",
   "metadata": {},
   "outputs": [
    {
     "data": {
      "text/html": [
       "<div>\n",
       "<style scoped>\n",
       "    .dataframe tbody tr th:only-of-type {\n",
       "        vertical-align: middle;\n",
       "    }\n",
       "\n",
       "    .dataframe tbody tr th {\n",
       "        vertical-align: top;\n",
       "    }\n",
       "\n",
       "    .dataframe thead th {\n",
       "        text-align: right;\n",
       "    }\n",
       "</style>\n",
       "<table border=\"1\" class=\"dataframe\">\n",
       "  <thead>\n",
       "    <tr style=\"text-align: right;\">\n",
       "      <th></th>\n",
       "      <th>X2</th>\n",
       "      <th>1/X2</th>\n",
       "    </tr>\n",
       "  </thead>\n",
       "  <tbody>\n",
       "    <tr>\n",
       "      <th>X2</th>\n",
       "      <td>0.173250</td>\n",
       "      <td>-0.184233</td>\n",
       "    </tr>\n",
       "    <tr>\n",
       "      <th>1/X2</th>\n",
       "      <td>-0.184233</td>\n",
       "      <td>0.273500</td>\n",
       "    </tr>\n",
       "  </tbody>\n",
       "</table>\n",
       "</div>"
      ],
      "text/plain": [
       "            X2      1/X2\n",
       "X2    0.173250 -0.184233\n",
       "1/X2 -0.184233  0.273500"
      ]
     },
     "execution_count": 33,
     "metadata": {},
     "output_type": "execute_result"
    }
   ],
   "source": [
    "sim_df[['X2', '1/X2']].cov()"
   ]
  },
  {
   "cell_type": "code",
   "execution_count": 34,
   "id": "73537537-5b1f-4071-b3b7-972b0bd89f72",
   "metadata": {},
   "outputs": [
    {
     "data": {
      "text/html": [
       "<div>\n",
       "<style scoped>\n",
       "    .dataframe tbody tr th:only-of-type {\n",
       "        vertical-align: middle;\n",
       "    }\n",
       "\n",
       "    .dataframe tbody tr th {\n",
       "        vertical-align: top;\n",
       "    }\n",
       "\n",
       "    .dataframe thead th {\n",
       "        text-align: right;\n",
       "    }\n",
       "</style>\n",
       "<table border=\"1\" class=\"dataframe\">\n",
       "  <thead>\n",
       "    <tr style=\"text-align: right;\">\n",
       "      <th></th>\n",
       "      <th>XY</th>\n",
       "      <th>1/X2</th>\n",
       "    </tr>\n",
       "  </thead>\n",
       "  <tbody>\n",
       "    <tr>\n",
       "      <th>XY</th>\n",
       "      <td>1.674284</td>\n",
       "      <td>-0.193713</td>\n",
       "    </tr>\n",
       "    <tr>\n",
       "      <th>1/X2</th>\n",
       "      <td>-0.193713</td>\n",
       "      <td>0.273500</td>\n",
       "    </tr>\n",
       "  </tbody>\n",
       "</table>\n",
       "</div>"
      ],
      "text/plain": [
       "            XY      1/X2\n",
       "XY    1.674284 -0.193713\n",
       "1/X2 -0.193713  0.273500"
      ]
     },
     "execution_count": 34,
     "metadata": {},
     "output_type": "execute_result"
    }
   ],
   "source": [
    "sim_df[['XY', '1/X2']].cov()"
   ]
  },
  {
   "cell_type": "code",
   "execution_count": 35,
   "id": "5aa1b54e-06e9-4153-8fdf-c854d7b946c8",
   "metadata": {},
   "outputs": [
    {
     "data": {
      "text/html": [
       "<div>\n",
       "<style scoped>\n",
       "    .dataframe tbody tr th:only-of-type {\n",
       "        vertical-align: middle;\n",
       "    }\n",
       "\n",
       "    .dataframe tbody tr th {\n",
       "        vertical-align: top;\n",
       "    }\n",
       "\n",
       "    .dataframe thead th {\n",
       "        text-align: right;\n",
       "    }\n",
       "</style>\n",
       "<table border=\"1\" class=\"dataframe\">\n",
       "  <thead>\n",
       "    <tr style=\"text-align: right;\">\n",
       "      <th></th>\n",
       "      <th>Y2</th>\n",
       "      <th>1/X2</th>\n",
       "    </tr>\n",
       "  </thead>\n",
       "  <tbody>\n",
       "    <tr>\n",
       "      <th>Y2</th>\n",
       "      <td>32.906965</td>\n",
       "      <td>-0.467415</td>\n",
       "    </tr>\n",
       "    <tr>\n",
       "      <th>1/X2</th>\n",
       "      <td>-0.467415</td>\n",
       "      <td>0.273500</td>\n",
       "    </tr>\n",
       "  </tbody>\n",
       "</table>\n",
       "</div>"
      ],
      "text/plain": [
       "             Y2      1/X2\n",
       "Y2    32.906965 -0.467415\n",
       "1/X2  -0.467415  0.273500"
      ]
     },
     "execution_count": 35,
     "metadata": {},
     "output_type": "execute_result"
    }
   ],
   "source": [
    "sim_df[['Y2', '1/X2']].cov()"
   ]
  },
  {
   "cell_type": "code",
   "execution_count": null,
   "id": "d81324ce-15fa-4ed7-9d6d-4f3c002ae79a",
   "metadata": {},
   "outputs": [],
   "source": []
  }
 ],
 "metadata": {
  "kernelspec": {
   "display_name": "Python 3 (ipykernel)",
   "language": "python",
   "name": "python3"
  },
  "language_info": {
   "codemirror_mode": {
    "name": "ipython",
    "version": 3
   },
   "file_extension": ".py",
   "mimetype": "text/x-python",
   "name": "python",
   "nbconvert_exporter": "python",
   "pygments_lexer": "ipython3",
   "version": "3.12.8"
  }
 },
 "nbformat": 4,
 "nbformat_minor": 5
}
