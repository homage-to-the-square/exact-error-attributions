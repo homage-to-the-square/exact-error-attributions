{
 "cells": [
  {
   "cell_type": "markdown",
   "id": "c5c011f0",
   "metadata": {},
   "source": [
    "# Imports:"
   ]
  },
  {
   "cell_type": "code",
   "execution_count": 4,
   "id": "dc9380fa-4872-4f3a-8c66-dfc3786d5ec1",
   "metadata": {
    "execution": {
     "iopub.execute_input": "2025-09-18T15:09:30.939152Z",
     "iopub.status.busy": "2025-09-18T15:09:30.939152Z",
     "iopub.status.idle": "2025-09-18T15:09:31.894748Z",
     "shell.execute_reply": "2025-09-18T15:09:31.894748Z",
     "shell.execute_reply.started": "2025-09-18T15:09:30.939152Z"
    }
   },
   "outputs": [],
   "source": [
    "import numpy as np\n",
    "import pandas as pd\n",
    "import matplotlib.pyplot as plt\n",
    "import statsmodels.api as sm\n",
    "from scipy import interpolate\n",
    "\n",
    "from jzhou_utils import plot_mean_with_ci, list_files_in_directory, read_obj_pickle"
   ]
  },
  {
   "cell_type": "markdown",
   "id": "de7f4383",
   "metadata": {},
   "source": [
    "# Helper Functions:"
   ]
  },
  {
   "cell_type": "code",
   "execution_count": 34,
   "id": "ac85ed67-1da8-4ae6-9e7c-f88fe0cbb9a6",
   "metadata": {
    "execution": {
     "iopub.execute_input": "2025-09-18T15:30:03.712668Z",
     "iopub.status.busy": "2025-09-18T15:30:03.712668Z",
     "iopub.status.idle": "2025-09-18T15:30:03.716846Z",
     "shell.execute_reply": "2025-09-18T15:30:03.716846Z",
     "shell.execute_reply.started": "2025-09-18T15:30:03.712668Z"
    }
   },
   "outputs": [],
   "source": [
    "def pooled_mean_stdev(\n",
    "    df: pd.DataFrame, group_col: str, mean_col=\"mean\", std_col=\"std\", count_col=\"count\",\n",
    "    std_ddof_input: int = 0,\n",
    "    std_ddof_output: int = 0,\n",
    "):\n",
    "    \"\"\"\n",
    "    Compute grouped mean and standard deviation from pre-aggregated stats.\n",
    "\n",
    "    Parameters:\n",
    "        df (pd.DataFrame): DataFrame with columns for means, stds, counts, and a groupby column.\n",
    "        group_col (str): Column to group by.\n",
    "        mean_col (str): Name of the mean column.\n",
    "        std_col (str): Name of the std column, computed with ddof = std_ddof_input.\n",
    "            By default, assumes ddof of input is zero, due to np.std using ddof of zero\n",
    "        count_col (str): Name of the count column.\n",
    "\n",
    "    Returns:\n",
    "        pd.DataFrame: Grouped means and standard deviations.\n",
    "    \"\"\"\n",
    "\n",
    "    def aggregate(group):\n",
    "        n = group[count_col].values\n",
    "        m = group[mean_col].values\n",
    "        s = group[std_col].values\n",
    "\n",
    "        total_n = n.sum()\n",
    "        weighted_mean = (n * m).sum() / total_n\n",
    "\n",
    "        # Pooled variance formula\n",
    "        pooled_var = ((n - std_ddof_input) * s**2).sum() + (n * (m - weighted_mean) ** 2).sum()\n",
    "        pooled_var /= total_n - std_ddof_output\n",
    "        pooled_std = np.sqrt(pooled_var)\n",
    "\n",
    "        return pd.Series(\n",
    "            {\n",
    "                \"group_mean\": weighted_mean,\n",
    "                \"group_std\": pooled_std,\n",
    "                \"group_count\": total_n,\n",
    "            }\n",
    "        )\n",
    "\n",
    "    return df.groupby(group_col).apply(aggregate, include_groups=False).reset_index()"
   ]
  },
  {
   "cell_type": "code",
   "execution_count": 39,
   "id": "d25c795e-72b0-49e4-8888-f17cb148e05c",
   "metadata": {
    "execution": {
     "iopub.execute_input": "2025-09-18T15:31:38.737999Z",
     "iopub.status.busy": "2025-09-18T15:31:38.737999Z",
     "iopub.status.idle": "2025-09-18T15:31:38.744011Z",
     "shell.execute_reply": "2025-09-18T15:31:38.744011Z",
     "shell.execute_reply.started": "2025-09-18T15:31:38.737999Z"
    }
   },
   "outputs": [],
   "source": [
    "def compute_ESS_Meng(biased_sampler):\n",
    "    \"\"\"\n",
    "    Computes the effective sample size based on the mean estimation problem, \n",
    "        i.e., based on purely Meng (2018).\n",
    "    \"\"\"\n",
    "    # first compute f (sample / pop), and D_o (as in Meng's paper)\n",
    "    biased_sampler[\"f_biased\"] = biased_sampler[\"realized_size_biased\"] / 100_000\n",
    "    biased_sampler[\"f\"] = biased_sampler[\"sample_size\"] / 100_000\n",
    "\n",
    "    biased_sampler[\"d_o_intended_indiv\"] = biased_sampler.eval(\"(1 - f) / f\")\n",
    "    biased_sampler[\"d_o_biased_indiv\"] = biased_sampler.eval(\n",
    "        \"(1 - f_biased) / f_biased\"\n",
    "    )\n",
    "\n",
    "    # d_o computed:\n",
    "    actual_d_o = biased_sampler.groupby(\"sample_size\")[\"d_o_biased_indiv\"].mean()\n",
    "    actual_d_o.name = \"d_o_biased\"\n",
    "    biased_sampler = pd.merge(biased_sampler, actual_d_o, on=\"sample_size\")\n",
    "\n",
    "    actual_d_o = biased_sampler.groupby(\"sample_size\")[\"d_o_intended_indiv\"].mean()\n",
    "    actual_d_o.name = \"d_o_intended\"\n",
    "    biased_sampler = pd.merge(biased_sampler, actual_d_o, on=\"sample_size\")\n",
    "\n",
    "    # compute the data defect correlation, and check whether it is precise enough as well:\n",
    "    biased_sampler[\"ddc_biased_squared\"] = biased_sampler.eval(\"ddc_biased ** 2\")\n",
    "    ddc_sq_info = biased_sampler.groupby(\"sample_size\")[\"ddc_biased_squared\"].describe()\n",
    "    ddc_sq_info[\"std\"] = ddc_sq_info[\"std\"] / np.sqrt(ddc_sq_info[\"count\"])\n",
    "    # print(\n",
    "    #     f\"Mean of intended data defect correlation vs its mean estimations stdev: {int((ddc_sq_info['mean'] / ddc_sq_info['std']).min())}\"\n",
    "    # )\n",
    "    ddc_sq_info[\"d_i_biased\"] = ddc_sq_info[\"mean\"]\n",
    "    biased_sampler = pd.merge(\n",
    "        biased_sampler, ddc_sq_info[\"d_i_biased\"], on=\"sample_size\"\n",
    "    )\n",
    "    \n",
    "    biased_sampler[\"ddc_intended_squared\"] = biased_sampler.eval(\"ddc_intended ** 2\")\n",
    "    ddc_sq_info = biased_sampler.groupby(\"sample_size\")[\n",
    "        \"ddc_intended_squared\"\n",
    "    ].describe()\n",
    "    ddc_sq_info[\"std\"] = ddc_sq_info[\"std\"] / np.sqrt(ddc_sq_info[\"count\"])\n",
    "    # print(\n",
    "    #     f\"Mean of intended data defect correlation vs its mean estimations stdev: {int((ddc_sq_info['mean'] / ddc_sq_info['std']).min())}\"\n",
    "    # )\n",
    "    ddc_sq_info[\"d_i_intended\"] = ddc_sq_info[\"mean\"]\n",
    "    biased_sampler = pd.merge(\n",
    "        biased_sampler, ddc_sq_info[\"d_i_intended\"], on=\"sample_size\"\n",
    "    )\n",
    "\n",
    "    # neff_star according to Meng (2018), Eqn. 3.5:\n",
    "    biased_sampler[\"neff_star_biased\"] = biased_sampler.eval(\n",
    "        \"1 / (d_i_biased * d_o_biased)\"\n",
    "    )\n",
    "    biased_sampler[\"neff_star_intended\"] = biased_sampler.eval(\n",
    "        \"1 / (d_i_intended * d_o_intended)\"\n",
    "    )\n",
    "\n",
    "    # neff here is the effective sample size if we only consider the mean estimation problem,\n",
    "    # as implied by (3.5) in Meng (2018):\n",
    "    biased_sampler[\"neff_biased\"] = biased_sampler.eval(\n",
    "        \"neff_star_biased / (1 + (neff_star_biased - 1) / 100_000)\"\n",
    "    )\n",
    "    biased_sampler[\"neff_intended\"] = biased_sampler.eval(\n",
    "        \"neff_star_intended / (1 + (neff_star_intended - 1) / 100_000)\"\n",
    "    )\n",
    "\n",
    "    return biased_sampler"
   ]
  },
  {
   "cell_type": "markdown",
   "id": "46c778cc-646a-4c5d-b299-c231b00a7e5d",
   "metadata": {},
   "source": [
    "# Get population Unit Fisher Information:"
   ]
  },
  {
   "cell_type": "code",
   "execution_count": 7,
   "id": "36710389-0bbe-4aba-93bd-107c186cc982",
   "metadata": {
    "execution": {
     "iopub.execute_input": "2025-09-18T15:09:35.345316Z",
     "iopub.status.busy": "2025-09-18T15:09:35.345316Z",
     "iopub.status.idle": "2025-09-18T15:09:35.355329Z",
     "shell.execute_reply": "2025-09-18T15:09:35.355329Z",
     "shell.execute_reply.started": "2025-09-18T15:09:35.345316Z"
    }
   },
   "outputs": [],
   "source": [
    "population_data = read_obj_pickle('base_population_data_Logit_1.pickle')"
   ]
  },
  {
   "cell_type": "code",
   "execution_count": 8,
   "id": "bb7d5a15-6ae1-437e-83cb-ab918a0360cf",
   "metadata": {
    "execution": {
     "iopub.execute_input": "2025-09-18T15:09:36.168604Z",
     "iopub.status.busy": "2025-09-18T15:09:36.168604Z",
     "iopub.status.idle": "2025-09-18T15:09:36.220046Z",
     "shell.execute_reply": "2025-09-18T15:09:36.220046Z",
     "shell.execute_reply.started": "2025-09-18T15:09:36.168604Z"
    }
   },
   "outputs": [],
   "source": [
    "pop_x = population_data[[\"x_0\"]]\n",
    "pop_y = population_data[\"y\"]\n",
    "pop_model = sm.Logit(endog=pop_y, exog=pop_x).fit(disp=0)\n",
    "pop_beta = np.array(pop_model.params)\n",
    "pop_gs = pop_x * (\n",
    "    np.array(pop_y).reshape((100_000, 1))\n",
    "    - np.array(pop_model.predict()).reshape((100_000, 1))\n",
    ")"
   ]
  },
  {
   "cell_type": "code",
   "execution_count": 9,
   "id": "80d4485e-4a98-4f4e-b355-2b0b3ae5b451",
   "metadata": {
    "execution": {
     "iopub.execute_input": "2025-09-18T15:09:36.528136Z",
     "iopub.status.busy": "2025-09-18T15:09:36.528136Z",
     "iopub.status.idle": "2025-09-18T15:09:36.532402Z",
     "shell.execute_reply": "2025-09-18T15:09:36.532402Z",
     "shell.execute_reply.started": "2025-09-18T15:09:36.528136Z"
    }
   },
   "outputs": [],
   "source": [
    "cov_params = pop_model.cov_params().iloc[0].iloc[0]\n",
    "\n",
    "inv_unit_FI = cov_params * 100_000"
   ]
  },
  {
   "cell_type": "markdown",
   "id": "f35de369",
   "metadata": {},
   "source": [
    "# Read Simulation Data Results:"
   ]
  },
  {
   "cell_type": "code",
   "execution_count": 17,
   "id": "23c91b12-0688-4c11-8225-d64dccfd9ba6",
   "metadata": {
    "execution": {
     "iopub.execute_input": "2025-09-18T15:18:51.451858Z",
     "iopub.status.busy": "2025-09-18T15:18:51.451858Z",
     "iopub.status.idle": "2025-09-18T15:18:51.455371Z",
     "shell.execute_reply": "2025-09-18T15:18:51.454865Z",
     "shell.execute_reply.started": "2025-09-18T15:18:51.451858Z"
    }
   },
   "outputs": [],
   "source": [
    "header_dir = 'sim_results'\n",
    "srs_dir = 'srs_sim_results'"
   ]
  },
  {
   "cell_type": "code",
   "execution_count": 18,
   "id": "2a6b63b7-12c9-4c98-980f-4b89132e02ad",
   "metadata": {
    "execution": {
     "iopub.execute_input": "2025-09-18T15:18:51.727941Z",
     "iopub.status.busy": "2025-09-18T15:18:51.727941Z",
     "iopub.status.idle": "2025-09-18T15:18:51.737370Z",
     "shell.execute_reply": "2025-09-18T15:18:51.737370Z",
     "shell.execute_reply.started": "2025-09-18T15:18:51.727941Z"
    }
   },
   "outputs": [],
   "source": [
    "all_files_in_dir = list_files_in_directory(header_dir, 'pickle')"
   ]
  },
  {
   "cell_type": "code",
   "execution_count": 19,
   "id": "11d72061-2d2c-418b-8424-275912fa13c3",
   "metadata": {
    "execution": {
     "iopub.execute_input": "2025-09-18T15:18:51.959936Z",
     "iopub.status.busy": "2025-09-18T15:18:51.959936Z",
     "iopub.status.idle": "2025-09-18T15:18:51.963260Z",
     "shell.execute_reply": "2025-09-18T15:18:51.963260Z",
     "shell.execute_reply.started": "2025-09-18T15:18:51.959936Z"
    }
   },
   "outputs": [],
   "source": [
    "all_sample_sizes = np.unique([temp_file.split('_')[1] for temp_file in all_files_in_dir]).astype(int)"
   ]
  },
  {
   "cell_type": "code",
   "execution_count": 20,
   "id": "86707af4-8b03-42a3-b364-efbd157d928c",
   "metadata": {
    "execution": {
     "iopub.execute_input": "2025-09-18T15:18:52.243714Z",
     "iopub.status.busy": "2025-09-18T15:18:52.243714Z",
     "iopub.status.idle": "2025-09-18T15:18:52.246687Z",
     "shell.execute_reply": "2025-09-18T15:18:52.246687Z",
     "shell.execute_reply.started": "2025-09-18T15:18:52.243714Z"
    }
   },
   "outputs": [],
   "source": [
    "all_sample_sizes.sort()"
   ]
  },
  {
   "cell_type": "code",
   "execution_count": 21,
   "id": "a6f980b2-98c1-4a80-a57f-7ab4e6d9d5fd",
   "metadata": {
    "execution": {
     "iopub.execute_input": "2025-09-18T15:18:52.432812Z",
     "iopub.status.busy": "2025-09-18T15:18:52.431811Z",
     "iopub.status.idle": "2025-09-18T15:18:52.436333Z",
     "shell.execute_reply": "2025-09-18T15:18:52.436333Z",
     "shell.execute_reply.started": "2025-09-18T15:18:52.432812Z"
    }
   },
   "outputs": [
    {
     "data": {
      "text/plain": [
       "array([    6,     7,     9,    11,    13,    16,    20,    25,    30,\n",
       "          31,    32,    33,    34,    35,    36,    37,    38,    39,\n",
       "          40,    41,    42,    43,    44,    50,    70,   100,   150,\n",
       "         200,   250,   300,   350,   400,   500,   600,   700,   800,\n",
       "         900,  1000,  1400,  2000,  3000,  5000,  7500, 10000, 15000,\n",
       "       20000])"
      ]
     },
     "execution_count": 21,
     "metadata": {},
     "output_type": "execute_result"
    }
   ],
   "source": [
    "all_sample_sizes"
   ]
  },
  {
   "cell_type": "markdown",
   "id": "6c3ed598-cfd2-42f5-ac14-ca1b59dbb025",
   "metadata": {},
   "source": [
    "Per sample size, need to extract:\n",
    "- avg mse of biased sampling scheme\n",
    "- effective sample size as implied by Meng (2018), accounting for only the linear impact"
   ]
  },
  {
   "cell_type": "code",
   "execution_count": 67,
   "id": "ebd9000f-e27f-49df-a01c-fc2f7a377d4e",
   "metadata": {
    "execution": {
     "iopub.execute_input": "2025-09-18T15:40:10.059096Z",
     "iopub.status.busy": "2025-09-18T15:40:10.059096Z",
     "iopub.status.idle": "2025-09-18T15:40:10.062601Z",
     "shell.execute_reply": "2025-09-18T15:40:10.062096Z",
     "shell.execute_reply.started": "2025-09-18T15:40:10.059096Z"
    }
   },
   "outputs": [],
   "source": [
    "all_biased_avg_mses, all_biased_avg_mses_stdev, all_linear_ess, all_linear_ess_2 = (\n",
    "    [],\n",
    "    [],\n",
    "    [],\n",
    "    [],\n",
    ")\n",
    "sims_per_ss = {}"
   ]
  },
  {
   "cell_type": "code",
   "execution_count": 68,
   "id": "b684b4b8-4a00-476f-a0f7-237f93ecc633",
   "metadata": {
    "execution": {
     "iopub.execute_input": "2025-09-18T15:40:10.280889Z",
     "iopub.status.busy": "2025-09-18T15:40:10.280889Z",
     "iopub.status.idle": "2025-09-18T15:40:14.527023Z",
     "shell.execute_reply": "2025-09-18T15:40:14.527023Z",
     "shell.execute_reply.started": "2025-09-18T15:40:10.280889Z"
    }
   },
   "outputs": [],
   "source": [
    "for temp_sample_size in all_sample_sizes:\n",
    "    # import data for that sample size:\n",
    "    ss_data = []\n",
    "    for temp_filename in all_files_in_dir:\n",
    "        if temp_filename.split(\"_\")[1] == str(temp_sample_size):\n",
    "            ss_data.append(read_obj_pickle(header_dir + \"/\" + temp_filename))\n",
    "    ss_data = pd.concat(ss_data).reset_index(drop=True)\n",
    "\n",
    "    # compute the necessary statistics:\n",
    "    biased_sampler = compute_ESS_Meng(ss_data)\n",
    "\n",
    "    biased_avg_mse = (\n",
    "        biased_sampler.groupby(by=\"sample_size\")[\"mse_biased\"]\n",
    "        .mean()\n",
    "        .reset_index()\n",
    "        .rename({\"mse_biased\": \"avg_mse\"}, axis=1)\n",
    "    )\n",
    "\n",
    "    biased_avg_mse_std = (\n",
    "        (\n",
    "            biased_sampler.groupby(by=\"sample_size\")[\"mse_biased\"].std()\n",
    "            / np.sqrt(len(biased_sampler))\n",
    "        )\n",
    "        .reset_index()\n",
    "        .rename({\"mse_biased\": \"avg_mse_std\"}, axis=1)\n",
    "    )\n",
    "\n",
    "    linear_ess = biased_sampler.groupby(by=\"sample_size\")[\"neff_biased\"].mean()\n",
    "    \n",
    "    sims_per_ss[temp_sample_size] = len(biased_sampler)\n",
    "    all_biased_avg_mses.append(biased_avg_mse)\n",
    "    all_biased_avg_mses_stdev.append(biased_avg_mse_std)\n",
    "    all_linear_ess.append(linear_ess)"
   ]
  },
  {
   "cell_type": "code",
   "execution_count": 66,
   "id": "badd6de2-d0fe-4ada-9cf5-97e01d96841e",
   "metadata": {
    "execution": {
     "iopub.execute_input": "2025-09-18T15:37:50.181585Z",
     "iopub.status.busy": "2025-09-18T15:37:50.181585Z",
     "iopub.status.idle": "2025-09-18T15:37:50.193116Z",
     "shell.execute_reply": "2025-09-18T15:37:50.193116Z",
     "shell.execute_reply.started": "2025-09-18T15:37:50.181585Z"
    }
   },
   "outputs": [
    {
     "data": {
      "application/vnd.plotly.v1+json": {
       "config": {
        "plotlyServerURL": "https://plot.ly"
       },
       "data": [
        {
         "legendgroup": "avg_mse",
         "line": {
          "color": "#636EFA"
         },
         "mode": "lines",
         "name": "avg_mse",
         "showlegend": true,
         "type": "scatter",
         "visible": true,
         "x": [
          6,
          7,
          9,
          11,
          13,
          16,
          20,
          25,
          30,
          31,
          32,
          33,
          34,
          35,
          36,
          37,
          38,
          39,
          40,
          41
         ],
         "y": [
          2.199371935644285,
          2.2107487130282797,
          2.454692064087328,
          2.610598432632799,
          2.8084961202735648,
          2.721559396246422,
          2.430814998060178,
          2.065339383650413,
          1.6492742438142356,
          1.5662067721806465,
          1.7454239001261982,
          1.472309191359274,
          1.7567449052343023,
          1.319837790249002,
          1.2101715858405362,
          1.235695462392038,
          1.1895221222821628,
          1.1456949820981899,
          1.113356931747576,
          1.048197864686482
         ]
        },
        {
         "fill": "toself",
         "fillcolor": "#636EFA",
         "hoverinfo": "skip",
         "legendgroup": "avg_mse",
         "line": {
          "color": "rgba(255,255,255,0)"
         },
         "name": "avg_mse CI",
         "opacity": 0.2,
         "showlegend": false,
         "type": "scatter",
         "visible": true,
         "x": [
          6,
          7,
          9,
          11,
          13,
          16,
          20,
          25,
          30,
          31,
          32,
          33,
          34,
          35,
          36,
          37,
          38,
          39,
          40,
          41,
          41,
          40,
          39,
          38,
          37,
          36,
          35,
          34,
          33,
          32,
          31,
          30,
          25,
          20,
          16,
          13,
          11,
          9,
          7,
          6
         ],
         "y": [
          1.965338230580738,
          2.1452973662077426,
          2.345329045685205,
          2.537773787954749,
          2.5834698932954177,
          2.6544004500743723,
          2.367219982172842,
          2.0023904735856686,
          1.6033002429493726,
          1.5275664579278967,
          1.6579902488747176,
          1.435243235956127,
          1.618046800189132,
          1.2848977280513887,
          1.1745779829520153,
          1.194552443801137,
          1.1288040782687874,
          1.1118508952500927,
          1.083243138583404,
          1.0207869238920795,
          1.0756088054808846,
          1.143470724911748,
          1.179539068946287,
          1.2502401662955382,
          1.276838480982939,
          1.245765188729057,
          1.3547778524466152,
          1.8954430102794726,
          1.5093751467624212,
          1.8328575513776788,
          1.6048470864333964,
          1.6952482446790986,
          2.1282882937151575,
          2.4944100139475136,
          2.7887183424184716,
          3.033522347251712,
          2.6834230773108487,
          2.564055082489451,
          2.276200059848817,
          2.4334056407078317
         ]
        }
       ],
       "layout": {
        "template": {
         "data": {
          "bar": [
           {
            "error_x": {
             "color": "#2a3f5f"
            },
            "error_y": {
             "color": "#2a3f5f"
            },
            "marker": {
             "line": {
              "color": "#E5ECF6",
              "width": 0.5
             },
             "pattern": {
              "fillmode": "overlay",
              "size": 10,
              "solidity": 0.2
             }
            },
            "type": "bar"
           }
          ],
          "barpolar": [
           {
            "marker": {
             "line": {
              "color": "#E5ECF6",
              "width": 0.5
             },
             "pattern": {
              "fillmode": "overlay",
              "size": 10,
              "solidity": 0.2
             }
            },
            "type": "barpolar"
           }
          ],
          "carpet": [
           {
            "aaxis": {
             "endlinecolor": "#2a3f5f",
             "gridcolor": "white",
             "linecolor": "white",
             "minorgridcolor": "white",
             "startlinecolor": "#2a3f5f"
            },
            "baxis": {
             "endlinecolor": "#2a3f5f",
             "gridcolor": "white",
             "linecolor": "white",
             "minorgridcolor": "white",
             "startlinecolor": "#2a3f5f"
            },
            "type": "carpet"
           }
          ],
          "choropleth": [
           {
            "colorbar": {
             "outlinewidth": 0,
             "ticks": ""
            },
            "type": "choropleth"
           }
          ],
          "contour": [
           {
            "colorbar": {
             "outlinewidth": 0,
             "ticks": ""
            },
            "colorscale": [
             [
              0,
              "#0d0887"
             ],
             [
              0.1111111111111111,
              "#46039f"
             ],
             [
              0.2222222222222222,
              "#7201a8"
             ],
             [
              0.3333333333333333,
              "#9c179e"
             ],
             [
              0.4444444444444444,
              "#bd3786"
             ],
             [
              0.5555555555555556,
              "#d8576b"
             ],
             [
              0.6666666666666666,
              "#ed7953"
             ],
             [
              0.7777777777777778,
              "#fb9f3a"
             ],
             [
              0.8888888888888888,
              "#fdca26"
             ],
             [
              1,
              "#f0f921"
             ]
            ],
            "type": "contour"
           }
          ],
          "contourcarpet": [
           {
            "colorbar": {
             "outlinewidth": 0,
             "ticks": ""
            },
            "type": "contourcarpet"
           }
          ],
          "heatmap": [
           {
            "colorbar": {
             "outlinewidth": 0,
             "ticks": ""
            },
            "colorscale": [
             [
              0,
              "#0d0887"
             ],
             [
              0.1111111111111111,
              "#46039f"
             ],
             [
              0.2222222222222222,
              "#7201a8"
             ],
             [
              0.3333333333333333,
              "#9c179e"
             ],
             [
              0.4444444444444444,
              "#bd3786"
             ],
             [
              0.5555555555555556,
              "#d8576b"
             ],
             [
              0.6666666666666666,
              "#ed7953"
             ],
             [
              0.7777777777777778,
              "#fb9f3a"
             ],
             [
              0.8888888888888888,
              "#fdca26"
             ],
             [
              1,
              "#f0f921"
             ]
            ],
            "type": "heatmap"
           }
          ],
          "heatmapgl": [
           {
            "colorbar": {
             "outlinewidth": 0,
             "ticks": ""
            },
            "colorscale": [
             [
              0,
              "#0d0887"
             ],
             [
              0.1111111111111111,
              "#46039f"
             ],
             [
              0.2222222222222222,
              "#7201a8"
             ],
             [
              0.3333333333333333,
              "#9c179e"
             ],
             [
              0.4444444444444444,
              "#bd3786"
             ],
             [
              0.5555555555555556,
              "#d8576b"
             ],
             [
              0.6666666666666666,
              "#ed7953"
             ],
             [
              0.7777777777777778,
              "#fb9f3a"
             ],
             [
              0.8888888888888888,
              "#fdca26"
             ],
             [
              1,
              "#f0f921"
             ]
            ],
            "type": "heatmapgl"
           }
          ],
          "histogram": [
           {
            "marker": {
             "pattern": {
              "fillmode": "overlay",
              "size": 10,
              "solidity": 0.2
             }
            },
            "type": "histogram"
           }
          ],
          "histogram2d": [
           {
            "colorbar": {
             "outlinewidth": 0,
             "ticks": ""
            },
            "colorscale": [
             [
              0,
              "#0d0887"
             ],
             [
              0.1111111111111111,
              "#46039f"
             ],
             [
              0.2222222222222222,
              "#7201a8"
             ],
             [
              0.3333333333333333,
              "#9c179e"
             ],
             [
              0.4444444444444444,
              "#bd3786"
             ],
             [
              0.5555555555555556,
              "#d8576b"
             ],
             [
              0.6666666666666666,
              "#ed7953"
             ],
             [
              0.7777777777777778,
              "#fb9f3a"
             ],
             [
              0.8888888888888888,
              "#fdca26"
             ],
             [
              1,
              "#f0f921"
             ]
            ],
            "type": "histogram2d"
           }
          ],
          "histogram2dcontour": [
           {
            "colorbar": {
             "outlinewidth": 0,
             "ticks": ""
            },
            "colorscale": [
             [
              0,
              "#0d0887"
             ],
             [
              0.1111111111111111,
              "#46039f"
             ],
             [
              0.2222222222222222,
              "#7201a8"
             ],
             [
              0.3333333333333333,
              "#9c179e"
             ],
             [
              0.4444444444444444,
              "#bd3786"
             ],
             [
              0.5555555555555556,
              "#d8576b"
             ],
             [
              0.6666666666666666,
              "#ed7953"
             ],
             [
              0.7777777777777778,
              "#fb9f3a"
             ],
             [
              0.8888888888888888,
              "#fdca26"
             ],
             [
              1,
              "#f0f921"
             ]
            ],
            "type": "histogram2dcontour"
           }
          ],
          "mesh3d": [
           {
            "colorbar": {
             "outlinewidth": 0,
             "ticks": ""
            },
            "type": "mesh3d"
           }
          ],
          "parcoords": [
           {
            "line": {
             "colorbar": {
              "outlinewidth": 0,
              "ticks": ""
             }
            },
            "type": "parcoords"
           }
          ],
          "pie": [
           {
            "automargin": true,
            "type": "pie"
           }
          ],
          "scatter": [
           {
            "fillpattern": {
             "fillmode": "overlay",
             "size": 10,
             "solidity": 0.2
            },
            "type": "scatter"
           }
          ],
          "scatter3d": [
           {
            "line": {
             "colorbar": {
              "outlinewidth": 0,
              "ticks": ""
             }
            },
            "marker": {
             "colorbar": {
              "outlinewidth": 0,
              "ticks": ""
             }
            },
            "type": "scatter3d"
           }
          ],
          "scattercarpet": [
           {
            "marker": {
             "colorbar": {
              "outlinewidth": 0,
              "ticks": ""
             }
            },
            "type": "scattercarpet"
           }
          ],
          "scattergeo": [
           {
            "marker": {
             "colorbar": {
              "outlinewidth": 0,
              "ticks": ""
             }
            },
            "type": "scattergeo"
           }
          ],
          "scattergl": [
           {
            "marker": {
             "colorbar": {
              "outlinewidth": 0,
              "ticks": ""
             }
            },
            "type": "scattergl"
           }
          ],
          "scattermapbox": [
           {
            "marker": {
             "colorbar": {
              "outlinewidth": 0,
              "ticks": ""
             }
            },
            "type": "scattermapbox"
           }
          ],
          "scatterpolar": [
           {
            "marker": {
             "colorbar": {
              "outlinewidth": 0,
              "ticks": ""
             }
            },
            "type": "scatterpolar"
           }
          ],
          "scatterpolargl": [
           {
            "marker": {
             "colorbar": {
              "outlinewidth": 0,
              "ticks": ""
             }
            },
            "type": "scatterpolargl"
           }
          ],
          "scatterternary": [
           {
            "marker": {
             "colorbar": {
              "outlinewidth": 0,
              "ticks": ""
             }
            },
            "type": "scatterternary"
           }
          ],
          "surface": [
           {
            "colorbar": {
             "outlinewidth": 0,
             "ticks": ""
            },
            "colorscale": [
             [
              0,
              "#0d0887"
             ],
             [
              0.1111111111111111,
              "#46039f"
             ],
             [
              0.2222222222222222,
              "#7201a8"
             ],
             [
              0.3333333333333333,
              "#9c179e"
             ],
             [
              0.4444444444444444,
              "#bd3786"
             ],
             [
              0.5555555555555556,
              "#d8576b"
             ],
             [
              0.6666666666666666,
              "#ed7953"
             ],
             [
              0.7777777777777778,
              "#fb9f3a"
             ],
             [
              0.8888888888888888,
              "#fdca26"
             ],
             [
              1,
              "#f0f921"
             ]
            ],
            "type": "surface"
           }
          ],
          "table": [
           {
            "cells": {
             "fill": {
              "color": "#EBF0F8"
             },
             "line": {
              "color": "white"
             }
            },
            "header": {
             "fill": {
              "color": "#C8D4E3"
             },
             "line": {
              "color": "white"
             }
            },
            "type": "table"
           }
          ]
         },
         "layout": {
          "annotationdefaults": {
           "arrowcolor": "#2a3f5f",
           "arrowhead": 0,
           "arrowwidth": 1
          },
          "autotypenumbers": "strict",
          "coloraxis": {
           "colorbar": {
            "outlinewidth": 0,
            "ticks": ""
           }
          },
          "colorscale": {
           "diverging": [
            [
             0,
             "#8e0152"
            ],
            [
             0.1,
             "#c51b7d"
            ],
            [
             0.2,
             "#de77ae"
            ],
            [
             0.3,
             "#f1b6da"
            ],
            [
             0.4,
             "#fde0ef"
            ],
            [
             0.5,
             "#f7f7f7"
            ],
            [
             0.6,
             "#e6f5d0"
            ],
            [
             0.7,
             "#b8e186"
            ],
            [
             0.8,
             "#7fbc41"
            ],
            [
             0.9,
             "#4d9221"
            ],
            [
             1,
             "#276419"
            ]
           ],
           "sequential": [
            [
             0,
             "#0d0887"
            ],
            [
             0.1111111111111111,
             "#46039f"
            ],
            [
             0.2222222222222222,
             "#7201a8"
            ],
            [
             0.3333333333333333,
             "#9c179e"
            ],
            [
             0.4444444444444444,
             "#bd3786"
            ],
            [
             0.5555555555555556,
             "#d8576b"
            ],
            [
             0.6666666666666666,
             "#ed7953"
            ],
            [
             0.7777777777777778,
             "#fb9f3a"
            ],
            [
             0.8888888888888888,
             "#fdca26"
            ],
            [
             1,
             "#f0f921"
            ]
           ],
           "sequentialminus": [
            [
             0,
             "#0d0887"
            ],
            [
             0.1111111111111111,
             "#46039f"
            ],
            [
             0.2222222222222222,
             "#7201a8"
            ],
            [
             0.3333333333333333,
             "#9c179e"
            ],
            [
             0.4444444444444444,
             "#bd3786"
            ],
            [
             0.5555555555555556,
             "#d8576b"
            ],
            [
             0.6666666666666666,
             "#ed7953"
            ],
            [
             0.7777777777777778,
             "#fb9f3a"
            ],
            [
             0.8888888888888888,
             "#fdca26"
            ],
            [
             1,
             "#f0f921"
            ]
           ]
          },
          "colorway": [
           "#636efa",
           "#EF553B",
           "#00cc96",
           "#ab63fa",
           "#FFA15A",
           "#19d3f3",
           "#FF6692",
           "#B6E880",
           "#FF97FF",
           "#FECB52"
          ],
          "font": {
           "color": "#2a3f5f"
          },
          "geo": {
           "bgcolor": "white",
           "lakecolor": "white",
           "landcolor": "#E5ECF6",
           "showlakes": true,
           "showland": true,
           "subunitcolor": "white"
          },
          "hoverlabel": {
           "align": "left"
          },
          "hovermode": "closest",
          "mapbox": {
           "style": "light"
          },
          "paper_bgcolor": "white",
          "plot_bgcolor": "#E5ECF6",
          "polar": {
           "angularaxis": {
            "gridcolor": "white",
            "linecolor": "white",
            "ticks": ""
           },
           "bgcolor": "#E5ECF6",
           "radialaxis": {
            "gridcolor": "white",
            "linecolor": "white",
            "ticks": ""
           }
          },
          "scene": {
           "xaxis": {
            "backgroundcolor": "#E5ECF6",
            "gridcolor": "white",
            "gridwidth": 2,
            "linecolor": "white",
            "showbackground": true,
            "ticks": "",
            "zerolinecolor": "white"
           },
           "yaxis": {
            "backgroundcolor": "#E5ECF6",
            "gridcolor": "white",
            "gridwidth": 2,
            "linecolor": "white",
            "showbackground": true,
            "ticks": "",
            "zerolinecolor": "white"
           },
           "zaxis": {
            "backgroundcolor": "#E5ECF6",
            "gridcolor": "white",
            "gridwidth": 2,
            "linecolor": "white",
            "showbackground": true,
            "ticks": "",
            "zerolinecolor": "white"
           }
          },
          "shapedefaults": {
           "line": {
            "color": "#2a3f5f"
           }
          },
          "ternary": {
           "aaxis": {
            "gridcolor": "white",
            "linecolor": "white",
            "ticks": ""
           },
           "baxis": {
            "gridcolor": "white",
            "linecolor": "white",
            "ticks": ""
           },
           "bgcolor": "#E5ECF6",
           "caxis": {
            "gridcolor": "white",
            "linecolor": "white",
            "ticks": ""
           }
          },
          "title": {
           "x": 0.05
          },
          "xaxis": {
           "automargin": true,
           "gridcolor": "white",
           "linecolor": "white",
           "ticks": "",
           "title": {
            "standoff": 15
           },
           "zerolinecolor": "white",
           "zerolinewidth": 2
          },
          "yaxis": {
           "automargin": true,
           "gridcolor": "white",
           "linecolor": "white",
           "ticks": "",
           "title": {
            "standoff": 15
           },
           "zerolinecolor": "white",
           "zerolinewidth": 2
          }
         }
        },
        "title": {
         "text": ""
        },
        "xaxis": {
         "title": {
          "text": ""
         }
        },
        "yaxis": {
         "title": {
          "text": ""
         }
        }
       }
      },
      "image/png": "[encoded data removed]",
      "text/html": [
       "<div>                            <div id=\"a3e1bd21-f962-4a2d-a745-e5b935d76e33\" class=\"plotly-graph-div\" style=\"height:525px; width:100%;\"></div>            <script type=\"text/javascript\">                require([\"plotly\"], function(Plotly) {                    window.PLOTLYENV=window.PLOTLYENV || {};                                    if (document.getElementById(\"a3e1bd21-f962-4a2d-a745-e5b935d76e33\")) {                    Plotly.newPlot(                        \"a3e1bd21-f962-4a2d-a745-e5b935d76e33\",                        [{\"legendgroup\":\"avg_mse\",\"line\":{\"color\":\"#636EFA\"},\"mode\":\"lines\",\"name\":\"avg_mse\",\"showlegend\":true,\"visible\":true,\"x\":[6,7,9,11,13,16,20,25,30,31,32,33,34,35,36,37,38,39,40,41],\"y\":[2.199371935644285,2.2107487130282797,2.454692064087328,2.610598432632799,2.8084961202735648,2.721559396246422,2.430814998060178,2.065339383650413,1.6492742438142356,1.5662067721806465,1.7454239001261982,1.472309191359274,1.7567449052343023,1.319837790249002,1.2101715858405362,1.235695462392038,1.1895221222821628,1.1456949820981899,1.113356931747576,1.048197864686482],\"type\":\"scatter\"},{\"fill\":\"toself\",\"fillcolor\":\"#636EFA\",\"hoverinfo\":\"skip\",\"legendgroup\":\"avg_mse\",\"line\":{\"color\":\"rgba(255,255,255,0)\"},\"name\":\"avg_mse CI\",\"opacity\":0.2,\"showlegend\":false,\"visible\":true,\"x\":[6,7,9,11,13,16,20,25,30,31,32,33,34,35,36,37,38,39,40,41,41,40,39,38,37,36,35,34,33,32,31,30,25,20,16,13,11,9,7,6],\"y\":[1.965338230580738,2.1452973662077426,2.345329045685205,2.537773787954749,2.5834698932954177,2.6544004500743723,2.367219982172842,2.0023904735856686,1.6033002429493726,1.5275664579278967,1.6579902488747176,1.435243235956127,1.618046800189132,1.2848977280513887,1.1745779829520153,1.194552443801137,1.1288040782687874,1.1118508952500927,1.083243138583404,1.0207869238920795,1.0756088054808846,1.143470724911748,1.179539068946287,1.2502401662955382,1.276838480982939,1.245765188729057,1.3547778524466152,1.8954430102794726,1.5093751467624212,1.8328575513776788,1.6048470864333964,1.6952482446790986,2.1282882937151575,2.4944100139475136,2.7887183424184716,3.033522347251712,2.6834230773108487,2.564055082489451,2.276200059848817,2.4334056407078317],\"type\":\"scatter\"}],                        {\"template\":{\"data\":{\"histogram2dcontour\":[{\"type\":\"histogram2dcontour\",\"colorbar\":{\"outlinewidth\":0,\"ticks\":\"\"},\"colorscale\":[[0.0,\"#0d0887\"],[0.1111111111111111,\"#46039f\"],[0.2222222222222222,\"#7201a8\"],[0.3333333333333333,\"#9c179e\"],[0.4444444444444444,\"#bd3786\"],[0.5555555555555556,\"#d8576b\"],[0.6666666666666666,\"#ed7953\"],[0.7777777777777778,\"#fb9f3a\"],[0.8888888888888888,\"#fdca26\"],[1.0,\"#f0f921\"]]}],\"choropleth\":[{\"type\":\"choropleth\",\"colorbar\":{\"outlinewidth\":0,\"ticks\":\"\"}}],\"histogram2d\":[{\"type\":\"histogram2d\",\"colorbar\":{\"outlinewidth\":0,\"ticks\":\"\"},\"colorscale\":[[0.0,\"#0d0887\"],[0.1111111111111111,\"#46039f\"],[0.2222222222222222,\"#7201a8\"],[0.3333333333333333,\"#9c179e\"],[0.4444444444444444,\"#bd3786\"],[0.5555555555555556,\"#d8576b\"],[0.6666666666666666,\"#ed7953\"],[0.7777777777777778,\"#fb9f3a\"],[0.8888888888888888,\"#fdca26\"],[1.0,\"#f0f921\"]]}],\"heatmap\":[{\"type\":\"heatmap\",\"colorbar\":{\"outlinewidth\":0,\"ticks\":\"\"},\"colorscale\":[[0.0,\"#0d0887\"],[0.1111111111111111,\"#46039f\"],[0.2222222222222222,\"#7201a8\"],[0.3333333333333333,\"#9c179e\"],[0.4444444444444444,\"#bd3786\"],[0.5555555555555556,\"#d8576b\"],[0.6666666666666666,\"#ed7953\"],[0.7777777777777778,\"#fb9f3a\"],[0.8888888888888888,\"#fdca26\"],[1.0,\"#f0f921\"]]}],\"heatmapgl\":[{\"type\":\"heatmapgl\",\"colorbar\":{\"outlinewidth\":0,\"ticks\":\"\"},\"colorscale\":[[0.0,\"#0d0887\"],[0.1111111111111111,\"#46039f\"],[0.2222222222222222,\"#7201a8\"],[0.3333333333333333,\"#9c179e\"],[0.4444444444444444,\"#bd3786\"],[0.5555555555555556,\"#d8576b\"],[0.6666666666666666,\"#ed7953\"],[0.7777777777777778,\"#fb9f3a\"],[0.8888888888888888,\"#fdca26\"],[1.0,\"#f0f921\"]]}],\"contourcarpet\":[{\"type\":\"contourcarpet\",\"colorbar\":{\"outlinewidth\":0,\"ticks\":\"\"}}],\"contour\":[{\"type\":\"contour\",\"colorbar\":{\"outlinewidth\":0,\"ticks\":\"\"},\"colorscale\":[[0.0,\"#0d0887\"],[0.1111111111111111,\"#46039f\"],[0.2222222222222222,\"#7201a8\"],[0.3333333333333333,\"#9c179e\"],[0.4444444444444444,\"#bd3786\"],[0.5555555555555556,\"#d8576b\"],[0.6666666666666666,\"#ed7953\"],[0.7777777777777778,\"#fb9f3a\"],[0.8888888888888888,\"#fdca26\"],[1.0,\"#f0f921\"]]}],\"surface\":[{\"type\":\"surface\",\"colorbar\":{\"outlinewidth\":0,\"ticks\":\"\"},\"colorscale\":[[0.0,\"#0d0887\"],[0.1111111111111111,\"#46039f\"],[0.2222222222222222,\"#7201a8\"],[0.3333333333333333,\"#9c179e\"],[0.4444444444444444,\"#bd3786\"],[0.5555555555555556,\"#d8576b\"],[0.6666666666666666,\"#ed7953\"],[0.7777777777777778,\"#fb9f3a\"],[0.8888888888888888,\"#fdca26\"],[1.0,\"#f0f921\"]]}],\"mesh3d\":[{\"type\":\"mesh3d\",\"colorbar\":{\"outlinewidth\":0,\"ticks\":\"\"}}],\"scatter\":[{\"fillpattern\":{\"fillmode\":\"overlay\",\"size\":10,\"solidity\":0.2},\"type\":\"scatter\"}],\"parcoords\":[{\"type\":\"parcoords\",\"line\":{\"colorbar\":{\"outlinewidth\":0,\"ticks\":\"\"}}}],\"scatterpolargl\":[{\"type\":\"scatterpolargl\",\"marker\":{\"colorbar\":{\"outlinewidth\":0,\"ticks\":\"\"}}}],\"bar\":[{\"error_x\":{\"color\":\"#2a3f5f\"},\"error_y\":{\"color\":\"#2a3f5f\"},\"marker\":{\"line\":{\"color\":\"#E5ECF6\",\"width\":0.5},\"pattern\":{\"fillmode\":\"overlay\",\"size\":10,\"solidity\":0.2}},\"type\":\"bar\"}],\"scattergeo\":[{\"type\":\"scattergeo\",\"marker\":{\"colorbar\":{\"outlinewidth\":0,\"ticks\":\"\"}}}],\"scatterpolar\":[{\"type\":\"scatterpolar\",\"marker\":{\"colorbar\":{\"outlinewidth\":0,\"ticks\":\"\"}}}],\"histogram\":[{\"marker\":{\"pattern\":{\"fillmode\":\"overlay\",\"size\":10,\"solidity\":0.2}},\"type\":\"histogram\"}],\"scattergl\":[{\"type\":\"scattergl\",\"marker\":{\"colorbar\":{\"outlinewidth\":0,\"ticks\":\"\"}}}],\"scatter3d\":[{\"type\":\"scatter3d\",\"line\":{\"colorbar\":{\"outlinewidth\":0,\"ticks\":\"\"}},\"marker\":{\"colorbar\":{\"outlinewidth\":0,\"ticks\":\"\"}}}],\"scattermapbox\":[{\"type\":\"scattermapbox\",\"marker\":{\"colorbar\":{\"outlinewidth\":0,\"ticks\":\"\"}}}],\"scatterternary\":[{\"type\":\"scatterternary\",\"marker\":{\"colorbar\":{\"outlinewidth\":0,\"ticks\":\"\"}}}],\"scattercarpet\":[{\"type\":\"scattercarpet\",\"marker\":{\"colorbar\":{\"outlinewidth\":0,\"ticks\":\"\"}}}],\"carpet\":[{\"aaxis\":{\"endlinecolor\":\"#2a3f5f\",\"gridcolor\":\"white\",\"linecolor\":\"white\",\"minorgridcolor\":\"white\",\"startlinecolor\":\"#2a3f5f\"},\"baxis\":{\"endlinecolor\":\"#2a3f5f\",\"gridcolor\":\"white\",\"linecolor\":\"white\",\"minorgridcolor\":\"white\",\"startlinecolor\":\"#2a3f5f\"},\"type\":\"carpet\"}],\"table\":[{\"cells\":{\"fill\":{\"color\":\"#EBF0F8\"},\"line\":{\"color\":\"white\"}},\"header\":{\"fill\":{\"color\":\"#C8D4E3\"},\"line\":{\"color\":\"white\"}},\"type\":\"table\"}],\"barpolar\":[{\"marker\":{\"line\":{\"color\":\"#E5ECF6\",\"width\":0.5},\"pattern\":{\"fillmode\":\"overlay\",\"size\":10,\"solidity\":0.2}},\"type\":\"barpolar\"}],\"pie\":[{\"automargin\":true,\"type\":\"pie\"}]},\"layout\":{\"autotypenumbers\":\"strict\",\"colorway\":[\"#636efa\",\"#EF553B\",\"#00cc96\",\"#ab63fa\",\"#FFA15A\",\"#19d3f3\",\"#FF6692\",\"#B6E880\",\"#FF97FF\",\"#FECB52\"],\"font\":{\"color\":\"#2a3f5f\"},\"hovermode\":\"closest\",\"hoverlabel\":{\"align\":\"left\"},\"paper_bgcolor\":\"white\",\"plot_bgcolor\":\"#E5ECF6\",\"polar\":{\"bgcolor\":\"#E5ECF6\",\"angularaxis\":{\"gridcolor\":\"white\",\"linecolor\":\"white\",\"ticks\":\"\"},\"radialaxis\":{\"gridcolor\":\"white\",\"linecolor\":\"white\",\"ticks\":\"\"}},\"ternary\":{\"bgcolor\":\"#E5ECF6\",\"aaxis\":{\"gridcolor\":\"white\",\"linecolor\":\"white\",\"ticks\":\"\"},\"baxis\":{\"gridcolor\":\"white\",\"linecolor\":\"white\",\"ticks\":\"\"},\"caxis\":{\"gridcolor\":\"white\",\"linecolor\":\"white\",\"ticks\":\"\"}},\"coloraxis\":{\"colorbar\":{\"outlinewidth\":0,\"ticks\":\"\"}},\"colorscale\":{\"sequential\":[[0.0,\"#0d0887\"],[0.1111111111111111,\"#46039f\"],[0.2222222222222222,\"#7201a8\"],[0.3333333333333333,\"#9c179e\"],[0.4444444444444444,\"#bd3786\"],[0.5555555555555556,\"#d8576b\"],[0.6666666666666666,\"#ed7953\"],[0.7777777777777778,\"#fb9f3a\"],[0.8888888888888888,\"#fdca26\"],[1.0,\"#f0f921\"]],\"sequentialminus\":[[0.0,\"#0d0887\"],[0.1111111111111111,\"#46039f\"],[0.2222222222222222,\"#7201a8\"],[0.3333333333333333,\"#9c179e\"],[0.4444444444444444,\"#bd3786\"],[0.5555555555555556,\"#d8576b\"],[0.6666666666666666,\"#ed7953\"],[0.7777777777777778,\"#fb9f3a\"],[0.8888888888888888,\"#fdca26\"],[1.0,\"#f0f921\"]],\"diverging\":[[0,\"#8e0152\"],[0.1,\"#c51b7d\"],[0.2,\"#de77ae\"],[0.3,\"#f1b6da\"],[0.4,\"#fde0ef\"],[0.5,\"#f7f7f7\"],[0.6,\"#e6f5d0\"],[0.7,\"#b8e186\"],[0.8,\"#7fbc41\"],[0.9,\"#4d9221\"],[1,\"#276419\"]]},\"xaxis\":{\"gridcolor\":\"white\",\"linecolor\":\"white\",\"ticks\":\"\",\"title\":{\"standoff\":15},\"zerolinecolor\":\"white\",\"automargin\":true,\"zerolinewidth\":2},\"yaxis\":{\"gridcolor\":\"white\",\"linecolor\":\"white\",\"ticks\":\"\",\"title\":{\"standoff\":15},\"zerolinecolor\":\"white\",\"automargin\":true,\"zerolinewidth\":2},\"scene\":{\"xaxis\":{\"backgroundcolor\":\"#E5ECF6\",\"gridcolor\":\"white\",\"linecolor\":\"white\",\"showbackground\":true,\"ticks\":\"\",\"zerolinecolor\":\"white\",\"gridwidth\":2},\"yaxis\":{\"backgroundcolor\":\"#E5ECF6\",\"gridcolor\":\"white\",\"linecolor\":\"white\",\"showbackground\":true,\"ticks\":\"\",\"zerolinecolor\":\"white\",\"gridwidth\":2},\"zaxis\":{\"backgroundcolor\":\"#E5ECF6\",\"gridcolor\":\"white\",\"linecolor\":\"white\",\"showbackground\":true,\"ticks\":\"\",\"zerolinecolor\":\"white\",\"gridwidth\":2}},\"shapedefaults\":{\"line\":{\"color\":\"#2a3f5f\"}},\"annotationdefaults\":{\"arrowcolor\":\"#2a3f5f\",\"arrowhead\":0,\"arrowwidth\":1},\"geo\":{\"bgcolor\":\"white\",\"landcolor\":\"#E5ECF6\",\"subunitcolor\":\"white\",\"showland\":true,\"showlakes\":true,\"lakecolor\":\"white\"},\"title\":{\"x\":0.05},\"mapbox\":{\"style\":\"light\"}}},\"title\":{\"text\":\"\"},\"xaxis\":{\"title\":{\"text\":\"\"}},\"yaxis\":{\"title\":{\"text\":\"\"}}},                        {\"responsive\": true}                    ).then(function(){\n",
       "                            \n",
       "var gd = document.getElementById('a3e1bd21-f962-4a2d-a745-e5b935d76e33');\n",
       "var x = new MutationObserver(function (mutations, observer) {{\n",
       "        var display = window.getComputedStyle(gd).display;\n",
       "        if (!display || display === 'none') {{\n",
       "            console.log([gd, 'removed!']);\n",
       "            Plotly.purge(gd);\n",
       "            observer.disconnect();\n",
       "        }}\n",
       "}});\n",
       "\n",
       "// Listen for the removal of the full notebook cells\n",
       "var notebookContainer = gd.closest('#notebook-container');\n",
       "if (notebookContainer) {{\n",
       "    x.observe(notebookContainer, {childList: true});\n",
       "}}\n",
       "\n",
       "// Listen for the clearing of the current output cell\n",
       "var outputEl = gd.closest('.output');\n",
       "if (outputEl) {{\n",
       "    x.observe(outputEl, {childList: true});\n",
       "}}\n",
       "\n",
       "                        })                };                });            </script>        </div>"
      ]
     },
     "metadata": {},
     "output_type": "display_data"
    }
   ],
   "source": [
    "# graphically check if simulated enough, via checking if the means have tight enough CIs\n",
    "first_n_points = 20\n",
    "_ = plot_mean_with_ci(\n",
    "    pd.concat(all_biased_avg_mses).set_index('sample_size')[:first_n_points],\n",
    "    pd.concat(all_biased_avg_mses_stdev).set_index('sample_size').rename(\n",
    "        {\"avg_mse_std\": \"avg_mse\"}, axis=1\n",
    "    )[:first_n_points],\n",
    ")"
   ]
  },
  {
   "cell_type": "code",
   "execution_count": 71,
   "id": "9297e0b7-eebe-449b-ab0a-95930d28e957",
   "metadata": {
    "execution": {
     "iopub.execute_input": "2025-09-18T15:40:28.085384Z",
     "iopub.status.busy": "2025-09-18T15:40:28.085384Z",
     "iopub.status.idle": "2025-09-18T15:40:28.089249Z",
     "shell.execute_reply": "2025-09-18T15:40:28.089249Z",
     "shell.execute_reply.started": "2025-09-18T15:40:28.085384Z"
    }
   },
   "outputs": [
    {
     "data": {
      "text/plain": [
       "325000"
      ]
     },
     "execution_count": 71,
     "metadata": {},
     "output_type": "execute_result"
    }
   ],
   "source": [
    "sims_per_ss[13]"
   ]
  },
  {
   "cell_type": "code",
   "execution_count": 72,
   "id": "13f29bfa-2ac1-48a6-a317-7ed17ccc8ff4",
   "metadata": {
    "execution": {
     "iopub.execute_input": "2025-09-18T15:40:31.323763Z",
     "iopub.status.busy": "2025-09-18T15:40:31.322763Z",
     "iopub.status.idle": "2025-09-18T15:40:31.326025Z",
     "shell.execute_reply": "2025-09-18T15:40:31.326025Z",
     "shell.execute_reply.started": "2025-09-18T15:40:31.323763Z"
    }
   },
   "outputs": [
    {
     "data": {
      "text/plain": [
       "325000"
      ]
     },
     "execution_count": 72,
     "metadata": {},
     "output_type": "execute_result"
    }
   ],
   "source": [
    "sims_per_ss[9]"
   ]
  },
  {
   "cell_type": "code",
   "execution_count": 73,
   "id": "22d34603-fdb2-48f2-bd64-f42ef6b582d3",
   "metadata": {
    "execution": {
     "iopub.execute_input": "2025-09-18T15:40:36.699046Z",
     "iopub.status.busy": "2025-09-18T15:40:36.698046Z",
     "iopub.status.idle": "2025-09-18T15:40:36.702850Z",
     "shell.execute_reply": "2025-09-18T15:40:36.702850Z",
     "shell.execute_reply.started": "2025-09-18T15:40:36.699046Z"
    }
   },
   "outputs": [
    {
     "data": {
      "text/plain": [
       "325000"
      ]
     },
     "execution_count": 73,
     "metadata": {},
     "output_type": "execute_result"
    }
   ],
   "source": [
    "sims_per_ss[6]"
   ]
  },
  {
   "cell_type": "markdown",
   "id": "8718f313-4c1e-4404-ac0d-fc2023594bff",
   "metadata": {},
   "source": [
    "## Read SRS Simulation Data:"
   ]
  },
  {
   "cell_type": "markdown",
   "id": "bb5e6381-5096-40ce-a972-f5bdb4ec6532",
   "metadata": {},
   "source": [
    "Then, from SRS simulations, we extract the average mean squared error of the intended sampling scheme."
   ]
  },
  {
   "cell_type": "code",
   "execution_count": 42,
   "id": "55769395-529f-4930-845c-3272b9ac1cee",
   "metadata": {
    "execution": {
     "iopub.execute_input": "2025-09-18T15:31:48.172991Z",
     "iopub.status.busy": "2025-09-18T15:31:48.171991Z",
     "iopub.status.idle": "2025-09-18T15:31:48.180486Z",
     "shell.execute_reply": "2025-09-18T15:31:48.180486Z",
     "shell.execute_reply.started": "2025-09-18T15:31:48.172991Z"
    }
   },
   "outputs": [],
   "source": [
    "all_srs_avg_mse = []\n",
    "\n",
    "all_srs_files_in_dir = list_files_in_directory(srs_dir, 'pickle')\n",
    "for temp_filename in all_srs_files_in_dir:\n",
    "    all_srs_avg_mse.append(read_obj_pickle(srs_dir + '/' + temp_filename))\n",
    "\n",
    "all_srs_avg_mse = pd.concat(all_srs_avg_mse)\n",
    "all_srs_avg_mse.index.name = 'sample_size'\n",
    "all_srs_avg_mse = all_srs_avg_mse.reset_index()"
   ]
  },
  {
   "cell_type": "code",
   "execution_count": 43,
   "id": "1c932d4d-bb03-46f4-a59f-d8d465ead030",
   "metadata": {
    "execution": {
     "iopub.execute_input": "2025-09-18T15:31:48.372893Z",
     "iopub.status.busy": "2025-09-18T15:31:48.372893Z",
     "iopub.status.idle": "2025-09-18T15:31:48.391658Z",
     "shell.execute_reply": "2025-09-18T15:31:48.391658Z",
     "shell.execute_reply.started": "2025-09-18T15:31:48.372893Z"
    }
   },
   "outputs": [],
   "source": [
    "# rescaling up the stdevs so that it is possible to pull everything together,\n",
    "# due to the stdev initially the estimated stdev of the mean mse, and not of the raw mses\n",
    "all_srs_avg_mse[\"stdev\"] = all_srs_avg_mse[\"stdev\"] * np.sqrt(\n",
    "    all_srs_avg_mse[\"count\"]\n",
    ")\n",
    "\n",
    "all_srs_avg_mse = pooled_mean_stdev(all_srs_avg_mse, \"sample_size\", std_col=\"stdev\")\n",
    "all_srs_avg_mse['group_std'] /= np.sqrt(all_srs_avg_mse['group_count'])"
   ]
  },
  {
   "cell_type": "code",
   "execution_count": 45,
   "id": "2f193207-5974-4120-b2cb-6e9f7b1a087d",
   "metadata": {
    "execution": {
     "iopub.execute_input": "2025-09-18T15:31:50.378273Z",
     "iopub.status.busy": "2025-09-18T15:31:50.378273Z",
     "iopub.status.idle": "2025-09-18T15:31:50.387512Z",
     "shell.execute_reply": "2025-09-18T15:31:50.387512Z",
     "shell.execute_reply.started": "2025-09-18T15:31:50.378273Z"
    }
   },
   "outputs": [
    {
     "data": {
      "application/vnd.plotly.v1+json": {
       "config": {
        "plotlyServerURL": "https://plot.ly"
       },
       "data": [
        {
         "legendgroup": "group_mean",
         "line": {
          "color": "#636EFA"
         },
         "mode": "lines",
         "name": "group_mean",
         "showlegend": true,
         "type": "scatter",
         "visible": true,
         "x": [
          3,
          4,
          5,
          6,
          7,
          8,
          9,
          10,
          11,
          12,
          13,
          14,
          15,
          16,
          17,
          18,
          19,
          20,
          21,
          22,
          23,
          24,
          25,
          26,
          27,
          28,
          29,
          30,
          31,
          32,
          33,
          34,
          35,
          36,
          37,
          38,
          39,
          40,
          41,
          42,
          43,
          44,
          50,
          70,
          100
         ],
         "y": [
          2.2973900294321496,
          2.2210612883698775,
          2.1206559157847327,
          2.0153023066847955,
          1.9510590662923744,
          1.9160651708072451,
          1.8160466269156137,
          1.736658971000464,
          1.6983779368390401,
          1.596247068739754,
          1.5257875324875014,
          1.3574139562144654,
          1.2419880846954325,
          1.1554358113076704,
          1.063463313009404,
          0.9478897145193487,
          0.8708882351292685,
          0.8035259812791667,
          0.7137042237691246,
          0.6745941848912611,
          0.5998062260311855,
          0.5908720447758736,
          0.527321064919424,
          0.4866217309437355,
          0.46094057604155075,
          0.4262655222574432,
          0.4006560711164005,
          0.38051322713858277,
          0.35917446954713383,
          0.3393053446631394,
          0.32229068067904404,
          0.31092708476181785,
          0.2951641714954795,
          0.281731468570206,
          0.2701485451054529,
          0.26199472391569645,
          0.25353068384512356,
          0.24278808605741992,
          0.2292671010824821,
          0.22365433022177952,
          0.2201188434158477,
          0.21089193556998784,
          0.17740975974654274,
          0.1192070335402065,
          0.07626567356754907
         ]
        },
        {
         "fill": "toself",
         "fillcolor": "#636EFA",
         "hoverinfo": "skip",
         "legendgroup": "group_mean",
         "line": {
          "color": "rgba(255,255,255,0)"
         },
         "name": "group_mean CI",
         "opacity": 0.2,
         "showlegend": false,
         "type": "scatter",
         "visible": true,
         "x": [
          3,
          4,
          5,
          6,
          7,
          8,
          9,
          10,
          11,
          12,
          13,
          14,
          15,
          16,
          17,
          18,
          19,
          20,
          21,
          22,
          23,
          24,
          25,
          26,
          27,
          28,
          29,
          30,
          31,
          32,
          33,
          34,
          35,
          36,
          37,
          38,
          39,
          40,
          41,
          42,
          43,
          44,
          50,
          70,
          100,
          100,
          70,
          50,
          44,
          43,
          42,
          41,
          40,
          39,
          38,
          37,
          36,
          35,
          34,
          33,
          32,
          31,
          30,
          29,
          28,
          27,
          26,
          25,
          24,
          23,
          22,
          21,
          20,
          19,
          18,
          17,
          16,
          15,
          14,
          13,
          12,
          11,
          10,
          9,
          8,
          7,
          6,
          5,
          4,
          3
         ],
         "y": [
          2.248320750763428,
          2.1735313361899444,
          2.049090087158112,
          1.9664454393708284,
          1.9070415597939792,
          1.8699825191943644,
          1.7819739316112932,
          1.6982951619346056,
          1.6443637981558423,
          1.5542590729230856,
          1.4114848830791666,
          1.3253686526490216,
          1.2096758605731526,
          1.1186644436119189,
          1.0124426985017085,
          0.9204736773689987,
          0.8445607113280347,
          0.7846645124776029,
          0.6985221733759703,
          0.659894203304191,
          0.5886787922742233,
          0.5616281186056634,
          0.5180414808352767,
          0.47571008495819056,
          0.45074084003876197,
          0.4195322194912466,
          0.39465827693050054,
          0.3615944922415732,
          0.34918198844250936,
          0.3312384852841699,
          0.31451798464013836,
          0.3043773328395162,
          0.288553976918011,
          0.276262373074941,
          0.26506686893960174,
          0.25645761830849567,
          0.24573386057759375,
          0.23820137399588848,
          0.22438426053806432,
          0.21977081188587583,
          0.2163875706922526,
          0.20729718738875946,
          0.17445573393727545,
          0.11752339666911447,
          0.07144068985794826,
          0.08109065727714988,
          0.12089067041129851,
          0.18036378555581004,
          0.2144866837512162,
          0.2238501161394428,
          0.22753784855768322,
          0.2341499416268999,
          0.24737479811895136,
          0.2613275071126534,
          0.2675318295228972,
          0.27523022127130403,
          0.28720056406547095,
          0.30177436607294805,
          0.3174768366841195,
          0.3300633767179497,
          0.3473722040421089,
          0.3691669506517583,
          0.39943196203559234,
          0.40665386530230047,
          0.4329988250236398,
          0.47114031204433954,
          0.49753337692928046,
          0.5366006490035713,
          0.6201159709460838,
          0.6109336597881477,
          0.6892941664783312,
          0.7288862741622788,
          0.8223874500807306,
          0.8972157589305023,
          0.9753057516696987,
          1.1144839275170995,
          1.1922071790034219,
          1.2743003088177125,
          1.3894592597799091,
          1.6400901818958362,
          1.6382350645564225,
          1.752392075522238,
          1.7750227800663225,
          1.8501193222199341,
          1.9621478224201259,
          1.9950765727907696,
          2.0641591739987626,
          2.1922217444113534,
          2.2685912405498105,
          2.3464593081008713
         ]
        }
       ],
       "layout": {
        "template": {
         "data": {
          "bar": [
           {
            "error_x": {
             "color": "#2a3f5f"
            },
            "error_y": {
             "color": "#2a3f5f"
            },
            "marker": {
             "line": {
              "color": "#E5ECF6",
              "width": 0.5
             },
             "pattern": {
              "fillmode": "overlay",
              "size": 10,
              "solidity": 0.2
             }
            },
            "type": "bar"
           }
          ],
          "barpolar": [
           {
            "marker": {
             "line": {
              "color": "#E5ECF6",
              "width": 0.5
             },
             "pattern": {
              "fillmode": "overlay",
              "size": 10,
              "solidity": 0.2
             }
            },
            "type": "barpolar"
           }
          ],
          "carpet": [
           {
            "aaxis": {
             "endlinecolor": "#2a3f5f",
             "gridcolor": "white",
             "linecolor": "white",
             "minorgridcolor": "white",
             "startlinecolor": "#2a3f5f"
            },
            "baxis": {
             "endlinecolor": "#2a3f5f",
             "gridcolor": "white",
             "linecolor": "white",
             "minorgridcolor": "white",
             "startlinecolor": "#2a3f5f"
            },
            "type": "carpet"
           }
          ],
          "choropleth": [
           {
            "colorbar": {
             "outlinewidth": 0,
             "ticks": ""
            },
            "type": "choropleth"
           }
          ],
          "contour": [
           {
            "colorbar": {
             "outlinewidth": 0,
             "ticks": ""
            },
            "colorscale": [
             [
              0,
              "#0d0887"
             ],
             [
              0.1111111111111111,
              "#46039f"
             ],
             [
              0.2222222222222222,
              "#7201a8"
             ],
             [
              0.3333333333333333,
              "#9c179e"
             ],
             [
              0.4444444444444444,
              "#bd3786"
             ],
             [
              0.5555555555555556,
              "#d8576b"
             ],
             [
              0.6666666666666666,
              "#ed7953"
             ],
             [
              0.7777777777777778,
              "#fb9f3a"
             ],
             [
              0.8888888888888888,
              "#fdca26"
             ],
             [
              1,
              "#f0f921"
             ]
            ],
            "type": "contour"
           }
          ],
          "contourcarpet": [
           {
            "colorbar": {
             "outlinewidth": 0,
             "ticks": ""
            },
            "type": "contourcarpet"
           }
          ],
          "heatmap": [
           {
            "colorbar": {
             "outlinewidth": 0,
             "ticks": ""
            },
            "colorscale": [
             [
              0,
              "#0d0887"
             ],
             [
              0.1111111111111111,
              "#46039f"
             ],
             [
              0.2222222222222222,
              "#7201a8"
             ],
             [
              0.3333333333333333,
              "#9c179e"
             ],
             [
              0.4444444444444444,
              "#bd3786"
             ],
             [
              0.5555555555555556,
              "#d8576b"
             ],
             [
              0.6666666666666666,
              "#ed7953"
             ],
             [
              0.7777777777777778,
              "#fb9f3a"
             ],
             [
              0.8888888888888888,
              "#fdca26"
             ],
             [
              1,
              "#f0f921"
             ]
            ],
            "type": "heatmap"
           }
          ],
          "heatmapgl": [
           {
            "colorbar": {
             "outlinewidth": 0,
             "ticks": ""
            },
            "colorscale": [
             [
              0,
              "#0d0887"
             ],
             [
              0.1111111111111111,
              "#46039f"
             ],
             [
              0.2222222222222222,
              "#7201a8"
             ],
             [
              0.3333333333333333,
              "#9c179e"
             ],
             [
              0.4444444444444444,
              "#bd3786"
             ],
             [
              0.5555555555555556,
              "#d8576b"
             ],
             [
              0.6666666666666666,
              "#ed7953"
             ],
             [
              0.7777777777777778,
              "#fb9f3a"
             ],
             [
              0.8888888888888888,
              "#fdca26"
             ],
             [
              1,
              "#f0f921"
             ]
            ],
            "type": "heatmapgl"
           }
          ],
          "histogram": [
           {
            "marker": {
             "pattern": {
              "fillmode": "overlay",
              "size": 10,
              "solidity": 0.2
             }
            },
            "type": "histogram"
           }
          ],
          "histogram2d": [
           {
            "colorbar": {
             "outlinewidth": 0,
             "ticks": ""
            },
            "colorscale": [
             [
              0,
              "#0d0887"
             ],
             [
              0.1111111111111111,
              "#46039f"
             ],
             [
              0.2222222222222222,
              "#7201a8"
             ],
             [
              0.3333333333333333,
              "#9c179e"
             ],
             [
              0.4444444444444444,
              "#bd3786"
             ],
             [
              0.5555555555555556,
              "#d8576b"
             ],
             [
              0.6666666666666666,
              "#ed7953"
             ],
             [
              0.7777777777777778,
              "#fb9f3a"
             ],
             [
              0.8888888888888888,
              "#fdca26"
             ],
             [
              1,
              "#f0f921"
             ]
            ],
            "type": "histogram2d"
           }
          ],
          "histogram2dcontour": [
           {
            "colorbar": {
             "outlinewidth": 0,
             "ticks": ""
            },
            "colorscale": [
             [
              0,
              "#0d0887"
             ],
             [
              0.1111111111111111,
              "#46039f"
             ],
             [
              0.2222222222222222,
              "#7201a8"
             ],
             [
              0.3333333333333333,
              "#9c179e"
             ],
             [
              0.4444444444444444,
              "#bd3786"
             ],
             [
              0.5555555555555556,
              "#d8576b"
             ],
             [
              0.6666666666666666,
              "#ed7953"
             ],
             [
              0.7777777777777778,
              "#fb9f3a"
             ],
             [
              0.8888888888888888,
              "#fdca26"
             ],
             [
              1,
              "#f0f921"
             ]
            ],
            "type": "histogram2dcontour"
           }
          ],
          "mesh3d": [
           {
            "colorbar": {
             "outlinewidth": 0,
             "ticks": ""
            },
            "type": "mesh3d"
           }
          ],
          "parcoords": [
           {
            "line": {
             "colorbar": {
              "outlinewidth": 0,
              "ticks": ""
             }
            },
            "type": "parcoords"
           }
          ],
          "pie": [
           {
            "automargin": true,
            "type": "pie"
           }
          ],
          "scatter": [
           {
            "fillpattern": {
             "fillmode": "overlay",
             "size": 10,
             "solidity": 0.2
            },
            "type": "scatter"
           }
          ],
          "scatter3d": [
           {
            "line": {
             "colorbar": {
              "outlinewidth": 0,
              "ticks": ""
             }
            },
            "marker": {
             "colorbar": {
              "outlinewidth": 0,
              "ticks": ""
             }
            },
            "type": "scatter3d"
           }
          ],
          "scattercarpet": [
           {
            "marker": {
             "colorbar": {
              "outlinewidth": 0,
              "ticks": ""
             }
            },
            "type": "scattercarpet"
           }
          ],
          "scattergeo": [
           {
            "marker": {
             "colorbar": {
              "outlinewidth": 0,
              "ticks": ""
             }
            },
            "type": "scattergeo"
           }
          ],
          "scattergl": [
           {
            "marker": {
             "colorbar": {
              "outlinewidth": 0,
              "ticks": ""
             }
            },
            "type": "scattergl"
           }
          ],
          "scattermapbox": [
           {
            "marker": {
             "colorbar": {
              "outlinewidth": 0,
              "ticks": ""
             }
            },
            "type": "scattermapbox"
           }
          ],
          "scatterpolar": [
           {
            "marker": {
             "colorbar": {
              "outlinewidth": 0,
              "ticks": ""
             }
            },
            "type": "scatterpolar"
           }
          ],
          "scatterpolargl": [
           {
            "marker": {
             "colorbar": {
              "outlinewidth": 0,
              "ticks": ""
             }
            },
            "type": "scatterpolargl"
           }
          ],
          "scatterternary": [
           {
            "marker": {
             "colorbar": {
              "outlinewidth": 0,
              "ticks": ""
             }
            },
            "type": "scatterternary"
           }
          ],
          "surface": [
           {
            "colorbar": {
             "outlinewidth": 0,
             "ticks": ""
            },
            "colorscale": [
             [
              0,
              "#0d0887"
             ],
             [
              0.1111111111111111,
              "#46039f"
             ],
             [
              0.2222222222222222,
              "#7201a8"
             ],
             [
              0.3333333333333333,
              "#9c179e"
             ],
             [
              0.4444444444444444,
              "#bd3786"
             ],
             [
              0.5555555555555556,
              "#d8576b"
             ],
             [
              0.6666666666666666,
              "#ed7953"
             ],
             [
              0.7777777777777778,
              "#fb9f3a"
             ],
             [
              0.8888888888888888,
              "#fdca26"
             ],
             [
              1,
              "#f0f921"
             ]
            ],
            "type": "surface"
           }
          ],
          "table": [
           {
            "cells": {
             "fill": {
              "color": "#EBF0F8"
             },
             "line": {
              "color": "white"
             }
            },
            "header": {
             "fill": {
              "color": "#C8D4E3"
             },
             "line": {
              "color": "white"
             }
            },
            "type": "table"
           }
          ]
         },
         "layout": {
          "annotationdefaults": {
           "arrowcolor": "#2a3f5f",
           "arrowhead": 0,
           "arrowwidth": 1
          },
          "autotypenumbers": "strict",
          "coloraxis": {
           "colorbar": {
            "outlinewidth": 0,
            "ticks": ""
           }
          },
          "colorscale": {
           "diverging": [
            [
             0,
             "#8e0152"
            ],
            [
             0.1,
             "#c51b7d"
            ],
            [
             0.2,
             "#de77ae"
            ],
            [
             0.3,
             "#f1b6da"
            ],
            [
             0.4,
             "#fde0ef"
            ],
            [
             0.5,
             "#f7f7f7"
            ],
            [
             0.6,
             "#e6f5d0"
            ],
            [
             0.7,
             "#b8e186"
            ],
            [
             0.8,
             "#7fbc41"
            ],
            [
             0.9,
             "#4d9221"
            ],
            [
             1,
             "#276419"
            ]
           ],
           "sequential": [
            [
             0,
             "#0d0887"
            ],
            [
             0.1111111111111111,
             "#46039f"
            ],
            [
             0.2222222222222222,
             "#7201a8"
            ],
            [
             0.3333333333333333,
             "#9c179e"
            ],
            [
             0.4444444444444444,
             "#bd3786"
            ],
            [
             0.5555555555555556,
             "#d8576b"
            ],
            [
             0.6666666666666666,
             "#ed7953"
            ],
            [
             0.7777777777777778,
             "#fb9f3a"
            ],
            [
             0.8888888888888888,
             "#fdca26"
            ],
            [
             1,
             "#f0f921"
            ]
           ],
           "sequentialminus": [
            [
             0,
             "#0d0887"
            ],
            [
             0.1111111111111111,
             "#46039f"
            ],
            [
             0.2222222222222222,
             "#7201a8"
            ],
            [
             0.3333333333333333,
             "#9c179e"
            ],
            [
             0.4444444444444444,
             "#bd3786"
            ],
            [
             0.5555555555555556,
             "#d8576b"
            ],
            [
             0.6666666666666666,
             "#ed7953"
            ],
            [
             0.7777777777777778,
             "#fb9f3a"
            ],
            [
             0.8888888888888888,
             "#fdca26"
            ],
            [
             1,
             "#f0f921"
            ]
           ]
          },
          "colorway": [
           "#636efa",
           "#EF553B",
           "#00cc96",
           "#ab63fa",
           "#FFA15A",
           "#19d3f3",
           "#FF6692",
           "#B6E880",
           "#FF97FF",
           "#FECB52"
          ],
          "font": {
           "color": "#2a3f5f"
          },
          "geo": {
           "bgcolor": "white",
           "lakecolor": "white",
           "landcolor": "#E5ECF6",
           "showlakes": true,
           "showland": true,
           "subunitcolor": "white"
          },
          "hoverlabel": {
           "align": "left"
          },
          "hovermode": "closest",
          "mapbox": {
           "style": "light"
          },
          "paper_bgcolor": "white",
          "plot_bgcolor": "#E5ECF6",
          "polar": {
           "angularaxis": {
            "gridcolor": "white",
            "linecolor": "white",
            "ticks": ""
           },
           "bgcolor": "#E5ECF6",
           "radialaxis": {
            "gridcolor": "white",
            "linecolor": "white",
            "ticks": ""
           }
          },
          "scene": {
           "xaxis": {
            "backgroundcolor": "#E5ECF6",
            "gridcolor": "white",
            "gridwidth": 2,
            "linecolor": "white",
            "showbackground": true,
            "ticks": "",
            "zerolinecolor": "white"
           },
           "yaxis": {
            "backgroundcolor": "#E5ECF6",
            "gridcolor": "white",
            "gridwidth": 2,
            "linecolor": "white",
            "showbackground": true,
            "ticks": "",
            "zerolinecolor": "white"
           },
           "zaxis": {
            "backgroundcolor": "#E5ECF6",
            "gridcolor": "white",
            "gridwidth": 2,
            "linecolor": "white",
            "showbackground": true,
            "ticks": "",
            "zerolinecolor": "white"
           }
          },
          "shapedefaults": {
           "line": {
            "color": "#2a3f5f"
           }
          },
          "ternary": {
           "aaxis": {
            "gridcolor": "white",
            "linecolor": "white",
            "ticks": ""
           },
           "baxis": {
            "gridcolor": "white",
            "linecolor": "white",
            "ticks": ""
           },
           "bgcolor": "#E5ECF6",
           "caxis": {
            "gridcolor": "white",
            "linecolor": "white",
            "ticks": ""
           }
          },
          "title": {
           "x": 0.05
          },
          "xaxis": {
           "automargin": true,
           "gridcolor": "white",
           "linecolor": "white",
           "ticks": "",
           "title": {
            "standoff": 15
           },
           "zerolinecolor": "white",
           "zerolinewidth": 2
          },
          "yaxis": {
           "automargin": true,
           "gridcolor": "white",
           "linecolor": "white",
           "ticks": "",
           "title": {
            "standoff": 15
           },
           "zerolinecolor": "white",
           "zerolinewidth": 2
          }
         }
        },
        "title": {
         "text": ""
        },
        "xaxis": {
         "title": {
          "text": ""
         }
        },
        "yaxis": {
         "title": {
          "text": ""
         }
        }
       }
      },
      "image/png": "[encoded data removed]",
      "text/html": [
       "<div>                            <div id=\"354933e7-c699-4b1f-9285-201b57e497d3\" class=\"plotly-graph-div\" style=\"height:525px; width:100%;\"></div>            <script type=\"text/javascript\">                require([\"plotly\"], function(Plotly) {                    window.PLOTLYENV=window.PLOTLYENV || {};                                    if (document.getElementById(\"354933e7-c699-4b1f-9285-201b57e497d3\")) {                    Plotly.newPlot(                        \"354933e7-c699-4b1f-9285-201b57e497d3\",                        [{\"legendgroup\":\"group_mean\",\"line\":{\"color\":\"#636EFA\"},\"mode\":\"lines\",\"name\":\"group_mean\",\"showlegend\":true,\"visible\":true,\"x\":[3,4,5,6,7,8,9,10,11,12,13,14,15,16,17,18,19,20,21,22,23,24,25,26,27,28,29,30,31,32,33,34,35,36,37,38,39,40,41,42,43,44,50,70,100],\"y\":[2.2973900294321496,2.2210612883698775,2.1206559157847327,2.0153023066847955,1.9510590662923744,1.9160651708072451,1.8160466269156137,1.736658971000464,1.6983779368390401,1.596247068739754,1.5257875324875014,1.3574139562144654,1.2419880846954325,1.1554358113076704,1.063463313009404,0.9478897145193487,0.8708882351292685,0.8035259812791667,0.7137042237691246,0.6745941848912611,0.5998062260311855,0.5908720447758736,0.527321064919424,0.4866217309437355,0.46094057604155075,0.4262655222574432,0.4006560711164005,0.38051322713858277,0.35917446954713383,0.3393053446631394,0.32229068067904404,0.31092708476181785,0.2951641714954795,0.281731468570206,0.2701485451054529,0.26199472391569645,0.25353068384512356,0.24278808605741992,0.2292671010824821,0.22365433022177952,0.2201188434158477,0.21089193556998784,0.17740975974654274,0.1192070335402065,0.07626567356754907],\"type\":\"scatter\"},{\"fill\":\"toself\",\"fillcolor\":\"#636EFA\",\"hoverinfo\":\"skip\",\"legendgroup\":\"group_mean\",\"line\":{\"color\":\"rgba(255,255,255,0)\"},\"name\":\"group_mean CI\",\"opacity\":0.2,\"showlegend\":false,\"visible\":true,\"x\":[3,4,5,6,7,8,9,10,11,12,13,14,15,16,17,18,19,20,21,22,23,24,25,26,27,28,29,30,31,32,33,34,35,36,37,38,39,40,41,42,43,44,50,70,100,100,70,50,44,43,42,41,40,39,38,37,36,35,34,33,32,31,30,29,28,27,26,25,24,23,22,21,20,19,18,17,16,15,14,13,12,11,10,9,8,7,6,5,4,3],\"y\":[2.248320750763428,2.1735313361899444,2.049090087158112,1.9664454393708284,1.9070415597939792,1.8699825191943644,1.7819739316112932,1.6982951619346056,1.6443637981558423,1.5542590729230856,1.4114848830791666,1.3253686526490216,1.2096758605731526,1.1186644436119189,1.0124426985017085,0.9204736773689987,0.8445607113280347,0.7846645124776029,0.6985221733759703,0.659894203304191,0.5886787922742233,0.5616281186056634,0.5180414808352767,0.47571008495819056,0.45074084003876197,0.4195322194912466,0.39465827693050054,0.3615944922415732,0.34918198844250936,0.3312384852841699,0.31451798464013836,0.3043773328395162,0.288553976918011,0.276262373074941,0.26506686893960174,0.25645761830849567,0.24573386057759375,0.23820137399588848,0.22438426053806432,0.21977081188587583,0.2163875706922526,0.20729718738875946,0.17445573393727545,0.11752339666911447,0.07144068985794826,0.08109065727714988,0.12089067041129851,0.18036378555581004,0.2144866837512162,0.2238501161394428,0.22753784855768322,0.2341499416268999,0.24737479811895136,0.2613275071126534,0.2675318295228972,0.27523022127130403,0.28720056406547095,0.30177436607294805,0.3174768366841195,0.3300633767179497,0.3473722040421089,0.3691669506517583,0.39943196203559234,0.40665386530230047,0.4329988250236398,0.47114031204433954,0.49753337692928046,0.5366006490035713,0.6201159709460838,0.6109336597881477,0.6892941664783312,0.7288862741622788,0.8223874500807306,0.8972157589305023,0.9753057516696987,1.1144839275170995,1.1922071790034219,1.2743003088177125,1.3894592597799091,1.6400901818958362,1.6382350645564225,1.752392075522238,1.7750227800663225,1.8501193222199341,1.9621478224201259,1.9950765727907696,2.0641591739987626,2.1922217444113534,2.2685912405498105,2.3464593081008713],\"type\":\"scatter\"}],                        {\"template\":{\"data\":{\"histogram2dcontour\":[{\"type\":\"histogram2dcontour\",\"colorbar\":{\"outlinewidth\":0,\"ticks\":\"\"},\"colorscale\":[[0.0,\"#0d0887\"],[0.1111111111111111,\"#46039f\"],[0.2222222222222222,\"#7201a8\"],[0.3333333333333333,\"#9c179e\"],[0.4444444444444444,\"#bd3786\"],[0.5555555555555556,\"#d8576b\"],[0.6666666666666666,\"#ed7953\"],[0.7777777777777778,\"#fb9f3a\"],[0.8888888888888888,\"#fdca26\"],[1.0,\"#f0f921\"]]}],\"choropleth\":[{\"type\":\"choropleth\",\"colorbar\":{\"outlinewidth\":0,\"ticks\":\"\"}}],\"histogram2d\":[{\"type\":\"histogram2d\",\"colorbar\":{\"outlinewidth\":0,\"ticks\":\"\"},\"colorscale\":[[0.0,\"#0d0887\"],[0.1111111111111111,\"#46039f\"],[0.2222222222222222,\"#7201a8\"],[0.3333333333333333,\"#9c179e\"],[0.4444444444444444,\"#bd3786\"],[0.5555555555555556,\"#d8576b\"],[0.6666666666666666,\"#ed7953\"],[0.7777777777777778,\"#fb9f3a\"],[0.8888888888888888,\"#fdca26\"],[1.0,\"#f0f921\"]]}],\"heatmap\":[{\"type\":\"heatmap\",\"colorbar\":{\"outlinewidth\":0,\"ticks\":\"\"},\"colorscale\":[[0.0,\"#0d0887\"],[0.1111111111111111,\"#46039f\"],[0.2222222222222222,\"#7201a8\"],[0.3333333333333333,\"#9c179e\"],[0.4444444444444444,\"#bd3786\"],[0.5555555555555556,\"#d8576b\"],[0.6666666666666666,\"#ed7953\"],[0.7777777777777778,\"#fb9f3a\"],[0.8888888888888888,\"#fdca26\"],[1.0,\"#f0f921\"]]}],\"heatmapgl\":[{\"type\":\"heatmapgl\",\"colorbar\":{\"outlinewidth\":0,\"ticks\":\"\"},\"colorscale\":[[0.0,\"#0d0887\"],[0.1111111111111111,\"#46039f\"],[0.2222222222222222,\"#7201a8\"],[0.3333333333333333,\"#9c179e\"],[0.4444444444444444,\"#bd3786\"],[0.5555555555555556,\"#d8576b\"],[0.6666666666666666,\"#ed7953\"],[0.7777777777777778,\"#fb9f3a\"],[0.8888888888888888,\"#fdca26\"],[1.0,\"#f0f921\"]]}],\"contourcarpet\":[{\"type\":\"contourcarpet\",\"colorbar\":{\"outlinewidth\":0,\"ticks\":\"\"}}],\"contour\":[{\"type\":\"contour\",\"colorbar\":{\"outlinewidth\":0,\"ticks\":\"\"},\"colorscale\":[[0.0,\"#0d0887\"],[0.1111111111111111,\"#46039f\"],[0.2222222222222222,\"#7201a8\"],[0.3333333333333333,\"#9c179e\"],[0.4444444444444444,\"#bd3786\"],[0.5555555555555556,\"#d8576b\"],[0.6666666666666666,\"#ed7953\"],[0.7777777777777778,\"#fb9f3a\"],[0.8888888888888888,\"#fdca26\"],[1.0,\"#f0f921\"]]}],\"surface\":[{\"type\":\"surface\",\"colorbar\":{\"outlinewidth\":0,\"ticks\":\"\"},\"colorscale\":[[0.0,\"#0d0887\"],[0.1111111111111111,\"#46039f\"],[0.2222222222222222,\"#7201a8\"],[0.3333333333333333,\"#9c179e\"],[0.4444444444444444,\"#bd3786\"],[0.5555555555555556,\"#d8576b\"],[0.6666666666666666,\"#ed7953\"],[0.7777777777777778,\"#fb9f3a\"],[0.8888888888888888,\"#fdca26\"],[1.0,\"#f0f921\"]]}],\"mesh3d\":[{\"type\":\"mesh3d\",\"colorbar\":{\"outlinewidth\":0,\"ticks\":\"\"}}],\"scatter\":[{\"fillpattern\":{\"fillmode\":\"overlay\",\"size\":10,\"solidity\":0.2},\"type\":\"scatter\"}],\"parcoords\":[{\"type\":\"parcoords\",\"line\":{\"colorbar\":{\"outlinewidth\":0,\"ticks\":\"\"}}}],\"scatterpolargl\":[{\"type\":\"scatterpolargl\",\"marker\":{\"colorbar\":{\"outlinewidth\":0,\"ticks\":\"\"}}}],\"bar\":[{\"error_x\":{\"color\":\"#2a3f5f\"},\"error_y\":{\"color\":\"#2a3f5f\"},\"marker\":{\"line\":{\"color\":\"#E5ECF6\",\"width\":0.5},\"pattern\":{\"fillmode\":\"overlay\",\"size\":10,\"solidity\":0.2}},\"type\":\"bar\"}],\"scattergeo\":[{\"type\":\"scattergeo\",\"marker\":{\"colorbar\":{\"outlinewidth\":0,\"ticks\":\"\"}}}],\"scatterpolar\":[{\"type\":\"scatterpolar\",\"marker\":{\"colorbar\":{\"outlinewidth\":0,\"ticks\":\"\"}}}],\"histogram\":[{\"marker\":{\"pattern\":{\"fillmode\":\"overlay\",\"size\":10,\"solidity\":0.2}},\"type\":\"histogram\"}],\"scattergl\":[{\"type\":\"scattergl\",\"marker\":{\"colorbar\":{\"outlinewidth\":0,\"ticks\":\"\"}}}],\"scatter3d\":[{\"type\":\"scatter3d\",\"line\":{\"colorbar\":{\"outlinewidth\":0,\"ticks\":\"\"}},\"marker\":{\"colorbar\":{\"outlinewidth\":0,\"ticks\":\"\"}}}],\"scattermapbox\":[{\"type\":\"scattermapbox\",\"marker\":{\"colorbar\":{\"outlinewidth\":0,\"ticks\":\"\"}}}],\"scatterternary\":[{\"type\":\"scatterternary\",\"marker\":{\"colorbar\":{\"outlinewidth\":0,\"ticks\":\"\"}}}],\"scattercarpet\":[{\"type\":\"scattercarpet\",\"marker\":{\"colorbar\":{\"outlinewidth\":0,\"ticks\":\"\"}}}],\"carpet\":[{\"aaxis\":{\"endlinecolor\":\"#2a3f5f\",\"gridcolor\":\"white\",\"linecolor\":\"white\",\"minorgridcolor\":\"white\",\"startlinecolor\":\"#2a3f5f\"},\"baxis\":{\"endlinecolor\":\"#2a3f5f\",\"gridcolor\":\"white\",\"linecolor\":\"white\",\"minorgridcolor\":\"white\",\"startlinecolor\":\"#2a3f5f\"},\"type\":\"carpet\"}],\"table\":[{\"cells\":{\"fill\":{\"color\":\"#EBF0F8\"},\"line\":{\"color\":\"white\"}},\"header\":{\"fill\":{\"color\":\"#C8D4E3\"},\"line\":{\"color\":\"white\"}},\"type\":\"table\"}],\"barpolar\":[{\"marker\":{\"line\":{\"color\":\"#E5ECF6\",\"width\":0.5},\"pattern\":{\"fillmode\":\"overlay\",\"size\":10,\"solidity\":0.2}},\"type\":\"barpolar\"}],\"pie\":[{\"automargin\":true,\"type\":\"pie\"}]},\"layout\":{\"autotypenumbers\":\"strict\",\"colorway\":[\"#636efa\",\"#EF553B\",\"#00cc96\",\"#ab63fa\",\"#FFA15A\",\"#19d3f3\",\"#FF6692\",\"#B6E880\",\"#FF97FF\",\"#FECB52\"],\"font\":{\"color\":\"#2a3f5f\"},\"hovermode\":\"closest\",\"hoverlabel\":{\"align\":\"left\"},\"paper_bgcolor\":\"white\",\"plot_bgcolor\":\"#E5ECF6\",\"polar\":{\"bgcolor\":\"#E5ECF6\",\"angularaxis\":{\"gridcolor\":\"white\",\"linecolor\":\"white\",\"ticks\":\"\"},\"radialaxis\":{\"gridcolor\":\"white\",\"linecolor\":\"white\",\"ticks\":\"\"}},\"ternary\":{\"bgcolor\":\"#E5ECF6\",\"aaxis\":{\"gridcolor\":\"white\",\"linecolor\":\"white\",\"ticks\":\"\"},\"baxis\":{\"gridcolor\":\"white\",\"linecolor\":\"white\",\"ticks\":\"\"},\"caxis\":{\"gridcolor\":\"white\",\"linecolor\":\"white\",\"ticks\":\"\"}},\"coloraxis\":{\"colorbar\":{\"outlinewidth\":0,\"ticks\":\"\"}},\"colorscale\":{\"sequential\":[[0.0,\"#0d0887\"],[0.1111111111111111,\"#46039f\"],[0.2222222222222222,\"#7201a8\"],[0.3333333333333333,\"#9c179e\"],[0.4444444444444444,\"#bd3786\"],[0.5555555555555556,\"#d8576b\"],[0.6666666666666666,\"#ed7953\"],[0.7777777777777778,\"#fb9f3a\"],[0.8888888888888888,\"#fdca26\"],[1.0,\"#f0f921\"]],\"sequentialminus\":[[0.0,\"#0d0887\"],[0.1111111111111111,\"#46039f\"],[0.2222222222222222,\"#7201a8\"],[0.3333333333333333,\"#9c179e\"],[0.4444444444444444,\"#bd3786\"],[0.5555555555555556,\"#d8576b\"],[0.6666666666666666,\"#ed7953\"],[0.7777777777777778,\"#fb9f3a\"],[0.8888888888888888,\"#fdca26\"],[1.0,\"#f0f921\"]],\"diverging\":[[0,\"#8e0152\"],[0.1,\"#c51b7d\"],[0.2,\"#de77ae\"],[0.3,\"#f1b6da\"],[0.4,\"#fde0ef\"],[0.5,\"#f7f7f7\"],[0.6,\"#e6f5d0\"],[0.7,\"#b8e186\"],[0.8,\"#7fbc41\"],[0.9,\"#4d9221\"],[1,\"#276419\"]]},\"xaxis\":{\"gridcolor\":\"white\",\"linecolor\":\"white\",\"ticks\":\"\",\"title\":{\"standoff\":15},\"zerolinecolor\":\"white\",\"automargin\":true,\"zerolinewidth\":2},\"yaxis\":{\"gridcolor\":\"white\",\"linecolor\":\"white\",\"ticks\":\"\",\"title\":{\"standoff\":15},\"zerolinecolor\":\"white\",\"automargin\":true,\"zerolinewidth\":2},\"scene\":{\"xaxis\":{\"backgroundcolor\":\"#E5ECF6\",\"gridcolor\":\"white\",\"linecolor\":\"white\",\"showbackground\":true,\"ticks\":\"\",\"zerolinecolor\":\"white\",\"gridwidth\":2},\"yaxis\":{\"backgroundcolor\":\"#E5ECF6\",\"gridcolor\":\"white\",\"linecolor\":\"white\",\"showbackground\":true,\"ticks\":\"\",\"zerolinecolor\":\"white\",\"gridwidth\":2},\"zaxis\":{\"backgroundcolor\":\"#E5ECF6\",\"gridcolor\":\"white\",\"linecolor\":\"white\",\"showbackground\":true,\"ticks\":\"\",\"zerolinecolor\":\"white\",\"gridwidth\":2}},\"shapedefaults\":{\"line\":{\"color\":\"#2a3f5f\"}},\"annotationdefaults\":{\"arrowcolor\":\"#2a3f5f\",\"arrowhead\":0,\"arrowwidth\":1},\"geo\":{\"bgcolor\":\"white\",\"landcolor\":\"#E5ECF6\",\"subunitcolor\":\"white\",\"showland\":true,\"showlakes\":true,\"lakecolor\":\"white\"},\"title\":{\"x\":0.05},\"mapbox\":{\"style\":\"light\"}}},\"title\":{\"text\":\"\"},\"xaxis\":{\"title\":{\"text\":\"\"}},\"yaxis\":{\"title\":{\"text\":\"\"}}},                        {\"responsive\": true}                    ).then(function(){\n",
       "                            \n",
       "var gd = document.getElementById('354933e7-c699-4b1f-9285-201b57e497d3');\n",
       "var x = new MutationObserver(function (mutations, observer) {{\n",
       "        var display = window.getComputedStyle(gd).display;\n",
       "        if (!display || display === 'none') {{\n",
       "            console.log([gd, 'removed!']);\n",
       "            Plotly.purge(gd);\n",
       "            observer.disconnect();\n",
       "        }}\n",
       "}});\n",
       "\n",
       "// Listen for the removal of the full notebook cells\n",
       "var notebookContainer = gd.closest('#notebook-container');\n",
       "if (notebookContainer) {{\n",
       "    x.observe(notebookContainer, {childList: true});\n",
       "}}\n",
       "\n",
       "// Listen for the clearing of the current output cell\n",
       "var outputEl = gd.closest('.output');\n",
       "if (outputEl) {{\n",
       "    x.observe(outputEl, {childList: true});\n",
       "}}\n",
       "\n",
       "                        })                };                });            </script>        </div>"
      ]
     },
     "metadata": {},
     "output_type": "display_data"
    }
   ],
   "source": [
    "# graphically check if simulated enough, via checking if the means have tight enough CIs\n",
    "_ = plot_mean_with_ci(\n",
    "    all_srs_avg_mse.set_index(\"sample_size\")[[\"group_mean\"]],\n",
    "    all_srs_avg_mse.set_index(\"sample_size\")[[\"group_std\"]].rename(\n",
    "        {\"group_std\": \"group_mean\"}, axis=1\n",
    "    ),\n",
    ")"
   ]
  },
  {
   "cell_type": "code",
   "execution_count": null,
   "id": "9e005ed2-1ab4-49c3-b546-5e22bf94baa2",
   "metadata": {},
   "outputs": [],
   "source": []
  },
  {
   "cell_type": "markdown",
   "id": "98e00dd9-fe0c-414f-a381-b1926195da28",
   "metadata": {},
   "source": [
    "# Concatenate"
   ]
  },
  {
   "cell_type": "code",
   "execution_count": 74,
   "id": "e5bebeee-54a7-4ec9-b6dc-ad8520272ccc",
   "metadata": {
    "execution": {
     "iopub.execute_input": "2025-09-18T15:41:16.629965Z",
     "iopub.status.busy": "2025-09-18T15:41:16.628964Z",
     "iopub.status.idle": "2025-09-18T15:41:16.636459Z",
     "shell.execute_reply": "2025-09-18T15:41:16.636459Z",
     "shell.execute_reply.started": "2025-09-18T15:41:16.628964Z"
    }
   },
   "outputs": [],
   "source": [
    "all_biased_avg_mses = pd.concat(all_biased_avg_mses).reset_index(drop=True)\n",
    "all_linear_ess = (\n",
    "    pd.concat(all_linear_ess)\n",
    "    .reset_index()\n",
    "    .rename({\"neff_biased\": \"linear_neff\"}, axis=1)\n",
    ")\n",
    "all_srs_avg_mse = all_srs_avg_mse.rename(\n",
    "    {\"group_mean\": \"mse_intended\"}, axis=1\n",
    ").set_index(\"sample_size\")[\"mse_intended\"]"
   ]
  },
  {
   "cell_type": "code",
   "execution_count": null,
   "id": "8fed5a7a-887e-4103-90ae-29f23b95581e",
   "metadata": {},
   "outputs": [],
   "source": []
  },
  {
   "cell_type": "markdown",
   "id": "07bcc6d2",
   "metadata": {},
   "source": [
    "# Compute Linearly interpolated Effective Sample Sizes (Actual ESS) + ESS implied from Fisher Information:"
   ]
  },
  {
   "cell_type": "code",
   "execution_count": null,
   "id": "0551c95b-09c8-4571-a997-94a2811b4581",
   "metadata": {
    "execution": {
     "iopub.execute_input": "2025-09-18T15:41:32.404290Z",
     "iopub.status.busy": "2025-09-18T15:41:32.404290Z",
     "iopub.status.idle": "2025-09-18T15:41:32.408303Z",
     "shell.execute_reply": "2025-09-18T15:41:32.407795Z",
     "shell.execute_reply.started": "2025-09-18T15:41:32.404290Z"
    }
   },
   "outputs": [],
   "source": [
    "srs_interpolator = interpolate.interp1d(\n",
    "    x=pd.Series(all_srs_avg_mse.values),\n",
    "    y=pd.Series(all_srs_avg_mse.index),\n",
    "    bounds_error=False,\n",
    "    fill_value=(-1, np.nan),\n",
    ")\n",
    "\n",
    "all_biased_avg_mses['interpolated_neff'] = srs_interpolator(all_biased_avg_mses['avg_mse'])\n",
    "biased_neff_info = pd.merge(all_biased_avg_mses, all_linear_ess, on=\"sample_size\")\n",
    "biased_neff_info['neff_from_FI'] = inv_unit_FI / biased_neff_info['avg_mse']"
   ]
  },
  {
   "cell_type": "markdown",
   "id": "0324cc1d",
   "metadata": {},
   "source": [
    "# Plots of sample sizes:"
   ]
  },
  {
   "cell_type": "code",
   "execution_count": 80,
   "id": "ce08e2b6-0e0f-492e-bf9f-8636e3606e64",
   "metadata": {
    "execution": {
     "iopub.execute_input": "2025-09-18T15:42:53.763021Z",
     "iopub.status.busy": "2025-09-18T15:42:53.763021Z",
     "iopub.status.idle": "2025-09-18T15:42:53.766988Z",
     "shell.execute_reply": "2025-09-18T15:42:53.766988Z",
     "shell.execute_reply.started": "2025-09-18T15:42:53.763021Z"
    }
   },
   "outputs": [],
   "source": [
    "biased_neff_info['log10(Intended Sample Size)'] = np.log10(biased_neff_info['sample_size'])\n",
    "biased_neff_info['log10(Linear ESS)'] = np.log10(biased_neff_info['linear_neff'])\n",
    "biased_neff_info['log10(Nonlinear Interpolated ESS)'] = np.log10(biased_neff_info['interpolated_neff'])\n",
    "biased_neff_info['log10(Nonlinear ESS from FI)'] = np.log10(biased_neff_info['neff_from_FI'])"
   ]
  },
  {
   "cell_type": "code",
   "execution_count": 81,
   "id": "376829a7",
   "metadata": {
    "execution": {
     "iopub.execute_input": "2025-09-18T15:42:53.912808Z",
     "iopub.status.busy": "2025-09-18T15:42:53.911809Z",
     "iopub.status.idle": "2025-09-18T15:42:53.919313Z",
     "shell.execute_reply": "2025-09-18T15:42:53.919313Z",
     "shell.execute_reply.started": "2025-09-18T15:42:53.912808Z"
    }
   },
   "outputs": [],
   "source": [
    "biased_neff_info_filter = (~biased_neff_info[\"sample_size\"].isin(range(31, 45))) | (\n",
    "    biased_neff_info[\"sample_size\"] == 40\n",
    ")"
   ]
  },
  {
   "cell_type": "code",
   "execution_count": 82,
   "id": "1edb1197-b39c-483e-ae24-c5ac094be674",
   "metadata": {
    "execution": {
     "iopub.execute_input": "2025-09-18T15:42:54.934496Z",
     "iopub.status.busy": "2025-09-18T15:42:54.934496Z",
     "iopub.status.idle": "2025-09-18T15:42:54.941998Z",
     "shell.execute_reply": "2025-09-18T15:42:54.941998Z",
     "shell.execute_reply.started": "2025-09-18T15:42:54.934496Z"
    }
   },
   "outputs": [
    {
     "data": {
      "text/html": [
       "<div>\n",
       "<style scoped>\n",
       "    .dataframe tbody tr th:only-of-type {\n",
       "        vertical-align: middle;\n",
       "    }\n",
       "\n",
       "    .dataframe tbody tr th {\n",
       "        vertical-align: top;\n",
       "    }\n",
       "\n",
       "    .dataframe thead th {\n",
       "        text-align: right;\n",
       "    }\n",
       "</style>\n",
       "<table border=\"1\" class=\"dataframe\">\n",
       "  <thead>\n",
       "    <tr style=\"text-align: right;\">\n",
       "      <th></th>\n",
       "      <th>sample_size</th>\n",
       "      <th>avg_mse</th>\n",
       "      <th>interpolated_neff</th>\n",
       "      <th>linear_neff</th>\n",
       "      <th>neff_from_FI</th>\n",
       "      <th>log10(Intended Sample Size)</th>\n",
       "      <th>log10(Linear ESS)</th>\n",
       "      <th>log10(Nonlinear Interpolated ESS)</th>\n",
       "      <th>log10(Nonlinear ESS from FI)</th>\n",
       "    </tr>\n",
       "  </thead>\n",
       "  <tbody>\n",
       "    <tr>\n",
       "      <th>0</th>\n",
       "      <td>6</td>\n",
       "      <td>2.199372</td>\n",
       "      <td>4.216018</td>\n",
       "      <td>9.181829</td>\n",
       "      <td>3.159416</td>\n",
       "      <td>0.778151</td>\n",
       "      <td>0.962929</td>\n",
       "      <td>0.624902</td>\n",
       "      <td>0.499607</td>\n",
       "    </tr>\n",
       "    <tr>\n",
       "      <th>1</th>\n",
       "      <td>7</td>\n",
       "      <td>2.210749</td>\n",
       "      <td>4.102709</td>\n",
       "      <td>10.391130</td>\n",
       "      <td>3.143157</td>\n",
       "      <td>0.845098</td>\n",
       "      <td>1.016663</td>\n",
       "      <td>0.613071</td>\n",
       "      <td>0.497366</td>\n",
       "    </tr>\n",
       "    <tr>\n",
       "      <th>2</th>\n",
       "      <td>9</td>\n",
       "      <td>2.454692</td>\n",
       "      <td>NaN</td>\n",
       "      <td>12.514574</td>\n",
       "      <td>2.830795</td>\n",
       "      <td>0.954243</td>\n",
       "      <td>1.097416</td>\n",
       "      <td>NaN</td>\n",
       "      <td>0.451908</td>\n",
       "    </tr>\n",
       "    <tr>\n",
       "      <th>3</th>\n",
       "      <td>11</td>\n",
       "      <td>2.610598</td>\n",
       "      <td>NaN</td>\n",
       "      <td>13.704093</td>\n",
       "      <td>2.661739</td>\n",
       "      <td>1.041393</td>\n",
       "      <td>1.136850</td>\n",
       "      <td>NaN</td>\n",
       "      <td>0.425165</td>\n",
       "    </tr>\n",
       "    <tr>\n",
       "      <th>4</th>\n",
       "      <td>13</td>\n",
       "      <td>2.808496</td>\n",
       "      <td>NaN</td>\n",
       "      <td>14.508871</td>\n",
       "      <td>2.474182</td>\n",
       "      <td>1.113943</td>\n",
       "      <td>1.161634</td>\n",
       "      <td>NaN</td>\n",
       "      <td>0.393432</td>\n",
       "    </tr>\n",
       "    <tr>\n",
       "      <th>5</th>\n",
       "      <td>16</td>\n",
       "      <td>2.721559</td>\n",
       "      <td>NaN</td>\n",
       "      <td>15.186187</td>\n",
       "      <td>2.553217</td>\n",
       "      <td>1.204120</td>\n",
       "      <td>1.181449</td>\n",
       "      <td>NaN</td>\n",
       "      <td>0.407088</td>\n",
       "    </tr>\n",
       "    <tr>\n",
       "      <th>6</th>\n",
       "      <td>20</td>\n",
       "      <td>2.430815</td>\n",
       "      <td>NaN</td>\n",
       "      <td>16.178593</td>\n",
       "      <td>2.858601</td>\n",
       "      <td>1.301030</td>\n",
       "      <td>1.208941</td>\n",
       "      <td>NaN</td>\n",
       "      <td>0.456154</td>\n",
       "    </tr>\n",
       "    <tr>\n",
       "      <th>7</th>\n",
       "      <td>25</td>\n",
       "      <td>2.065339</td>\n",
       "      <td>5.525056</td>\n",
       "      <td>17.240627</td>\n",
       "      <td>3.364450</td>\n",
       "      <td>1.397940</td>\n",
       "      <td>1.236553</td>\n",
       "      <td>0.742337</td>\n",
       "      <td>0.526914</td>\n",
       "    </tr>\n",
       "    <tr>\n",
       "      <th>8</th>\n",
       "      <td>30</td>\n",
       "      <td>1.649274</td>\n",
       "      <td>11.480792</td>\n",
       "      <td>18.556688</td>\n",
       "      <td>4.213205</td>\n",
       "      <td>1.477121</td>\n",
       "      <td>1.268500</td>\n",
       "      <td>1.059972</td>\n",
       "      <td>0.624613</td>\n",
       "    </tr>\n",
       "    <tr>\n",
       "      <th>18</th>\n",
       "      <td>40</td>\n",
       "      <td>1.113357</td>\n",
       "      <td>16.457516</td>\n",
       "      <td>21.444453</td>\n",
       "      <td>6.241243</td>\n",
       "      <td>1.602060</td>\n",
       "      <td>1.331315</td>\n",
       "      <td>1.216364</td>\n",
       "      <td>0.795271</td>\n",
       "    </tr>\n",
       "  </tbody>\n",
       "</table>\n",
       "</div>"
      ],
      "text/plain": [
       "    sample_size   avg_mse  interpolated_neff  linear_neff  neff_from_FI  \\\n",
       "0             6  2.199372           4.216018     9.181829      3.159416   \n",
       "1             7  2.210749           4.102709    10.391130      3.143157   \n",
       "2             9  2.454692                NaN    12.514574      2.830795   \n",
       "3            11  2.610598                NaN    13.704093      2.661739   \n",
       "4            13  2.808496                NaN    14.508871      2.474182   \n",
       "5            16  2.721559                NaN    15.186187      2.553217   \n",
       "6            20  2.430815                NaN    16.178593      2.858601   \n",
       "7            25  2.065339           5.525056    17.240627      3.364450   \n",
       "8            30  1.649274          11.480792    18.556688      4.213205   \n",
       "18           40  1.113357          16.457516    21.444453      6.241243   \n",
       "\n",
       "    log10(Intended Sample Size)  log10(Linear ESS)  \\\n",
       "0                      0.778151           0.962929   \n",
       "1                      0.845098           1.016663   \n",
       "2                      0.954243           1.097416   \n",
       "3                      1.041393           1.136850   \n",
       "4                      1.113943           1.161634   \n",
       "5                      1.204120           1.181449   \n",
       "6                      1.301030           1.208941   \n",
       "7                      1.397940           1.236553   \n",
       "8                      1.477121           1.268500   \n",
       "18                     1.602060           1.331315   \n",
       "\n",
       "    log10(Nonlinear Interpolated ESS)  log10(Nonlinear ESS from FI)  \n",
       "0                            0.624902                      0.499607  \n",
       "1                            0.613071                      0.497366  \n",
       "2                                 NaN                      0.451908  \n",
       "3                                 NaN                      0.425165  \n",
       "4                                 NaN                      0.393432  \n",
       "5                                 NaN                      0.407088  \n",
       "6                                 NaN                      0.456154  \n",
       "7                            0.742337                      0.526914  \n",
       "8                            1.059972                      0.624613  \n",
       "18                           1.216364                      0.795271  "
      ]
     },
     "execution_count": 82,
     "metadata": {},
     "output_type": "execute_result"
    }
   ],
   "source": [
    "biased_neff_info[biased_neff_info_filter].iloc[:10]"
   ]
  },
  {
   "cell_type": "code",
   "execution_count": 83,
   "id": "dd6dddee-556a-423e-b666-dbf2025da461",
   "metadata": {
    "execution": {
     "iopub.execute_input": "2025-09-18T15:42:55.255212Z",
     "iopub.status.busy": "2025-09-18T15:42:55.254164Z",
     "iopub.status.idle": "2025-09-18T15:42:55.259228Z",
     "shell.execute_reply": "2025-09-18T15:42:55.259228Z",
     "shell.execute_reply.started": "2025-09-18T15:42:55.255212Z"
    }
   },
   "outputs": [],
   "source": [
    "biased_neff_info['log10(Actual ESS)'] = biased_neff_info['log10(Nonlinear Interpolated ESS)']\n",
    "biased_neff_info['log10(MLE-Implied ESS)'] = biased_neff_info['log10(Nonlinear ESS from FI)']"
   ]
  },
  {
   "cell_type": "code",
   "execution_count": 84,
   "id": "80c0a7db-2e47-4c05-86aa-a20c9d43757c",
   "metadata": {
    "execution": {
     "iopub.execute_input": "2025-09-18T15:42:55.441317Z",
     "iopub.status.busy": "2025-09-18T15:42:55.440310Z",
     "iopub.status.idle": "2025-09-18T15:42:55.633941Z",
     "shell.execute_reply": "2025-09-18T15:42:55.633941Z",
     "shell.execute_reply.started": "2025-09-18T15:42:55.441317Z"
    }
   },
   "outputs": [
    {
     "data": {
      "image/png": "[encoded data removed]",
      "text/plain": [
       "<Figure size 640x480 with 1 Axes>"
      ]
     },
     "metadata": {},
     "output_type": "display_data"
    }
   ],
   "source": [
    "biased_neff_info[biased_neff_info_filter].set_index(\"log10(Intended Sample Size)\")[\n",
    "    [\n",
    "        \"log10(Linear ESS)\",\n",
    "        \"log10(Nonlinear Interpolated ESS)\",\n",
    "        \"log10(Nonlinear ESS from FI)\",\n",
    "    ]\n",
    "].plot()\n",
    "plt.title(\"Plot of Linear and Nonlinear ESS Versus Sample Size\")\n",
    "plt.ylabel(\"log10(ESS)\")\n",
    "plt.savefig(\"neff_both_ess_over_ss2.png\", bbox_inches=\"tight\")"
   ]
  },
  {
   "cell_type": "code",
   "execution_count": null,
   "id": "e48bed41-6096-40d0-bfa6-72de9706166b",
   "metadata": {},
   "outputs": [],
   "source": []
  },
  {
   "cell_type": "markdown",
   "id": "afa4a9b3-3045-45f8-8520-b51b3e0980ad",
   "metadata": {},
   "source": [
    "# Plot the Adjustment Factor:"
   ]
  },
  {
   "cell_type": "code",
   "execution_count": 85,
   "id": "d64eaafa-0452-4477-8933-c6116a2b8c00",
   "metadata": {
    "execution": {
     "iopub.execute_input": "2025-09-18T15:42:58.755206Z",
     "iopub.status.busy": "2025-09-18T15:42:58.755206Z",
     "iopub.status.idle": "2025-09-18T15:42:58.758979Z",
     "shell.execute_reply": "2025-09-18T15:42:58.758979Z",
     "shell.execute_reply.started": "2025-09-18T15:42:58.755206Z"
    }
   },
   "outputs": [],
   "source": [
    "co_val = 99\n",
    "\n",
    "high_neff_info = biased_neff_info[biased_neff_info['sample_size'] > co_val].copy()\n",
    "high_neff_info['ESS Adjustment Factor'] = high_neff_info['interpolated_neff'] / high_neff_info['linear_neff']"
   ]
  },
  {
   "cell_type": "code",
   "execution_count": 86,
   "id": "b657117b-223c-4097-9591-4fa6ab55b760",
   "metadata": {
    "execution": {
     "iopub.execute_input": "2025-09-18T15:42:58.893166Z",
     "iopub.status.busy": "2025-09-18T15:42:58.892159Z",
     "iopub.status.idle": "2025-09-18T15:42:58.992309Z",
     "shell.execute_reply": "2025-09-18T15:42:58.992309Z",
     "shell.execute_reply.started": "2025-09-18T15:42:58.893166Z"
    }
   },
   "outputs": [
    {
     "data": {
      "image/png": "[encoded data removed]",
      "text/plain": [
       "<Figure size 640x480 with 1 Axes>"
      ]
     },
     "metadata": {},
     "output_type": "display_data"
    }
   ],
   "source": [
    "high_neff_info.set_index(\"log10(Intended Sample Size)\")[\"ESS Adjustment Factor\"].plot()\n",
    "plt.ylabel(\"ESS Adjustment Factor\")\n",
    "plt.title(\"Plot of Adjustment Factor Versus Sample Size\")\n",
    "plt.savefig(\"neff_adjustment_factor.png\", bbox_inches=\"tight\")"
   ]
  },
  {
   "cell_type": "code",
   "execution_count": null,
   "id": "476d7c8e-d4cd-40dd-9cf0-e47bc2aa260b",
   "metadata": {},
   "outputs": [],
   "source": []
  },
  {
   "cell_type": "markdown",
   "id": "7dbef228-22ca-4e95-b85f-b6648f30cd3b",
   "metadata": {},
   "source": [
    "# Plot Both Together:"
   ]
  },
  {
   "cell_type": "code",
   "execution_count": 87,
   "id": "ff3f5614-be7d-4d28-b41d-b89665b5b1af",
   "metadata": {
    "execution": {
     "iopub.execute_input": "2025-09-18T15:43:02.985670Z",
     "iopub.status.busy": "2025-09-18T15:43:02.984624Z",
     "iopub.status.idle": "2025-09-18T15:43:03.376581Z",
     "shell.execute_reply": "2025-09-18T15:43:03.376581Z",
     "shell.execute_reply.started": "2025-09-18T15:43:02.985670Z"
    }
   },
   "outputs": [
    {
     "data": {
      "image/png": "[encoded data removed]",
      "text/plain": [
       "<Figure size 1400x600 with 2 Axes>"
      ]
     },
     "metadata": {},
     "output_type": "display_data"
    }
   ],
   "source": [
    "# Create a figure with 2 subplots (horizontal layout)\n",
    "fig, axes = plt.subplots(1, 2, figsize=(14, 6), sharey=False)\n",
    "\n",
    "# First plot: Linear and Nonlinear ESS\n",
    "biased_neff_info[biased_neff_info_filter].set_index(\"log10(Intended Sample Size)\")[\n",
    "    [\n",
    "        \"log10(Linear ESS)\",\n",
    "        \"log10(Actual ESS)\",\n",
    "    ]\n",
    "].plot(ax=axes[0])\n",
    "axes[0].set_title(\"Different ESS vs Sample Size\")\n",
    "axes[0].set_xlabel(\"log10(Intended Sample Size)\")\n",
    "axes[0].set_ylabel(\"log10(Effective Sample Size)\")\n",
    "\n",
    "y_max = biased_neff_info[[\"log10(Linear ESS)\", \"log10(Actual ESS)\"]].max().max()\n",
    "x_vals = biased_neff_info[\"log10(Intended Sample Size)\"]\n",
    "x_y_vals = x_vals[x_vals <= y_max]  # Only keep x where x <= y_max\n",
    "(x_eq_y_line,) = axes[0].plot(\n",
    "    x_y_vals, x_y_vals, color=\"gray\", linestyle=\"--\", label=\"x = y\"\n",
    ")\n",
    "\n",
    "# Build labels manually\n",
    "plot_columns = [\"log10(Linear ESS)\", \"log10(Actual ESS)\"]\n",
    "line_labels = plot_columns + [\"X = Y\"]\n",
    "handles = axes[0].lines  # includes both the data lines and x=y line\n",
    "axes[0].legend(handles=handles, labels=line_labels)\n",
    "\n",
    "\n",
    "# Second plot: ESS Adjustment Factor\n",
    "high_neff_info.set_index(\"log10(Intended Sample Size)\")[\"ESS Adjustment Factor\"].plot(\n",
    "    ax=axes[1]\n",
    ")\n",
    "axes[1].axhline(\n",
    "    y=1, color=\"gray\", linestyle=\"--\", alpha=0.5, linewidth=1.5\n",
    ")  # Dashed horizontal line\n",
    "axes[1].set_title(\"Adjustment Factor vs Sample Size\")\n",
    "axes[1].set_xlabel(\"log10(Intended Sample Size)\")\n",
    "axes[1].set_ylabel(\"ESS Adjustment Factor\")\n",
    "\n",
    "# Adjust layout and save\n",
    "plt.tight_layout()\n",
    "plt.savefig(\"ess_glm_lite.png\", bbox_inches=\"tight\")\n",
    "plt.show()"
   ]
  },
  {
   "cell_type": "code",
   "execution_count": null,
   "id": "354cd30e-4c4b-4354-995c-b540b33454e0",
   "metadata": {},
   "outputs": [],
   "source": []
  },
  {
   "cell_type": "markdown",
   "id": "a5a032df-1fa4-4723-8963-ae908dea80aa",
   "metadata": {},
   "source": [
    "### greyscale friendly:"
   ]
  },
  {
   "cell_type": "code",
   "execution_count": 88,
   "id": "c20c1947-1b36-4509-8621-24a383be794c",
   "metadata": {
    "execution": {
     "iopub.execute_input": "2025-09-18T15:43:25.224761Z",
     "iopub.status.busy": "2025-09-18T15:43:25.224761Z",
     "iopub.status.idle": "2025-09-18T15:43:25.589213Z",
     "shell.execute_reply": "2025-09-18T15:43:25.589213Z",
     "shell.execute_reply.started": "2025-09-18T15:43:25.224761Z"
    }
   },
   "outputs": [
    {
     "data": {
      "image/png": "[encoded data removed]",
      "text/plain": [
       "<Figure size 1400x600 with 2 Axes>"
      ]
     },
     "metadata": {},
     "output_type": "display_data"
    }
   ],
   "source": [
    "# Set up greyscale-friendly colors and styles\n",
    "plt.style.use(\"default\")  # Reset any existing style\n",
    "plt.rcParams[\"axes.prop_cycle\"] = plt.cycler(\"color\", [\"#000000\", \"#808080\", \"#C0C0C0\"])\n",
    "\n",
    "# Define line styles and markers for better distinction\n",
    "line_styles = [\"-\", \"--\", \"-.\", \":\"]\n",
    "markers = [\"o\", \"s\", \"^\", \"D\"]\n",
    "colors = [\"#000000\", \"#808080\", \"#C0C0C0\"]\n",
    "\n",
    "# Create a figure with 2 subplots (horizontal layout)\n",
    "fig, axes = plt.subplots(1, 2, figsize=(14, 6), sharey=False)\n",
    "\n",
    "# First plot: Linear and Nonlinear ESS\n",
    "data_subset = biased_neff_info[biased_neff_info_filter].set_index(\n",
    "    \"log10(Intended Sample Size)\"\n",
    ")\n",
    "plot_columns = [\"log10(Linear ESS)\", \"log10(Actual ESS)\"]\n",
    "\n",
    "# Plot each line manually for better control over styling\n",
    "for i, col in enumerate(plot_columns):\n",
    "    axes[0].plot(\n",
    "        data_subset.index,\n",
    "        data_subset[col],\n",
    "        color=colors[i],\n",
    "        linestyle=line_styles[i],\n",
    "        label=col,\n",
    "    )\n",
    "\n",
    "axes[0].set_title(\"Different ESS vs Sample Size\")\n",
    "axes[0].set_xlabel(\"log10(Intended Sample Size)\")\n",
    "axes[0].set_ylabel(\"log10(Effective Sample Size)\")\n",
    "\n",
    "# Add x=y reference line\n",
    "y_max = biased_neff_info[[\"log10(Linear ESS)\", \"log10(Actual ESS)\"]].max().max()\n",
    "x_vals = biased_neff_info[\"log10(Intended Sample Size)\"]\n",
    "x_y_vals = x_vals[x_vals <= y_max]  # Only keep x where x <= y_max\n",
    "\n",
    "(x_eq_y_line,) = axes[0].plot(\n",
    "    x_y_vals,\n",
    "    x_y_vals,\n",
    "    color=\"#666666\",\n",
    "    linestyle=\":\",\n",
    "    # linewidth=2,\n",
    "    alpha=0.8,\n",
    "    label=\"x = y\",\n",
    ")\n",
    "\n",
    "# Enhanced legend\n",
    "line_labels = plot_columns + [\"x = y\"]\n",
    "axes[0].legend(loc=\"best\", frameon=True, fancybox=False, edgecolor=\"black\")\n",
    "# axes[0].grid(True, alpha=0.3, linestyle='-', linewidth=0.5)\n",
    "\n",
    "# Second plot: ESS Adjustment Factor\n",
    "ess_data = high_neff_info.set_index(\"log10(Intended Sample Size)\")[\n",
    "    \"ESS Adjustment Factor\"\n",
    "]\n",
    "\n",
    "axes[1].plot(\n",
    "    ess_data.index,\n",
    "    ess_data.values,\n",
    "    color=\"#000000\",\n",
    "    linestyle=\"-\",\n",
    ")\n",
    "\n",
    "# Horizontal reference line at y=1\n",
    "axes[1].axhline(\n",
    "    y=1,\n",
    "    color=\"#666666\",\n",
    "    linestyle=\":\",\n",
    "    alpha=0.8,\n",
    "    linewidth=2,\n",
    ")\n",
    "\n",
    "axes[1].set_title(\"Adjustment Factor vs Sample Size\")\n",
    "axes[1].set_xlabel(\"log10(Intended Sample Size)\")\n",
    "axes[1].set_ylabel(\"ESS Adjustment Factor\")\n",
    "\n",
    "# Adjust layout and save\n",
    "plt.tight_layout()\n",
    "plt.savefig(\n",
    "    \"ess_glm_lite_greyscale.png\",\n",
    "    bbox_inches=\"tight\",\n",
    "    dpi=300,  # Higher resolution\n",
    "    facecolor=\"white\",\n",
    ")  # Ensure white background\n",
    "plt.show()"
   ]
  },
  {
   "cell_type": "code",
   "execution_count": null,
   "id": "f924a8f7-d932-4ddc-a3dc-0c515f44ea5e",
   "metadata": {},
   "outputs": [],
   "source": []
  }
 ],
 "metadata": {
  "kernelspec": {
   "display_name": "Python 3 (ipykernel)",
   "language": "python",
   "name": "python3"
  },
  "language_info": {
   "codemirror_mode": {
    "name": "ipython",
    "version": 3
   },
   "file_extension": ".py",
   "mimetype": "text/x-python",
   "name": "python",
   "nbconvert_exporter": "python",
   "pygments_lexer": "ipython3",
   "version": "3.12.8"
  }
 },
 "nbformat": 4,
 "nbformat_minor": 5
}
