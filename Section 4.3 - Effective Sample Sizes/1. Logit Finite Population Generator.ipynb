{
 "cells": [
  {
   "cell_type": "markdown",
   "id": "8135bc04-4679-49f8-8dc9-766af571e3f1",
   "metadata": {},
   "source": [
    "Generates the finite population to be used in effective sample size simulations."
   ]
  },
  {
   "cell_type": "markdown",
   "id": "c5c011f0",
   "metadata": {},
   "source": [
    "# Imports:"
   ]
  },
  {
   "cell_type": "code",
   "execution_count": null,
   "id": "23646d96-7a6e-4b04-853a-a041e5a2b7d7",
   "metadata": {
    "execution": {
     "iopub.execute_input": "2025-07-15T15:59:38.155454Z",
     "iopub.status.busy": "2025-07-15T15:59:38.155454Z",
     "iopub.status.idle": "2025-07-15T15:59:38.159280Z",
     "shell.execute_reply": "2025-07-15T15:59:38.159280Z",
     "shell.execute_reply.started": "2025-07-15T15:59:38.155454Z"
    }
   },
   "outputs": [],
   "source": [
    "import numpy as np\n",
    "import pickle\n",
    "import sys\n",
    "sys.path.append('../')\n",
    "from data_generating_utils import generate_population_data"
   ]
  },
  {
   "cell_type": "markdown",
   "id": "b2bfdd51",
   "metadata": {},
   "source": [
    "# Hyperparams:"
   ]
  },
  {
   "cell_type": "code",
   "execution_count": 5,
   "id": "29d053a9",
   "metadata": {
    "execution": {
     "iopub.execute_input": "2025-07-15T15:59:38.168740Z",
     "iopub.status.busy": "2025-07-15T15:59:38.167736Z",
     "iopub.status.idle": "2025-07-15T15:59:38.171851Z",
     "shell.execute_reply": "2025-07-15T15:59:38.171851Z",
     "shell.execute_reply.started": "2025-07-15T15:59:38.167736Z"
    }
   },
   "outputs": [],
   "source": [
    "population_size = 100_000\n",
    "\n",
    "number_of_coefficients = 1\n",
    "true_beta = 1\n",
    "\n",
    "feature_cols = [f'x_{i}' for i in range(number_of_coefficients)]\n",
    "link = 'Logit'"
   ]
  },
  {
   "cell_type": "code",
   "execution_count": null,
   "id": "44cf5812-7540-427f-b6f9-39d0ffee6e2c",
   "metadata": {},
   "outputs": [],
   "source": [
    "# for reproducibility:\n",
    "pop_index = 1\n",
    "iter_val = 0\n",
    "\n",
    "rand_generator = np.random.default_rng(seed=333 * pop_index + iter_val)"
   ]
  },
  {
   "cell_type": "markdown",
   "id": "25216b90",
   "metadata": {},
   "source": [
    "# Run:"
   ]
  },
  {
   "cell_type": "code",
   "execution_count": 6,
   "id": "34cbdbdb",
   "metadata": {
    "execution": {
     "iopub.execute_input": "2025-07-15T15:59:39.616017Z",
     "iopub.status.busy": "2025-07-15T15:59:39.616017Z",
     "iopub.status.idle": "2025-07-15T15:59:39.626848Z",
     "shell.execute_reply": "2025-07-15T15:59:39.626848Z",
     "shell.execute_reply.started": "2025-07-15T15:59:39.616017Z"
    }
   },
   "outputs": [],
   "source": [
    "pop_data = generate_population_data(\n",
    "    population_size,\n",
    "    number_of_coefficients,\n",
    "    rand_generator,\n",
    "    feature_cols=feature_cols,\n",
    "    true_beta=true_beta,\n",
    "    link=link,\n",
    ")"
   ]
  },
  {
   "cell_type": "code",
   "execution_count": 10,
   "id": "d80df6eb-b7ef-4d32-adc0-d485bed3d98d",
   "metadata": {
    "execution": {
     "iopub.execute_input": "2025-07-15T15:59:53.093352Z",
     "iopub.status.busy": "2025-07-15T15:59:53.093352Z",
     "iopub.status.idle": "2025-07-15T15:59:53.099837Z",
     "shell.execute_reply": "2025-07-15T15:59:53.099837Z",
     "shell.execute_reply.started": "2025-07-15T15:59:53.093352Z"
    }
   },
   "outputs": [
    {
     "data": {
      "text/html": [
       "<div>\n",
       "<style scoped>\n",
       "    .dataframe tbody tr th:only-of-type {\n",
       "        vertical-align: middle;\n",
       "    }\n",
       "\n",
       "    .dataframe tbody tr th {\n",
       "        vertical-align: top;\n",
       "    }\n",
       "\n",
       "    .dataframe thead th {\n",
       "        text-align: right;\n",
       "    }\n",
       "</style>\n",
       "<table border=\"1\" class=\"dataframe\">\n",
       "  <thead>\n",
       "    <tr style=\"text-align: right;\">\n",
       "      <th></th>\n",
       "      <th>y</th>\n",
       "      <th>x_0</th>\n",
       "    </tr>\n",
       "  </thead>\n",
       "  <tbody>\n",
       "    <tr>\n",
       "      <th>0</th>\n",
       "      <td>1</td>\n",
       "      <td>-0.952528</td>\n",
       "    </tr>\n",
       "    <tr>\n",
       "      <th>1</th>\n",
       "      <td>1</td>\n",
       "      <td>2.164991</td>\n",
       "    </tr>\n",
       "    <tr>\n",
       "      <th>2</th>\n",
       "      <td>0</td>\n",
       "      <td>-0.714784</td>\n",
       "    </tr>\n",
       "    <tr>\n",
       "      <th>3</th>\n",
       "      <td>1</td>\n",
       "      <td>1.079437</td>\n",
       "    </tr>\n",
       "    <tr>\n",
       "      <th>4</th>\n",
       "      <td>1</td>\n",
       "      <td>0.512145</td>\n",
       "    </tr>\n",
       "  </tbody>\n",
       "</table>\n",
       "</div>"
      ],
      "text/plain": [
       "   y       x_0\n",
       "0  1 -0.952528\n",
       "1  1  2.164991\n",
       "2  0 -0.714784\n",
       "3  1  1.079437\n",
       "4  1  0.512145"
      ]
     },
     "execution_count": 10,
     "metadata": {},
     "output_type": "execute_result"
    }
   ],
   "source": [
    "pop_data.head()"
   ]
  },
  {
   "cell_type": "code",
   "execution_count": 8,
   "id": "4877fcae",
   "metadata": {
    "execution": {
     "iopub.execute_input": "2025-07-15T15:59:42.845714Z",
     "iopub.status.busy": "2025-07-15T15:59:42.845714Z",
     "iopub.status.idle": "2025-07-15T15:59:42.852342Z",
     "shell.execute_reply": "2025-07-15T15:59:42.852342Z",
     "shell.execute_reply.started": "2025-07-15T15:59:42.845714Z"
    }
   },
   "outputs": [],
   "source": [
    "pickle_filename = f'base_population_data_{link}_{true_beta}.pickle'\n",
    "with open(pickle_filename, 'wb') as handle:\n",
    "    pickle.dump(pop_data, handle)"
   ]
  },
  {
   "cell_type": "code",
   "execution_count": null,
   "id": "e2af12f9-be63-40f0-a34b-6ba25b428e69",
   "metadata": {},
   "outputs": [],
   "source": []
  }
 ],
 "metadata": {
  "kernelspec": {
   "display_name": "Python 3 (ipykernel)",
   "language": "python",
   "name": "python3"
  },
  "language_info": {
   "codemirror_mode": {
    "name": "ipython",
    "version": 3
   },
   "file_extension": ".py",
   "mimetype": "text/x-python",
   "name": "python",
   "nbconvert_exporter": "python",
   "pygments_lexer": "ipython3",
   "version": "3.12.8"
  }
 },
 "nbformat": 4,
 "nbformat_minor": 5
}
