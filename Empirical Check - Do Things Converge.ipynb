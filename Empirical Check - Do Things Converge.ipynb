{
 "cells": [
  {
   "cell_type": "markdown",
   "id": "b2bc5b8f-6541-440d-8cc8-c79569f0e524",
   "metadata": {},
   "source": [
    "# Imports:"
   ]
  },
  {
   "cell_type": "code",
   "execution_count": 1,
   "id": "a692e085-d278-47ba-8444-112218b54b77",
   "metadata": {},
   "outputs": [],
   "source": [
    "import numpy as np\n",
    "import pandas as pd\n",
    "from scipy.stats import chi2, norm, cauchy, pareto"
   ]
  },
  {
   "cell_type": "markdown",
   "id": "cd03d91b-5d8f-485e-9df3-629b88660baa",
   "metadata": {
    "jp-MarkdownHeadingCollapsed": true
   },
   "source": [
    "# Check whether sigma_G^* converges:"
   ]
  },
  {
   "cell_type": "code",
   "execution_count": 2,
   "id": "c8ec2215-7c2b-4bb3-bf68-8165cff49d9e",
   "metadata": {},
   "outputs": [],
   "source": [
    "np.random.seed(333)"
   ]
  },
  {
   "cell_type": "code",
   "execution_count": 3,
   "id": "60aff6f0-e215-45ca-b26d-89fb8be31cc2",
   "metadata": {},
   "outputs": [],
   "source": [
    "def squared_sans_fourths(s):\n",
    "    s2 = np.mean(s ** 2)\n",
    "    s4 = np.mean(s ** 4)\n",
    "    return ((s2 ** 2) - s4 / len(s)) / (s2)"
   ]
  },
  {
   "cell_type": "code",
   "execution_count": 4,
   "id": "87e96e17-5436-468c-9f48-7d537bc443bb",
   "metadata": {},
   "outputs": [],
   "source": [
    "def gen_norm_squared_sans_fourths(N, n):\n",
    "    return [\n",
    "        squared_sans_fourths(\n",
    "            norm.rvs(size=n)\n",
    "    ) for _ in range(N)]\n",
    "\n",
    "def gen_chi_squared_sans_fourths(N, n):\n",
    "    return [\n",
    "        squared_sans_fourths(\n",
    "            chi2.rvs(size=n, df = 1)\n",
    "    ) for _ in range(N)]\n",
    "\n",
    "def gen_cauchy_sans_fourths(N, n):\n",
    "    return [\n",
    "        squared_sans_fourths(\n",
    "            cauchy.rvs(size=n)\n",
    "    ) for _ in range(N)]\n",
    "\n",
    "\n",
    "def gen_pareto_sans_fourths(N, n, b = 9):\n",
    "    return [\n",
    "        squared_sans_fourths(\n",
    "            pareto.rvs(size=n, b = b)\n",
    "    ) for _ in range(N)]"
   ]
  },
  {
   "cell_type": "code",
   "execution_count": 5,
   "id": "a703693c-2af9-42be-87f8-4ca0d8b17cfb",
   "metadata": {},
   "outputs": [
    {
     "name": "stdout",
     "output_type": "stream",
     "text": [
      "~~~~~~~~~~~~~~~~~1~~~~~~~~~~~~~~~\n",
      "0.7534877987636056\n",
      "0.3480344115534798\n",
      "~~~~~~~~~~~~~~~~~2~~~~~~~~~~~~~~~\n",
      "0.9717020666857672\n",
      "0.13667590856081055\n",
      "~~~~~~~~~~~~~~~~~3~~~~~~~~~~~~~~~\n",
      "0.9969034088911914\n",
      "0.04449942812519478\n",
      "~~~~~~~~~~~~~~~~~4~~~~~~~~~~~~~~~\n",
      "0.999671255277501\n",
      "0.014044062640958473\n"
     ]
    }
   ],
   "source": [
    "for i in range(1, 5):\n",
    "    s = gen_norm_squared_sans_fourths(10_000, 10 ** i)\n",
    "    print(f\"~~~~~~~~~~~~~~~~~{i}~~~~~~~~~~~~~~~\")\n",
    "    print(np.mean(s))\n",
    "    print(np.std(s))"
   ]
  },
  {
   "cell_type": "code",
   "execution_count": 6,
   "id": "8e748a81-42f8-423a-9bd1-1be4203527a0",
   "metadata": {},
   "outputs": [
    {
     "name": "stdout",
     "output_type": "stream",
     "text": [
      "~~~~~~~~~~~~~~~~~1~~~~~~~~~~~~~~~\n",
      "1.4902268765795792\n",
      "1.474954157498682\n",
      "~~~~~~~~~~~~~~~~~2~~~~~~~~~~~~~~~\n",
      "2.7151327900652227\n",
      "0.8484966846379363\n",
      "~~~~~~~~~~~~~~~~~3~~~~~~~~~~~~~~~\n",
      "2.9690160535273162\n",
      "0.3013465592982034\n",
      "~~~~~~~~~~~~~~~~~4~~~~~~~~~~~~~~~\n",
      "2.998704477005671\n",
      "0.09730910429651954\n"
     ]
    }
   ],
   "source": [
    "for i in range(1, 5):\n",
    "    s = gen_chi_squared_sans_fourths(10_000, 10 ** i)\n",
    "    print(f\"~~~~~~~~~~~~~~~~~{i}~~~~~~~~~~~~~~~\")\n",
    "    print(np.mean(s))\n",
    "    print(np.std(s))"
   ]
  },
  {
   "cell_type": "code",
   "execution_count": 7,
   "id": "63b7bae0-aac8-4afb-9963-2e7e4253c1e9",
   "metadata": {},
   "outputs": [
    {
     "name": "stdout",
     "output_type": "stream",
     "text": [
      "~~~~~~~~~~~~~~~~~1~~~~~~~~~~~~~~~\n",
      "21.883572607418166\n",
      "151.5010195712923\n",
      "~~~~~~~~~~~~~~~~~2~~~~~~~~~~~~~~~\n",
      "402.4562721311495\n",
      "8969.109152547231\n",
      "~~~~~~~~~~~~~~~~~3~~~~~~~~~~~~~~~\n",
      "4633.683463417528\n",
      "180504.04304569346\n",
      "~~~~~~~~~~~~~~~~~4~~~~~~~~~~~~~~~\n",
      "31804.210246460992\n",
      "414545.5127911238\n"
     ]
    }
   ],
   "source": [
    "for i in range(1, 5):\n",
    "    s = gen_cauchy_sans_fourths(10_000, 10 ** i)\n",
    "    print(f\"~~~~~~~~~~~~~~~~~{i}~~~~~~~~~~~~~~~\")\n",
    "    print(np.mean(s))\n",
    "    print(np.std(s))"
   ]
  },
  {
   "cell_type": "code",
   "execution_count": 8,
   "id": "23c63e6f-c34d-40d6-8924-5684b1cdc93a",
   "metadata": {},
   "outputs": [
    {
     "name": "stdout",
     "output_type": "stream",
     "text": [
      "~~~~~~~~~~~~~~~~~1~~~~~~~~~~~~~~~\n",
      "1.1480119148212793\n",
      "0.0980342154074865\n",
      "~~~~~~~~~~~~~~~~~2~~~~~~~~~~~~~~~\n",
      "1.2718337448631698\n",
      "0.03759151828671276\n",
      "~~~~~~~~~~~~~~~~~3~~~~~~~~~~~~~~~\n",
      "1.2843378350401586\n",
      "0.012067555465863515\n",
      "~~~~~~~~~~~~~~~~~4~~~~~~~~~~~~~~~\n",
      "1.2855787802049417\n",
      "0.0038817124467144604\n"
     ]
    }
   ],
   "source": [
    "for i in range(1, 5):\n",
    "    s = gen_pareto_sans_fourths(10_000, 10 ** i)\n",
    "    print(f\"~~~~~~~~~~~~~~~~~{i}~~~~~~~~~~~~~~~\")\n",
    "    print(np.mean(s))\n",
    "    print(np.std(s))"
   ]
  },
  {
   "cell_type": "code",
   "execution_count": null,
   "id": "5040d41e-db27-4e5b-bb03-836057c8712b",
   "metadata": {},
   "outputs": [],
   "source": []
  },
  {
   "cell_type": "code",
   "execution_count": 9,
   "id": "5b0c6c69-3b98-40d4-b2d6-b7b612227f98",
   "metadata": {},
   "outputs": [
    {
     "name": "stdout",
     "output_type": "stream",
     "text": [
      "~~~~~~~~~~~~~~~~~1~~~~~~~~~~~~~~~\n",
      "1.4447489066712136\n",
      "0.2581450094168604\n",
      "~~~~~~~~~~~~~~~~~2~~~~~~~~~~~~~~~\n",
      "1.6389508887112465\n",
      "0.12225884357835434\n",
      "~~~~~~~~~~~~~~~~~3~~~~~~~~~~~~~~~\n",
      "1.6632231597787384\n",
      "0.04393536574075072\n",
      "~~~~~~~~~~~~~~~~~4~~~~~~~~~~~~~~~\n",
      "1.666344222867762\n",
      "0.014369169324516413\n"
     ]
    }
   ],
   "source": [
    "for i in range(1, 5):\n",
    "    s = gen_pareto_sans_fourths(10_000, 10 ** i, b = 5)\n",
    "    print(f\"~~~~~~~~~~~~~~~~~{i}~~~~~~~~~~~~~~~\")\n",
    "    print(np.mean(s))\n",
    "    print(np.std(s))"
   ]
  },
  {
   "cell_type": "code",
   "execution_count": null,
   "id": "06851e8e-64a7-4cc3-8741-57633511edb0",
   "metadata": {},
   "outputs": [],
   "source": []
  },
  {
   "cell_type": "code",
   "execution_count": 10,
   "id": "2fdc1b70-f840-4d88-bf0e-9a91c4235ed1",
   "metadata": {},
   "outputs": [
    {
     "name": "stdout",
     "output_type": "stream",
     "text": [
      "~~~~~~~~~~~~~~~~~1~~~~~~~~~~~~~~~\n",
      "2.1239383798817135\n",
      "0.7933975771043452\n",
      "~~~~~~~~~~~~~~~~~2~~~~~~~~~~~~~~~\n",
      "2.7241375146538367\n",
      "0.5766452984599947\n",
      "~~~~~~~~~~~~~~~~~3~~~~~~~~~~~~~~~\n",
      "2.9171975525258773\n",
      "0.3533283760409992\n",
      "~~~~~~~~~~~~~~~~~4~~~~~~~~~~~~~~~\n",
      "2.9742299503260368\n",
      "0.20123084092287966\n"
     ]
    }
   ],
   "source": [
    "for i in range(1, 5):\n",
    "    s = gen_pareto_sans_fourths(10_000, 10 ** i, b = 3)\n",
    "    print(f\"~~~~~~~~~~~~~~~~~{i}~~~~~~~~~~~~~~~\")\n",
    "    print(np.mean(s))\n",
    "    print(np.std(s))"
   ]
  },
  {
   "cell_type": "code",
   "execution_count": null,
   "id": "e72f0fbb-3ffa-4584-b90b-148661b648f7",
   "metadata": {},
   "outputs": [],
   "source": []
  },
  {
   "cell_type": "code",
   "execution_count": 11,
   "id": "d96b914d-7563-4704-9002-bc99e672edfd",
   "metadata": {},
   "outputs": [
    {
     "name": "stdout",
     "output_type": "stream",
     "text": [
      "~~~~~~~~~~~~~~~~~1~~~~~~~~~~~~~~~\n",
      "89.99196022665795\n",
      "2144.5171238457774\n",
      "~~~~~~~~~~~~~~~~~2~~~~~~~~~~~~~~~\n",
      "729.0757939903634\n",
      "6688.097730308052\n",
      "~~~~~~~~~~~~~~~~~3~~~~~~~~~~~~~~~\n",
      "7852.239195577441\n",
      "150693.2485103794\n",
      "~~~~~~~~~~~~~~~~~4~~~~~~~~~~~~~~~\n",
      "121453.82538958898\n",
      "5525949.344751528\n"
     ]
    }
   ],
   "source": [
    "for i in range(1, 5):\n",
    "    s = gen_pareto_sans_fourths(10_000, 10 ** i, b = 1)\n",
    "    print(f\"~~~~~~~~~~~~~~~~~{i}~~~~~~~~~~~~~~~\")\n",
    "    print(np.mean(s))\n",
    "    print(np.std(s))"
   ]
  },
  {
   "cell_type": "code",
   "execution_count": null,
   "id": "ffa63f16-9665-44fa-bf21-4a7f27d1295b",
   "metadata": {},
   "outputs": [],
   "source": []
  },
  {
   "cell_type": "code",
   "execution_count": 12,
   "id": "2707e6f5-c289-470f-a8b1-54d5bd3561a1",
   "metadata": {},
   "outputs": [
    {
     "name": "stdout",
     "output_type": "stream",
     "text": [
      "~~~~~~~~~~~~~~~~~1~~~~~~~~~~~~~~~\n",
      "3.6245546243564313\n",
      "10.483824329454297\n",
      "~~~~~~~~~~~~~~~~~2~~~~~~~~~~~~~~~\n",
      "5.677811024347859\n",
      "3.403382990967455\n",
      "~~~~~~~~~~~~~~~~~3~~~~~~~~~~~~~~~\n",
      "7.536218293314596\n",
      "2.8507070024912133\n",
      "~~~~~~~~~~~~~~~~~4~~~~~~~~~~~~~~~\n",
      "9.140792869493794\n",
      "2.8861869153863933\n"
     ]
    }
   ],
   "source": [
    "for i in range(1, 5):\n",
    "    s = gen_pareto_sans_fourths(10_000, 10 ** i, b = 2.1)\n",
    "    print(f\"~~~~~~~~~~~~~~~~~{i}~~~~~~~~~~~~~~~\")\n",
    "    print(np.mean(s))\n",
    "    print(np.std(s))"
   ]
  },
  {
   "cell_type": "code",
   "execution_count": null,
   "id": "3ebb59a0-7e7b-4b50-b904-45d1a5f439d3",
   "metadata": {},
   "outputs": [],
   "source": []
  },
  {
   "cell_type": "code",
   "execution_count": 13,
   "id": "c3b18f1d-ed73-4ad3-a60d-9e2a3d5e9c04",
   "metadata": {},
   "outputs": [
    {
     "name": "stdout",
     "output_type": "stream",
     "text": [
      "~~~~~~~~~~~~~~~~~1~~~~~~~~~~~~~~~\n",
      "4.289307414949223\n",
      "8.52589610677051\n",
      "~~~~~~~~~~~~~~~~~2~~~~~~~~~~~~~~~\n",
      "7.875097930486944\n",
      "5.622884141245383\n",
      "~~~~~~~~~~~~~~~~~3~~~~~~~~~~~~~~~\n",
      "11.742828838089595\n",
      "15.60620378120335\n",
      "~~~~~~~~~~~~~~~~~4~~~~~~~~~~~~~~~\n",
      "15.996641359461751\n",
      "10.00319802957601\n"
     ]
    }
   ],
   "source": [
    "for i in range(1, 5):\n",
    "    s = gen_pareto_sans_fourths(10_000, 10 ** i, b = 1.9)\n",
    "    print(f\"~~~~~~~~~~~~~~~~~{i}~~~~~~~~~~~~~~~\")\n",
    "    print(np.mean(s))\n",
    "    print(np.std(s))"
   ]
  },
  {
   "cell_type": "code",
   "execution_count": null,
   "id": "9837ae26-0248-45d9-b492-ba608ef7717f",
   "metadata": {},
   "outputs": [],
   "source": []
  },
  {
   "cell_type": "markdown",
   "id": "afeb69bc-d65c-4bfc-a64e-187096011a62",
   "metadata": {},
   "source": [
    "# Check whether E_{SRS}[1/J^4] converges:"
   ]
  },
  {
   "cell_type": "code",
   "execution_count": 2,
   "id": "a670a221-3e06-484f-951c-219b85dbc08f",
   "metadata": {},
   "outputs": [],
   "source": [
    "k = cauchy.rvs(size=10)"
   ]
  },
  {
   "cell_type": "code",
   "execution_count": 3,
   "id": "19b50f47-b6c5-4f75-85d9-7ca355882195",
   "metadata": {},
   "outputs": [
    {
     "data": {
      "text/plain": [
       "np.float64(0.17787420539033327)"
      ]
     },
     "execution_count": 3,
     "metadata": {},
     "output_type": "execute_result"
    }
   ],
   "source": [
    "np.mean(np.random.choice(k, 3, replace=False))"
   ]
  },
  {
   "cell_type": "code",
   "execution_count": 4,
   "id": "47285572-66c2-4c70-9c04-9e830eb7d9fb",
   "metadata": {},
   "outputs": [],
   "source": [
    "def jn_given_population(s_sq, n: int, sims: int = 1_000, smaller_factor: int = 10):\n",
    "    actual_sims = max(sims, len(s_sq) // smaller_factor)\n",
    "    return [1 / (np.mean(np.random.choice(s_sq, n, replace=False)) ** 4) for _ in range(sims)]"
   ]
  },
  {
   "cell_type": "code",
   "execution_count": 5,
   "id": "b85f3de5-f1e3-4384-ba7f-d6b129eeb922",
   "metadata": {},
   "outputs": [],
   "source": [
    "def gen_norm_jn(N, n, smaller_factor=10):\n",
    "    return jn_given_population(\n",
    "            norm.rvs(size=N) ** 2, n=n, smaller_factor=smaller_factor\n",
    "    ) \n",
    "\n",
    "def gen_chi_squared_jn(N, n, smaller_factor=10):\n",
    "    return jn_given_population(\n",
    "            chi2.rvs(size=N, df = 1) ** 2, n=n, smaller_factor=smaller_factor\n",
    "    )\n",
    "\n",
    "def gen_cauchy_jn(N, n, smaller_factor=10):\n",
    "    return jn_given_population(\n",
    "            cauchy.rvs(size=N) ** 2, n=n, smaller_factor=smaller_factor\n",
    "    )\n",
    "\n",
    "\n",
    "def gen_pareto_jn(N, n, b = 9, smaller_factor=10):\n",
    "    return jn_given_population(\n",
    "            pareto.rvs(size=N, b = b) ** 2, n=n, smaller_factor=smaller_factor\n",
    "    )"
   ]
  },
  {
   "cell_type": "code",
   "execution_count": null,
   "id": "bc13b716-8468-4316-b794-9d7ea68e4deb",
   "metadata": {},
   "outputs": [],
   "source": []
  },
  {
   "cell_type": "markdown",
   "id": "8db91f1a-999f-483a-81c9-6b371ab78ac7",
   "metadata": {},
   "source": [
    "### constant n, increasing N:"
   ]
  },
  {
   "cell_type": "code",
   "execution_count": 77,
   "id": "6f2f3a65-796c-4f4f-be29-78106fe26f1a",
   "metadata": {},
   "outputs": [],
   "source": [
    "super_sims = 20"
   ]
  },
  {
   "cell_type": "markdown",
   "id": "71c97fce-a8ec-4cf2-82b3-7c0bc6aa4033",
   "metadata": {},
   "source": [
    "#### normal RV:"
   ]
  },
  {
   "cell_type": "markdown",
   "id": "b7e7ffdb-e31d-4f0b-91e8-d10dc00a9a63",
   "metadata": {},
   "source": [
    "expectation for below: no, or at least this does not satisfy the assumptions for classical u-statistic literature"
   ]
  },
  {
   "cell_type": "code",
   "execution_count": 78,
   "id": "5e9b59b5-d8d4-4d9d-98f0-4f5e3467cfcf",
   "metadata": {},
   "outputs": [
    {
     "name": "stdout",
     "output_type": "stream",
     "text": [
      "~~~~~~~~~~~~~~~~~1~~~~~~~~~~~~~~~\n",
      "9.812403724645362\n",
      "31.049082607868176\n",
      "~~~~~~~~~~~~~~~~~2~~~~~~~~~~~~~~~\n",
      "20.958897407501144\n",
      "11.43605321926172\n",
      "~~~~~~~~~~~~~~~~~3~~~~~~~~~~~~~~~\n",
      "27.785525227285923\n",
      "27.68242434989221\n",
      "~~~~~~~~~~~~~~~~~4~~~~~~~~~~~~~~~\n",
      "19.69212922686581\n",
      "9.162119189761043\n",
      "~~~~~~~~~~~~~~~~~5~~~~~~~~~~~~~~~\n",
      "17.01346048806104\n",
      "5.4941131176087845\n"
     ]
    }
   ],
   "source": [
    "for i in range(1, 6):\n",
    "    temp_samples_of_e_srs = []\n",
    "    for _ in range(super_sims):\n",
    "        s = gen_norm_jn(10 ** i, 10)\n",
    "        temp_samples_of_e_srs.append(np.mean(s))\n",
    "        \n",
    "    print(f\"~~~~~~~~~~~~~~~~~{i}~~~~~~~~~~~~~~~\")\n",
    "    print(np.mean(temp_samples_of_e_srs))\n",
    "    print(np.std(temp_samples_of_e_srs))"
   ]
  },
  {
   "cell_type": "code",
   "execution_count": null,
   "id": "f77dfd79-1232-4840-8216-8d9310e50ee7",
   "metadata": {},
   "outputs": [],
   "source": []
  },
  {
   "cell_type": "code",
   "execution_count": 6,
   "id": "c733d1d1-886c-4708-8c28-7310ec2ecc3f",
   "metadata": {},
   "outputs": [],
   "source": [
    "super_sims = 20"
   ]
  },
  {
   "cell_type": "markdown",
   "id": "bbcd63bb-d2e4-4829-ae3b-2166c12ba3fe",
   "metadata": {},
   "source": [
    "expectation for below: no"
   ]
  },
  {
   "cell_type": "code",
   "execution_count": 7,
   "id": "7ee7ae9d-aed0-47d8-8859-41eeba1ed7bc",
   "metadata": {},
   "outputs": [
    {
     "name": "stdout",
     "output_type": "stream",
     "text": [
      "~~~~~~~~~~~~~~~~~1~~~~~~~~~~~~~~~\n",
      "5.772519422675527e+19\n",
      "2.5161828604502275e+20\n",
      "~~~~~~~~~~~~~~~~~2~~~~~~~~~~~~~~~\n",
      "8.630563277970939e+28\n",
      "3.747677662235374e+29\n",
      "~~~~~~~~~~~~~~~~~3~~~~~~~~~~~~~~~\n",
      "3.7990319312076484e+30\n",
      "1.6559544700078887e+31\n",
      "~~~~~~~~~~~~~~~~~4~~~~~~~~~~~~~~~\n",
      "4.814473664476591e+39\n",
      "2.0985787821508508e+40\n",
      "~~~~~~~~~~~~~~~~~5~~~~~~~~~~~~~~~\n",
      "6.053098214803902e+27\n",
      "2.6247767497503354e+28\n"
     ]
    }
   ],
   "source": [
    "for i in range(1, 6):\n",
    "    temp_samples_of_e_srs = []\n",
    "    for _ in range(super_sims):\n",
    "        s = gen_norm_jn(10 ** i, 1)\n",
    "        temp_samples_of_e_srs.append(np.mean(s))\n",
    "        \n",
    "    print(f\"~~~~~~~~~~~~~~~~~{i}~~~~~~~~~~~~~~~\")\n",
    "    print(np.mean(temp_samples_of_e_srs))\n",
    "    print(np.std(temp_samples_of_e_srs))"
   ]
  },
  {
   "cell_type": "code",
   "execution_count": null,
   "id": "80e30180-2a56-4617-ae0a-ce2cdcf0ff64",
   "metadata": {},
   "outputs": [],
   "source": []
  },
  {
   "cell_type": "markdown",
   "id": "d06937b2-1188-4195-bcee-9149737ecb94",
   "metadata": {},
   "source": [
    "expectation for below: no, or at least this does not satisfy the assumptions for classical u-statistic literature"
   ]
  },
  {
   "cell_type": "code",
   "execution_count": 14,
   "id": "3b404960-3b2b-4e3b-ba8f-fba7d2bc5b13",
   "metadata": {},
   "outputs": [
    {
     "name": "stdout",
     "output_type": "stream",
     "text": [
      "~~~~~~~~~~~~~~~~~2~~~~~~~~~~~~~~~\n",
      "3.824343048685351\n",
      "1.9234223453573427\n",
      "~~~~~~~~~~~~~~~~~3~~~~~~~~~~~~~~~\n",
      "4.473501263073026\n",
      "1.0255861787129987\n",
      "~~~~~~~~~~~~~~~~~4~~~~~~~~~~~~~~~\n",
      "4.67824009296177\n",
      "0.8149904168776031\n",
      "~~~~~~~~~~~~~~~~~5~~~~~~~~~~~~~~~\n",
      "4.925026594226969\n",
      "1.0592846608817503\n",
      "~~~~~~~~~~~~~~~~~6~~~~~~~~~~~~~~~\n",
      "4.545891759912805\n",
      "0.5704473953998235\n"
     ]
    }
   ],
   "source": [
    "for i in range(2, 7):\n",
    "    temp_samples_of_e_srs = []\n",
    "    for _ in range(super_sims):\n",
    "        s = gen_norm_jn(10 ** i, 16, smaller_factor=100)\n",
    "        temp_samples_of_e_srs.append(np.mean(s))\n",
    "        \n",
    "    print(f\"~~~~~~~~~~~~~~~~~{i}~~~~~~~~~~~~~~~\")\n",
    "    print(np.mean(temp_samples_of_e_srs))\n",
    "    print(np.std(temp_samples_of_e_srs))"
   ]
  },
  {
   "cell_type": "code",
   "execution_count": null,
   "id": "d4e8a434-675f-4c0b-9edb-7bc06d959849",
   "metadata": {},
   "outputs": [],
   "source": []
  },
  {
   "cell_type": "markdown",
   "id": "8c6f10ae-8354-42a5-a2ac-51a9875de40e",
   "metadata": {},
   "source": [
    "expectation for below: yes"
   ]
  },
  {
   "cell_type": "code",
   "execution_count": 15,
   "id": "529f3a21-a067-4def-b142-22c788c94aa2",
   "metadata": {},
   "outputs": [
    {
     "name": "stdout",
     "output_type": "stream",
     "text": [
      "~~~~~~~~~~~~~~~~~2~~~~~~~~~~~~~~~\n",
      "4.733763047857109\n",
      "4.42729573807164\n",
      "~~~~~~~~~~~~~~~~~3~~~~~~~~~~~~~~~\n",
      "4.256666760794833\n",
      "0.8991267042960781\n",
      "~~~~~~~~~~~~~~~~~4~~~~~~~~~~~~~~~\n",
      "4.044469269989458\n",
      "0.5168708854478925\n",
      "~~~~~~~~~~~~~~~~~5~~~~~~~~~~~~~~~\n",
      "4.747089886091889\n",
      "1.2503558053900319\n",
      "~~~~~~~~~~~~~~~~~6~~~~~~~~~~~~~~~\n",
      "4.119926694246409\n",
      "0.473646740117171\n"
     ]
    }
   ],
   "source": [
    "for i in range(2, 7):\n",
    "    temp_samples_of_e_srs = []\n",
    "    for _ in range(super_sims):\n",
    "        s = gen_norm_jn(10 ** i, 17, smaller_factor=100)\n",
    "        temp_samples_of_e_srs.append(np.mean(s))\n",
    "        \n",
    "    print(f\"~~~~~~~~~~~~~~~~~{i}~~~~~~~~~~~~~~~\")\n",
    "    print(np.mean(temp_samples_of_e_srs))\n",
    "    print(np.std(temp_samples_of_e_srs))"
   ]
  },
  {
   "cell_type": "code",
   "execution_count": null,
   "id": "1ec5bef9-6bef-4363-a28a-2593dffc9d5b",
   "metadata": {},
   "outputs": [],
   "source": []
  },
  {
   "cell_type": "code",
   "execution_count": null,
   "id": "295469f9-ef27-4bf2-b473-e34d376b3c90",
   "metadata": {},
   "outputs": [],
   "source": []
  },
  {
   "cell_type": "code",
   "execution_count": null,
   "id": "7ee3fbad-cf87-4cb8-95e7-9839ceda03d3",
   "metadata": {},
   "outputs": [],
   "source": []
  },
  {
   "cell_type": "markdown",
   "id": "62b1d21e-90e6-4c58-b40e-de6283b6233e",
   "metadata": {},
   "source": [
    "expectation for below: unknown"
   ]
  },
  {
   "cell_type": "code",
   "execution_count": 79,
   "id": "7316db67-d72c-45ae-9946-eabbbc957e22",
   "metadata": {},
   "outputs": [
    {
     "name": "stdout",
     "output_type": "stream",
     "text": [
      "~~~~~~~~~~~~~~~~~1~~~~~~~~~~~~~~~\n",
      "21.93829672442158\n",
      "84.00572674823653\n",
      "~~~~~~~~~~~~~~~~~2~~~~~~~~~~~~~~~\n",
      "92297.35388463804\n",
      "352119.66744369594\n",
      "~~~~~~~~~~~~~~~~~3~~~~~~~~~~~~~~~\n",
      "2167.8506491876183\n",
      "4567.011453299365\n",
      "~~~~~~~~~~~~~~~~~4~~~~~~~~~~~~~~~\n",
      "807.2745460082654\n",
      "1185.2137072458622\n",
      "~~~~~~~~~~~~~~~~~5~~~~~~~~~~~~~~~\n",
      "36612.78003161496\n",
      "132872.3711163346\n"
     ]
    }
   ],
   "source": [
    "for i in range(1, 6):\n",
    "    temp_samples_of_e_srs = []\n",
    "    for _ in range(super_sims):\n",
    "        s = gen_chi_squared_jn(10 ** i, 10)\n",
    "        temp_samples_of_e_srs.append(np.mean(s))\n",
    "        \n",
    "    print(f\"~~~~~~~~~~~~~~~~~{i}~~~~~~~~~~~~~~~\")\n",
    "    print(np.mean(temp_samples_of_e_srs))\n",
    "    print(np.std(temp_samples_of_e_srs))"
   ]
  },
  {
   "cell_type": "code",
   "execution_count": null,
   "id": "0b5d1cb5-a4a5-4284-a423-78fe3c88aaf0",
   "metadata": {},
   "outputs": [],
   "source": []
  },
  {
   "cell_type": "markdown",
   "id": "b5ba2e05-524c-46db-9b30-0380d23e5b00",
   "metadata": {},
   "source": [
    "expectation for below: no, because mean of cauchy is cauchy, and inverse of cauchy is cauchy"
   ]
  },
  {
   "cell_type": "code",
   "execution_count": 80,
   "id": "f43d148f-0220-4125-81eb-06eeae3090a3",
   "metadata": {},
   "outputs": [
    {
     "name": "stdout",
     "output_type": "stream",
     "text": [
      "~~~~~~~~~~~~~~~~~1~~~~~~~~~~~~~~~\n",
      "0.02468086196272672\n",
      "0.08315081415236003\n",
      "~~~~~~~~~~~~~~~~~2~~~~~~~~~~~~~~~\n",
      "0.6802079428184559\n",
      "1.2795725564461966\n",
      "~~~~~~~~~~~~~~~~~3~~~~~~~~~~~~~~~\n",
      "0.7119259028626338\n",
      "0.9513325024014526\n",
      "~~~~~~~~~~~~~~~~~4~~~~~~~~~~~~~~~\n",
      "0.7609212799109267\n",
      "0.5557379510680903\n",
      "~~~~~~~~~~~~~~~~~5~~~~~~~~~~~~~~~\n",
      "1.0772061986093253\n",
      "1.0290038024883146\n"
     ]
    }
   ],
   "source": [
    "for i in range(1, 6):\n",
    "    temp_samples_of_e_srs = []\n",
    "    for _ in range(super_sims):\n",
    "        s = gen_cauchy_jn(10 ** i, 10)\n",
    "        temp_samples_of_e_srs.append(np.mean(s))\n",
    "        \n",
    "    print(f\"~~~~~~~~~~~~~~~~~{i}~~~~~~~~~~~~~~~\")\n",
    "    print(np.mean(temp_samples_of_e_srs))\n",
    "    print(np.std(temp_samples_of_e_srs))"
   ]
  },
  {
   "cell_type": "code",
   "execution_count": null,
   "id": "ae345f0f-3b81-4441-8739-891b619ae958",
   "metadata": {},
   "outputs": [],
   "source": []
  },
  {
   "cell_type": "code",
   "execution_count": null,
   "id": "9015e711-0e52-479a-a50d-1193cf44b25a",
   "metadata": {},
   "outputs": [],
   "source": []
  },
  {
   "cell_type": "markdown",
   "id": "bb622e4e-cdc3-4ef6-bddb-582c39bb8b01",
   "metadata": {},
   "source": [
    "expectation for below: unknown"
   ]
  },
  {
   "cell_type": "code",
   "execution_count": 81,
   "id": "712bd5e1-e41d-4c28-bfcd-440f03cac10f",
   "metadata": {},
   "outputs": [
    {
     "name": "stdout",
     "output_type": "stream",
     "text": [
      "~~~~~~~~~~~~~~~~~1~~~~~~~~~~~~~~~\n",
      "0.3989689188092359\n",
      "0.11641220770696734\n",
      "~~~~~~~~~~~~~~~~~2~~~~~~~~~~~~~~~\n",
      "0.39319487655164387\n",
      "0.041389119285670815\n",
      "~~~~~~~~~~~~~~~~~3~~~~~~~~~~~~~~~\n",
      "0.39519264314770874\n",
      "0.012603198060720015\n",
      "~~~~~~~~~~~~~~~~~4~~~~~~~~~~~~~~~\n",
      "0.39384869120748967\n",
      "0.004914932548372808\n",
      "~~~~~~~~~~~~~~~~~5~~~~~~~~~~~~~~~\n",
      "0.39614746047838484\n",
      "0.004035528102153502\n"
     ]
    }
   ],
   "source": [
    "for i in range(1, 6):\n",
    "    temp_samples_of_e_srs = []\n",
    "    for _ in range(super_sims):\n",
    "        s = gen_pareto_jn(10 ** i, 10)\n",
    "        temp_samples_of_e_srs.append(np.mean(s))\n",
    "        \n",
    "    print(f\"~~~~~~~~~~~~~~~~~{i}~~~~~~~~~~~~~~~\")\n",
    "    print(np.mean(temp_samples_of_e_srs))\n",
    "    print(np.std(temp_samples_of_e_srs))"
   ]
  },
  {
   "cell_type": "code",
   "execution_count": null,
   "id": "eb1a7b67-ccc1-424b-b36b-34bfba111978",
   "metadata": {},
   "outputs": [],
   "source": []
  },
  {
   "cell_type": "code",
   "execution_count": null,
   "id": "9a2ed2b0-b7f8-4bf2-8bb0-4aacd3bf46e0",
   "metadata": {},
   "outputs": [],
   "source": []
  },
  {
   "cell_type": "markdown",
   "id": "db2a1ce6-949b-4bf6-aab3-323bc0a8c3de",
   "metadata": {},
   "source": [
    "### increasing n, increasing N:"
   ]
  },
  {
   "cell_type": "code",
   "execution_count": 84,
   "id": "a52a134f-35b9-4fb7-ac75-e87a2bdaa003",
   "metadata": {},
   "outputs": [],
   "source": [
    "super_sims = 1_000"
   ]
  },
  {
   "cell_type": "code",
   "execution_count": 85,
   "id": "843dd0c0-1752-4a8c-be6e-aa650757508c",
   "metadata": {},
   "outputs": [
    {
     "name": "stdout",
     "output_type": "stream",
     "text": [
      "~~~~~~~~~~~~~~~~~1~~~~~~~~~~~~~~~\n",
      "21.661541158076805\n",
      "301.27820434517764\n",
      "~~~~~~~~~~~~~~~~~2~~~~~~~~~~~~~~~\n",
      "20.843138912156537\n",
      "31.016521333049127\n",
      "~~~~~~~~~~~~~~~~~3~~~~~~~~~~~~~~~\n",
      "1.23035306174074\n",
      "0.22044163810598083\n",
      "~~~~~~~~~~~~~~~~~4~~~~~~~~~~~~~~~\n",
      "1.0196361589784628\n",
      "0.0597953662181929\n"
     ]
    }
   ],
   "source": [
    "for i in range(1, 5):\n",
    "    temp_samples_of_e_srs = []\n",
    "    for _ in range(super_sims):\n",
    "        s = gen_norm_jn(10 ** i, max(10, 10 ** (i-1)), smaller_factor=100)\n",
    "        temp_samples_of_e_srs.append(np.mean(s))\n",
    "        \n",
    "    print(f\"~~~~~~~~~~~~~~~~~{i}~~~~~~~~~~~~~~~\")\n",
    "    # print(temp_samples_of_e_srs)\n",
    "    print(np.mean(temp_samples_of_e_srs))\n",
    "    print(np.std(temp_samples_of_e_srs))"
   ]
  },
  {
   "cell_type": "code",
   "execution_count": 86,
   "id": "5ed49704-9e9f-4181-a782-d1807d47e7a4",
   "metadata": {},
   "outputs": [
    {
     "name": "stdout",
     "output_type": "stream",
     "text": [
      "~~~~~~~~~~~~~~~~~1~~~~~~~~~~~~~~~\n",
      "count    1000.000000\n",
      "mean       14.443078\n",
      "std       116.183879\n",
      "min         0.013301\n",
      "25%         0.459657\n",
      "50%         1.534231\n",
      "75%         5.412838\n",
      "max      3262.770017\n",
      "dtype: float64\n",
      "14.44307779686571\n",
      "116.125772158119\n",
      "~~~~~~~~~~~~~~~~~2~~~~~~~~~~~~~~~\n",
      "count    1000.000000\n",
      "mean       22.490956\n",
      "std        37.155356\n",
      "min         1.093401\n",
      "25%         7.541124\n",
      "50%        12.810825\n",
      "75%        23.100518\n",
      "max       635.491729\n",
      "dtype: float64\n",
      "22.490955719900587\n",
      "37.13677333088183\n",
      "~~~~~~~~~~~~~~~~~3~~~~~~~~~~~~~~~\n",
      "count    1000.000000\n",
      "mean        1.235461\n",
      "std         0.228543\n",
      "min         0.691061\n",
      "25%         1.077208\n",
      "50%         1.210459\n",
      "75%         1.370055\n",
      "max         2.867052\n",
      "dtype: float64\n",
      "1.2354613951735751\n",
      "0.22842821116843562\n"
     ]
    }
   ],
   "source": [
    "for i in range(1, 4):\n",
    "    temp_samples_of_e_srs = []\n",
    "    for _ in range(super_sims):\n",
    "        s = gen_norm_jn(10 ** i, max(10, 10 ** (i-1)), smaller_factor=100)\n",
    "        temp_samples_of_e_srs.append(np.mean(s))\n",
    "        \n",
    "    print(f\"~~~~~~~~~~~~~~~~~{i}~~~~~~~~~~~~~~~\")\n",
    "    print(pd.Series(temp_samples_of_e_srs).describe())\n",
    "    print(np.mean(temp_samples_of_e_srs))\n",
    "    print(np.std(temp_samples_of_e_srs))"
   ]
  },
  {
   "cell_type": "code",
   "execution_count": null,
   "id": "1c977dfd-b039-40e2-af78-ee6f2752a747",
   "metadata": {},
   "outputs": [],
   "source": []
  },
  {
   "cell_type": "code",
   "execution_count": 87,
   "id": "054be780-e42c-463a-a3f0-17d53daec5d1",
   "metadata": {},
   "outputs": [
    {
     "name": "stdout",
     "output_type": "stream",
     "text": [
      "~~~~~~~~~~~~~~~~~1~~~~~~~~~~~~~~~\n",
      "130.3727448817593\n",
      "2093.0588469799573\n",
      "~~~~~~~~~~~~~~~~~2~~~~~~~~~~~~~~~\n",
      "144521.29634729322\n",
      "2599330.4683671854\n",
      "~~~~~~~~~~~~~~~~~3~~~~~~~~~~~~~~~\n",
      "0.034738860935486726\n",
      "0.01382525439607548\n",
      "~~~~~~~~~~~~~~~~~4~~~~~~~~~~~~~~~\n",
      "0.01365480021607723\n",
      "0.001742751306045806\n"
     ]
    }
   ],
   "source": [
    "for i in range(1, 5):\n",
    "    temp_samples_of_e_srs = []\n",
    "    for _ in range(super_sims):\n",
    "        s = gen_chi_squared_jn(10 ** i, max(10, 10 ** (i-1)), smaller_factor=100)\n",
    "        temp_samples_of_e_srs.append(np.mean(s))\n",
    "        \n",
    "    print(f\"~~~~~~~~~~~~~~~~~{i}~~~~~~~~~~~~~~~\")\n",
    "    print(np.mean(temp_samples_of_e_srs))\n",
    "    print(np.std(temp_samples_of_e_srs))"
   ]
  },
  {
   "cell_type": "code",
   "execution_count": null,
   "id": "557701d6-17ec-4a6a-bd41-55bd536e29e6",
   "metadata": {},
   "outputs": [],
   "source": []
  },
  {
   "cell_type": "code",
   "execution_count": 88,
   "id": "840cb666-346f-454c-b1d4-81f7de493114",
   "metadata": {},
   "outputs": [
    {
     "name": "stdout",
     "output_type": "stream",
     "text": [
      "~~~~~~~~~~~~~~~~~1~~~~~~~~~~~~~~~\n",
      "0.7128704284423009\n",
      "10.45858939607403\n",
      "~~~~~~~~~~~~~~~~~2~~~~~~~~~~~~~~~\n",
      "1.3600905773437928\n",
      "8.687304646769729\n",
      "~~~~~~~~~~~~~~~~~3~~~~~~~~~~~~~~~\n",
      "7.83136729155336e-06\n",
      "7.815487056346134e-06\n",
      "~~~~~~~~~~~~~~~~~4~~~~~~~~~~~~~~~\n",
      "6.66781440929385e-10\n",
      "5.735405866814633e-10\n"
     ]
    }
   ],
   "source": [
    "for i in range(1, 5):\n",
    "    temp_samples_of_e_srs = []\n",
    "    for _ in range(super_sims):\n",
    "        s = gen_cauchy_jn(10 ** i, max(10, 10 ** (i-1)), smaller_factor=100)\n",
    "        temp_samples_of_e_srs.append(np.mean(s))\n",
    "        \n",
    "    print(f\"~~~~~~~~~~~~~~~~~{i}~~~~~~~~~~~~~~~\")\n",
    "    print(np.mean(temp_samples_of_e_srs))\n",
    "    print(np.std(temp_samples_of_e_srs))"
   ]
  },
  {
   "cell_type": "code",
   "execution_count": null,
   "id": "19b3fe26-ad8f-43e7-8cd7-ee7ae8f9d951",
   "metadata": {},
   "outputs": [],
   "source": []
  },
  {
   "cell_type": "code",
   "execution_count": 89,
   "id": "d9404515-944c-4ec3-a5a2-e4f1c49f3d12",
   "metadata": {},
   "outputs": [
    {
     "name": "stdout",
     "output_type": "stream",
     "text": [
      "~~~~~~~~~~~~~~~~~1~~~~~~~~~~~~~~~\n",
      "0.3962805962303229\n",
      "0.1191845354699322\n",
      "~~~~~~~~~~~~~~~~~2~~~~~~~~~~~~~~~\n",
      "0.3949324191487045\n",
      "0.03752261568412233\n",
      "~~~~~~~~~~~~~~~~~3~~~~~~~~~~~~~~~\n",
      "0.36818142252137653\n",
      "0.013614908573804761\n",
      "~~~~~~~~~~~~~~~~~4~~~~~~~~~~~~~~~\n",
      "0.36618338178274323\n",
      "0.0043032681767819865\n"
     ]
    }
   ],
   "source": [
    "for i in range(1, 5):\n",
    "    temp_samples_of_e_srs = []\n",
    "    for _ in range(super_sims):\n",
    "        s = gen_pareto_jn(10 ** i, max(10, 10 ** (i-1)), smaller_factor=100)\n",
    "        temp_samples_of_e_srs.append(np.mean(s))\n",
    "        \n",
    "    print(f\"~~~~~~~~~~~~~~~~~{i}~~~~~~~~~~~~~~~\")\n",
    "    print(np.mean(temp_samples_of_e_srs))\n",
    "    print(np.std(temp_samples_of_e_srs))"
   ]
  },
  {
   "cell_type": "code",
   "execution_count": null,
   "id": "d1a9d564-aa16-4355-a2e9-960d835381eb",
   "metadata": {},
   "outputs": [],
   "source": []
  },
  {
   "cell_type": "code",
   "execution_count": null,
   "id": "233b815f-cd83-49ab-a208-206bd8db3188",
   "metadata": {},
   "outputs": [],
   "source": []
  },
  {
   "cell_type": "code",
   "execution_count": null,
   "id": "649fae18-6407-4a59-824e-e0f446d314c2",
   "metadata": {},
   "outputs": [],
   "source": []
  },
  {
   "cell_type": "code",
   "execution_count": null,
   "id": "c0ad430d-b456-4a7a-86e8-bcb393b59b3a",
   "metadata": {},
   "outputs": [],
   "source": []
  }
 ],
 "metadata": {
  "kernelspec": {
   "display_name": "Python 3 (ipykernel)",
   "language": "python",
   "name": "python3"
  },
  "language_info": {
   "codemirror_mode": {
    "name": "ipython",
    "version": 3
   },
   "file_extension": ".py",
   "mimetype": "text/x-python",
   "name": "python",
   "nbconvert_exporter": "python",
   "pygments_lexer": "ipython3",
   "version": "3.12.8"
  }
 },
 "nbformat": 4,
 "nbformat_minor": 5
}
