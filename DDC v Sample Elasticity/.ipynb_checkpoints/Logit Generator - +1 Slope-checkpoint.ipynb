{
 "cells": [
  {
   "cell_type": "markdown",
   "id": "c43782e1",
   "metadata": {},
   "source": [
    "can also check the linear independence of rho and Jn here as well!"
   ]
  },
  {
   "cell_type": "markdown",
   "id": "c5c011f0",
   "metadata": {},
   "source": [
    "# Imports:"
   ]
  },
  {
   "cell_type": "code",
   "execution_count": 1,
   "id": "e0bad1c1",
   "metadata": {},
   "outputs": [],
   "source": [
    "import numpy as np\n",
    "import pandas as pd\n",
    "import seaborn as sns\n",
    "from sklearn.linear_model import LogisticRegression\n",
    "\n",
    "from scipy.stats import chi2\n",
    "from collections import Counter\n",
    "\n",
    "from itertools import permutations\n",
    "from tqdm import tqdm, trange"
   ]
  },
  {
   "cell_type": "code",
   "execution_count": 2,
   "id": "c60867f7",
   "metadata": {},
   "outputs": [],
   "source": [
    "import matplotlib.pyplot as plt\n",
    "\n",
    "import pickle\n",
    "\n",
    "import statsmodels.api as sm\n",
    "\n",
    "from collections import defaultdict\n",
    "\n",
    "from scipy.linalg import sqrtm\n",
    "\n",
    "from scipy.special import expit, logit"
   ]
  },
  {
   "cell_type": "markdown",
   "id": "f84b6156-c90f-4033-9c5e-0159b8bc39b7",
   "metadata": {},
   "source": [
    "# Helper Functions:"
   ]
  },
  {
   "cell_type": "code",
   "execution_count": 3,
   "id": "c472bdd5-1ee7-45e3-9665-2b1daa5ac984",
   "metadata": {},
   "outputs": [],
   "source": [
    "from scipy.stats import norm"
   ]
  },
  {
   "cell_type": "code",
   "execution_count": 4,
   "id": "67519016-2ee3-4fe8-a941-333ade9e92dc",
   "metadata": {},
   "outputs": [],
   "source": [
    "import sys\n",
    "\n",
    "sys.path.append('../')\n",
    "\n",
    "from ddc_utils import *\n",
    "from data_generating_utils import *"
   ]
  },
  {
   "cell_type": "markdown",
   "id": "b2bfdd51",
   "metadata": {},
   "source": [
    "# Hyperparams:"
   ]
  },
  {
   "cell_type": "code",
   "execution_count": 7,
   "id": "7f1fc130",
   "metadata": {},
   "outputs": [],
   "source": [
    "pop_index = 1\n",
    "iter_val = 0"
   ]
  },
  {
   "cell_type": "code",
   "execution_count": 8,
   "id": "c4ae7e04",
   "metadata": {},
   "outputs": [],
   "source": [
    "rand_generator = np.random.default_rng(seed=333 * pop_index + iter_val)"
   ]
  },
  {
   "cell_type": "code",
   "execution_count": 9,
   "id": "29d053a9",
   "metadata": {},
   "outputs": [],
   "source": [
    "population_size = 100_000\n",
    "\n",
    "number_of_coefficients = 1\n",
    "\n",
    "num_iters_per_population = 25_000\n",
    "true_beta = 1"
   ]
  },
  {
   "cell_type": "code",
   "execution_count": 10,
   "id": "0363039f",
   "metadata": {},
   "outputs": [],
   "source": [
    "ALL_SAMPLE_SIZES = [1000]"
   ]
  },
  {
   "cell_type": "code",
   "execution_count": null,
   "id": "0bd16c32",
   "metadata": {},
   "outputs": [],
   "source": []
  },
  {
   "cell_type": "markdown",
   "id": "25216b90",
   "metadata": {},
   "source": [
    "# Run:"
   ]
  },
  {
   "cell_type": "code",
   "execution_count": 11,
   "id": "5c9b81a2",
   "metadata": {},
   "outputs": [],
   "source": [
    "feature_cols = [f'x_{i}' for i in range(number_of_coefficients)]"
   ]
  },
  {
   "cell_type": "code",
   "execution_count": 12,
   "id": "65af24c9",
   "metadata": {},
   "outputs": [],
   "source": [
    "# hypervariabes where things will be saved as key of sample size -> list.\n",
    "all_jns_per_sample_size_biased = defaultdict(list)\n",
    "all_ddc_per_sample_size_biased = defaultdict(list)\n",
    "all_sample_beta_per_sample_size_biased = defaultdict(list)\n",
    "\n",
    "all_jns_per_sample_size_full = defaultdict(list)\n",
    "all_ddc_per_sample_size_full = defaultdict(list)\n",
    "all_sample_beta_per_sample_size_full = defaultdict(list)\n",
    "\n",
    "\n",
    "\n",
    "all_realized_sample_sizes_per_sample_size = defaultdict(list)\n",
    "all_pop_beta_per_sample_size = defaultdict(list)\n",
    "\n",
    "sample_specific_non_separable_count = {}"
   ]
  },
  {
   "cell_type": "code",
   "execution_count": 13,
   "id": "c2a6681e",
   "metadata": {},
   "outputs": [],
   "source": [
    "sample_probability_centering = 0.77\n",
    "sample_probability_bias_factor = 1"
   ]
  },
  {
   "cell_type": "code",
   "execution_count": 14,
   "id": "f0b26108",
   "metadata": {},
   "outputs": [],
   "source": [
    "link = 'Logit'"
   ]
  },
  {
   "cell_type": "code",
   "execution_count": 15,
   "id": "34cbdbdb",
   "metadata": {},
   "outputs": [],
   "source": [
    "pop_data = generate_population_data(population_size, number_of_coefficients, \n",
    "                                    feature_cols = feature_cols, true_beta = true_beta, link = link)"
   ]
  },
  {
   "cell_type": "code",
   "execution_count": 16,
   "id": "4877fcae",
   "metadata": {},
   "outputs": [],
   "source": [
    "pickle_filename = f'base_population_data_{link}_{true_beta}.pickle'\n",
    "with open(pickle_filename, 'wb') as handle:\n",
    "    pickle.dump(pop_data, handle)"
   ]
  },
  {
   "cell_type": "code",
   "execution_count": 17,
   "id": "e256c431",
   "metadata": {},
   "outputs": [],
   "source": [
    "model_iteration = [(0, 'Logit'), (1, 'Probit'), (2, 'CLogLog')]"
   ]
  },
  {
   "cell_type": "markdown",
   "id": "1b506e88",
   "metadata": {},
   "source": [
    "#### get population-level statistics:"
   ]
  },
  {
   "cell_type": "code",
   "execution_count": 18,
   "id": "c217fb9d",
   "metadata": {},
   "outputs": [],
   "source": [
    "pop_x = pop_data[feature_cols]\n",
    "pop_y = pop_data['y']\n",
    "\n",
    "pop_model = sm.Logit(endog = pop_y, exog = pop_x).fit(disp=0)\n",
    "pop_beta = np.array(pop_model.params)\n",
    "pop_gs = pop_x * (np.array(pop_y).reshape((population_size, 1)) - \\\n",
    "              np.array(pop_model.predict()).reshape((population_size, 1)))"
   ]
  },
  {
   "cell_type": "markdown",
   "id": "c06e2d31",
   "metadata": {},
   "source": [
    "compute the population models:"
   ]
  },
  {
   "cell_type": "code",
   "execution_count": 19,
   "id": "95bff6bd",
   "metadata": {},
   "outputs": [],
   "source": [
    "def compute_all_three_logistic_models(x_data, y_data):\n",
    "    temp_logit_model = sm.Logit(endog = y_data, exog = x_data).fit(disp=0)\n",
    "    temp_probit_model = sm.GLM(y_data, x_data, family=sm.families.Binomial(link=sm.families.links.Probit())).fit()\n",
    "    temp_cloglog_model = sm.GLM(y_data, x_data, family=sm.families.Binomial(link=sm.families.links.CLogLog())).fit()\n",
    "    return [temp_logit_model, temp_probit_model, temp_cloglog_model]"
   ]
  },
  {
   "cell_type": "code",
   "execution_count": 20,
   "id": "c10a9f32",
   "metadata": {},
   "outputs": [],
   "source": [
    "population_models = compute_all_three_logistic_models(pop_x, pop_y)\n",
    "pop_logit_model, pop_probit_model, pop_cloglog_model = population_models"
   ]
  },
  {
   "cell_type": "markdown",
   "id": "d9d042dc",
   "metadata": {},
   "source": [
    "save their betas:"
   ]
  },
  {
   "cell_type": "code",
   "execution_count": 21,
   "id": "96ea14a2",
   "metadata": {},
   "outputs": [],
   "source": [
    "pop_betas = [np.array(pop_logit_model.params), \n",
    "             np.array(pop_probit_model.params), \n",
    "             np.array(pop_cloglog_model.params)]"
   ]
  },
  {
   "cell_type": "code",
   "execution_count": 22,
   "id": "3cca8ba6",
   "metadata": {},
   "outputs": [
    {
     "data": {
      "text/plain": [
       "[array([1.01078252]), array([0.61038965]), array([0.56396004])]"
      ]
     },
     "execution_count": 22,
     "metadata": {},
     "output_type": "execute_result"
    }
   ],
   "source": [
    "pop_betas"
   ]
  },
  {
   "cell_type": "markdown",
   "id": "56c00b66",
   "metadata": {},
   "source": [
    "compute the gs:"
   ]
  },
  {
   "cell_type": "code",
   "execution_count": 23,
   "id": "24a8102b",
   "metadata": {},
   "outputs": [],
   "source": [
    "pop_gs = {}"
   ]
  },
  {
   "cell_type": "code",
   "execution_count": 24,
   "id": "5cc24f59",
   "metadata": {},
   "outputs": [],
   "source": [
    "pop_gs['Logit'] = pop_x * (np.array(pop_y).reshape((population_size, 1)) - \\\n",
    "                    np.array(pop_logit_model.predict()).reshape((population_size, 1)))"
   ]
  },
  {
   "cell_type": "code",
   "execution_count": 25,
   "id": "c98d1cc2",
   "metadata": {},
   "outputs": [],
   "source": [
    "# compute probit gs \n",
    "temp_mu_is = pop_probit_model.predict()\n",
    "variance_denominator = 1/((temp_mu_is) * (1 - temp_mu_is))\n",
    "dmu_dg = norm.pdf(pop_x @ pop_probit_model.params)\n",
    "pop_gs['Probit'] = pop_x.mul(((pop_y - temp_mu_is) * variance_denominator * dmu_dg), axis=0)"
   ]
  },
  {
   "cell_type": "code",
   "execution_count": 26,
   "id": "eaad6a74",
   "metadata": {},
   "outputs": [],
   "source": [
    "# compute cloglog gs \n",
    "temp_mu_is = pop_cloglog_model.predict()\n",
    "variance_denominator = 1/((temp_mu_is) * (1 - temp_mu_is))\n",
    "dmu_dg = np.log(1 - temp_mu_is) * (temp_mu_is - 1)\n",
    "pop_gs['CLogLog'] = pop_x.mul(((pop_y - temp_mu_is) * variance_denominator * dmu_dg), axis=0)"
   ]
  },
  {
   "cell_type": "markdown",
   "id": "06e44da0",
   "metadata": {},
   "source": [
    "#### actually run:"
   ]
  },
  {
   "cell_type": "code",
   "execution_count": 27,
   "id": "260fd510",
   "metadata": {
    "scrolled": true
   },
   "outputs": [
    {
     "name": "stderr",
     "output_type": "stream",
     "text": [
      "  0%|                                                                                            | 0/1 [00:00<?, ?it/s]\n",
      "  0%|                                                                                        | 0/10000 [00:00<?, ?it/s]\u001b[AC:\\Users\\Jason\\.conda\\envs\\airsoft\\lib\\site-packages\\pandas\\core\\arraylike.py:396: RuntimeWarning: divide by zero encountered in log\n",
      "  result = getattr(ufunc, method)(*inputs, **kwargs)\n",
      "\n",
      "  1%|▉                                                                             | 120/10000 [00:10<13:44, 11.98it/s]\u001b[AC:\\Users\\Jason\\.conda\\envs\\airsoft\\lib\\site-packages\\pandas\\core\\arraylike.py:396: RuntimeWarning: divide by zero encountered in log\n",
      "  result = getattr(ufunc, method)(*inputs, **kwargs)\n",
      "\n",
      "  2%|█▊                                                                            | 240/10000 [00:20<13:34, 11.99it/s]\u001b[AC:\\Users\\Jason\\.conda\\envs\\airsoft\\lib\\site-packages\\pandas\\core\\arraylike.py:396: RuntimeWarning: divide by zero encountered in log\n",
      "  result = getattr(ufunc, method)(*inputs, **kwargs)\n",
      "\n",
      "  2%|█▊                                                                            | 240/10000 [00:30<13:34, 11.99it/s]\u001b[A\n",
      "  4%|██▊                                                                           | 362/10000 [00:30<13:18, 12.07it/s]\u001b[A\n",
      "  5%|███▊                                                                          | 488/10000 [00:40<12:56, 12.25it/s]\u001b[AC:\\Users\\Jason\\.conda\\envs\\airsoft\\lib\\site-packages\\pandas\\core\\arraylike.py:396: RuntimeWarning: divide by zero encountered in log\n",
      "  result = getattr(ufunc, method)(*inputs, **kwargs)\n",
      "C:\\Users\\Jason\\.conda\\envs\\airsoft\\lib\\site-packages\\pandas\\core\\arraylike.py:396: RuntimeWarning: divide by zero encountered in log\n",
      "  result = getattr(ufunc, method)(*inputs, **kwargs)\n",
      "\n",
      "  6%|████▊                                                                         | 618/10000 [00:50<12:30, 12.51it/s]\u001b[AC:\\Users\\Jason\\.conda\\envs\\airsoft\\lib\\site-packages\\pandas\\core\\arraylike.py:396: RuntimeWarning: divide by zero encountered in log\n",
      "  result = getattr(ufunc, method)(*inputs, **kwargs)\n",
      "C:\\Users\\Jason\\.conda\\envs\\airsoft\\lib\\site-packages\\pandas\\core\\arraylike.py:396: RuntimeWarning: divide by zero encountered in log\n",
      "  result = getattr(ufunc, method)(*inputs, **kwargs)\n",
      "C:\\Users\\Jason\\.conda\\envs\\airsoft\\lib\\site-packages\\pandas\\core\\arraylike.py:396: RuntimeWarning: divide by zero encountered in log\n",
      "  result = getattr(ufunc, method)(*inputs, **kwargs)\n",
      "\n",
      "  7%|█████▊                                                                        | 748/10000 [01:00<12:13, 12.61it/s]\u001b[AC:\\Users\\Jason\\.conda\\envs\\airsoft\\lib\\site-packages\\pandas\\core\\arraylike.py:396: RuntimeWarning: divide by zero encountered in log\n",
      "  result = getattr(ufunc, method)(*inputs, **kwargs)\n",
      "C:\\Users\\Jason\\.conda\\envs\\airsoft\\lib\\site-packages\\pandas\\core\\arraylike.py:396: RuntimeWarning: divide by zero encountered in log\n",
      "  result = getattr(ufunc, method)(*inputs, **kwargs)\n",
      "\n",
      "  9%|██████▊                                                                       | 877/10000 [01:11<12:18, 12.35it/s]\u001b[AC:\\Users\\Jason\\.conda\\envs\\airsoft\\lib\\site-packages\\pandas\\core\\arraylike.py:396: RuntimeWarning: divide by zero encountered in log\n",
      "  result = getattr(ufunc, method)(*inputs, **kwargs)\n",
      "C:\\Users\\Jason\\.conda\\envs\\airsoft\\lib\\site-packages\\pandas\\core\\arraylike.py:396: RuntimeWarning: divide by zero encountered in log\n",
      "  result = getattr(ufunc, method)(*inputs, **kwargs)\n",
      "\n",
      " 10%|███████▊                                                                      | 996/10000 [01:21<12:24, 12.09it/s]\u001b[AC:\\Users\\Jason\\.conda\\envs\\airsoft\\lib\\site-packages\\pandas\\core\\arraylike.py:396: RuntimeWarning: divide by zero encountered in log\n",
      "  result = getattr(ufunc, method)(*inputs, **kwargs)\n",
      "\n",
      " 11%|████████▋                                                                    | 1129/10000 [01:31<11:52, 12.46it/s]\u001b[AC:\\Users\\Jason\\.conda\\envs\\airsoft\\lib\\site-packages\\pandas\\core\\arraylike.py:396: RuntimeWarning: divide by zero encountered in log\n",
      "  result = getattr(ufunc, method)(*inputs, **kwargs)\n",
      "C:\\Users\\Jason\\.conda\\envs\\airsoft\\lib\\site-packages\\pandas\\core\\arraylike.py:396: RuntimeWarning: divide by zero encountered in log\n",
      "  result = getattr(ufunc, method)(*inputs, **kwargs)\n",
      "C:\\Users\\Jason\\.conda\\envs\\airsoft\\lib\\site-packages\\pandas\\core\\arraylike.py:396: RuntimeWarning: divide by zero encountered in log\n",
      "  result = getattr(ufunc, method)(*inputs, **kwargs)\n",
      "C:\\Users\\Jason\\.conda\\envs\\airsoft\\lib\\site-packages\\pandas\\core\\arraylike.py:396: RuntimeWarning: divide by zero encountered in log\n",
      "  result = getattr(ufunc, method)(*inputs, **kwargs)\n",
      "\n",
      " 13%|█████████▋                                                                   | 1262/10000 [01:42<11:40, 12.47it/s]\u001b[AC:\\Users\\Jason\\.conda\\envs\\airsoft\\lib\\site-packages\\pandas\\core\\arraylike.py:396: RuntimeWarning: divide by zero encountered in log\n",
      "  result = getattr(ufunc, method)(*inputs, **kwargs)\n",
      "C:\\Users\\Jason\\.conda\\envs\\airsoft\\lib\\site-packages\\pandas\\core\\arraylike.py:396: RuntimeWarning: divide by zero encountered in log\n",
      "  result = getattr(ufunc, method)(*inputs, **kwargs)\n",
      "C:\\Users\\Jason\\.conda\\envs\\airsoft\\lib\\site-packages\\pandas\\core\\arraylike.py:396: RuntimeWarning: divide by zero encountered in log\n",
      "  result = getattr(ufunc, method)(*inputs, **kwargs)\n",
      "C:\\Users\\Jason\\.conda\\envs\\airsoft\\lib\\site-packages\\pandas\\core\\arraylike.py:396: RuntimeWarning: divide by zero encountered in log\n",
      "  result = getattr(ufunc, method)(*inputs, **kwargs)\n",
      "\n",
      " 14%|██████████▋                                                                  | 1388/10000 [01:52<11:40, 12.29it/s]\u001b[AC:\\Users\\Jason\\.conda\\envs\\airsoft\\lib\\site-packages\\pandas\\core\\arraylike.py:396: RuntimeWarning: divide by zero encountered in log\n",
      "  result = getattr(ufunc, method)(*inputs, **kwargs)\n",
      "C:\\Users\\Jason\\.conda\\envs\\airsoft\\lib\\site-packages\\pandas\\core\\arraylike.py:396: RuntimeWarning: divide by zero encountered in log\n",
      "  result = getattr(ufunc, method)(*inputs, **kwargs)\n",
      "\n",
      " 15%|███████████▋                                                                 | 1513/10000 [02:02<11:27, 12.35it/s]\u001b[AC:\\Users\\Jason\\.conda\\envs\\airsoft\\lib\\site-packages\\pandas\\core\\arraylike.py:396: RuntimeWarning: divide by zero encountered in log\n",
      "  result = getattr(ufunc, method)(*inputs, **kwargs)\n",
      "C:\\Users\\Jason\\.conda\\envs\\airsoft\\lib\\site-packages\\pandas\\core\\arraylike.py:396: RuntimeWarning: divide by zero encountered in log\n",
      "  result = getattr(ufunc, method)(*inputs, **kwargs)\n",
      "C:\\Users\\Jason\\.conda\\envs\\airsoft\\lib\\site-packages\\pandas\\core\\arraylike.py:396: RuntimeWarning: divide by zero encountered in log\n",
      "  result = getattr(ufunc, method)(*inputs, **kwargs)\n",
      "\n",
      " 16%|████████████▌                                                                | 1638/10000 [02:13<11:26, 12.19it/s]\u001b[A\n",
      " 18%|█████████████▌                                                               | 1763/10000 [02:23<11:10, 12.28it/s]\u001b[AC:\\Users\\Jason\\.conda\\envs\\airsoft\\lib\\site-packages\\pandas\\core\\arraylike.py:396: RuntimeWarning: divide by zero encountered in log\n",
      "  result = getattr(ufunc, method)(*inputs, **kwargs)\n",
      "\n",
      " 19%|██████████████▌                                                              | 1888/10000 [02:33<10:57, 12.34it/s]\u001b[AC:\\Users\\Jason\\.conda\\envs\\airsoft\\lib\\site-packages\\pandas\\core\\arraylike.py:396: RuntimeWarning: divide by zero encountered in log\n",
      "  result = getattr(ufunc, method)(*inputs, **kwargs)\n",
      "C:\\Users\\Jason\\.conda\\envs\\airsoft\\lib\\site-packages\\pandas\\core\\arraylike.py:396: RuntimeWarning: divide by zero encountered in log\n",
      "  result = getattr(ufunc, method)(*inputs, **kwargs)\n",
      "\n",
      " 20%|███████████████▌                                                             | 2013/10000 [02:43<10:48, 12.32it/s]\u001b[AC:\\Users\\Jason\\.conda\\envs\\airsoft\\lib\\site-packages\\pandas\\core\\arraylike.py:396: RuntimeWarning: divide by zero encountered in log\n",
      "  result = getattr(ufunc, method)(*inputs, **kwargs)\n",
      "C:\\Users\\Jason\\.conda\\envs\\airsoft\\lib\\site-packages\\pandas\\core\\arraylike.py:396: RuntimeWarning: divide by zero encountered in log\n",
      "  result = getattr(ufunc, method)(*inputs, **kwargs)\n",
      "\n"
     ]
    },
    {
     "name": "stderr",
     "output_type": "stream",
     "text": [
      " 21%|████████████████▍                                                            | 2136/10000 [02:53<10:46, 12.17it/s]\u001b[AC:\\Users\\Jason\\.conda\\envs\\airsoft\\lib\\site-packages\\pandas\\core\\arraylike.py:396: RuntimeWarning: divide by zero encountered in log\n",
      "  result = getattr(ufunc, method)(*inputs, **kwargs)\n",
      "\n",
      " 23%|█████████████████▍                                                           | 2263/10000 [03:03<10:29, 12.30it/s]\u001b[AC:\\Users\\Jason\\.conda\\envs\\airsoft\\lib\\site-packages\\pandas\\core\\arraylike.py:396: RuntimeWarning: divide by zero encountered in log\n",
      "  result = getattr(ufunc, method)(*inputs, **kwargs)\n",
      "\n",
      " 24%|██████████████████▍                                                          | 2389/10000 [03:15<10:48, 11.74it/s]\u001b[AC:\\Users\\Jason\\.conda\\envs\\airsoft\\lib\\site-packages\\pandas\\core\\arraylike.py:396: RuntimeWarning: divide by zero encountered in log\n",
      "  result = getattr(ufunc, method)(*inputs, **kwargs)\n",
      "C:\\Users\\Jason\\.conda\\envs\\airsoft\\lib\\site-packages\\pandas\\core\\arraylike.py:396: RuntimeWarning: divide by zero encountered in log\n",
      "  result = getattr(ufunc, method)(*inputs, **kwargs)\n",
      "\n",
      " 25%|███████████████████▎                                                         | 2502/10000 [03:25<10:46, 11.60it/s]\u001b[A\n",
      " 26%|████████████████████▏                                                        | 2617/10000 [03:35<10:39, 11.54it/s]\u001b[AC:\\Users\\Jason\\.conda\\envs\\airsoft\\lib\\site-packages\\pandas\\core\\arraylike.py:396: RuntimeWarning: divide by zero encountered in log\n",
      "  result = getattr(ufunc, method)(*inputs, **kwargs)\n",
      "\n",
      " 27%|█████████████████████                                                        | 2731/10000 [03:47<10:57, 11.05it/s]\u001b[A\n",
      " 28%|█████████████████████▊                                                       | 2839/10000 [03:57<10:52, 10.97it/s]\u001b[A\n",
      " 30%|██████████████████████▊                                                      | 2955/10000 [04:07<10:31, 11.16it/s]\u001b[AC:\\Users\\Jason\\.conda\\envs\\airsoft\\lib\\site-packages\\pandas\\core\\arraylike.py:396: RuntimeWarning: divide by zero encountered in log\n",
      "  result = getattr(ufunc, method)(*inputs, **kwargs)\n",
      "C:\\Users\\Jason\\.conda\\envs\\airsoft\\lib\\site-packages\\pandas\\core\\arraylike.py:396: RuntimeWarning: divide by zero encountered in log\n",
      "  result = getattr(ufunc, method)(*inputs, **kwargs)\n",
      "\n",
      " 31%|███████████████████████▋                                                     | 3071/10000 [04:17<10:15, 11.26it/s]\u001b[AC:\\Users\\Jason\\.conda\\envs\\airsoft\\lib\\site-packages\\pandas\\core\\arraylike.py:396: RuntimeWarning: divide by zero encountered in log\n",
      "  result = getattr(ufunc, method)(*inputs, **kwargs)\n",
      "C:\\Users\\Jason\\.conda\\envs\\airsoft\\lib\\site-packages\\pandas\\core\\arraylike.py:396: RuntimeWarning: divide by zero encountered in log\n",
      "  result = getattr(ufunc, method)(*inputs, **kwargs)\n",
      "\n",
      " 32%|████████████████████████▌                                                    | 3188/10000 [04:27<09:58, 11.38it/s]\u001b[A\n",
      " 33%|█████████████████████████▍                                                   | 3305/10000 [04:37<09:47, 11.40it/s]\u001b[AC:\\Users\\Jason\\.conda\\envs\\airsoft\\lib\\site-packages\\pandas\\core\\arraylike.py:396: RuntimeWarning: divide by zero encountered in log\n",
      "  result = getattr(ufunc, method)(*inputs, **kwargs)\n",
      "\n",
      " 34%|██████████████████████████▎                                                  | 3420/10000 [04:49<09:58, 11.00it/s]\u001b[AC:\\Users\\Jason\\.conda\\envs\\airsoft\\lib\\site-packages\\pandas\\core\\arraylike.py:396: RuntimeWarning: divide by zero encountered in log\n",
      "  result = getattr(ufunc, method)(*inputs, **kwargs)\n",
      "C:\\Users\\Jason\\.conda\\envs\\airsoft\\lib\\site-packages\\pandas\\core\\arraylike.py:396: RuntimeWarning: divide by zero encountered in log\n",
      "  result = getattr(ufunc, method)(*inputs, **kwargs)\n",
      "\n",
      " 35%|███████████████████████████▏                                                 | 3524/10000 [04:59<09:59, 10.80it/s]\u001b[AC:\\Users\\Jason\\.conda\\envs\\airsoft\\lib\\site-packages\\pandas\\core\\arraylike.py:396: RuntimeWarning: divide by zero encountered in log\n",
      "  result = getattr(ufunc, method)(*inputs, **kwargs)\n",
      "\n",
      " 36%|████████████████████████████                                                 | 3646/10000 [05:09<09:27, 11.20it/s]\u001b[A\n",
      " 38%|█████████████████████████████                                                | 3770/10000 [05:19<09:00, 11.52it/s]\u001b[AC:\\Users\\Jason\\.conda\\envs\\airsoft\\lib\\site-packages\\pandas\\core\\arraylike.py:396: RuntimeWarning: divide by zero encountered in log\n",
      "  result = getattr(ufunc, method)(*inputs, **kwargs)\n",
      "C:\\Users\\Jason\\.conda\\envs\\airsoft\\lib\\site-packages\\pandas\\core\\arraylike.py:396: RuntimeWarning: divide by zero encountered in log\n",
      "  result = getattr(ufunc, method)(*inputs, **kwargs)\n",
      "C:\\Users\\Jason\\.conda\\envs\\airsoft\\lib\\site-packages\\pandas\\core\\arraylike.py:396: RuntimeWarning: divide by zero encountered in log\n",
      "  result = getattr(ufunc, method)(*inputs, **kwargs)\n",
      "C:\\Users\\Jason\\.conda\\envs\\airsoft\\lib\\site-packages\\pandas\\core\\arraylike.py:396: RuntimeWarning: divide by zero encountered in log\n",
      "  result = getattr(ufunc, method)(*inputs, **kwargs)\n",
      "C:\\Users\\Jason\\.conda\\envs\\airsoft\\lib\\site-packages\\pandas\\core\\arraylike.py:396: RuntimeWarning: divide by zero encountered in log\n",
      "  result = getattr(ufunc, method)(*inputs, **kwargs)\n",
      "\n",
      " 39%|█████████████████████████████▉                                               | 3893/10000 [05:29<08:40, 11.72it/s]\u001b[AC:\\Users\\Jason\\.conda\\envs\\airsoft\\lib\\site-packages\\pandas\\core\\arraylike.py:396: RuntimeWarning: divide by zero encountered in log\n",
      "  result = getattr(ufunc, method)(*inputs, **kwargs)\n",
      "C:\\Users\\Jason\\.conda\\envs\\airsoft\\lib\\site-packages\\pandas\\core\\arraylike.py:396: RuntimeWarning: divide by zero encountered in log\n",
      "  result = getattr(ufunc, method)(*inputs, **kwargs)\n",
      "\n",
      " 40%|██████████████████████████████▉                                              | 4015/10000 [05:39<08:25, 11.84it/s]\u001b[AC:\\Users\\Jason\\.conda\\envs\\airsoft\\lib\\site-packages\\pandas\\core\\arraylike.py:396: RuntimeWarning: divide by zero encountered in log\n",
      "  result = getattr(ufunc, method)(*inputs, **kwargs)\n",
      "C:\\Users\\Jason\\.conda\\envs\\airsoft\\lib\\site-packages\\pandas\\core\\arraylike.py:396: RuntimeWarning: divide by zero encountered in log\n",
      "  result = getattr(ufunc, method)(*inputs, **kwargs)\n",
      "\n",
      " 41%|███████████████████████████████▊                                             | 4138/10000 [05:49<08:10, 11.96it/s]\u001b[A\n",
      " 43%|████████████████████████████████▊                                            | 4266/10000 [05:59<07:50, 12.18it/s]\u001b[AC:\\Users\\Jason\\.conda\\envs\\airsoft\\lib\\site-packages\\pandas\\core\\arraylike.py:396: RuntimeWarning: divide by zero encountered in log\n",
      "  result = getattr(ufunc, method)(*inputs, **kwargs)\n",
      "C:\\Users\\Jason\\.conda\\envs\\airsoft\\lib\\site-packages\\pandas\\core\\arraylike.py:396: RuntimeWarning: divide by zero encountered in log\n",
      "  result = getattr(ufunc, method)(*inputs, **kwargs)\n",
      "\n",
      " 43%|████████████████████████████████▊                                            | 4266/10000 [06:11<07:50, 12.18it/s]\u001b[A\n",
      " 44%|█████████████████████████████████▊                                           | 4390/10000 [06:11<08:01, 11.65it/s]\u001b[AC:\\Users\\Jason\\.conda\\envs\\airsoft\\lib\\site-packages\\pandas\\core\\arraylike.py:396: RuntimeWarning: divide by zero encountered in log\n",
      "  result = getattr(ufunc, method)(*inputs, **kwargs)\n",
      "C:\\Users\\Jason\\.conda\\envs\\airsoft\\lib\\site-packages\\pandas\\core\\arraylike.py:396: RuntimeWarning: divide by zero encountered in log\n",
      "  result = getattr(ufunc, method)(*inputs, **kwargs)\n",
      "\n",
      " 45%|██████████████████████████████████▋                                          | 4498/10000 [06:21<08:02, 11.40it/s]\u001b[AC:\\Users\\Jason\\.conda\\envs\\airsoft\\lib\\site-packages\\pandas\\core\\arraylike.py:396: RuntimeWarning: divide by zero encountered in log\n",
      "  result = getattr(ufunc, method)(*inputs, **kwargs)\n",
      "C:\\Users\\Jason\\.conda\\envs\\airsoft\\lib\\site-packages\\pandas\\core\\arraylike.py:396: RuntimeWarning: divide by zero encountered in log\n",
      "  result = getattr(ufunc, method)(*inputs, **kwargs)\n",
      "C:\\Users\\Jason\\.conda\\envs\\airsoft\\lib\\site-packages\\pandas\\core\\arraylike.py:396: RuntimeWarning: divide by zero encountered in log\n",
      "  result = getattr(ufunc, method)(*inputs, **kwargs)\n",
      "\n"
     ]
    },
    {
     "name": "stderr",
     "output_type": "stream",
     "text": [
      " 46%|███████████████████████████████████▍                                         | 4606/10000 [06:31<08:02, 11.19it/s]\u001b[AC:\\Users\\Jason\\.conda\\envs\\airsoft\\lib\\site-packages\\pandas\\core\\arraylike.py:396: RuntimeWarning: divide by zero encountered in log\n",
      "  result = getattr(ufunc, method)(*inputs, **kwargs)\n",
      "C:\\Users\\Jason\\.conda\\envs\\airsoft\\lib\\site-packages\\pandas\\core\\arraylike.py:396: RuntimeWarning: divide by zero encountered in log\n",
      "  result = getattr(ufunc, method)(*inputs, **kwargs)\n",
      "\n",
      " 47%|████████████████████████████████████▎                                        | 4717/10000 [06:41<07:53, 11.15it/s]\u001b[A\n",
      " 48%|█████████████████████████████████████▏                                       | 4828/10000 [06:51<07:51, 10.98it/s]\u001b[AC:\\Users\\Jason\\.conda\\envs\\airsoft\\lib\\site-packages\\pandas\\core\\arraylike.py:396: RuntimeWarning: divide by zero encountered in log\n",
      "  result = getattr(ufunc, method)(*inputs, **kwargs)\n",
      "\n",
      " 49%|█████████████████████████████████████▉                                       | 4935/10000 [07:01<07:45, 10.87it/s]\u001b[AC:\\Users\\Jason\\.conda\\envs\\airsoft\\lib\\site-packages\\pandas\\core\\arraylike.py:396: RuntimeWarning: divide by zero encountered in log\n",
      "  result = getattr(ufunc, method)(*inputs, **kwargs)\n",
      "C:\\Users\\Jason\\.conda\\envs\\airsoft\\lib\\site-packages\\pandas\\core\\arraylike.py:396: RuntimeWarning: divide by zero encountered in log\n",
      "  result = getattr(ufunc, method)(*inputs, **kwargs)\n",
      "\n",
      " 50%|██████████████████████████████████████▊                                      | 5042/10000 [07:12<07:44, 10.68it/s]\u001b[AC:\\Users\\Jason\\.conda\\envs\\airsoft\\lib\\site-packages\\pandas\\core\\arraylike.py:396: RuntimeWarning: divide by zero encountered in log\n",
      "  result = getattr(ufunc, method)(*inputs, **kwargs)\n",
      "C:\\Users\\Jason\\.conda\\envs\\airsoft\\lib\\site-packages\\pandas\\core\\arraylike.py:396: RuntimeWarning: divide by zero encountered in log\n",
      "  result = getattr(ufunc, method)(*inputs, **kwargs)\n",
      "\n",
      " 52%|███████████████████████████████████████▋                                     | 5155/10000 [07:22<07:27, 10.84it/s]\u001b[AC:\\Users\\Jason\\.conda\\envs\\airsoft\\lib\\site-packages\\pandas\\core\\arraylike.py:396: RuntimeWarning: divide by zero encountered in log\n",
      "  result = getattr(ufunc, method)(*inputs, **kwargs)\n",
      "\n",
      " 53%|████████████████████████████████████████▌                                    | 5268/10000 [07:32<07:17, 10.82it/s]\u001b[AC:\\Users\\Jason\\.conda\\envs\\airsoft\\lib\\site-packages\\pandas\\core\\arraylike.py:396: RuntimeWarning: divide by zero encountered in log\n",
      "  result = getattr(ufunc, method)(*inputs, **kwargs)\n",
      "C:\\Users\\Jason\\.conda\\envs\\airsoft\\lib\\site-packages\\pandas\\core\\arraylike.py:396: RuntimeWarning: divide by zero encountered in log\n",
      "  result = getattr(ufunc, method)(*inputs, **kwargs)\n",
      "C:\\Users\\Jason\\.conda\\envs\\airsoft\\lib\\site-packages\\pandas\\core\\arraylike.py:396: RuntimeWarning: divide by zero encountered in log\n",
      "  result = getattr(ufunc, method)(*inputs, **kwargs)\n",
      "\n",
      " 54%|█████████████████████████████████████████▍                                   | 5376/10000 [07:43<07:09, 10.75it/s]\u001b[A\n",
      " 55%|██████████████████████████████████████████▏                                  | 5482/10000 [07:53<07:02, 10.69it/s]\u001b[A\n",
      " 56%|███████████████████████████████████████████                                  | 5588/10000 [08:05<07:25,  9.90it/s]\u001b[AC:\\Users\\Jason\\.conda\\envs\\airsoft\\lib\\site-packages\\pandas\\core\\arraylike.py:396: RuntimeWarning: divide by zero encountered in log\n",
      "  result = getattr(ufunc, method)(*inputs, **kwargs)\n",
      "C:\\Users\\Jason\\.conda\\envs\\airsoft\\lib\\site-packages\\pandas\\core\\arraylike.py:396: RuntimeWarning: divide by zero encountered in log\n",
      "  result = getattr(ufunc, method)(*inputs, **kwargs)\n",
      "C:\\Users\\Jason\\.conda\\envs\\airsoft\\lib\\site-packages\\pandas\\core\\arraylike.py:396: RuntimeWarning: divide by zero encountered in log\n",
      "  result = getattr(ufunc, method)(*inputs, **kwargs)\n",
      "\n",
      " 57%|███████████████████████████████████████████▊                                 | 5697/10000 [08:15<07:02, 10.18it/s]\u001b[AC:\\Users\\Jason\\.conda\\envs\\airsoft\\lib\\site-packages\\pandas\\core\\arraylike.py:396: RuntimeWarning: divide by zero encountered in log\n",
      "  result = getattr(ufunc, method)(*inputs, **kwargs)\n",
      "C:\\Users\\Jason\\.conda\\envs\\airsoft\\lib\\site-packages\\pandas\\core\\arraylike.py:396: RuntimeWarning: divide by zero encountered in log\n",
      "  result = getattr(ufunc, method)(*inputs, **kwargs)\n",
      "\n",
      " 58%|████████████████████████████████████████████▋                                | 5806/10000 [08:26<06:46, 10.32it/s]\u001b[A\n",
      " 59%|█████████████████████████████████████████████▌                               | 5913/10000 [08:36<06:39, 10.23it/s]\u001b[A\n",
      " 60%|██████████████████████████████████████████████▎                              | 6019/10000 [08:46<06:25, 10.33it/s]\u001b[AC:\\Users\\Jason\\.conda\\envs\\airsoft\\lib\\site-packages\\pandas\\core\\arraylike.py:396: RuntimeWarning: divide by zero encountered in log\n",
      "  result = getattr(ufunc, method)(*inputs, **kwargs)\n",
      "\n",
      " 61%|███████████████████████████████████████████████▏                             | 6132/10000 [08:56<06:04, 10.60it/s]\u001b[A\n",
      " 62%|████████████████████████████████████████████████                             | 6249/10000 [09:06<05:43, 10.91it/s]\u001b[AC:\\Users\\Jason\\.conda\\envs\\airsoft\\lib\\site-packages\\pandas\\core\\arraylike.py:396: RuntimeWarning: divide by zero encountered in log\n",
      "  result = getattr(ufunc, method)(*inputs, **kwargs)\n",
      "\n",
      " 64%|█████████████████████████████████████████████████                            | 6366/10000 [09:17<05:36, 10.80it/s]\u001b[AC:\\Users\\Jason\\.conda\\envs\\airsoft\\lib\\site-packages\\pandas\\core\\arraylike.py:396: RuntimeWarning: divide by zero encountered in log\n",
      "  result = getattr(ufunc, method)(*inputs, **kwargs)\n",
      "C:\\Users\\Jason\\.conda\\envs\\airsoft\\lib\\site-packages\\pandas\\core\\arraylike.py:396: RuntimeWarning: divide by zero encountered in log\n",
      "  result = getattr(ufunc, method)(*inputs, **kwargs)\n",
      "\n",
      " 65%|█████████████████████████████████████████████████▉                           | 6480/10000 [09:27<05:21, 10.96it/s]\u001b[AC:\\Users\\Jason\\.conda\\envs\\airsoft\\lib\\site-packages\\pandas\\core\\arraylike.py:396: RuntimeWarning: divide by zero encountered in log\n",
      "  result = getattr(ufunc, method)(*inputs, **kwargs)\n",
      "C:\\Users\\Jason\\.conda\\envs\\airsoft\\lib\\site-packages\\pandas\\core\\arraylike.py:396: RuntimeWarning: divide by zero encountered in log\n",
      "  result = getattr(ufunc, method)(*inputs, **kwargs)\n",
      "\n",
      " 66%|██████████████████████████████████████████████████▊                          | 6594/10000 [09:38<05:09, 11.01it/s]\u001b[A\n",
      " 67%|███████████████████████████████████████████████████▋                         | 6706/10000 [09:48<04:59, 10.99it/s]\u001b[AC:\\Users\\Jason\\.conda\\envs\\airsoft\\lib\\site-packages\\pandas\\core\\arraylike.py:396: RuntimeWarning: divide by zero encountered in log\n",
      "  result = getattr(ufunc, method)(*inputs, **kwargs)\n",
      "C:\\Users\\Jason\\.conda\\envs\\airsoft\\lib\\site-packages\\pandas\\core\\arraylike.py:396: RuntimeWarning: divide by zero encountered in log\n",
      "  result = getattr(ufunc, method)(*inputs, **kwargs)\n",
      "\n",
      " 68%|████████████████████████████████████████████████████▍                        | 6816/10000 [09:58<04:50, 10.97it/s]\u001b[A\n",
      " 69%|█████████████████████████████████████████████████████▎                       | 6926/10000 [10:10<04:52, 10.49it/s]\u001b[AC:\\Users\\Jason\\.conda\\envs\\airsoft\\lib\\site-packages\\pandas\\core\\arraylike.py:396: RuntimeWarning: divide by zero encountered in log\n",
      "  result = getattr(ufunc, method)(*inputs, **kwargs)\n",
      "\n",
      " 70%|██████████████████████████████████████████████████████▏                      | 7044/10000 [10:20<04:32, 10.86it/s]\u001b[A\n",
      " 72%|███████████████████████████████████████████████████████▏                     | 7163/10000 [10:30<04:14, 11.16it/s]\u001b[A\n",
      " 73%|████████████████████████████████████████████████████████                     | 7282/10000 [10:40<04:01, 11.25it/s]\u001b[AC:\\Users\\Jason\\.conda\\envs\\airsoft\\lib\\site-packages\\pandas\\core\\arraylike.py:396: RuntimeWarning: divide by zero encountered in log\n",
      "  result = getattr(ufunc, method)(*inputs, **kwargs)\n",
      "\n",
      " 74%|████████████████████████████████████████████████████████▉                    | 7397/10000 [10:50<03:51, 11.26it/s]\u001b[AC:\\Users\\Jason\\.conda\\envs\\airsoft\\lib\\site-packages\\pandas\\core\\arraylike.py:396: RuntimeWarning: divide by zero encountered in log\n",
      "  result = getattr(ufunc, method)(*inputs, **kwargs)\n"
     ]
    },
    {
     "name": "stderr",
     "output_type": "stream",
     "text": [
      "\n",
      " 75%|█████████████████████████████████████████████████████████▊                   | 7510/10000 [11:00<03:41, 11.23it/s]\u001b[AC:\\Users\\Jason\\.conda\\envs\\airsoft\\lib\\site-packages\\pandas\\core\\arraylike.py:396: RuntimeWarning: divide by zero encountered in log\n",
      "  result = getattr(ufunc, method)(*inputs, **kwargs)\n",
      "C:\\Users\\Jason\\.conda\\envs\\airsoft\\lib\\site-packages\\pandas\\core\\arraylike.py:396: RuntimeWarning: divide by zero encountered in log\n",
      "  result = getattr(ufunc, method)(*inputs, **kwargs)\n",
      "\n",
      " 76%|██████████████████████████████████████████████████████████▋                  | 7625/10000 [11:10<03:30, 11.30it/s]\u001b[A\n",
      " 76%|██████████████████████████████████████████████████████████▋                  | 7625/10000 [11:21<03:30, 11.30it/s]\u001b[A\n",
      " 77%|███████████████████████████████████████████████████████████▌                 | 7737/10000 [11:21<03:24, 11.07it/s]\u001b[A\n",
      " 78%|████████████████████████████████████████████████████████████▍                | 7843/10000 [11:31<03:17, 10.93it/s]\u001b[AC:\\Users\\Jason\\.conda\\envs\\airsoft\\lib\\site-packages\\pandas\\core\\arraylike.py:396: RuntimeWarning: divide by zero encountered in log\n",
      "  result = getattr(ufunc, method)(*inputs, **kwargs)\n",
      "C:\\Users\\Jason\\.conda\\envs\\airsoft\\lib\\site-packages\\pandas\\core\\arraylike.py:396: RuntimeWarning: divide by zero encountered in log\n",
      "  result = getattr(ufunc, method)(*inputs, **kwargs)\n",
      "C:\\Users\\Jason\\.conda\\envs\\airsoft\\lib\\site-packages\\pandas\\core\\arraylike.py:396: RuntimeWarning: divide by zero encountered in log\n",
      "  result = getattr(ufunc, method)(*inputs, **kwargs)\n",
      "C:\\Users\\Jason\\.conda\\envs\\airsoft\\lib\\site-packages\\pandas\\core\\arraylike.py:396: RuntimeWarning: divide by zero encountered in log\n",
      "  result = getattr(ufunc, method)(*inputs, **kwargs)\n",
      "\n",
      " 80%|█████████████████████████████████████████████████████████████▏               | 7953/10000 [11:41<03:07, 10.92it/s]\u001b[AC:\\Users\\Jason\\.conda\\envs\\airsoft\\lib\\site-packages\\pandas\\core\\arraylike.py:396: RuntimeWarning: divide by zero encountered in log\n",
      "  result = getattr(ufunc, method)(*inputs, **kwargs)\n",
      "\n",
      " 81%|██████████████████████████████████████████████████████████████               | 8062/10000 [11:52<03:04, 10.50it/s]\u001b[AC:\\Users\\Jason\\.conda\\envs\\airsoft\\lib\\site-packages\\pandas\\core\\arraylike.py:396: RuntimeWarning: divide by zero encountered in log\n",
      "  result = getattr(ufunc, method)(*inputs, **kwargs)\n",
      "\n",
      " 82%|██████████████████████████████████████████████████████████████▉              | 8166/10000 [12:02<02:55, 10.46it/s]\u001b[AC:\\Users\\Jason\\.conda\\envs\\airsoft\\lib\\site-packages\\pandas\\core\\arraylike.py:396: RuntimeWarning: divide by zero encountered in log\n",
      "  result = getattr(ufunc, method)(*inputs, **kwargs)\n",
      "C:\\Users\\Jason\\.conda\\envs\\airsoft\\lib\\site-packages\\pandas\\core\\arraylike.py:396: RuntimeWarning: divide by zero encountered in log\n",
      "  result = getattr(ufunc, method)(*inputs, **kwargs)\n",
      "\n",
      " 83%|███████████████████████████████████████████████████████████████▋             | 8277/10000 [12:12<02:41, 10.64it/s]\u001b[A\n",
      " 84%|████████████████████████████████████████████████████████████████▌            | 8388/10000 [12:24<02:37, 10.26it/s]\u001b[AC:\\Users\\Jason\\.conda\\envs\\airsoft\\lib\\site-packages\\pandas\\core\\arraylike.py:396: RuntimeWarning: divide by zero encountered in log\n",
      "  result = getattr(ufunc, method)(*inputs, **kwargs)\n",
      "\n",
      " 85%|█████████████████████████████████████████████████████████████████▍           | 8493/10000 [12:34<02:25, 10.33it/s]\u001b[A\n",
      " 86%|██████████████████████████████████████████████████████████████████▏          | 8598/10000 [12:47<02:25,  9.65it/s]\u001b[AC:\\Users\\Jason\\.conda\\envs\\airsoft\\lib\\site-packages\\pandas\\core\\arraylike.py:396: RuntimeWarning: divide by zero encountered in log\n",
      "  result = getattr(ufunc, method)(*inputs, **kwargs)\n",
      "\n",
      " 87%|███████████████████████████████████████████████████████████████████          | 8703/10000 [12:57<02:11,  9.88it/s]\u001b[A\n",
      " 88%|███████████████████████████████████████████████████████████████████▊         | 8814/10000 [13:07<01:55, 10.23it/s]\u001b[AC:\\Users\\Jason\\.conda\\envs\\airsoft\\lib\\site-packages\\pandas\\core\\arraylike.py:396: RuntimeWarning: divide by zero encountered in log\n",
      "  result = getattr(ufunc, method)(*inputs, **kwargs)\n",
      "\n",
      " 89%|████████████████████████████████████████████████████████████████████▋        | 8925/10000 [13:17<01:43, 10.43it/s]\u001b[A\n",
      " 90%|█████████████████████████████████████████████████████████████████████▌       | 9035/10000 [13:28<01:34, 10.25it/s]\u001b[AC:\\Users\\Jason\\.conda\\envs\\airsoft\\lib\\site-packages\\pandas\\core\\arraylike.py:396: RuntimeWarning: divide by zero encountered in log\n",
      "  result = getattr(ufunc, method)(*inputs, **kwargs)\n",
      "\n",
      " 91%|██████████████████████████████████████████████████████████████████████▎      | 9134/10000 [13:39<01:26, 10.04it/s]\u001b[AC:\\Users\\Jason\\.conda\\envs\\airsoft\\lib\\site-packages\\pandas\\core\\arraylike.py:396: RuntimeWarning: divide by zero encountered in log\n",
      "  result = getattr(ufunc, method)(*inputs, **kwargs)\n",
      "C:\\Users\\Jason\\.conda\\envs\\airsoft\\lib\\site-packages\\pandas\\core\\arraylike.py:396: RuntimeWarning: divide by zero encountered in log\n",
      "  result = getattr(ufunc, method)(*inputs, **kwargs)\n",
      "\n",
      " 92%|███████████████████████████████████████████████████████████████████████      | 9230/10000 [13:49<01:18,  9.87it/s]\u001b[A\n",
      " 93%|███████████████████████████████████████████████████████████████████████▊     | 9331/10000 [13:59<01:07,  9.92it/s]\u001b[AC:\\Users\\Jason\\.conda\\envs\\airsoft\\lib\\site-packages\\pandas\\core\\arraylike.py:396: RuntimeWarning: divide by zero encountered in log\n",
      "  result = getattr(ufunc, method)(*inputs, **kwargs)\n",
      "\n",
      " 94%|████████████████████████████████████████████████████████████████████████▋    | 9432/10000 [14:09<00:57,  9.87it/s]\u001b[A\n",
      " 95%|█████████████████████████████████████████████████████████████████████████▍   | 9531/10000 [14:19<00:47,  9.86it/s]\u001b[AC:\\Users\\Jason\\.conda\\envs\\airsoft\\lib\\site-packages\\pandas\\core\\arraylike.py:396: RuntimeWarning: divide by zero encountered in log\n",
      "  result = getattr(ufunc, method)(*inputs, **kwargs)\n",
      "C:\\Users\\Jason\\.conda\\envs\\airsoft\\lib\\site-packages\\pandas\\core\\arraylike.py:396: RuntimeWarning: divide by zero encountered in log\n",
      "  result = getattr(ufunc, method)(*inputs, **kwargs)\n",
      "\n",
      " 96%|██████████████████████████████████████████████████████████████████████████▏  | 9630/10000 [14:31<00:39,  9.40it/s]\u001b[A\n",
      " 96%|██████████████████████████████████████████████████████████████████████████▏  | 9630/10000 [14:41<00:39,  9.40it/s]\u001b[A\n",
      " 97%|██████████████████████████████████████████████████████████████████████████▋  | 9701/10000 [14:41<00:34,  8.65it/s]\u001b[A\n",
      " 98%|███████████████████████████████████████████████████████████████████████████▏ | 9770/10000 [14:52<00:29,  7.88it/s]\u001b[AC:\\Users\\Jason\\.conda\\envs\\airsoft\\lib\\site-packages\\pandas\\core\\arraylike.py:396: RuntimeWarning: divide by zero encountered in log\n",
      "  result = getattr(ufunc, method)(*inputs, **kwargs)\n",
      "\n",
      " 99%|███████████████████████████████████████████████████████████████████████████▊ | 9853/10000 [15:02<00:18,  7.99it/s]\u001b[AC:\\Users\\Jason\\.conda\\envs\\airsoft\\lib\\site-packages\\pandas\\core\\arraylike.py:396: RuntimeWarning: divide by zero encountered in log\n",
      "  result = getattr(ufunc, method)(*inputs, **kwargs)\n",
      "\n",
      " 99%|████████████████████████████████████████████████████████████████████████████▌| 9936/10000 [15:13<00:08,  7.98it/s]\u001b[AC:\\Users\\Jason\\.conda\\envs\\airsoft\\lib\\site-packages\\pandas\\core\\arraylike.py:396: RuntimeWarning: divide by zero encountered in log\n",
      "  result = getattr(ufunc, method)(*inputs, **kwargs)\n",
      "C:\\Users\\Jason\\.conda\\envs\\airsoft\\lib\\site-packages\\pandas\\core\\arraylike.py:396: RuntimeWarning: divide by zero encountered in log\n",
      "  result = getattr(ufunc, method)(*inputs, **kwargs)\n",
      "100%|████████████████████████████████████████████████████████████████████████████| 10000/10000 [15:20<00:00, 10.86it/s]\n",
      "100%|███████████████████████████████████████████████████████████████████████████████████| 1/1 [15:20<00:00, 920.80s/it]\n"
     ]
    }
   ],
   "source": [
    "for temp_sample_size in tqdm(ALL_SAMPLE_SIZES):\n",
    "    non_separable_count = 0\n",
    "    num_iters_per_population = 10_000\n",
    "        \n",
    "    for _ in trange(num_iters_per_population, mininterval=10):\n",
    "        # use sampling scheme to sample data:\n",
    "        obtained_valid_sample = False\n",
    "        \n",
    "        while not obtained_valid_sample:\n",
    "            pop_data['r0'] = 0\n",
    "            pop_data.loc[np.random.choice(pop_data.index, size = temp_sample_size, replace=False), 'r0'] = 1\n",
    "\n",
    "            pop_data['r'] = 0\n",
    "            \n",
    "            full_sampled_data = pop_data[pop_data['r0'] == 1]\n",
    "\n",
    "            marginal_probabilities = expit(logit(sample_probability_centering) + \\\n",
    "                                           sample_probability_bias_factor * (2* full_sampled_data['y'] - 1) * \\\n",
    "                                           full_sampled_data['x_0'])\n",
    "\n",
    "            other_sample_indices = marginal_probabilities.index[rand_generator.binomial(n=1, p = marginal_probabilities) == 1]\n",
    "\n",
    "            pop_data.loc[other_sample_indices, 'r'] = 1\n",
    "            # sample_data here means the biased sample data.\n",
    "            sample_data = pop_data[pop_data['r'] == 1]\n",
    "            realised_sample_size = len(other_sample_indices)\n",
    "            \n",
    "            if realised_sample_size < 1_000:\n",
    "                separability_check_df = sample_data[['x_0', 'y']].groupby('y')['x_0'].agg(['min', 'max'])\n",
    "                is_not_separable = (len(separability_check_df) < 2) or \\\n",
    "                                    (separability_check_df.iloc[0, 0] > separability_check_df.iloc[1, 1]) or \\\n",
    "                                    (separability_check_df.iloc[1, 0] > separability_check_df.iloc[0, 1])\n",
    "\n",
    "                if is_not_separable:\n",
    "                    non_separable_count = non_separable_count + 1\n",
    "                    continue\n",
    "\n",
    "            else:\n",
    "                ...\n",
    "            obtained_valid_sample = True\n",
    "            \n",
    "            # compute biased x, y, model, beta\n",
    "            sample_x = sample_data[feature_cols]\n",
    "            sample_y = sample_data['y']\n",
    "            sample_models = compute_all_three_logistic_models(sample_x, sample_y)\n",
    "            sample_betas = [sample_model.params for sample_model in sample_models]\n",
    "            sample_r = pop_data['r']\n",
    "        \n",
    "        # compute full x, y, model, beta\n",
    "        sample_x_full = full_sampled_data[feature_cols]\n",
    "        sample_y_full = full_sampled_data['y']\n",
    "        sample_models_full = compute_all_three_logistic_models(sample_x_full, sample_y_full)\n",
    "        sample_betas_full = [sample_model_full.params for sample_model_full in sample_models_full]\n",
    "        sample_r_full = pop_data['r0']\n",
    "        \n",
    "        \n",
    "        \n",
    "        # compute biased versions of things:\n",
    "        all_sample_beta_per_sample_size_biased[temp_sample_size].append(\n",
    "            [pd.Series(sample_beta) for sample_beta in sample_betas]\n",
    "        )        \n",
    "        all_ddc_per_sample_size_biased[temp_sample_size].append(\n",
    "                        [pop_gs[model_type].corrwith(sample_r)[['x_0']] for _, model_type in model_iteration]\n",
    "        )\n",
    "        all_jns_per_sample_size_biased[temp_sample_size].append(\n",
    "            [compute_average_jn(pop_betas[model_index], sample_betas[model_index], \n",
    "                               sample_x, sample_y, model_type = model_type) for model_index, model_type in model_iteration]\n",
    "        )\n",
    "            \n",
    "        all_realized_sample_sizes_per_sample_size[temp_sample_size].append(realised_sample_size)\n",
    "        \n",
    "        # compute full versions of things:\n",
    "        all_sample_beta_per_sample_size_full[temp_sample_size].append(\n",
    "            [pd.Series(sample_beta) for sample_beta in sample_betas_full]\n",
    "        )\n",
    "        \n",
    "        all_ddc_per_sample_size_full[temp_sample_size].append(\n",
    "            [pop_gs[model_type].corrwith(sample_r_full)[['x_0']] for _, model_type in model_iteration]\n",
    "        )\n",
    "        \n",
    "        all_jns_per_sample_size_full[temp_sample_size].append(\n",
    "            [compute_average_jn(pop_betas[model_index], sample_betas_full[model_index], \n",
    "                               sample_x_full, sample_y_full, \n",
    "                               model_type = model_type) for model_index, model_type in model_iteration]\n",
    "        )\n",
    "        \n",
    "    sample_specific_non_separable_count[temp_sample_size] = non_separable_count\n",
    "    "
   ]
  },
  {
   "cell_type": "markdown",
   "id": "a0da84f3",
   "metadata": {},
   "source": [
    "#### combine data for each sample size:"
   ]
  },
  {
   "cell_type": "code",
   "execution_count": 28,
   "id": "1c6a7e25",
   "metadata": {
    "scrolled": true
   },
   "outputs": [
    {
     "data": {
      "text/plain": [
       "{1000: 0}"
      ]
     },
     "execution_count": 28,
     "metadata": {},
     "output_type": "execute_result"
    }
   ],
   "source": [
    "sample_specific_non_separable_count"
   ]
  },
  {
   "cell_type": "code",
   "execution_count": 29,
   "id": "07d65b4e",
   "metadata": {},
   "outputs": [],
   "source": [
    "all_data_per_ss = []"
   ]
  },
  {
   "cell_type": "code",
   "execution_count": 30,
   "id": "40974b84",
   "metadata": {},
   "outputs": [],
   "source": [
    "all_raw_data = [all_jns_per_sample_size_biased, all_ddc_per_sample_size_biased, all_sample_beta_per_sample_size_biased, \\\n",
    "                all_jns_per_sample_size_full, all_ddc_per_sample_size_full, all_sample_beta_per_sample_size_full, \\\n",
    "                all_realized_sample_sizes_per_sample_size, all_pop_beta_per_sample_size]"
   ]
  },
  {
   "cell_type": "code",
   "execution_count": 31,
   "id": "e22da8ac",
   "metadata": {},
   "outputs": [],
   "source": [
    "pickle_filename = f'all_raw_data_{link}_{true_beta}.pickle'\n",
    "with open(pickle_filename, 'wb') as handle:\n",
    "    pickle.dump(all_raw_data, handle)"
   ]
  },
  {
   "cell_type": "code",
   "execution_count": 32,
   "id": "a43b12ed",
   "metadata": {},
   "outputs": [],
   "source": [
    "pickle_filename = f'pop_betas_{link}_{true_beta}.pickle'\n",
    "with open(pickle_filename, 'wb') as handle:\n",
    "    pickle.dump(pop_betas, handle)"
   ]
  },
  {
   "cell_type": "code",
   "execution_count": null,
   "id": "d2bd3e71",
   "metadata": {},
   "outputs": [],
   "source": []
  },
  {
   "cell_type": "code",
   "execution_count": null,
   "id": "3f97f817",
   "metadata": {},
   "outputs": [],
   "source": []
  }
 ],
 "metadata": {
  "kernelspec": {
   "display_name": "Python 3 (ipykernel)",
   "language": "python",
   "name": "python3"
  },
  "language_info": {
   "codemirror_mode": {
    "name": "ipython",
    "version": 3
   },
   "file_extension": ".py",
   "mimetype": "text/x-python",
   "name": "python",
   "nbconvert_exporter": "python",
   "pygments_lexer": "ipython3",
   "version": "3.11.4"
  }
 },
 "nbformat": 4,
 "nbformat_minor": 5
}
