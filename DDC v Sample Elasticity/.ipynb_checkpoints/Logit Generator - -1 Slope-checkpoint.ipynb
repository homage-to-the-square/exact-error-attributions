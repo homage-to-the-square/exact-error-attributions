{
 "cells": [
  {
   "cell_type": "markdown",
   "id": "c43782e1",
   "metadata": {},
   "source": [
    "can also check the linear independence of rho and Jn here as well!"
   ]
  },
  {
   "cell_type": "markdown",
   "id": "c5c011f0",
   "metadata": {},
   "source": [
    "# Imports:"
   ]
  },
  {
   "cell_type": "code",
   "execution_count": 1,
   "id": "e0bad1c1",
   "metadata": {},
   "outputs": [],
   "source": [
    "import numpy as np\n",
    "import pandas as pd\n",
    "import seaborn as sns\n",
    "from sklearn.linear_model import LogisticRegression\n",
    "\n",
    "from scipy.stats import chi2\n",
    "from collections import Counter\n",
    "\n",
    "from itertools import permutations\n",
    "from tqdm import tqdm, trange"
   ]
  },
  {
   "cell_type": "code",
   "execution_count": 2,
   "id": "c60867f7",
   "metadata": {},
   "outputs": [],
   "source": [
    "import matplotlib.pyplot as plt\n",
    "\n",
    "import pickle\n",
    "\n",
    "import statsmodels.api as sm\n",
    "\n",
    "from collections import defaultdict\n",
    "\n",
    "from scipy.linalg import sqrtm\n",
    "\n",
    "from scipy.special import expit, logit"
   ]
  },
  {
   "cell_type": "markdown",
   "id": "de7f4383",
   "metadata": {},
   "source": [
    "# Helper Functions:"
   ]
  },
  {
   "cell_type": "code",
   "execution_count": 3,
   "id": "3773077a",
   "metadata": {},
   "outputs": [],
   "source": [
    "from scipy.stats import norm"
   ]
  },
  {
   "cell_type": "code",
   "execution_count": 4,
   "id": "2e060565-6ad4-4f56-a67c-4e9f99cf74e1",
   "metadata": {},
   "outputs": [],
   "source": [
    "import sys\n",
    "\n",
    "sys.path.append('../')\n",
    "\n",
    "from ddc_utils import *\n",
    "from data_generating_utils import *"
   ]
  },
  {
   "cell_type": "markdown",
   "id": "b2bfdd51",
   "metadata": {},
   "source": [
    "# Hyperparams:"
   ]
  },
  {
   "cell_type": "code",
   "execution_count": 5,
   "id": "7f1fc130",
   "metadata": {},
   "outputs": [],
   "source": [
    "pop_index = 1\n",
    "iter_val = 0"
   ]
  },
  {
   "cell_type": "code",
   "execution_count": 6,
   "id": "c4ae7e04",
   "metadata": {},
   "outputs": [],
   "source": [
    "rand_generator = np.random.default_rng(seed=333 * pop_index + iter_val)"
   ]
  },
  {
   "cell_type": "code",
   "execution_count": 7,
   "id": "29d053a9",
   "metadata": {},
   "outputs": [],
   "source": [
    "population_size = 100_000\n",
    "\n",
    "number_of_coefficients = 1\n",
    "\n",
    "num_iters_per_population = 25_000\n",
    "true_beta = -1"
   ]
  },
  {
   "cell_type": "code",
   "execution_count": 8,
   "id": "0363039f",
   "metadata": {},
   "outputs": [],
   "source": [
    "ALL_SAMPLE_SIZES = [1000]"
   ]
  },
  {
   "cell_type": "code",
   "execution_count": 9,
   "id": "0bd16c32",
   "metadata": {},
   "outputs": [],
   "source": [
    "sample_probability_centering = 0.77\n",
    "sample_probability_bias_factor = 1\n",
    "\n",
    "link = 'Logit'"
   ]
  },
  {
   "cell_type": "markdown",
   "id": "25216b90",
   "metadata": {},
   "source": [
    "# Run:"
   ]
  },
  {
   "cell_type": "code",
   "execution_count": 10,
   "id": "5c9b81a2",
   "metadata": {},
   "outputs": [],
   "source": [
    "feature_cols = [f'x_{i}' for i in range(number_of_coefficients)]"
   ]
  },
  {
   "cell_type": "code",
   "execution_count": 11,
   "id": "65af24c9",
   "metadata": {},
   "outputs": [],
   "source": [
    "# hypervariabes where things will be saved as key of sample size -> list.\n",
    "all_jns_per_sample_size_biased = defaultdict(list)\n",
    "all_ddc_per_sample_size_biased = defaultdict(list)\n",
    "all_sample_beta_per_sample_size_biased = defaultdict(list)\n",
    "\n",
    "all_jns_per_sample_size_full = defaultdict(list)\n",
    "all_ddc_per_sample_size_full = defaultdict(list)\n",
    "all_sample_beta_per_sample_size_full = defaultdict(list)\n",
    "\n",
    "\n",
    "\n",
    "all_realized_sample_sizes_per_sample_size = defaultdict(list)\n",
    "all_pop_beta_per_sample_size = defaultdict(list)\n",
    "\n",
    "sample_specific_non_separable_count = {}"
   ]
  },
  {
   "cell_type": "code",
   "execution_count": 12,
   "id": "34cbdbdb",
   "metadata": {},
   "outputs": [],
   "source": [
    "pop_data = generate_population_data(population_size, number_of_coefficients, rand_generator,\n",
    "                                    feature_cols = feature_cols, true_beta = true_beta, link = link)"
   ]
  },
  {
   "cell_type": "code",
   "execution_count": 13,
   "id": "4877fcae",
   "metadata": {},
   "outputs": [],
   "source": [
    "pickle_filename = f'base_population_data_{link}_{true_beta}.pickle'\n",
    "with open(pickle_filename, 'wb') as handle:\n",
    "    pickle.dump(pop_data, handle)"
   ]
  },
  {
   "cell_type": "code",
   "execution_count": 14,
   "id": "e256c431",
   "metadata": {},
   "outputs": [],
   "source": [
    "model_iteration = [(0, 'Logit'), (1, 'Probit'), (2, 'CLogLog')]"
   ]
  },
  {
   "cell_type": "markdown",
   "id": "1b506e88",
   "metadata": {},
   "source": [
    "#### get population-level statistics:"
   ]
  },
  {
   "cell_type": "code",
   "execution_count": 15,
   "id": "c217fb9d",
   "metadata": {},
   "outputs": [],
   "source": [
    "pop_x = pop_data[feature_cols]\n",
    "pop_y = pop_data['y']\n",
    "\n",
    "pop_model = sm.Logit(endog = pop_y, exog = pop_x).fit(disp=0)\n",
    "pop_beta = np.array(pop_model.params)\n",
    "pop_gs = pop_x * (np.array(pop_y).reshape((population_size, 1)) - \\\n",
    "              np.array(pop_model.predict()).reshape((population_size, 1)))"
   ]
  },
  {
   "cell_type": "markdown",
   "id": "c06e2d31",
   "metadata": {},
   "source": [
    "compute the population models:"
   ]
  },
  {
   "cell_type": "code",
   "execution_count": 16,
   "id": "95bff6bd",
   "metadata": {},
   "outputs": [],
   "source": [
    "def compute_all_three_logistic_models(x_data, y_data):\n",
    "    temp_logit_model = sm.Logit(endog = y_data, exog = x_data).fit(disp=0)\n",
    "    temp_probit_model = sm.GLM(y_data, x_data, family=sm.families.Binomial(link=sm.families.links.Probit())).fit()\n",
    "    temp_cloglog_model = sm.GLM(y_data, x_data, family=sm.families.Binomial(link=sm.families.links.CLogLog())).fit()\n",
    "    return [temp_logit_model, temp_probit_model, temp_cloglog_model]"
   ]
  },
  {
   "cell_type": "code",
   "execution_count": 17,
   "id": "c10a9f32",
   "metadata": {},
   "outputs": [],
   "source": [
    "population_models = compute_all_three_logistic_models(pop_x, pop_y)\n",
    "pop_logit_model, pop_probit_model, pop_cloglog_model = population_models"
   ]
  },
  {
   "cell_type": "markdown",
   "id": "d9d042dc",
   "metadata": {},
   "source": [
    "save their betas:"
   ]
  },
  {
   "cell_type": "code",
   "execution_count": 18,
   "id": "96ea14a2",
   "metadata": {},
   "outputs": [],
   "source": [
    "pop_betas = [np.array(pop_logit_model.params), \n",
    "             np.array(pop_probit_model.params), \n",
    "             np.array(pop_cloglog_model.params)]"
   ]
  },
  {
   "cell_type": "code",
   "execution_count": 19,
   "id": "ba85c8cf-4bd6-4181-bd7c-2aa91989fcc2",
   "metadata": {},
   "outputs": [
    {
     "data": {
      "text/plain": [
       "[array([-1.01078252]), array([-0.61038965]), array([-0.5581184])]"
      ]
     },
     "execution_count": 19,
     "metadata": {},
     "output_type": "execute_result"
    }
   ],
   "source": [
    "pop_betas"
   ]
  },
  {
   "cell_type": "markdown",
   "id": "56c00b66",
   "metadata": {},
   "source": [
    "compute the gs:"
   ]
  },
  {
   "cell_type": "code",
   "execution_count": 20,
   "id": "24a8102b",
   "metadata": {},
   "outputs": [],
   "source": [
    "pop_gs = {}"
   ]
  },
  {
   "cell_type": "code",
   "execution_count": 21,
   "id": "5cc24f59",
   "metadata": {},
   "outputs": [],
   "source": [
    "pop_gs['Logit'] = pop_x * (np.array(pop_y).reshape((population_size, 1)) - \\\n",
    "                    np.array(pop_logit_model.predict()).reshape((population_size, 1)))"
   ]
  },
  {
   "cell_type": "code",
   "execution_count": 22,
   "id": "c98d1cc2",
   "metadata": {},
   "outputs": [],
   "source": [
    "# compute probit gs \n",
    "temp_mu_is = pop_probit_model.predict()\n",
    "variance_denominator = 1/((temp_mu_is) * (1 - temp_mu_is))\n",
    "dmu_dg = norm.pdf(pop_x @ pop_probit_model.params)\n",
    "pop_gs['Probit'] = pop_x.mul(((pop_y - temp_mu_is) * variance_denominator * dmu_dg), axis=0)"
   ]
  },
  {
   "cell_type": "code",
   "execution_count": 23,
   "id": "eaad6a74",
   "metadata": {},
   "outputs": [],
   "source": [
    "# compute cloglog gs \n",
    "temp_mu_is = pop_cloglog_model.predict()\n",
    "variance_denominator = 1/((temp_mu_is) * (1 - temp_mu_is))\n",
    "dmu_dg = np.log(1 - temp_mu_is) * (temp_mu_is - 1)\n",
    "pop_gs['CLogLog'] = pop_x.mul(((pop_y - temp_mu_is) * variance_denominator * dmu_dg), axis=0)"
   ]
  },
  {
   "cell_type": "markdown",
   "id": "06e44da0",
   "metadata": {},
   "source": [
    "#### actually run:"
   ]
  },
  {
   "cell_type": "code",
   "execution_count": 24,
   "id": "260fd510",
   "metadata": {
    "scrolled": true
   },
   "outputs": [
    {
     "name": "stderr",
     "output_type": "stream",
     "text": [
      "  0%|                                                                                            | 0/1 [00:00<?, ?it/s]\n",
      "  0%|                                                                                        | 0/10000 [00:00<?, ?it/s]\u001b[A\n",
      "  1%|█                                                                             | 133/10000 [00:10<12:26, 13.22it/s]\u001b[A\n",
      "  3%|██                                                                            | 266/10000 [00:21<13:20, 12.16it/s]\u001b[A\n",
      "  4%|██▉                                                                           | 382/10000 [00:33<14:29, 11.07it/s]\u001b[A\n",
      "  5%|███▊                                                                          | 487/10000 [00:43<14:36, 10.85it/s]\u001b[A\n",
      "  6%|████▌                                                                         | 592/10000 [00:54<15:02, 10.42it/s]\u001b[A\n",
      "  7%|█████▍                                                                        | 697/10000 [01:04<14:50, 10.44it/s]\u001b[A\n",
      "  8%|██████▎                                                                       | 804/10000 [01:14<14:35, 10.51it/s]\u001b[A\n",
      "  9%|███████                                                                       | 911/10000 [01:25<14:45, 10.26it/s]\u001b[A\n",
      " 10%|███████▊                                                                     | 1011/10000 [01:35<14:44, 10.16it/s]\u001b[A\n",
      " 11%|████████▌                                                                    | 1115/10000 [01:45<14:28, 10.23it/s]\u001b[A\n",
      " 12%|█████████▍                                                                   | 1219/10000 [01:55<14:26, 10.13it/s]\u001b[A\n",
      " 13%|██████████▏                                                                  | 1321/10000 [02:05<14:15, 10.15it/s]\u001b[A\n",
      " 14%|██████████▉                                                                  | 1423/10000 [02:16<14:13, 10.05it/s]\u001b[A\n",
      " 15%|███████████▋                                                                 | 1522/10000 [02:26<14:09,  9.98it/s]\u001b[A\n",
      " 16%|████████████▍                                                                | 1622/10000 [02:36<13:59,  9.98it/s]\u001b[A\n",
      " 17%|█████████████▎                                                               | 1723/10000 [02:46<13:46, 10.01it/s]\u001b[A\n",
      " 18%|██████████████                                                               | 1828/10000 [02:56<13:24, 10.15it/s]\u001b[A\n",
      " 19%|██████████████▉                                                              | 1933/10000 [03:07<13:30,  9.95it/s]\u001b[A\n",
      " 20%|███████████████▋                                                             | 2033/10000 [03:17<13:20,  9.95it/s]\u001b[A\n",
      " 21%|████████████████▍                                                            | 2133/10000 [03:28<13:25,  9.76it/s]\u001b[A\n",
      " 22%|█████████████████▏                                                           | 2233/10000 [03:38<13:11,  9.82it/s]\u001b[A\n",
      " 23%|█████████████████▉                                                           | 2334/10000 [03:48<12:55,  9.89it/s]\u001b[A\n",
      " 24%|██████████████████▋                                                          | 2435/10000 [03:58<12:48,  9.84it/s]\u001b[A\n",
      " 25%|███████████████████▌                                                         | 2537/10000 [04:08<12:31,  9.94it/s]\u001b[A\n",
      " 26%|████████████████████▎                                                        | 2643/10000 [04:18<12:08, 10.10it/s]\u001b[A\n",
      " 27%|█████████████████████▏                                                       | 2748/10000 [04:29<12:12,  9.89it/s]\u001b[A\n",
      " 28%|█████████████████████▉                                                       | 2850/10000 [04:39<11:57,  9.97it/s]\u001b[A\n",
      " 30%|██████████████████████▋                                                      | 2952/10000 [04:50<11:46,  9.98it/s]\u001b[A\n",
      " 31%|███████████████████████▌                                                     | 3062/10000 [05:00<11:15, 10.27it/s]\u001b[A\n",
      " 31%|███████████████████████▌                                                     | 3062/10000 [05:10<11:15, 10.27it/s]\u001b[A\n",
      " 32%|████████████████████████▍                                                    | 3168/10000 [05:10<10:59, 10.36it/s]\u001b[A\n",
      " 32%|████████████████████████▍                                                    | 3168/10000 [05:20<10:59, 10.36it/s]\u001b[A\n",
      " 33%|█████████████████████████▏                                                   | 3264/10000 [05:20<11:05, 10.12it/s]\u001b[A\n",
      " 34%|█████████████████████████▊                                                   | 3360/10000 [05:30<11:18,  9.79it/s]\u001b[A\n",
      " 35%|██████████████████████████▌                                                  | 3454/10000 [05:40<11:17,  9.67it/s]\u001b[A\n",
      " 36%|███████████████████████████▍                                                 | 3563/10000 [05:50<10:41, 10.03it/s]\u001b[A\n",
      " 37%|████████████████████████████▎                                                | 3673/10000 [06:00<10:15, 10.29it/s]\u001b[A\n",
      " 38%|█████████████████████████████▏                                               | 3784/10000 [06:11<09:51, 10.51it/s]\u001b[A\n",
      " 39%|█████████████████████████████▉                                               | 3895/10000 [06:21<09:34, 10.62it/s]\u001b[A\n",
      " 40%|██████████████████████████████▊                                              | 4004/10000 [06:31<09:23, 10.65it/s]\u001b[A\n",
      " 41%|███████████████████████████████▋                                             | 4115/10000 [06:41<09:06, 10.77it/s]\u001b[A\n",
      " 42%|████████████████████████████████▌                                            | 4226/10000 [06:51<08:55, 10.78it/s]\u001b[A\n",
      " 43%|█████████████████████████████████▍                                           | 4337/10000 [07:01<08:41, 10.85it/s]\u001b[A\n",
      " 44%|██████████████████████████████████▏                                          | 4448/10000 [07:12<08:44, 10.58it/s]\u001b[A\n",
      " 46%|███████████████████████████████████                                          | 4561/10000 [07:22<08:24, 10.78it/s]\u001b[A\n",
      " 47%|███████████████████████████████████▉                                         | 4674/10000 [07:33<08:14, 10.78it/s]\u001b[A\n",
      " 48%|████████████████████████████████████▊                                        | 4782/10000 [07:44<08:21, 10.41it/s]\u001b[A\n",
      " 49%|█████████████████████████████████████▋                                       | 4888/10000 [07:54<08:09, 10.45it/s]\u001b[A\n",
      " 50%|██████████████████████████████████████▍                                      | 4994/10000 [08:04<07:57, 10.49it/s]\u001b[A\n",
      " 51%|███████████████████████████████████████▎                                     | 5100/10000 [08:14<07:49, 10.45it/s]\u001b[A\n",
      " 52%|████████████████████████████████████████                                     | 5208/10000 [08:24<07:34, 10.55it/s]\u001b[A\n",
      " 53%|████████████████████████████████████████▉                                    | 5316/10000 [08:35<07:22, 10.59it/s]\u001b[A\n",
      " 54%|█████████████████████████████████████████▊                                   | 5423/10000 [08:45<07:21, 10.36it/s]\u001b[A\n",
      " 55%|██████████████████████████████████████████▌                                  | 5522/10000 [08:57<07:33,  9.87it/s]\u001b[A\n",
      " 56%|███████████████████████████████████████████▎                                 | 5628/10000 [09:07<07:15, 10.05it/s]\u001b[A\n",
      " 57%|████████████████████████████████████████████▏                                | 5733/10000 [09:17<07:05, 10.04it/s]\u001b[A\n",
      " 58%|████████████████████████████████████████████▉                                | 5834/10000 [09:28<07:00,  9.90it/s]\u001b[A\n",
      " 59%|█████████████████████████████████████████████▋                               | 5930/10000 [09:38<06:57,  9.75it/s]\u001b[A\n",
      " 60%|██████████████████████████████████████████████▍                              | 6030/10000 [09:48<06:44,  9.81it/s]\u001b[A\n",
      " 61%|███████████████████████████████████████████████▏                             | 6130/10000 [09:58<06:33,  9.84it/s]\u001b[A\n",
      " 62%|███████████████████████████████████████████████▉                             | 6233/10000 [10:08<06:18,  9.95it/s]\u001b[A\n",
      " 63%|████████████████████████████████████████████████▊                            | 6337/10000 [10:18<06:04, 10.06it/s]\u001b[A\n",
      " 64%|█████████████████████████████████████████████████▌                           | 6441/10000 [10:29<05:51, 10.12it/s]\u001b[A\n",
      " 65%|██████████████████████████████████████████████████▍                          | 6544/10000 [10:39<05:43, 10.06it/s]\u001b[A\n"
     ]
    },
    {
     "name": "stderr",
     "output_type": "stream",
     "text": [
      " 66%|███████████████████████████████████████████████████▏                         | 6646/10000 [10:49<05:32, 10.10it/s]\u001b[A\n",
      " 67%|███████████████████████████████████████████████████▉                         | 6749/10000 [10:59<05:20, 10.15it/s]\u001b[A\n",
      " 69%|████████████████████████████████████████████████████▊                        | 6852/10000 [11:09<05:09, 10.18it/s]\u001b[A\n",
      " 69%|████████████████████████████████████████████████████▊                        | 6852/10000 [11:21<05:09, 10.18it/s]\u001b[A\n",
      " 70%|█████████████████████████████████████████████████████▌                       | 6952/10000 [11:21<05:15,  9.65it/s]\u001b[A\n",
      " 71%|██████████████████████████████████████████████████████▎                      | 7053/10000 [11:31<05:02,  9.76it/s]\u001b[A\n",
      " 72%|███████████████████████████████████████████████████████                      | 7157/10000 [11:41<04:45,  9.94it/s]\u001b[A\n",
      " 73%|███████████████████████████████████████████████████████▉                     | 7261/10000 [11:51<04:35,  9.93it/s]\u001b[A\n",
      " 74%|████████████████████████████████████████████████████████▋                    | 7364/10000 [12:01<04:23, 10.02it/s]\u001b[A\n",
      " 75%|█████████████████████████████████████████████████████████▌                   | 7468/10000 [12:11<04:10, 10.11it/s]\u001b[A\n",
      " 76%|██████████████████████████████████████████████████████████▎                  | 7572/10000 [12:21<03:58, 10.19it/s]\u001b[A\n",
      " 77%|███████████████████████████████████████████████████████████                  | 7678/10000 [12:31<03:45, 10.30it/s]\u001b[A\n",
      " 78%|███████████████████████████████████████████████████████████▉                 | 7784/10000 [12:41<03:33, 10.37it/s]\u001b[A\n",
      " 79%|████████████████████████████████████████████████████████████▊                | 7890/10000 [12:52<03:24, 10.31it/s]\u001b[A\n",
      " 80%|█████████████████████████████████████████████████████████████▌               | 7992/10000 [13:02<03:16, 10.24it/s]\u001b[A\n",
      " 81%|██████████████████████████████████████████████████████████████▎              | 8093/10000 [13:12<03:09, 10.07it/s]\u001b[A\n",
      " 82%|███████████████████████████████████████████████████████████████              | 8197/10000 [13:23<02:57, 10.14it/s]\u001b[A\n",
      " 83%|███████████████████████████████████████████████████████████████▉             | 8302/10000 [13:33<02:46, 10.22it/s]\u001b[A\n",
      " 84%|████████████████████████████████████████████████████████████████▋            | 8407/10000 [13:43<02:34, 10.28it/s]\u001b[A\n",
      " 85%|█████████████████████████████████████████████████████████████████▌           | 8512/10000 [13:53<02:24, 10.28it/s]\u001b[A\n",
      " 86%|██████████████████████████████████████████████████████████████████▎          | 8615/10000 [14:04<02:19,  9.91it/s]\u001b[A\n",
      " 87%|███████████████████████████████████████████████████████████████████▏         | 8722/10000 [14:14<02:06, 10.11it/s]\u001b[A\n",
      " 88%|███████████████████████████████████████████████████████████████████▉         | 8829/10000 [14:25<01:55, 10.13it/s]\u001b[A\n",
      " 89%|████████████████████████████████████████████████████████████████████▊        | 8931/10000 [14:35<01:45, 10.13it/s]\u001b[A\n",
      " 90%|█████████████████████████████████████████████████████████████████████▌       | 9033/10000 [14:45<01:36, 10.02it/s]\u001b[A\n",
      " 91%|██████████████████████████████████████████████████████████████████████▎      | 9131/10000 [14:56<01:28,  9.87it/s]\u001b[A\n",
      " 92%|███████████████████████████████████████████████████████████████████████      | 9227/10000 [15:07<01:22,  9.41it/s]\u001b[A\n",
      " 93%|███████████████████████████████████████████████████████████████████████▊     | 9324/10000 [15:17<01:11,  9.47it/s]\u001b[A\n",
      " 94%|████████████████████████████████████████████████████████████████████████▌    | 9426/10000 [15:27<00:59,  9.68it/s]\u001b[A\n",
      " 95%|█████████████████████████████████████████████████████████████████████████▎   | 9528/10000 [15:37<00:48,  9.78it/s]\u001b[A\n",
      " 96%|██████████████████████████████████████████████████████████████████████████▏  | 9634/10000 [15:47<00:36, 10.02it/s]\u001b[A\n",
      " 97%|██████████████████████████████████████████████████████████████████████████▉  | 9740/10000 [15:58<00:25, 10.08it/s]\u001b[A\n",
      " 98%|███████████████████████████████████████████████████████████████████████████▊ | 9843/10000 [16:08<00:15,  9.99it/s]\u001b[A\n",
      "100%|████████████████████████████████████████████████████████████████████████████| 10000/10000 [16:24<00:00, 10.16it/s]\u001b[A\n",
      "100%|███████████████████████████████████████████████████████████████████████████████████| 1/1 [16:24<00:00, 984.22s/it]\n"
     ]
    }
   ],
   "source": [
    "for temp_sample_size in tqdm(ALL_SAMPLE_SIZES):\n",
    "    non_separable_count = 0\n",
    "    num_iters_per_population = 10_000\n",
    "        \n",
    "    for _ in trange(num_iters_per_population, mininterval=10):\n",
    "        # use sampling scheme to sample data:\n",
    "        obtained_valid_sample = False\n",
    "        \n",
    "        while not obtained_valid_sample:\n",
    "            pop_data['r0'] = 0\n",
    "            pop_data.loc[np.random.choice(pop_data.index, size = temp_sample_size, replace=False), 'r0'] = 1\n",
    "\n",
    "            pop_data['r'] = 0\n",
    "            \n",
    "            full_sampled_data = pop_data[pop_data['r0'] == 1]\n",
    "\n",
    "            marginal_probabilities = expit(logit(sample_probability_centering) + \\\n",
    "                                           sample_probability_bias_factor * (2* full_sampled_data['y'] - 1) * \\\n",
    "                                           full_sampled_data['x_0'])\n",
    "\n",
    "            other_sample_indices = marginal_probabilities.index[rand_generator.binomial(n=1, p = marginal_probabilities) == 1]\n",
    "\n",
    "            pop_data.loc[other_sample_indices, 'r'] = 1\n",
    "            # sample_data here means the biased sample data.\n",
    "            sample_data = pop_data[pop_data['r'] == 1]\n",
    "            realised_sample_size = len(other_sample_indices)\n",
    "            \n",
    "            if realised_sample_size < 1_000:\n",
    "                separability_check_df = sample_data[['x_0', 'y']].groupby('y')['x_0'].agg(['min', 'max'])\n",
    "                is_not_separable = (len(separability_check_df) < 2) or \\\n",
    "                                    (separability_check_df.iloc[0, 0] > separability_check_df.iloc[1, 1]) or \\\n",
    "                                    (separability_check_df.iloc[1, 0] > separability_check_df.iloc[0, 1])\n",
    "\n",
    "                if is_not_separable:\n",
    "                    non_separable_count = non_separable_count + 1\n",
    "                    continue\n",
    "\n",
    "            else:\n",
    "                ...\n",
    "            obtained_valid_sample = True\n",
    "            \n",
    "            # compute biased x, y, model, beta\n",
    "            sample_x = sample_data[feature_cols]\n",
    "            sample_y = sample_data['y']\n",
    "            sample_models = compute_all_three_logistic_models(sample_x, sample_y)\n",
    "            sample_betas = [sample_model.params for sample_model in sample_models]\n",
    "            sample_r = pop_data['r']\n",
    "        \n",
    "        # compute full x, y, model, beta\n",
    "        sample_x_full = full_sampled_data[feature_cols]\n",
    "        sample_y_full = full_sampled_data['y']\n",
    "        sample_models_full = compute_all_three_logistic_models(sample_x_full, sample_y_full)\n",
    "        sample_betas_full = [sample_model_full.params for sample_model_full in sample_models_full]\n",
    "        sample_r_full = pop_data['r0']\n",
    "        \n",
    "        \n",
    "        \n",
    "        # compute biased versions of things:\n",
    "        all_sample_beta_per_sample_size_biased[temp_sample_size].append(\n",
    "            [pd.Series(sample_beta) for sample_beta in sample_betas]\n",
    "        )        \n",
    "        all_ddc_per_sample_size_biased[temp_sample_size].append(\n",
    "                        [pop_gs[model_type].corrwith(sample_r)[['x_0']] for _, model_type in model_iteration]\n",
    "        )\n",
    "        all_jns_per_sample_size_biased[temp_sample_size].append(\n",
    "            [compute_average_jn(pop_betas[model_index], sample_betas[model_index], \n",
    "                               sample_x, sample_y, model_type = model_type) for model_index, model_type in model_iteration]\n",
    "        )\n",
    "            \n",
    "        all_realized_sample_sizes_per_sample_size[temp_sample_size].append(realised_sample_size)\n",
    "        \n",
    "        # compute full versions of things:\n",
    "        all_sample_beta_per_sample_size_full[temp_sample_size].append(\n",
    "            [pd.Series(sample_beta) for sample_beta in sample_betas_full]\n",
    "        )\n",
    "        \n",
    "        all_ddc_per_sample_size_full[temp_sample_size].append(\n",
    "            [pop_gs[model_type].corrwith(sample_r_full)[['x_0']] for _, model_type in model_iteration]\n",
    "        )\n",
    "        \n",
    "        all_jns_per_sample_size_full[temp_sample_size].append(\n",
    "            [compute_average_jn(pop_betas[model_index], sample_betas_full[model_index], \n",
    "                               sample_x_full, sample_y_full, \n",
    "                               model_type = model_type) for model_index, model_type in model_iteration]\n",
    "        )\n",
    "        \n",
    "    sample_specific_non_separable_count[temp_sample_size] = non_separable_count\n",
    "    "
   ]
  },
  {
   "cell_type": "markdown",
   "id": "a0da84f3",
   "metadata": {},
   "source": [
    "#### combine data for each sample size:"
   ]
  },
  {
   "cell_type": "code",
   "execution_count": 25,
   "id": "1c6a7e25",
   "metadata": {},
   "outputs": [
    {
     "data": {
      "text/plain": [
       "{1000: 0}"
      ]
     },
     "execution_count": 25,
     "metadata": {},
     "output_type": "execute_result"
    }
   ],
   "source": [
    "sample_specific_non_separable_count"
   ]
  },
  {
   "cell_type": "code",
   "execution_count": 26,
   "id": "07d65b4e",
   "metadata": {},
   "outputs": [],
   "source": [
    "all_data_per_ss = []"
   ]
  },
  {
   "cell_type": "code",
   "execution_count": 27,
   "id": "40974b84",
   "metadata": {},
   "outputs": [],
   "source": [
    "all_raw_data = [all_jns_per_sample_size_biased, all_ddc_per_sample_size_biased, all_sample_beta_per_sample_size_biased, \\\n",
    "                all_jns_per_sample_size_full, all_ddc_per_sample_size_full, all_sample_beta_per_sample_size_full, \\\n",
    "                all_realized_sample_sizes_per_sample_size, all_pop_beta_per_sample_size]"
   ]
  },
  {
   "cell_type": "code",
   "execution_count": 28,
   "id": "e22da8ac",
   "metadata": {},
   "outputs": [],
   "source": [
    "pickle_filename = f'all_raw_data_{link}_{true_beta}.pickle'\n",
    "with open(pickle_filename, 'wb') as handle:\n",
    "    pickle.dump(all_raw_data, handle)"
   ]
  },
  {
   "cell_type": "code",
   "execution_count": 29,
   "id": "a43b12ed",
   "metadata": {},
   "outputs": [],
   "source": [
    "pickle_filename = f'pop_betas_{link}_{true_beta}.pickle'\n",
    "with open(pickle_filename, 'wb') as handle:\n",
    "    pickle.dump(pop_betas, handle)"
   ]
  },
  {
   "cell_type": "code",
   "execution_count": null,
   "id": "2904c6eb",
   "metadata": {},
   "outputs": [],
   "source": []
  },
  {
   "cell_type": "code",
   "execution_count": null,
   "id": "2d71a5b7",
   "metadata": {},
   "outputs": [],
   "source": []
  }
 ],
 "metadata": {
  "kernelspec": {
   "display_name": "Python 3.8 (Airsoft)",
   "language": "python",
   "name": "airsoft"
  },
  "language_info": {
   "codemirror_mode": {
    "name": "ipython",
    "version": 3
   },
   "file_extension": ".py",
   "mimetype": "text/x-python",
   "name": "python",
   "nbconvert_exporter": "python",
   "pygments_lexer": "ipython3",
   "version": "3.8.17"
  }
 },
 "nbformat": 4,
 "nbformat_minor": 5
}
